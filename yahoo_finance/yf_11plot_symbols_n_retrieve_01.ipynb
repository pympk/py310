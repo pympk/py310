{
 "cells": [
  {
   "cell_type": "markdown",
   "metadata": {},
   "source": [
    "### https://github.com/TA-Lib/ta-lib-python/blob/master/README.md"
   ]
  },
  {
   "cell_type": "code",
   "execution_count": 17,
   "metadata": {},
   "outputs": [],
   "source": [
    "import os\n",
    "import sys\n",
    "# import yfinance as yf\n",
    "# import yfinance.shared as shared\n",
    "import pandas as pd\n",
    "\n",
    "current_dir = os.getcwd()\n",
    "# Parent directory where myUtils is located\n",
    "path_utils = os.path.dirname(current_dir)\n",
    "sys.path.append(path_utils)\n",
    "\n",
    "from myUtils import yf_download_AdjOHLCV_noAutoAdj, adjust_OHLC, yf_candlestick\n",
    "\n",
    "pd.set_option('display.max_rows', 500)\n",
    "pd.set_option('display.max_columns', 500)\n",
    "pd.set_option('display.width', 1000)"
   ]
  },
  {
   "cell_type": "code",
   "execution_count": 18,
   "metadata": {},
   "outputs": [],
   "source": [
    "# plt_syms = [\"EME\", \"PGR\", \"DECK\", \"ERIE\", \"NVMI\", \"FIX\", \"AAON\", \"BMI\", \"PHM\", \\\n",
    "#             \"PANW\", \"ANET\", \"DHI\", \"BCC\", \"CRVL\", \"COST\", \"NVR\", \"MPWR\"]\n",
    "\n",
    "#TODO needs more than 1 symbols\n",
    "plt_syms = [\"SPY\", \"COST\"]\n",
    "plt_syms = [\"SPY\"]\n",
    "# plt_syms = []\n",
    "days_plot = 252 * 2"
   ]
  },
  {
   "cell_type": "code",
   "execution_count": 19,
   "metadata": {},
   "outputs": [
    {
     "ename": "ValueError",
     "evalue": "List must have at least two items.",
     "output_type": "error",
     "traceback": [
      "\u001b[1;31m---------------------------------------------------------------------------\u001b[0m",
      "\u001b[1;31mValueError\u001b[0m                                Traceback (most recent call last)",
      "Cell \u001b[1;32mIn[19], line 2\u001b[0m\n\u001b[0;32m      1\u001b[0m \u001b[38;5;28;01mif\u001b[39;00m \u001b[38;5;28mlen\u001b[39m(plt_syms) \u001b[38;5;241m<\u001b[39m \u001b[38;5;241m2\u001b[39m:\n\u001b[1;32m----> 2\u001b[0m   \u001b[38;5;28;01mraise\u001b[39;00m \u001b[38;5;167;01mValueError\u001b[39;00m(\u001b[38;5;124m\"\u001b[39m\u001b[38;5;124mList must have at least two items.\u001b[39m\u001b[38;5;124m\"\u001b[39m)\n",
      "\u001b[1;31mValueError\u001b[0m: List must have at least two items."
     ]
    }
   ],
   "source": [
    "if len(plt_syms) < 2:\n",
    "  raise ValueError(\"plt_syms must have at least two symbols.\")"
   ]
  },
  {
   "cell_type": "code",
   "execution_count": null,
   "metadata": {},
   "outputs": [],
   "source": [
    "# verify df plt_syms' close against Yahoo\n",
    "# even if discrepancy, the relative relationship of OHLCV in df_close matches Yahoo_Close\n",
    "df_list=[]\n",
    "df = yf_download_AdjOHLCV_noAutoAdj(plt_syms, verbose=False)\n",
    "\n",
    "# Change the DatetimeIndex to \"yyyy-mm-dd\" format\n",
    "df.index = df.index.strftime('%Y-%m-%d')\n",
    "\n",
    "df_list.append(df)\n",
    "df = pd.concat(df_list, axis=1)\n",
    "# get unique symbols from column name\n",
    "_l_symbols = list(set(df.columns.get_level_values(0)))\n",
    "_l_symbols.sort()\n",
    "\n",
    "df_adj_list=[]\n",
    "# adjust OHLC using 'Adj Close'\n",
    "for symbol in _l_symbols:\n",
    "  df1 = adjust_OHLC(df[symbol])\n",
    "  df_adj_list.append(df1)\n",
    "\n",
    "df_adj = pd.concat(df_adj_list, axis=1)\n",
    "_cols = ['Open', 'High', 'Low', 'Close', 'Volume']\n",
    "# create multilevel column names\n",
    "_col_names = pd.MultiIndex.from_product([_l_symbols, _cols])\n",
    "df_adj.columns = _col_names"
   ]
  },
  {
   "cell_type": "code",
   "execution_count": 4,
   "metadata": {},
   "outputs": [],
   "source": [
    "for plt_sym in plt_syms:\n",
    "  yf_candlestick(plt_sym, df_adj[plt_sym].iloc[-days_plot:])"
   ]
  },
  {
   "cell_type": "markdown",
   "metadata": {},
   "source": [
    "#### Retrieve existing plots"
   ]
  },
  {
   "cell_type": "code",
   "execution_count": 5,
   "metadata": {},
   "outputs": [],
   "source": [
    "# # retrieve existing plots\n",
    "# import webbrowser\n",
    "# new = 2 # open in a new tab, if possible\n",
    "# path_plot = 'C:/Users/ping/Desktop/plotly/'\n",
    "\n",
    "# symbols = plt_syms[:2]\n",
    "\n",
    "# # retrieve existing plots\n",
    "# for symbol in symbols:  \n",
    "#   fname = path_plot + symbol + '.html'\n",
    "#   url = \"file://\" + fname\n",
    "#   webbrowser.open(url,new=new)"
   ]
  }
 ],
 "metadata": {
  "kernelspec": {
   "display_name": ".venv",
   "language": "python",
   "name": "python3"
  },
  "language_info": {
   "codemirror_mode": {
    "name": "ipython",
    "version": 3
   },
   "file_extension": ".py",
   "mimetype": "text/x-python",
   "name": "python",
   "nbconvert_exporter": "python",
   "pygments_lexer": "ipython3",
   "version": "3.10.5"
  }
 },
 "nbformat": 4,
 "nbformat_minor": 2
}
