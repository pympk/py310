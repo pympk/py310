{
 "cells": [
  {
   "cell_type": "code",
   "execution_count": null,
   "metadata": {},
   "outputs": [],
   "source": [
    "# calculate Return on Invested Capital (ROIC)\n",
    "# https://www.investopedia.com/terms/r/returnoninvestmentcapital.asp"
   ]
  },
  {
   "cell_type": "code",
   "execution_count": 1,
   "metadata": {},
   "outputs": [],
   "source": [
    "import os\n",
    "import sys\n",
    "\n",
    "current_dir = os.getcwd()\n",
    "# Parent directory where myUtils is located\n",
    "path_utils = os.path.dirname(current_dir)\n",
    "sys.path.append(path_utils)"
   ]
  },
  {
   "cell_type": "code",
   "execution_count": 2,
   "metadata": {
    "execution": {
     "iopub.execute_input": "2023-04-04T04:37:07.619080Z",
     "iopub.status.busy": "2023-04-04T04:37:07.618080Z",
     "iopub.status.idle": "2023-04-04T04:37:07.656080Z",
     "shell.execute_reply": "2023-04-04T04:37:07.654081Z"
    }
   },
   "outputs": [],
   "source": [
    "import yfinance as yf\n",
    "import pandas as pd\n",
    "from myUtils import pickle_load \n",
    "from myUtils import yf_print_symbol_data, yf_candlestick\n",
    "\n",
    "verbose = False  # True prints more output\n",
    "\n",
    "# path_dir = \"C:/Users/ping/MyDrive/stocks/yfinance/\"\n",
    "path_dir = \"G:/My Drive/stocks/yfinance/\"# Base directory for stock data\n",
    "path_data_dump = path_dir + \"VSCode_dump/\"\n",
    "\n",
    "filename_pickled_df_OHLCVA_downloaded = 'df_OHLCVA_downloaded '  # OHLCVA downloaded from Yahoo\n",
    "filename_pickled_df_adjOHLCV = 'df_adjOHLCV'  # adjusted OHLCV"
   ]
  },
  {
   "cell_type": "code",
   "execution_count": 12,
   "metadata": {},
   "outputs": [],
   "source": [
    "plt_syms = ['PGR', 'NVDA', 'BTC-USD']\n",
    "days_plot = 252"
   ]
  },
  {
   "cell_type": "code",
   "execution_count": 13,
   "metadata": {},
   "outputs": [],
   "source": [
    "df = pickle_load(path_data_dump, filename_pickled_df_adjOHLCV)"
   ]
  },
  {
   "cell_type": "code",
   "execution_count": 15,
   "metadata": {},
   "outputs": [],
   "source": [
    "for plt_sym in plt_syms:\n",
    "  yf_candlestick(plt_sym, df[plt_sym].iloc[-days_plot:])"
   ]
  }
 ],
 "metadata": {
  "kernelspec": {
   "display_name": ".venv",
   "language": "python",
   "name": "python3"
  },
  "language_info": {
   "codemirror_mode": {
    "name": "ipython",
    "version": 3
   },
   "file_extension": ".py",
   "mimetype": "text/x-python",
   "name": "python",
   "nbconvert_exporter": "python",
   "pygments_lexer": "ipython3",
   "version": "3.10.5"
  }
 },
 "nbformat": 4,
 "nbformat_minor": 2
}
