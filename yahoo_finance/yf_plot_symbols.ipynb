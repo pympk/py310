{
 "cells": [
  {
   "cell_type": "markdown",
   "metadata": {},
   "source": [
    "### https://github.com/TA-Lib/ta-lib-python/blob/master/README.md"
   ]
  },
  {
   "cell_type": "code",
   "execution_count": 2,
   "metadata": {},
   "outputs": [],
   "source": [
    "import os\n",
    "import sys\n",
    "\n",
    "current_dir = os.getcwd()\n",
    "# Parent directory where myUtils is located\n",
    "path_utils = os.path.dirname(current_dir)\n",
    "sys.path.append(path_utils)"
   ]
  },
  {
   "cell_type": "code",
   "execution_count": 3,
   "metadata": {
    "execution": {
     "iopub.execute_input": "2023-04-04T04:37:07.619080Z",
     "iopub.status.busy": "2023-04-04T04:37:07.618080Z",
     "iopub.status.idle": "2023-04-04T04:37:07.656080Z",
     "shell.execute_reply": "2023-04-04T04:37:07.654081Z"
    }
   },
   "outputs": [],
   "source": [
    "import yfinance as yf\n",
    "import pandas as pd\n",
    "from myUtils import pickle_load \n",
    "from myUtils import yf_print_symbol_data, yf_candlestick\n",
    "\n",
    "verbose = False  # True prints more output\n",
    "\n",
    "# path_dir = \"C:/Users/ping/MyDrive/stocks/yfinance/\"\n",
    "path_dir = \"G:/My Drive/stocks/yfinance/\"# Base directory for stock data\n",
    "path_data_dump = path_dir + \"VSCode_dump/\"\n",
    "\n",
    "filename_pickled_df_OHLCVA_downloaded = 'df_OHLCVA_downloaded '  # OHLCVA downloaded from Yahoo\n",
    "filename_pickled_df_adjOHLCV = 'df_adjOHLCV'  # adjusted OHLCV"
   ]
  },
  {
   "cell_type": "code",
   "execution_count": 4,
   "metadata": {},
   "outputs": [],
   "source": [
    "plt_syms = ['PGR', 'NVDA', 'BTC-USD']\n",
    "days_plot = 252"
   ]
  },
  {
   "cell_type": "code",
   "execution_count": 6,
   "metadata": {},
   "outputs": [],
   "source": [
    "df = pickle_load(path_data_dump, filename_pickled_df_adjOHLCV)"
   ]
  },
  {
   "cell_type": "code",
   "execution_count": 15,
   "metadata": {},
   "outputs": [],
   "source": [
    "for plt_sym in plt_syms:\n",
    "  yf_candlestick(plt_sym, df[plt_sym].iloc[-days_plot:])"
   ]
  },
  {
   "cell_type": "code",
   "execution_count": 8,
   "metadata": {},
   "outputs": [
    {
     "data": {
      "text/html": [
       "<div>\n",
       "<style scoped>\n",
       "    .dataframe tbody tr th:only-of-type {\n",
       "        vertical-align: middle;\n",
       "    }\n",
       "\n",
       "    .dataframe tbody tr th {\n",
       "        vertical-align: top;\n",
       "    }\n",
       "\n",
       "    .dataframe thead th {\n",
       "        text-align: right;\n",
       "    }\n",
       "</style>\n",
       "<table border=\"1\" class=\"dataframe\">\n",
       "  <thead>\n",
       "    <tr style=\"text-align: right;\">\n",
       "      <th></th>\n",
       "      <th>Open</th>\n",
       "      <th>High</th>\n",
       "      <th>Low</th>\n",
       "      <th>Close</th>\n",
       "      <th>Volume</th>\n",
       "    </tr>\n",
       "    <tr>\n",
       "      <th>Date</th>\n",
       "      <th></th>\n",
       "      <th></th>\n",
       "      <th></th>\n",
       "      <th></th>\n",
       "      <th></th>\n",
       "    </tr>\n",
       "  </thead>\n",
       "  <tbody>\n",
       "    <tr>\n",
       "      <th>2023-08-31</th>\n",
       "      <td>133.504730</td>\n",
       "      <td>133.564343</td>\n",
       "      <td>132.302799</td>\n",
       "      <td>132.580933</td>\n",
       "      <td>2879600.0</td>\n",
       "    </tr>\n",
       "    <tr>\n",
       "      <th>2023-09-01</th>\n",
       "      <td>133.474938</td>\n",
       "      <td>134.984818</td>\n",
       "      <td>132.531270</td>\n",
       "      <td>134.577545</td>\n",
       "      <td>1357800.0</td>\n",
       "    </tr>\n",
       "    <tr>\n",
       "      <th>2023-09-05</th>\n",
       "      <td>134.796087</td>\n",
       "      <td>134.935154</td>\n",
       "      <td>132.273013</td>\n",
       "      <td>132.630615</td>\n",
       "      <td>2286000.0</td>\n",
       "    </tr>\n",
       "    <tr>\n",
       "      <th>2023-09-06</th>\n",
       "      <td>132.839211</td>\n",
       "      <td>134.269622</td>\n",
       "      <td>132.620676</td>\n",
       "      <td>133.941818</td>\n",
       "      <td>1641500.0</td>\n",
       "    </tr>\n",
       "    <tr>\n",
       "      <th>2023-09-07</th>\n",
       "      <td>134.796074</td>\n",
       "      <td>137.448287</td>\n",
       "      <td>134.368945</td>\n",
       "      <td>136.494690</td>\n",
       "      <td>2188300.0</td>\n",
       "    </tr>\n",
       "    <tr>\n",
       "      <th>...</th>\n",
       "      <td>...</td>\n",
       "      <td>...</td>\n",
       "      <td>...</td>\n",
       "      <td>...</td>\n",
       "      <td>...</td>\n",
       "    </tr>\n",
       "    <tr>\n",
       "      <th>2024-08-26</th>\n",
       "      <td>242.369995</td>\n",
       "      <td>245.000000</td>\n",
       "      <td>241.750000</td>\n",
       "      <td>242.449997</td>\n",
       "      <td>2087100.0</td>\n",
       "    </tr>\n",
       "    <tr>\n",
       "      <th>2024-08-27</th>\n",
       "      <td>243.110001</td>\n",
       "      <td>245.929993</td>\n",
       "      <td>242.050003</td>\n",
       "      <td>245.570007</td>\n",
       "      <td>2883300.0</td>\n",
       "    </tr>\n",
       "    <tr>\n",
       "      <th>2024-08-28</th>\n",
       "      <td>245.960007</td>\n",
       "      <td>248.339996</td>\n",
       "      <td>245.350006</td>\n",
       "      <td>248.259995</td>\n",
       "      <td>2482100.0</td>\n",
       "    </tr>\n",
       "    <tr>\n",
       "      <th>2024-08-29</th>\n",
       "      <td>247.389999</td>\n",
       "      <td>250.229996</td>\n",
       "      <td>245.990005</td>\n",
       "      <td>250.009995</td>\n",
       "      <td>1982700.0</td>\n",
       "    </tr>\n",
       "    <tr>\n",
       "      <th>2024-08-30</th>\n",
       "      <td>249.619995</td>\n",
       "      <td>254.350006</td>\n",
       "      <td>248.800003</td>\n",
       "      <td>252.199997</td>\n",
       "      <td>2817300.0</td>\n",
       "    </tr>\n",
       "  </tbody>\n",
       "</table>\n",
       "<p>252 rows × 5 columns</p>\n",
       "</div>"
      ],
      "text/plain": [
       "                  Open        High         Low       Close     Volume\n",
       "Date                                                                 \n",
       "2023-08-31  133.504730  133.564343  132.302799  132.580933  2879600.0\n",
       "2023-09-01  133.474938  134.984818  132.531270  134.577545  1357800.0\n",
       "2023-09-05  134.796087  134.935154  132.273013  132.630615  2286000.0\n",
       "2023-09-06  132.839211  134.269622  132.620676  133.941818  1641500.0\n",
       "2023-09-07  134.796074  137.448287  134.368945  136.494690  2188300.0\n",
       "...                ...         ...         ...         ...        ...\n",
       "2024-08-26  242.369995  245.000000  241.750000  242.449997  2087100.0\n",
       "2024-08-27  243.110001  245.929993  242.050003  245.570007  2883300.0\n",
       "2024-08-28  245.960007  248.339996  245.350006  248.259995  2482100.0\n",
       "2024-08-29  247.389999  250.229996  245.990005  250.009995  1982700.0\n",
       "2024-08-30  249.619995  254.350006  248.800003  252.199997  2817300.0\n",
       "\n",
       "[252 rows x 5 columns]"
      ]
     },
     "execution_count": 8,
     "metadata": {},
     "output_type": "execute_result"
    }
   ],
   "source": [
    "# df['PGR'].iloc[-days_plot:]"
   ]
  }
 ],
 "metadata": {
  "kernelspec": {
   "display_name": ".venv",
   "language": "python",
   "name": "python3"
  },
  "language_info": {
   "codemirror_mode": {
    "name": "ipython",
    "version": 3
   },
   "file_extension": ".py",
   "mimetype": "text/x-python",
   "name": "python",
   "nbconvert_exporter": "python",
   "pygments_lexer": "ipython3",
   "version": "3.10.5"
  }
 },
 "nbformat": 4,
 "nbformat_minor": 2
}
