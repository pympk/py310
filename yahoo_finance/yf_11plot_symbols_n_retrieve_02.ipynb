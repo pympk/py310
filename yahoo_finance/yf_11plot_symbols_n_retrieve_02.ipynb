{
 "cells": [
  {
   "cell_type": "markdown",
   "metadata": {},
   "source": [
    "### https://github.com/TA-Lib/ta-lib-python/blob/master/README.md"
   ]
  },
  {
   "cell_type": "code",
   "execution_count": null,
   "metadata": {},
   "outputs": [],
   "source": [
    "text = \"\"\"LLY\n",
    "EME\n",
    "PGR\n",
    "MANH\n",
    "DECK\n",
    "ERIE\n",
    "FIX\n",
    "ACGL\n",
    "PHM\n",
    "BLDR\n",
    "PANW\n",
    "ANET\n",
    "PH\n",
    "KLAC\n",
    "NVDA\n",
    "DHI\n",
    "TXRH\n",
    "AVGO\n",
    "MSI\n",
    "CTAS\n",
    "URI\n",
    "ETN\n",
    "LII\n",
    "URI\n",
    "ARES\n",
    "MUSA\n",
    "COST\n",
    "COKE\n",
    "NVR\n",
    "MPWR\n",
    "NVO\n",
    "SMCI\n",
    "\"\"\"\n",
    "\n",
    "# Split the text into lines and create a list of strings\n",
    "string_list = text.splitlines()\n",
    "\n",
    "print(string_list)"
   ]
  },
  {
   "cell_type": "code",
   "execution_count": 1,
   "metadata": {},
   "outputs": [],
   "source": [
    "import os\n",
    "import sys\n",
    "# import yfinance as yf\n",
    "# import yfinance.shared as shared\n",
    "import pandas as pd\n",
    "\n",
    "current_dir = os.getcwd()\n",
    "# Parent directory where myUtils is located\n",
    "path_utils = os.path.dirname(current_dir)\n",
    "sys.path.append(path_utils)\n",
    "\n",
    "from myUtils import yf_download_AdjOHLCV_noAutoAdj, adjust_OHLC, yf_candlestick\n",
    "\n",
    "pd.set_option('display.max_rows', 500)\n",
    "pd.set_option('display.max_columns', 500)\n",
    "pd.set_option('display.width', 1000)"
   ]
  },
  {
   "cell_type": "code",
   "execution_count": 13,
   "metadata": {},
   "outputs": [],
   "source": [
    "# plt_syms = [\"EME\", \"PGR\", \"DECK\", \"ERIE\", \"NVMI\", \"FIX\", \"AAON\", \"BMI\", \"PHM\", \\\n",
    "#             \"PANW\", \"ANET\", \"DHI\", \"BCC\", \"CRVL\", \"COST\", \"NVR\", \"MPWR\"]\n",
    "# plt_syms = [\"PGR\", \"PHM\", \"DHI\", \"COST\", \"NVR\"]\n",
    "plt_syms_2024_09_16 = [\"LLY\", \"ERIE\", \"PANW\", \"FIX\", \"PGR\"]\n",
    "plt_syms_2024_09_18 = [\"LLY\", \"ERIE\", \"MANH\", \"FIX\", \"PGR\", \"ANET\", \"BLDR\", \"TXRH\", \"DHI\", \"PHM\", \"MSI\", \"ETN\", \"LII\", \"CTAS\"]\n",
    "plt_syms_2024_09_19 =   [\"LLY\", \"EME\", \"PGR\", \"MANH\", \"ERIE\", \"FIX\", \"PHM\", \"BLDR\", \"ANET\", \"PH\", \"DHI\", \"TXRH\", \\\n",
    "                   \"AVGO\", \"MSI\", \"CTAS\", \"ETN\", \"LII\", \"URI\", \"ARES\", \"COST\" ]\n",
    "plt_syms =   [\"LLY\", \"EME\", \"PGR\", \"MANH\", \"ERIE\", \"FIX\", \"PHM\", \"BLDR\", \"ANET\", \"PH\", \"DHI\", \"TXRH\", \\\n",
    "                   \"AVGO\", \"MSI\", \"CTAS\", \"ETN\", \"LII\", \"URI\", \"ARES\", \"COST\" ]\n",
    "plt_syms_2024_09_20 =['LLY', 'EME', 'PGR', 'MANH', 'DECK', 'ERIE', 'FIX', 'ACGL', 'PHM', 'BLDR', 'PANW', 'ANET', 'PH', 'KLAC', 'NVDA', 'DHI', 'TXRH', 'AVGO', 'MSI', 'CTAS', 'URI', 'ETN', 'LII', 'URI', 'ARES', 'MUSA', 'COST', 'COKE', 'NVR', 'MPWR', 'NVO', 'SMCI']\n",
    "plt_syms_append =   [\"VOO\", \"GLDM\", \"FTEC\"]\n",
    "plt_syms = ['LLY', 'EME', 'PGR', 'MANH', 'DECK', 'ERIE', 'FIX', 'ACGL', 'PHM', 'BLDR', 'PANW', 'ANET', 'PH', 'KLAC', 'NVDA', 'DHI', 'TXRH', 'AVGO', 'MSI', 'CTAS', 'URI', 'ETN', 'LII', 'URI', 'ARES', 'MUSA', 'COST', 'COKE', 'NVR', 'MPWR', 'NVO', 'SMCI']\n",
    "plt_syms_2024_09_20 = ['ETN', 'BLDR', 'ANET', 'PH', 'PGR', 'PHM', 'URI', 'ARES']  # use OBV slope\n",
    "plt_syms = ['ETN', 'BLDR', 'ANET', 'PH', 'PGR', 'PHM', 'URI', 'ARES']  # use OBV slope\n",
    "\n",
    "plt_syms_all = plt_syms + plt_syms_append\n",
    "\n",
    "plt_syms_all = [\"ERIE\", \"GLDM\"]\n",
    "\n",
    "# TODO sell ERIE\n",
    "# plt_syms =  ['LLY', 'EME', 'PGR', 'MANH', 'DECK', 'ERIE', 'FIX', 'PHM', 'BLDR', 'ANET', 'PH', 'NVDA', 'DHI', 'TXRH', 'AVGO', 'MSI', 'CTAS', 'ETN', 'LII', 'URI']\n",
    "\n",
    "#TODO needs more than 1 symbols\n",
    "# plt_syms = [\"SPY\", \"COST\", \"XLU\", \"IAUM\", \"GLDM\"]\n",
    "# plt_syms = [\"NVDA\", \"MSTR\", \"LLY\", \"META\", \"BTC-USD\"]\n",
    "# plt_syms = [\"NVDA\", \"META\"]\n",
    "# plt_syms = [\"BTC-USD\", \"NVDA\", \"META\"]\n",
    "# plt_syms = [\"SPY\"]\n",
    "# plt_syms = []\n",
    "days_plot = 252 * 2"
   ]
  },
  {
   "cell_type": "code",
   "execution_count": 14,
   "metadata": {},
   "outputs": [
    {
     "name": "stdout",
     "output_type": "stream",
     "text": [
      "['ERIE', 'GLDM']\n"
     ]
    }
   ],
   "source": [
    "print(plt_syms_all)"
   ]
  },
  {
   "cell_type": "code",
   "execution_count": 5,
   "metadata": {},
   "outputs": [],
   "source": [
    "if len(plt_syms) < 2:\n",
    "  raise ValueError(\"plt_syms must have at least two symbols.\")"
   ]
  },
  {
   "cell_type": "code",
   "execution_count": 15,
   "metadata": {},
   "outputs": [
    {
     "name": "stderr",
     "output_type": "stream",
     "text": [
      "[*********************100%***********************]  2 of 2 completed\n",
      "[*********************100%***********************]  1 of 1 completed\n"
     ]
    }
   ],
   "source": [
    "# verify df plt_syms' close against Yahoo\n",
    "# even if discrepancy, the relative relationship of OHLCV in df_close matches Yahoo_Close\n",
    "df_list=[]\n",
    "df = yf_download_AdjOHLCV_noAutoAdj(plt_syms_all, verbose=False)\n",
    "df_idx = yf_download_AdjOHLCV_noAutoAdj(\"XOM\", verbose=False)\n",
    "\n",
    "# Change the DatetimeIndex to \"yyyy-mm-dd\" format\n",
    "df.index = df.index.strftime('%Y-%m-%d')\n",
    "df_idx.index = df_idx.index.strftime('%Y-%m-%d')\n",
    "\n",
    "# sets df's index to df_idx's index, this prevent use of weekend data\n",
    "#  like BTC-USD which trades in weekends\n",
    "df = df.loc[df_idx.index]\n",
    "\n",
    "df_list.append(df)\n",
    "df = pd.concat(df_list, axis=1)\n",
    "# get unique symbols from column name\n",
    "_l_symbols = list(set(df.columns.get_level_values(0)))\n",
    "_l_symbols.sort()\n",
    "\n",
    "df_adj_list=[]\n",
    "# adjust OHLC using 'Adj Close'\n",
    "for symbol in _l_symbols:\n",
    "  df1 = adjust_OHLC(df[symbol])\n",
    "  df_adj_list.append(df1)\n",
    "\n",
    "df_adj = pd.concat(df_adj_list, axis=1)\n",
    "_cols = ['Open', 'High', 'Low', 'Close', 'Volume']\n",
    "# create multilevel column names\n",
    "_col_names = pd.MultiIndex.from_product([_l_symbols, _cols])\n",
    "df_adj.columns = _col_names"
   ]
  },
  {
   "cell_type": "code",
   "execution_count": 16,
   "metadata": {},
   "outputs": [],
   "source": [
    "for plt_sym in plt_syms_all:\n",
    "  # yf_candlestick(plt_sym, df_adj_sunday[plt_sym].iloc[-days_plot:])\n",
    "  yf_candlestick(plt_sym, df_adj[plt_sym].iloc[-days_plot:])  "
   ]
  },
  {
   "cell_type": "code",
   "execution_count": null,
   "metadata": {},
   "outputs": [],
   "source": [
    "import pandas as pd\n",
    "\n",
    "\n",
    "symbols = df_adj.columns.get_level_values(0).unique().tolist()\n",
    "symbols\n",
    "\n",
    "# Calculate averages and sym_weights\n",
    "volume_avgs = [df_adj[(symbol, 'Volume')].tail(30).mean() for symbol in symbols]\n",
    "sum_volume_avg = sum(volume_avgs)\n",
    "sym_weights = [avg / sum_volume_avg for avg in volume_avgs]\n",
    "\n",
    "# Store sym_weights in a dictionary\n",
    "sym_weights_dict = {symbol: sym_weight for symbol, sym_weight in zip(symbols, sym_weights)}\n",
    "\n",
    "\n",
    "# print(f\"df_adj:\\n{df_adj}\\n\")\n",
    "print(f\"volume_avgs: {volume_avgs}\\n\")\n",
    "print(f\"sum_volume_avg: {sum_volume_avg}\\n\")\n",
    "print(f\"sym_weights: {sym_weights}\\n\")\n",
    "print(f\"sym_weights_dict: {sym_weights_dict}\\n\")\n"
   ]
  },
  {
   "cell_type": "code",
   "execution_count": null,
   "metadata": {},
   "outputs": [],
   "source": [
    "print(f'sum(sym_weights): {sum(sym_weights)}')\n",
    "sorted_dict = dict(sorted(sym_weights_dict.items(), key=lambda item: item[1], reverse=True))\n",
    "print(f'len(sorted_dict): {len(sorted_dict)}')\n",
    "print(sorted_dict)\n",
    "sorted_5_dict = dict(list(sorted_dict.items())[:5])\n",
    "print(sorted_5_dict)"
   ]
  },
  {
   "cell_type": "code",
   "execution_count": 9,
   "metadata": {},
   "outputs": [],
   "source": [
    "def reweight_dict(input_dict):\n",
    "    # Calculate sum of original values\n",
    "    total_value = sum(input_dict.values())\n",
    "    \n",
    "    # Re-weight values to sum to 1\n",
    "    reweighted_dict = {k: v / total_value for k, v in input_dict.items()}\n",
    "    \n",
    "    return reweighted_dict\n",
    "\n",
    "# # Example usage\n",
    "# input_dict = {'a': 10, 'b': 20, 'c': 30, 'd': 40}\n",
    "# reweighted_dict = reweight_dict(input_dict)\n",
    "\n",
    "# print(\"Original Dict:\")\n",
    "# print(input_dict)\n",
    "# print(\"\\nReweighted Dict:\")\n",
    "# print(reweighted_dict)\n",
    "# print(\"\\nSum of Reweighted Values:\", sum(reweighted_dict.values()))\n"
   ]
  },
  {
   "cell_type": "code",
   "execution_count": null,
   "metadata": {},
   "outputs": [],
   "source": [
    "reweighted_dict = reweight_dict(sorted_5_dict)\n",
    "buy_symbols = list(reweighted_dict.keys())\n",
    "\n",
    "print(\"Original Dict:\")\n",
    "print(sorted_5_dict)\n",
    "print(\"\\nReweighted Dict:\")\n",
    "print(reweighted_dict)\n",
    "print(\"\\nSum of Reweighted Values:\", sum(reweighted_dict.values()))\n",
    "print(f'\\nbuy_symbols: {buy_symbols}')"
   ]
  },
  {
   "cell_type": "code",
   "execution_count": 15,
   "metadata": {},
   "outputs": [],
   "source": [
    "for plt_sym in buy_symbols:\n",
    "  # yf_candlestick(plt_sym, df_adj_sunday[plt_sym].iloc[-days_plot:])\n",
    "  yf_candlestick(plt_sym, df_adj[plt_sym].iloc[-days_plot:])  "
   ]
  },
  {
   "cell_type": "code",
   "execution_count": null,
   "metadata": {},
   "outputs": [],
   "source": []
  },
  {
   "cell_type": "markdown",
   "metadata": {},
   "source": [
    "#### Retrieve existing plots"
   ]
  },
  {
   "cell_type": "code",
   "execution_count": 19,
   "metadata": {},
   "outputs": [],
   "source": [
    "# # retrieve existing plots\n",
    "# import webbrowser\n",
    "# new = 2 # open in a new tab, if possible\n",
    "# path_plot = 'C:/Users/ping/Desktop/plotly/'\n",
    "\n",
    "# symbols = plt_syms[:2]\n",
    "# symbols = [\"FTEC\"]\n",
    "\n",
    "# # retrieve existing plots\n",
    "# for symbol in symbols:  \n",
    "#   fname = path_plot + symbol + '.html'\n",
    "#   url = \"file://\" + fname\n",
    "#   webbrowser.open(url,new=new)"
   ]
  }
 ],
 "metadata": {
  "kernelspec": {
   "display_name": ".venv",
   "language": "python",
   "name": "python3"
  },
  "language_info": {
   "codemirror_mode": {
    "name": "ipython",
    "version": 3
   },
   "file_extension": ".py",
   "mimetype": "text/x-python",
   "name": "python",
   "nbconvert_exporter": "python",
   "pygments_lexer": "ipython3",
   "version": "3.10.5"
  }
 },
 "nbformat": 4,
 "nbformat_minor": 2
}
