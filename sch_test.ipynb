{
 "cells": [
  {
   "cell_type": "code",
   "execution_count": 1,
   "metadata": {},
   "outputs": [
    {
     "name": "stdout",
     "output_type": "stream",
     "text": [
      "2024-09-06 17:29:18\n"
     ]
    }
   ],
   "source": [
    "import os\n",
    "import datetime\n",
    "\n",
    "# import asyncio  \n",
    "\n",
    "# # Set the event loop policy to WindowsSelectorEventLoopPolicy to avoid the warning and potential issues\n",
    "# #  with Windows Task Schedular\n",
    "# asyncio.set_event_loop_policy(asyncio.WindowsSelectorEventLoopPolicy())\n",
    "\n",
    "filename = \"_scheduled_task.txt\"\n",
    "filepath = os.path.join(os.path.join(os.environ['USERPROFILE']), 'Desktop', filename)\n",
    "\n",
    "current_datetime = datetime.datetime.now()\n",
    "date_string = current_datetime.strftime(\"%Y-%m-%d %H:%M:%S\")\n",
    "\n",
    "print(date_string)\n",
    "with open(filepath, \"w\") as f:\n",
    "    f.write(date_string)"
   ]
  }
 ],
 "metadata": {
  "kernelspec": {
   "display_name": ".venv",
   "language": "python",
   "name": "python3"
  },
  "language_info": {
   "codemirror_mode": {
    "name": "ipython",
    "version": 3
   },
   "file_extension": ".py",
   "mimetype": "text/x-python",
   "name": "python",
   "nbconvert_exporter": "python",
   "pygments_lexer": "ipython3",
   "version": "3.10.5"
  },
  "orig_nbformat": 4
 },
 "nbformat": 4,
 "nbformat_minor": 2
}
