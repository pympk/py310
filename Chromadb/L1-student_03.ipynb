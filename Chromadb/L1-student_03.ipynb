{
 "cells": [
  {
   "cell_type": "markdown",
   "id": "ec889d86-0d16-477f-8b7f-be03d73ad957",
   "metadata": {},
   "source": [
    "# Lab 1 - Overview of embeddings-based retrieval"
   ]
  },
  {
   "cell_type": "markdown",
   "id": "58ee2f53-d88b-4f00-94a2-75a66d4149e9",
   "metadata": {},
   "source": [
    "Welcome! Here's a few notes about the Chroma course notebooks.\n",
    " - A number of warnings pop up when running the notebooks. These are normal and can be ignored.\n",
    " - Some operations such as calling an LLM or an opeation using generated data return unpredictable results and so your notebook outputs may differ from the video.\n",
    "  \n",
    "Enjoy the course!"
   ]
  },
  {
   "cell_type": "markdown",
   "id": "dacaa034",
   "metadata": {},
   "source": [
    "https://learn.deeplearning.ai/courses/advanced-retrieval-for-ai/lesson/2/overview-of-embeddings-based-retrieval"
   ]
  },
  {
   "cell_type": "code",
   "execution_count": 1,
   "id": "5a5536f0-651c-40e7-aa15-27ee0cda80b7",
   "metadata": {},
   "outputs": [],
   "source": [
    "from helper_utils_02 import word_wrap"
   ]
  },
  {
   "cell_type": "code",
   "execution_count": 2,
   "id": "3748b16d-d4a7-49c3-a48a-57dcfc42acd6",
   "metadata": {},
   "outputs": [
    {
     "name": "stdout",
     "output_type": "stream",
     "text": [
      "1 Dear shareholders, colleagues, customers, and partners:  \n",
      "We are living through a\n",
      "period of historic economic, societal, and geopolitical change. The world in 2022 looks\n",
      "nothing like \n",
      "the world in 2019. As I write this, inflation is at a 40 -year high, supply\n",
      "chains are stretched, and the war in Ukraine is \n",
      "ongoing. At the same time, we are\n",
      "entering a technological era with the potential to power awesome advancements \n",
      "across\n",
      "every sector of our economy and society. As the world’s largest software company, this\n",
      "places us at a historic \n",
      "intersection of opportunity and responsibility to the world\n",
      "around us.  \n",
      "Our mission to empower every person and every organization on the planet to\n",
      "achieve more has never been more \n",
      "urgent or more necessary. For all the uncertainty in\n",
      "the world, one thing is clear: People and organizations in every \n",
      "industry are\n",
      "increasingly looking to digital technology to overcome today’s challenges and emerge\n",
      "stronger. And no \n",
      "company is better positioned to help them than Microsoft.  \n",
      "Every day\n",
      "this past fiscal year I have had the privilege to witness our customers use our platforms\n",
      "and tools to connect \n",
      "what technology can do with what the world needs  it to do.  \n",
      "Here\n",
      "are just a few examples:  \n",
      "• Ferrovial, which builds and manages some of the world’s\n",
      "busiest airports and highways, is using our cloud \n",
      "infrastructure to build safer roads as\n",
      "it prepares for a future of autonomous transportation.  \n",
      "• Peace Parks Foundation, a\n",
      "nonprofit helping protect natural ecosystems in Southern Africa, is using Microsoft\n",
      "\n",
      "Dynamics 365 and Power BI to secure essential funding, as well as our Azure AI and IoT\n",
      "solutions to help \n",
      "rangers scale their park maintenance and wildlife crime prevention\n",
      "work.  \n",
      "• One of the world’s largest robotics companies, Kawasaki Heavy Industries, is\n",
      "using the breadth of our tools —\n",
      "from Azure IoT and HoloLens —to create an industrial\n",
      "metaverse solution that brings its distributed workforce \n",
      "together with its network of\n",
      "connected equipment to improve productivity and keep employees safe.  \n",
      "• Globo, the\n",
      "biggest media and TV company in Brazil, is using Power Platform to empower its employees\n",
      "to \n",
      "build their own solutions for everything from booking sets to setting schedules.  \n",
      "•\n",
      "And Ørsted, which produces a quarter of the world’s wind energy, is using the Microsoft\n",
      "Intelligent Data \n",
      "Platform to turn data from its offshore turbines into insights for\n",
      "predictive maintenance.  \n",
      "Amid this dynamic environment, we delivered record results in\n",
      "fiscal year 2022: We reported $198  billion in revenue and \n",
      "$83 billion in operating\n",
      "income. And the Microsoft Cloud surpassed $100  billion in annualized revenue for the\n",
      "first time.  \n",
      "OUR RESPONSIBILITY  \n",
      "As a corporation, our purpose and actions must be\n",
      "aligned with addressing the world’s problems, not creating new ones. \n",
      "At our very core,\n",
      "we need to deliver innovation that helps drive broad economic growth. We, as a company,\n",
      "will do well \n",
      "when the world around us does well.  \n",
      "That’s what I believe will lead to\n",
      "widespread human progress and ultimately improve the lives of everyone. There is no \n",
      "more\n",
      "powerful input than digital technology to drive the world’s economic output. This is the\n",
      "core thesis for our being as a \n",
      "company, but it’s not enough. As we drive global economic\n",
      "growth, we must also commit to creating a more inclusive, \n",
      "equitable, sustainable, and\n",
      "trusted future.  \n",
      "Support inclusive economic growth  \n",
      "We must ensure the growth we drive\n",
      "reaches every person, organization, community, and country. This starts with \n",
      "increasing\n",
      "access to digital skills. This year alone, more than 23  million people accessed digital\n",
      "skills training as part of \n",
      "our global skills initiative.\n"
     ]
    }
   ],
   "source": [
    "from pypdf import PdfReader\n",
    "\n",
    "reader = PdfReader(\"microsoft_annual_report_2022.pdf\")\n",
    "\n",
    "# Extracting text from pages and strip space characters\n",
    "pdf_texts = [p.extract_text().strip() for p in reader.pages]\n",
    "\n",
    "# Filter the empty strings\n",
    "pdf_texts = [text for text in pdf_texts if text]\n",
    "\n",
    "print(word_wrap(pdf_texts[0], n_chars=90))"
   ]
  },
  {
   "cell_type": "code",
   "execution_count": 3,
   "id": "bc0c80fc",
   "metadata": {},
   "outputs": [
    {
     "name": "stdout",
     "output_type": "stream",
     "text": [
      "type(reader): <class 'pypdf._reader.PdfReader'>\n",
      "type(pdf_texts): <class 'list'>\n",
      "len(pdf_texts): 90\n",
      "\n",
      "pdf page 1: 1 Dear shareholders, colleagues, customers, and partners:  \n",
      "We are living through a period of historic economic, societal, and geopolitical change. The world in 2022 looks nothing like \n",
      "the world in 2019. As I write this, inflation is at a 40 -year high, supply chains are stretched, and the war in Ukraine is \n",
      "ongoing. At the same time, we are entering a technological era with the potential to power awesome advancements \n",
      "across every sector of our economy and society. As the world’s largest software company, this places us at a historic \n",
      "intersection of opportunity and responsibility to the world around us.  \n",
      "Our mission to empower every person and every organization on the planet to achieve more has never been more \n",
      "urgent or more necessary. For all the uncertainty in the world, one thing is clear: People and organizations in every \n",
      "industry are increasingly looking to digital technology to overcome today’s challenges and emerge stronger. And no \n",
      "company is better positioned to help them than Microsoft.  \n",
      "Every day this past fiscal year I have had the privilege to witness our customers use our platforms and tools to connect \n",
      "what technology can do with what the world needs  it to do.  \n",
      "Here are just a few examples:  \n",
      "• Ferrovial, which builds and manages some of the world’s busiest airports and highways, is using our cloud \n",
      "infrastructure to build safer roads as it prepares for a future of autonomous transportation.  \n",
      "• Peace Parks Foundation, a nonprofit helping protect natural ecosystems in Southern Africa, is using Microsoft \n",
      "Dynamics 365 and Power BI to secure essential funding, as well as our Azure AI and IoT solutions to help \n",
      "rangers scale their park maintenance and wildlife crime prevention work.  \n",
      "• One of the world’s largest robotics companies, Kawasaki Heavy Industries, is using the breadth of our tools —\n",
      "from Azure IoT and HoloLens —to create an industrial metaverse solution that brings its distributed workforce \n",
      "together with its network of connected equipment to improve productivity and keep employees safe.  \n",
      "• Globo, the biggest media and TV company in Brazil, is using Power Platform to empower its employees to \n",
      "build their own solutions for everything from booking sets to setting schedules.  \n",
      "• And Ørsted, which produces a quarter of the world’s wind energy, is using the Microsoft Intelligent Data \n",
      "Platform to turn data from its offshore turbines into insights for predictive maintenance.  \n",
      "Amid this dynamic environment, we delivered record results in fiscal year 2022: We reported $198  billion in revenue and \n",
      "$83 billion in operating income. And the Microsoft Cloud surpassed $100  billion in annualized revenue for the first time.  \n",
      "OUR RESPONSIBILITY  \n",
      "As a corporation, our purpose and actions must be aligned with addressing the world’s problems, not creating new ones. \n",
      "At our very core, we need to deliver innovation that helps drive broad economic growth. We, as a company, will do well \n",
      "when the world around us does well.  \n",
      "That’s what I believe will lead to widespread human progress and ultimately improve the lives of everyone. There is no \n",
      "more powerful input than digital technology to drive the world’s economic output. This is the core thesis for our being as a \n",
      "company, but it’s not enough. As we drive global economic growth, we must also commit to creating a more inclusive, \n",
      "equitable, sustainable, and trusted future.  \n",
      "Support inclusive economic growth  \n",
      "We must ensure the growth we drive reaches every person, organization, community, and country. This starts with \n",
      "increasing access to digital skills. This year alone, more than 23  million people accessed digital skills training as part of \n",
      "our global skills initiative.\n"
     ]
    }
   ],
   "source": [
    "print(f'type(reader): {type(reader)}')\n",
    "print(f'type(pdf_texts): {type(pdf_texts)}')\n",
    "print(f'len(pdf_texts): {len(pdf_texts)}')\n",
    "print(f'\\npdf page 1: {pdf_texts[0]}')"
   ]
  },
  {
   "cell_type": "markdown",
   "id": "bbd608a5-b6c9-4ae9-a871-a3e470a4d12a",
   "metadata": {},
   "source": [
    "You can view the pdf in your browser [here](./microsoft_annual_report_2022.pdf) if you would like. "
   ]
  },
  {
   "cell_type": "markdown",
   "id": "3d1fc0ce",
   "metadata": {},
   "source": [
    "\n",
    "Print first and last 200 characters on page 2"
   ]
  },
  {
   "cell_type": "code",
   "execution_count": 4,
   "id": "0d2bcdcd",
   "metadata": {},
   "outputs": [
    {
     "name": "stdout",
     "output_type": "stream",
     "text": [
      "2   \n",
      "But skills alone aren’t enough —we need to help people better\n",
      "prepare for and connect to jobs. That’s why we’ve \n",
      "committed to equip\n",
      "10  million people from underserved communities with skills for\n",
      "....\n",
      "ard our five -year commitment to bridge the disability divide for the\n",
      "more than 1  billion \n",
      "people around the world with disabilities,\n",
      "seeking to expand accessibility in technology, the workforce, and\n"
     ]
    }
   ],
   "source": [
    "print(word_wrap(pdf_texts[1][:200]))\n",
    "print('....')\n",
    "print(word_wrap(pdf_texts[1][-200:]))"
   ]
  },
  {
   "cell_type": "code",
   "execution_count": 5,
   "id": "a338ec83-6301-41a5-9ab1-e5d583306a3f",
   "metadata": {},
   "outputs": [],
   "source": [
    "from langchain.text_splitter import RecursiveCharacterTextSplitter, SentenceTransformersTokenTextSplitter"
   ]
  },
  {
   "cell_type": "markdown",
   "id": "4e8aaddd",
   "metadata": {},
   "source": [
    "https://dev.to/eteimz/understanding-langchains-recursivecharactertextsplitter-2846"
   ]
  },
  {
   "cell_type": "code",
   "execution_count": 6,
   "id": "fff786f4",
   "metadata": {},
   "outputs": [
    {
     "name": "stdout",
     "output_type": "stream",
     "text": [
      "increased, due in large part to significant global datacenter\n",
      "expansions and the growth in Xbox sales and usage. Despite \n",
      "these\n",
      "increases, we remain dedicated to achieving a net -zero future. We\n",
      "recognize that progress won’t always be linear, \n",
      "and the rate at which\n",
      "we can implement emissions reductions is dependent on many factors that\n",
      "can fluctuate over time.  \n",
      "On the path to becoming water positive, we\n",
      "invested in 21 water replenishment projects that are expected to\n",
      "generate \n",
      "over 1.3  million cubic meters of volumetric benefits in nine\n",
      "water basins around the world. Progress toward our zero waste\n",
      "\n",
      "commitment included diverting more than 15,200 metric tons of solid\n",
      "waste otherwise headed to landfills and incinerators, \n",
      "as well as\n",
      "launching new Circular Centers to increase reuse and reduce e -waste at\n",
      "our datacenters.  \n",
      "We contracted to protect over 17,000 acres of land\n",
      "(50% more than the land we use to operate), thus achieving our\n",
      "\n",
      "increased, due in large part to significant global datacenter expansions and the growth in Xbox sales and usage. Despite \n",
      "these increases, we remain dedicated to achieving a net -zero future. We recognize that progress won’t always be linear, \n",
      "and the rate at which we can implement emissions reductions is dependent on many factors that can fluctuate over time.  \n",
      "On the path to becoming water positive, we invested in 21 water replenishment projects that are expected to generate \n",
      "over 1.3  million cubic meters of volumetric benefits in nine water basins around the world. Progress toward our zero waste \n",
      "commitment included diverting more than 15,200 metric tons of solid waste otherwise headed to landfills and incinerators, \n",
      "as well as launching new Circular Centers to increase reuse and reduce e -waste at our datacenters.  \n",
      "We contracted to protect over 17,000 acres of land (50% more than the land we use to operate), thus achieving our\n",
      "\n",
      "len(character_split_texts[0]): 946\n",
      "Total chunks: 347\n"
     ]
    }
   ],
   "source": [
    "# creates an instance of RecursiveCharacterTextSplitter\n",
    "character_splitter = RecursiveCharacterTextSplitter(\n",
    "    # list of delimiters used to split the text,\n",
    "    # it split text in the order of the separators, to satisfy chucnk_size\n",
    "    # \"\": An empty string (effectively splitting on every character) \n",
    "    # separators=[\"\\n\\n\", \"\\n\", \". \", \" \", \"\"],\n",
    "    separators=[\"\\n\\n\", \"\\n\", \". \", \" \"],  # remove \"\" separator, don't split on character    \n",
    "    chunk_size=1000,\n",
    "    chunk_overlap=0\n",
    ")\n",
    "#  concatenate pdf pages using \"\\n\\n\" (two newlines) as a delimiter.\n",
    "character_split_texts = character_splitter.split_text('\\n\\n'.join(pdf_texts))\n",
    "\n",
    "print(word_wrap(character_split_texts[10]))\n",
    "print(f\"\\n{character_split_texts[10]}\")\n",
    "print(f\"\\nlen(character_split_texts[0]): {len(character_split_texts[10])}\")\n",
    "print(f\"Total chunks: {len(character_split_texts)}\")"
   ]
  },
  {
   "cell_type": "markdown",
   "id": "bf261faa",
   "metadata": {},
   "source": [
    "#### Splitting text into tokens is the first step of any RAG system"
   ]
  },
  {
   "cell_type": "markdown",
   "id": "12066989",
   "metadata": {},
   "source": [
    "#### chunk_overlap is a hyper-parameter"
   ]
  },
  {
   "cell_type": "code",
   "execution_count": 7,
   "id": "5665c695-22ea-4264-b1ac-5ba720b6d78b",
   "metadata": {},
   "outputs": [
    {
     "name": "stderr",
     "output_type": "stream",
     "text": [
      "c:\\Users\\ping\\Files_win10\\python\\py310\\.venv\\lib\\site-packages\\sentence_transformers\\cross_encoder\\CrossEncoder.py:11: TqdmExperimentalWarning: Using `tqdm.autonotebook.tqdm` in notebook mode. Use `tqdm.tqdm` instead to force console mode (e.g. in jupyter console)\n",
      "  from tqdm.autonotebook import tqdm, trange\n"
     ]
    },
    {
     "name": "stdout",
     "output_type": "stream",
     "text": [
      "increased, due in large part to significant global datacenter\n",
      "expansions and the growth in xbox sales and usage. despite these\n",
      "increases, we remain dedicated to achieving a net - zero future. we\n",
      "recognize that progress won ’ t always be linear, and the rate at which\n",
      "we can implement emissions reductions is dependent on many factors that\n",
      "can fluctuate over time. on the path to becoming water positive, we\n",
      "invested in 21 water replenishment projects that are expected to\n",
      "generate over 1. 3 million cubic meters of volumetric benefits in nine\n",
      "water basins around the world. progress toward our zero waste\n",
      "commitment included diverting more than 15, 200 metric tons of solid\n",
      "waste otherwise headed to landfills and incinerators, as well as\n",
      "launching new circular centers to increase reuse and reduce e - waste\n",
      "at our datacenters. we contracted to protect over 17, 000 acres of land\n",
      "( 50 % more than the land we use to operate ), thus achieving our\n",
      "\n",
      "Total token_split_texts chunks: 349\n"
     ]
    }
   ],
   "source": [
    "# SentenceTransformers embedding model's context windows is 256 max.\n",
    "# It will truncate the rest, after the exceeding the max. context window. \n",
    "token_splitter = SentenceTransformersTokenTextSplitter(chunk_overlap=0, tokens_per_chunk=256)\n",
    "\n",
    "token_split_texts = []\n",
    "for text in character_split_texts:\n",
    "    token_split_texts += token_splitter.split_text(text)\n",
    "\n",
    "print(word_wrap(token_split_texts[10]))\n",
    "print(f\"\\nTotal token_split_texts chunks: {len(token_split_texts)}\")"
   ]
  },
  {
   "cell_type": "code",
   "execution_count": 19,
   "id": "c2a13d14-4484-46f0-8e67-277337f9d138",
   "metadata": {},
   "outputs": [],
   "source": [
    "# import chromadb\n",
    "from chromadb.utils.embedding_functions import SentenceTransformerEmbeddingFunction\n",
    "\n",
    "# embedding_function = SentenceTransformerEmbeddingFunction()\n",
    "embedding_function = SentenceTransformerEmbeddingFunction(model_name=\"all-MiniLM-L6-v2\")"
   ]
  },
  {
   "cell_type": "markdown",
   "id": "ebb33f5e",
   "metadata": {},
   "source": [
    "#### Example of embedding "
   ]
  },
  {
   "cell_type": "code",
   "execution_count": 18,
   "id": "c9e51a62",
   "metadata": {},
   "outputs": [
    {
     "name": "stdout",
     "output_type": "stream",
     "text": [
      "text to be embedded: ['increased, due in large part to significant global datacenter expansions and the growth in xbox sales and usage. despite these increases, we remain dedicated to achieving a net - zero future. we recognize that progress won ’ t always be linear, and the rate at which we can implement emissions reductions is dependent on many factors that can fluctuate over time. on the path to becoming water positive, we invested in 21 water replenishment projects that are expected to generate over 1. 3 million cubic meters of volumetric benefits in nine water basins around the world. progress toward our zero waste commitment included diverting more than 15, 200 metric tons of solid waste otherwise headed to landfills and incinerators, as well as launching new circular centers to increase reuse and reduce e - waste at our datacenters. we contracted to protect over 17, 000 acres of land ( 50 % more than the land we use to operate ), thus achieving our']\n",
      "embedding vector: [0.04256267100572586, 0.03321181982755661, 0.030340099707245827, -0.03486660495400429, 0.06841651350259781, -0.0809091106057167, -0.015474379062652588, -0.0014509332831948996, -0.01674448698759079, 0.06770770996809006, -0.050541412085294724, -0.04919537156820297, 0.05139991641044617, 0.09192728996276855, -0.07177839428186417, 0.039519697427749634, -0.01283357571810484, -0.024947484955191612, -0.046228621155023575, -0.024357523769140244, 0.03394963592290878, 0.02550245262682438, 0.027317117899656296, -0.004126240033656359, -0.03633835166692734, 0.0036908790934830904, -0.02743045799434185, 0.004796728957444429, -0.028896227478981018, -0.018870707601308823, 0.03666627034544945, 0.025695862248539925, 0.03131283447146416, -0.06393439322710037, 0.053944047540426254, 0.08225350826978683, -0.04175684228539467, -0.006995826959609985, -0.023486023768782616, -0.03074796497821808, -0.0029792131390422583, -0.07790941745042801, 0.009353126399219036, 0.003162875073030591, -0.022257067263126373, -0.01829463802278042, -0.00961245410144329, -0.03150685131549835, -0.005519629456102848, -0.03270304575562477, 0.1680297702550888, -0.047459691762924194, -0.050016842782497406, -0.0026596696116030216, -0.041047219187021255, -0.07003944367170334, 0.018295928835868835, -0.03143112361431122, -0.04741120710968971, -0.023663630709052086, 0.059449490159749985, -0.07201439887285233, 0.0049452087841928005, -0.05532695725560188, 0.08745487034320831, 0.027872683480381966, -0.03977254033088684, 0.03452998399734497, -0.09992032498121262, 0.03289761766791344, -0.057804226875305176, 0.0024546468630433083, -0.02789231389760971, -0.04994703829288483, -0.040582507848739624, 0.011917500756680965, 0.02041904255747795, 0.07765398174524307, 0.06351622939109802, 0.017546890303492546, 0.023460958153009415, -0.007916593924164772, 0.017074229195713997, 0.00864120852202177, -0.06815341114997864, 0.03429616242647171, 0.0006465173792093992, 0.02273544855415821, 0.052793629467487335, -0.05857320874929428, -0.09784109890460968, -0.001471819239668548, 0.13739891350269318, 0.0020794749725610018, -0.07581517100334167, 0.057865776121616364, -0.06069635972380638, -0.06595752388238907, -0.033650562167167664, -0.03185926005244255, 0.012266594916582108, 0.0937330350279808, 0.06799507886171341, -0.08434034138917923, 0.04402477666735649, -0.042638733983039856, 0.011163034476339817, 0.10505218803882599, 0.02950585074722767, -0.018521105870604515, -0.029688317328691483, -0.03377031162381172, 0.001496711978688836, 0.037323709577322006, -0.020249705761671066, 0.05842075124382973, -0.039791665971279144, -0.021219655871391296, 0.006418103352189064, -0.010290178470313549, 0.019626114517450333, 0.0036797046195715666, -0.05031093209981918, -0.016897065564990044, 0.048544991761446, 0.06682310253381729, 0.01953633688390255, 2.7227499940226547e-33, -0.035934075713157654, 0.015661871060729027, 0.0967765748500824, -0.0002851703320629895, -0.009768531657755375, -0.09068471193313599, 0.014486263506114483, 0.012590743601322174, 0.0254357997328043, -0.03443485498428345, 0.004262913949787617, 0.027121374383568764, -0.020409999415278435, 0.07688486576080322, 0.03572104126214981, -0.13492530584335327, 0.056578509509563446, 0.018364500254392624, 0.022577887400984764, -0.03589031472802162, -0.011456688866019249, -0.04993829131126404, -0.016012396663427353, -0.06335369497537613, 0.10463958233594894, -0.0880160927772522, -0.004462304525077343, -0.010301046073436737, -0.017630750313401222, -0.02029227465391159, 0.006704187020659447, 0.09172345697879791, -0.007795078679919243, 0.005949389189481735, -0.015348853543400764, 0.018279537558555603, -0.018921488896012306, 0.03987531363964081, -0.00396735081449151, 0.033419281244277954, -0.05607724189758301, 0.07581256330013275, -0.005625495687127113, -0.054455265402793884, 0.06698443740606308, -0.02597438544034958, 0.11199560016393661, -0.036421384662389755, 0.005012603476643562, 0.032009996473789215, 0.04963686317205429, 0.09711596369743347, -0.11546941846609116, 0.06413273513317108, -0.033978793770074844, -0.0929156094789505, 0.0497547909617424, -0.08613420277833939, -0.008366387337446213, -0.013703737407922745, -0.07882806658744812, 0.01965436525642872, -0.03715043514966965, 0.014476165175437927, -0.0494031198322773, 0.05349244177341461, 0.09139014780521393, 0.031002838164567947, 0.03028762899339199, 0.021342791616916656, -0.043937746435403824, -0.04297443479299545, -0.0022650749888271093, -0.021944070234894753, 0.005474608391523361, -0.01024395227432251, 0.021677996963262558, -0.02732367441058159, -0.0007882573409006, 0.033089183270931244, -0.007402372546494007, 0.009829996153712273, 0.013544070534408092, -0.032744817435741425, 0.056019075214862823, -0.060116495937108994, 0.0311219971626997, 0.03442240133881569, 0.026550520211458206, -0.00680793821811676, -0.011054247617721558, -0.014439930208027363, 0.022785374894738197, -0.027952000498771667, -0.016209011897444725, -3.689252285857286e-33, 0.02920372597873211, 0.04670484736561775, -0.04964415729045868, 0.06324490159749985, 0.028438033536076546, -0.022357197478413582, 0.03347986564040184, -0.01847870461642742, 0.018780110403895378, 0.0024116800632327795, -0.08167839050292969, 0.10084164887666702, 0.04902314767241478, 0.036467306315898895, -0.045560404658317566, -0.0704919695854187, 0.02534043788909912, -0.03267944976687431, -0.04296499118208885, -0.07251022011041641, 0.041307125240564346, 0.05049722641706467, 0.006477176211774349, -0.0033249680418521166, -0.08235661685466766, 0.0800771713256836, -0.0346539244055748, 0.008470474742352962, 0.04138945788145065, -0.010147660039365292, -0.10289658606052399, 0.04567128047347069, 0.012796065770089626, -0.06017765775322914, -0.026627859100699425, -0.09725234657526016, 0.015798652544617653, 0.0721912831068039, -0.015325859189033508, 0.0018071226077154279, 0.06039535254240036, -0.07077639549970627, -0.021278725937008858, -0.03851626440882683, -0.05741114914417267, -0.00425381027162075, 0.032807644456624985, -0.01759558729827404, 0.04975764453411102, -0.007379021495580673, -0.008354579098522663, 0.043137867003679276, -0.054291579872369766, 0.04316212609410286, 0.023688584566116333, 0.01817156933248043, 0.09282209724187851, -0.004222930409014225, -0.02251458168029785, 0.01928827166557312, -0.03684435039758682, 0.1001518964767456, 0.01776476576924324, 0.02284953184425831, -0.03967685252428055, 0.001680845394730568, 0.05066923797130585, 0.08564931154251099, -0.026413539424538612, -0.03266860917210579, -0.03694959729909897, -0.020994089543819427, 0.017766060307621956, -0.07413069903850555, -0.024688147008419037, -0.03994891420006752, -0.024768002331256866, -0.024194085970520973, -0.010816420428454876, 0.010815993882715702, -0.030551714822649956, 0.10519371181726456, -0.0080217644572258, -0.0328962616622448, 0.14804388582706451, -0.0709429383277893, -0.050219129770994186, -0.15231889486312866, 0.02276747114956379, 0.13845959305763245, -0.07923311740159988, -0.04160100966691971, -0.09371677786111832, 0.06601828336715698, 0.04352035000920296, -4.997970748377156e-08, -0.010548053309321404, 0.06008028984069824, 0.028823500499129295, 0.07072246074676514, 0.03157535195350647, -0.0591379813849926, 0.054883360862731934, 0.16316647827625275, 0.034759510308504105, 0.027875419706106186, 0.07126773148775101, -0.0069463495165109634, -0.05290437489748001, 0.011619030497968197, -0.02683502621948719, 0.028954334557056427, 0.043446898460388184, -0.07012003660202026, -0.05879400297999382, -0.039219386875629425, -0.01729392446577549, -0.03005446121096611, -0.08112526684999466, -0.0450621172785759, 0.05249616876244545, -0.049235742539167404, 0.08052122592926025, 0.06585508584976196, -0.0006080938619561493, -0.04566410183906555, 0.03058699704706669, -0.006386076100170612, -0.03175574913620949, 0.008228827267885208, 0.010760986246168613, 0.001041264971718192, 0.0190786924213171, 0.03227989748120308, -0.01440875232219696, 0.03579794615507126, -0.07228187471628189, 0.03363298997282982, 0.006663557607680559, -0.018206240609288216, -0.020436279475688934, -0.00263538071885705, -0.1854771226644516, 0.012449340894818306, 0.029731348156929016, -0.03854849189519882, -0.00975335668772459, -0.013694367371499538, 0.009183358401060104, 0.08488919585943222, 0.1272188127040863, 0.055459994822740555, -0.04936164245009422, -0.011912011541426182, -0.05697926878929138, 0.1042008325457573, 0.05718067288398743, -0.10395053029060364, -0.023767853155732155, -0.02716897241771221]\n",
      "embedding vector dimension: 384\n"
     ]
    }
   ],
   "source": [
    "emb_text = [token_split_texts[10]]\n",
    "emb_vector = embedding_function(emb_text)[0]  # list has only 1 vector \n",
    "emb_vector_dim = len(emb_vector)\n",
    "\n",
    "print(f'text to be embedded: {[token_split_texts[10]]}')\n",
    "print(f'embedding vector: {emb_vector}')\n",
    "print(f'embedding vector dimension: {emb_vector_dim}')"
   ]
  },
  {
   "cell_type": "code",
   "execution_count": null,
   "id": "8b90f571",
   "metadata": {},
   "outputs": [],
   "source": [
    "# chroma_client = chromadb.Client()\n",
    "# chroma_collection = chroma_client.create_collection(\"microsoft_annual_report_2022\", embedding_function=embedding_function)\n",
    "\n",
    "# ids = [str(i) for i in range(len(token_split_texts))]\n",
    "\n",
    "# chroma_collection.add(ids=ids, documents=token_split_texts)\n",
    "# chroma_collection.count()"
   ]
  },
  {
   "cell_type": "code",
   "execution_count": 21,
   "id": "fa481059",
   "metadata": {},
   "outputs": [],
   "source": [
    "import chromadb\n",
    "from chromadb.utils.embedding_functions import SentenceTransformerEmbeddingFunction\n",
    "from chromadb.config import Settings"
   ]
  },
  {
   "cell_type": "code",
   "execution_count": 23,
   "id": "16af73b6",
   "metadata": {},
   "outputs": [],
   "source": [
    "is_persistent = True\n",
    "\n",
    "# Specify the directory to store the database files\n",
    "persist_dir = '../persist_dir/'\n",
    "\n",
    "# Create a Chroma client\n",
    "client = chromadb.Client(Settings(is_persistent=is_persistent, persist_directory=persist_dir))  \n",
    "\n",
    "# Create a collection\n",
    "collection_name = \"microsoft_annual_report_2022\"\n",
    "collection = client.get_or_create_collection(name=collection_name, embedding_function=embedding_function)"
   ]
  },
  {
   "cell_type": "code",
   "execution_count": 13,
   "id": "312b087b",
   "metadata": {},
   "outputs": [
    {
     "ename": "NameError",
     "evalue": "name 'ClientSettings' is not defined",
     "output_type": "error",
     "traceback": [
      "\u001b[1;31m---------------------------------------------------------------------------\u001b[0m",
      "\u001b[1;31mNameError\u001b[0m                                 Traceback (most recent call last)",
      "Cell \u001b[1;32mIn[13], line 7\u001b[0m\n\u001b[0;32m      4\u001b[0m persist_directory \u001b[38;5;241m=\u001b[39m \u001b[38;5;124m\"\u001b[39m\u001b[38;5;124mChromadb\u001b[39m\u001b[38;5;124m\"\u001b[39m\n\u001b[0;32m      6\u001b[0m \u001b[38;5;66;03m# Create a ChromaDB client with persistence\u001b[39;00m\n\u001b[1;32m----> 7\u001b[0m chroma_client \u001b[38;5;241m=\u001b[39m chromadb\u001b[38;5;241m.\u001b[39mClient(\u001b[43mClientSettings\u001b[49m(persist_directory\u001b[38;5;241m=\u001b[39mpersist_directory))\n\u001b[0;32m      9\u001b[0m \u001b[38;5;66;03m# Get or create the collection\u001b[39;00m\n\u001b[0;32m     10\u001b[0m collection \u001b[38;5;241m=\u001b[39m chroma_client\u001b[38;5;241m.\u001b[39mget_or_create_collection(\u001b[38;5;124m\"\u001b[39m\u001b[38;5;124mmicrosoft_annual_report_2022\u001b[39m\u001b[38;5;124m\"\u001b[39m, embedding_function\u001b[38;5;241m=\u001b[39membedding_function)\n",
      "\u001b[1;31mNameError\u001b[0m: name 'ClientSettings' is not defined"
     ]
    }
   ],
   "source": [
    "# Specify the persistence directory\n",
    "persist_directory = \"Chromadb\"\n",
    "\n",
    "# Create a ChromaDB client with persistence\n",
    "chroma_client = chromadb.Client(ClientSettings(persist_directory=persist_directory))\n",
    "\n",
    "# Get or create the collection\n",
    "collection = chroma_client.get_or_create_collection(\"microsoft_annual_report_2022\", embedding_function=embedding_function)\n",
    "\n",
    "# Add documents to the collection (if necessary)\n",
    "ids = [str(i) for i in range(len(token_split_texts))]\n",
    "collection.add(ids=ids, documents=token_split_texts)\n",
    "\n",
    "# Retrieve all documents\n",
    "documents = collection.get()\n",
    "\n",
    "# Access the document text\n",
    "for document in documents:\n",
    "    text = document['document']\n",
    "    print(text)"
   ]
  },
  {
   "cell_type": "code",
   "execution_count": 12,
   "id": "741af094",
   "metadata": {},
   "outputs": [
    {
     "ename": "NameError",
     "evalue": "name 'Settings' is not defined",
     "output_type": "error",
     "traceback": [
      "\u001b[1;31m---------------------------------------------------------------------------\u001b[0m",
      "\u001b[1;31mNameError\u001b[0m                                 Traceback (most recent call last)",
      "Cell \u001b[1;32mIn[12], line 7\u001b[0m\n\u001b[0;32m      4\u001b[0m persist_directory \u001b[38;5;241m=\u001b[39m \u001b[38;5;124m\"\u001b[39m\u001b[38;5;124mChromadb\u001b[39m\u001b[38;5;124m\"\u001b[39m\n\u001b[0;32m      6\u001b[0m \u001b[38;5;66;03m# Create a ChromaDB client with persistence\u001b[39;00m\n\u001b[1;32m----> 7\u001b[0m chroma_client \u001b[38;5;241m=\u001b[39m chromadb\u001b[38;5;241m.\u001b[39mClient(\u001b[43mSettings\u001b[49m(persist_directory\u001b[38;5;241m=\u001b[39mpersist_directory))\n\u001b[0;32m      9\u001b[0m \u001b[38;5;66;03m# Get or create the collection\u001b[39;00m\n\u001b[0;32m     10\u001b[0m collection \u001b[38;5;241m=\u001b[39m chroma_client\u001b[38;5;241m.\u001b[39mget_or_create_collection(\u001b[38;5;124m\"\u001b[39m\u001b[38;5;124mmicrosoft_annual_report_2022\u001b[39m\u001b[38;5;124m\"\u001b[39m, embedding_function\u001b[38;5;241m=\u001b[39membedding_function)\n",
      "\u001b[1;31mNameError\u001b[0m: name 'Settings' is not defined"
     ]
    }
   ],
   "source": [
    "import chromadb\n",
    "\n",
    "# Specify the persistence directory\n",
    "persist_directory = \"Chromadb\"\n",
    "\n",
    "# Create a ChromaDB client with persistence\n",
    "chroma_client = chromadb.Client(Settings(persist_directory=persist_directory))\n",
    "\n",
    "# Get or create the collection\n",
    "collection = chroma_client.get_or_create_collection(\"microsoft_annual_report_2022\", embedding_function=embedding_function)\n",
    "\n",
    "# Add documents to the collection (if necessary)\n",
    "ids = [str(i) for i in range(len(token_split_texts))]\n",
    "collection.add(ids=ids, documents=token_split_texts)\n",
    "\n",
    "# Retrieve all documents\n",
    "documents = collection.get()\n",
    "\n",
    "# Access the document text\n",
    "for document in documents:\n",
    "    text = document['document']\n",
    "    print(text)"
   ]
  },
  {
   "cell_type": "code",
   "execution_count": 11,
   "id": "e05bde59",
   "metadata": {},
   "outputs": [
    {
     "ename": "NameError",
     "evalue": "name 'Settings' is not defined",
     "output_type": "error",
     "traceback": [
      "\u001b[1;31m---------------------------------------------------------------------------\u001b[0m",
      "\u001b[1;31mNameError\u001b[0m                                 Traceback (most recent call last)",
      "Cell \u001b[1;32mIn[11], line 7\u001b[0m\n\u001b[0;32m      4\u001b[0m persist_directory \u001b[38;5;241m=\u001b[39m \u001b[38;5;124m\"\u001b[39m\u001b[38;5;124mChromadb\u001b[39m\u001b[38;5;124m\"\u001b[39m\n\u001b[0;32m      6\u001b[0m \u001b[38;5;66;03m# Create a ChromaDB client with persistence\u001b[39;00m\n\u001b[1;32m----> 7\u001b[0m chroma_client \u001b[38;5;241m=\u001b[39m chromadb\u001b[38;5;241m.\u001b[39mClient(\u001b[43mSettings\u001b[49m(persist_directory\u001b[38;5;241m=\u001b[39mpersist_directory))\n\u001b[0;32m      9\u001b[0m \u001b[38;5;66;03m# Get or create the collection\u001b[39;00m\n\u001b[0;32m     10\u001b[0m collection \u001b[38;5;241m=\u001b[39m chroma_client\u001b[38;5;241m.\u001b[39mget_or_create_collection(\u001b[38;5;124m\"\u001b[39m\u001b[38;5;124mmicrosoft_annual_report_2022\u001b[39m\u001b[38;5;124m\"\u001b[39m, embedding_function\u001b[38;5;241m=\u001b[39membedding_function)\n",
      "\u001b[1;31mNameError\u001b[0m: name 'Settings' is not defined"
     ]
    }
   ],
   "source": [
    "import chromadb\n",
    "\n",
    "# Specify the persistence directory\n",
    "persist_directory = \"Chromadb\"\n",
    "\n",
    "# Create a ChromaDB client with persistence\n",
    "chroma_client = chromadb.Client(Settings(persist_directory=persist_directory))\n",
    "\n",
    "# Get or create the collection\n",
    "collection = chroma_client.get_or_create_collection(\"microsoft_annual_report_2022\", embedding_function=embedding_function)\n",
    "\n",
    "# Add documents to the collection (if necessary)\n",
    "# ...\n",
    "ids = [str(i) for i in range(len(token_split_texts))]\n",
    "collection.add(ids=ids, documents=token_split_texts)\n",
    "\n",
    "# Retrieve all documents\n",
    "documents = collection.get()\n",
    "\n",
    "# Access the document text\n",
    "for document in documents:\n",
    "    text = document['document']\n",
    "    print(text)"
   ]
  },
  {
   "cell_type": "code",
   "execution_count": null,
   "id": "d6cb6e63",
   "metadata": {},
   "outputs": [],
   "source": []
  },
  {
   "cell_type": "code",
   "execution_count": null,
   "id": "35104f0c",
   "metadata": {},
   "outputs": [],
   "source": []
  },
  {
   "cell_type": "code",
   "execution_count": null,
   "id": "5b3400ba",
   "metadata": {},
   "outputs": [],
   "source": []
  },
  {
   "cell_type": "code",
   "execution_count": 10,
   "id": "01a8916a",
   "metadata": {},
   "outputs": [],
   "source": [
    "chroma_client = chromadb.Client()\n",
    "chroma_collection = chroma_client.create_collection(\"microsoft_annual_report_2022\", embedding_function=embedding_function)"
   ]
  },
  {
   "cell_type": "code",
   "execution_count": null,
   "id": "8ba6c8c5-9ce4-44d0-9223-6fdd77871f87",
   "metadata": {},
   "outputs": [],
   "source": [
    "ids = [str(i) for i in range(len(token_split_texts))]\n",
    "\n",
    "chroma_collection.add(ids=ids, documents=token_split_texts)\n",
    "chroma_collection.count()\n",
    "\n",
    "print(f'chroma_collection.count(): {chroma_collection.count()} should equal Total_token_split_texts chunks: {len(token_split_texts)}')\n",
    "print(f'chroma_collection.count(): {chroma_collection.count()}')\n",
    "print(f\"Total token_split_texts chunks: {len(token_split_texts)}\")"
   ]
  },
  {
   "cell_type": "code",
   "execution_count": null,
   "id": "c3403448",
   "metadata": {},
   "outputs": [],
   "source": [
    "first_document"
   ]
  },
  {
   "cell_type": "code",
   "execution_count": null,
   "id": "eb9b4192",
   "metadata": {},
   "outputs": [],
   "source": [
    "first_document"
   ]
  },
  {
   "cell_type": "code",
   "execution_count": null,
   "id": "55c96111",
   "metadata": {},
   "outputs": [],
   "source": [
    "# Retrieve the first document and its ID\n",
    "# first_document = chroma_collection.get(ids=[ids[0]])\n",
    "first_document = chroma_collection.get(ids=['0', '1'])\n",
    "\n",
    "# Access the document and its ID\n",
    "document_text = first_document['documents']  # Retrieve the document text\n",
    "document_id = first_document['ids']  # Retrieve the document ID\n",
    "\n",
    "print(\"Document Text:\", document_text)\n",
    "print(\"Document ID:\", document_id)"
   ]
  },
  {
   "cell_type": "code",
   "execution_count": null,
   "id": "b6ae1b78",
   "metadata": {},
   "outputs": [],
   "source": [
    "print(word_wrap(document_text[1]))"
   ]
  },
  {
   "cell_type": "code",
   "execution_count": null,
   "id": "9af82356",
   "metadata": {},
   "outputs": [],
   "source": [
    "queries = [\"What was the total revenue?\", \"What was the operating margin?\"]\n",
    "\n",
    "results = chroma_collection.query(query_texts=queries, n_results=3)"
   ]
  },
  {
   "cell_type": "code",
   "execution_count": null,
   "id": "d7711fd0",
   "metadata": {},
   "outputs": [],
   "source": [
    "for i, query in enumerate(queries):\n",
    "  retrieved_documents = results['documents'][i]\n",
    "  for j, document in enumerate(retrieved_documents):\n",
    "    print(f\"query: {queries[i]}\")\n",
    "    # print(word_wrap(document, n_chars=90))\n",
    "    print(f\"document {j}: {word_wrap(document, n_chars=90)}\")\n",
    "    print('\\n')"
   ]
  },
  {
   "cell_type": "code",
   "execution_count": 15,
   "id": "377a84aa-1d93-4e97-9b2d-d59c46355338",
   "metadata": {},
   "outputs": [],
   "source": [
    "import os\n",
    "import openai\n",
    "import sys\n",
    "sys.path.append('../..')\n",
    "from openai import OpenAI\n",
    "\n",
    "from dotenv import load_dotenv, find_dotenv\n",
    "_ = load_dotenv(find_dotenv('.env\\my_api_key.env')) # read local .env file\n",
    "openai.api_key = os.environ['OPENAI_API_KEY']\n",
    "\n",
    "openai_client = OpenAI()"
   ]
  },
  {
   "cell_type": "code",
   "execution_count": 16,
   "id": "ba0ed8ca-6640-4c09-9cb3-9de5e7cf46dc",
   "metadata": {},
   "outputs": [],
   "source": [
    "def rag(query, retrieved_documents, model=\"gpt-3.5-turbo\"):\n",
    "    information = \"\\n\\n\".join(retrieved_documents)\n",
    "\n",
    "    messages = [\n",
    "        {\n",
    "            \"role\": \"system\",\n",
    "            \"content\": \"You are a helpful expert financial research assistant. Your users are asking questions about information contained in an annual report.\"\n",
    "            \"You will be shown the user's question, and the relevant information from the annual report. Answer the user's question using only this information.\"\n",
    "        },\n",
    "        {\"role\": \"user\", \"content\": f\"Question: {query}. \\n Information: {information}\"}\n",
    "    ]\n",
    "    \n",
    "    response = openai_client.chat.completions.create(\n",
    "        model=model,\n",
    "        messages=messages,\n",
    "    )\n",
    "    content = response.choices[0].message.content\n",
    "    return content"
   ]
  },
  {
   "cell_type": "code",
   "execution_count": null,
   "id": "28bac3a2-0d29-48dc-9b48-2d9313239a25",
   "metadata": {},
   "outputs": [],
   "source": [
    "output = rag(query=query, retrieved_documents=retrieved_documents)\n",
    "\n",
    "print(word_wrap(output))"
   ]
  },
  {
   "cell_type": "code",
   "execution_count": null,
   "id": "2d2d6bd7",
   "metadata": {},
   "outputs": [],
   "source": [
    "for query in queries:\n",
    "  output = rag(query=query, retrieved_documents=retrieved_documents)\n",
    "  print(f'query: {query}')\n",
    "  for i, retrieved_document in enumerate(retrieved_documents):\n",
    "    print(f'retrieved document {i}: {retrieved_document}')\n",
    "  print(f'output: {word_wrap(output)}\\n')\n",
    "  # print('\\n')  "
   ]
  },
  {
   "cell_type": "code",
   "execution_count": null,
   "id": "f51cd544",
   "metadata": {},
   "outputs": [],
   "source": [
    "retrieved_documents"
   ]
  },
  {
   "cell_type": "code",
   "execution_count": null,
   "id": "a2bbcbf5",
   "metadata": {},
   "outputs": [],
   "source": [
    "output = rag(query=queries, retrieved_documents=retrieved_documents)\n",
    "\n",
    "print(queries)\n",
    "print(word_wrap(output))"
   ]
  },
  {
   "cell_type": "code",
   "execution_count": null,
   "id": "8dfcb52a",
   "metadata": {},
   "outputs": [],
   "source": []
  },
  {
   "cell_type": "code",
   "execution_count": null,
   "id": "9a87ce4e",
   "metadata": {},
   "outputs": [],
   "source": [
    "output = rag(query=queries[0], retrieved_documents=retrieved_documents)\n",
    "\n",
    "print(queries[0])\n",
    "print(word_wrap(output))"
   ]
  },
  {
   "cell_type": "code",
   "execution_count": null,
   "id": "db9f2758-0f5a-49e5-b1fa-517b91324575",
   "metadata": {},
   "outputs": [],
   "source": [
    "output = rag(query=queries[1], retrieved_documents=retrieved_documents)\n",
    "\n",
    "print(queries[1])\n",
    "print(word_wrap(output))"
   ]
  },
  {
   "cell_type": "code",
   "execution_count": null,
   "id": "a2c7393a",
   "metadata": {},
   "outputs": [],
   "source": []
  },
  {
   "cell_type": "code",
   "execution_count": null,
   "id": "aee59493-8a99-4da8-b94f-4747efcfc79d",
   "metadata": {},
   "outputs": [],
   "source": []
  },
  {
   "cell_type": "code",
   "execution_count": null,
   "id": "f5eda9bc-ae76-4db6-9e0c-ae099d852d78",
   "metadata": {},
   "outputs": [],
   "source": []
  },
  {
   "cell_type": "code",
   "execution_count": null,
   "id": "b1183e75-4c65-422e-bc47-48010d8b29c9",
   "metadata": {},
   "outputs": [],
   "source": []
  },
  {
   "cell_type": "code",
   "execution_count": null,
   "id": "5fcd85cc-8898-41ed-a0aa-bd8a33fc565a",
   "metadata": {},
   "outputs": [],
   "source": []
  },
  {
   "cell_type": "code",
   "execution_count": null,
   "id": "c65337e9-85ee-47f7-89fd-7fe77cd0e1b2",
   "metadata": {},
   "outputs": [],
   "source": []
  },
  {
   "cell_type": "code",
   "execution_count": null,
   "id": "a7794092-4195-4cf3-9eab-11c9c05a26b9",
   "metadata": {},
   "outputs": [],
   "source": []
  },
  {
   "cell_type": "code",
   "execution_count": null,
   "id": "f2cab7a1-1be7-45f0-83b7-543e48f83901",
   "metadata": {},
   "outputs": [],
   "source": []
  },
  {
   "cell_type": "code",
   "execution_count": null,
   "id": "fe0343be-73c9-4aed-83b0-aba09569ac87",
   "metadata": {},
   "outputs": [],
   "source": []
  },
  {
   "cell_type": "code",
   "execution_count": null,
   "id": "6f0f3e33-e517-4f6b-8b38-c47c1e3d40b4",
   "metadata": {},
   "outputs": [],
   "source": []
  },
  {
   "cell_type": "code",
   "execution_count": null,
   "id": "a16fdcb1-57d0-4f04-af8f-7c7fc594d947",
   "metadata": {},
   "outputs": [],
   "source": []
  },
  {
   "cell_type": "code",
   "execution_count": null,
   "id": "babe7893-9cbc-43c5-94ef-cbf8f5d68cf2",
   "metadata": {},
   "outputs": [],
   "source": []
  },
  {
   "cell_type": "code",
   "execution_count": null,
   "id": "60a9524b-1085-4bdf-a161-39f11397dc1f",
   "metadata": {},
   "outputs": [],
   "source": []
  },
  {
   "cell_type": "code",
   "execution_count": null,
   "id": "d189f088-b58e-4583-9590-afdfa624cf87",
   "metadata": {},
   "outputs": [],
   "source": []
  },
  {
   "cell_type": "code",
   "execution_count": null,
   "id": "7b26a01a-4575-446b-b8dc-a8c5ab153172",
   "metadata": {},
   "outputs": [],
   "source": []
  },
  {
   "cell_type": "code",
   "execution_count": null,
   "id": "0950575b-b69d-46a3-8c91-c7af89f5c204",
   "metadata": {},
   "outputs": [],
   "source": []
  },
  {
   "cell_type": "code",
   "execution_count": null,
   "id": "3f123ad8-b2e8-4a25-8b42-a520ecaf566b",
   "metadata": {},
   "outputs": [],
   "source": []
  },
  {
   "cell_type": "code",
   "execution_count": null,
   "id": "83c04587-d1de-419c-a213-2e3eb67dc33d",
   "metadata": {},
   "outputs": [],
   "source": []
  },
  {
   "cell_type": "code",
   "execution_count": null,
   "id": "d3155972-824e-4ebe-a692-2227c113c5a8",
   "metadata": {},
   "outputs": [],
   "source": []
  },
  {
   "cell_type": "code",
   "execution_count": null,
   "id": "d8144a4a-85f6-4800-87f9-36a1b6ceda1f",
   "metadata": {},
   "outputs": [],
   "source": []
  },
  {
   "cell_type": "code",
   "execution_count": null,
   "id": "8ff0b18e-12a0-4ac0-97dd-8618b22e7dbf",
   "metadata": {},
   "outputs": [],
   "source": []
  },
  {
   "cell_type": "code",
   "execution_count": null,
   "id": "03ca7e7c-4b47-4652-9b46-a40b3dffa5e6",
   "metadata": {},
   "outputs": [],
   "source": []
  },
  {
   "cell_type": "code",
   "execution_count": null,
   "id": "f74e7d67-7f51-41c4-8e25-edbaa02d0bd8",
   "metadata": {},
   "outputs": [],
   "source": []
  },
  {
   "cell_type": "code",
   "execution_count": null,
   "id": "9188e886-d406-406f-b234-f5c3353a77a2",
   "metadata": {},
   "outputs": [],
   "source": []
  },
  {
   "cell_type": "code",
   "execution_count": null,
   "id": "3d3bb286-2694-4ed4-8466-46865e997ced",
   "metadata": {},
   "outputs": [],
   "source": []
  },
  {
   "cell_type": "code",
   "execution_count": null,
   "id": "2876084b-4038-4b0c-8ec8-8294a86adfc1",
   "metadata": {},
   "outputs": [],
   "source": []
  },
  {
   "cell_type": "code",
   "execution_count": null,
   "id": "3ac542e1-b094-431f-9611-cf7e36d3f0de",
   "metadata": {},
   "outputs": [],
   "source": []
  },
  {
   "cell_type": "code",
   "execution_count": null,
   "id": "bcd6114b-c09d-4173-a623-9a08aaf63e4b",
   "metadata": {},
   "outputs": [],
   "source": []
  },
  {
   "cell_type": "code",
   "execution_count": null,
   "id": "ad10ab65-b351-4f4b-b7d2-63474acfb9f9",
   "metadata": {},
   "outputs": [],
   "source": []
  },
  {
   "cell_type": "code",
   "execution_count": null,
   "id": "800f3d81-cbdb-4ba4-8d49-85747fdfded8",
   "metadata": {},
   "outputs": [],
   "source": []
  },
  {
   "cell_type": "code",
   "execution_count": null,
   "id": "37847448-c9f6-4f51-bf06-f7809964a8b2",
   "metadata": {},
   "outputs": [],
   "source": []
  },
  {
   "cell_type": "code",
   "execution_count": null,
   "id": "2dcefc87-0964-4b94-946b-2145781ad606",
   "metadata": {},
   "outputs": [],
   "source": []
  },
  {
   "cell_type": "code",
   "execution_count": null,
   "id": "5fc994bc-7b1e-476a-9df9-300a3e374882",
   "metadata": {},
   "outputs": [],
   "source": []
  },
  {
   "cell_type": "code",
   "execution_count": null,
   "id": "9ef5f5d5-acb7-4b0a-93ef-e61306708e69",
   "metadata": {},
   "outputs": [],
   "source": []
  },
  {
   "cell_type": "code",
   "execution_count": null,
   "id": "44e4b33f-d8fb-4f3a-b884-8b43a3766583",
   "metadata": {},
   "outputs": [],
   "source": []
  },
  {
   "cell_type": "code",
   "execution_count": null,
   "id": "c2a480a2-2c29-4a01-80dd-ee41934b7901",
   "metadata": {},
   "outputs": [],
   "source": []
  },
  {
   "cell_type": "code",
   "execution_count": null,
   "id": "8127c2bf-0d15-4b62-b46a-f7a17ad2ec92",
   "metadata": {},
   "outputs": [],
   "source": []
  },
  {
   "cell_type": "code",
   "execution_count": null,
   "id": "18ded129-a637-4269-a116-550fe9a90570",
   "metadata": {},
   "outputs": [],
   "source": []
  },
  {
   "cell_type": "code",
   "execution_count": null,
   "id": "c1d7ee44-7b29-483f-a3f2-cc9d8e18880e",
   "metadata": {},
   "outputs": [],
   "source": []
  },
  {
   "cell_type": "code",
   "execution_count": null,
   "id": "8e450dd8-9719-42c6-8c3c-33cac910e0a5",
   "metadata": {},
   "outputs": [],
   "source": []
  }
 ],
 "metadata": {
  "kernelspec": {
   "display_name": ".venv",
   "language": "python",
   "name": "python3"
  },
  "language_info": {
   "codemirror_mode": {
    "name": "ipython",
    "version": 3
   },
   "file_extension": ".py",
   "mimetype": "text/x-python",
   "name": "python",
   "nbconvert_exporter": "python",
   "pygments_lexer": "ipython3",
   "version": "3.10.5"
  }
 },
 "nbformat": 4,
 "nbformat_minor": 5
}
