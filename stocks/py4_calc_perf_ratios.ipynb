{
 "cells": [
  {
   "cell_type": "code",
   "execution_count": null,
   "metadata": {},
   "outputs": [],
   "source": []
  },
  {
   "cell_type": "code",
   "execution_count": 46,
   "metadata": {},
   "outputs": [],
   "source": [
    "# Retrieve pickled dataframe with symbols' OHLCV\n",
    "source_filename = \"df_OHLCV_2025-03-03_clean.pkl\"\n",
    "destination_filename = \"df_perf_ratios.pkl\"\n",
    "\n",
    "# days used in calculating ratios\n",
    "days_ratio = [30, 63, 125, 250]\n",
    "\n",
    "# risk free rate\n",
    "risk_free_rate = 0.04"
   ]
  },
  {
   "cell_type": "code",
   "execution_count": 47,
   "metadata": {},
   "outputs": [
    {
     "name": "stdout",
     "output_type": "stream",
     "text": [
      "temp_dir: c:\\Users\\ping\\Files_win10\\python\\py310\\stocks\\temp\n",
      "source_path: c:\\Users\\ping\\Files_win10\\python\\py310\\stocks\\temp\\df_OHLCV_2025-03-03_clean.pkl\n",
      "dest_path: c:\\Users\\ping\\Files_win10\\python\\py310\\stocks\\temp\\df_perf_ratios.pkl\n"
     ]
    }
   ],
   "source": [
    "import os\n",
    "\n",
    "# Create temp directory if it doesn't exist\n",
    "temp_dir = os.path.join(os.getcwd(), 'temp')\n",
    "os.makedirs(temp_dir, exist_ok=True)\n",
    "\n",
    "# Get source and destination paths\n",
    "source_path = os.path.join(temp_dir, source_filename)\n",
    "dest_path = os.path.join(temp_dir, destination_filename)\n",
    "\n",
    "print(f'temp_dir: {temp_dir}')\n",
    "print(f'source_path: {source_path}')\n",
    "print(f'dest_path: {dest_path}')\n"
   ]
  },
  {
   "cell_type": "code",
   "execution_count": 48,
   "metadata": {},
   "outputs": [
    {
     "data": {
      "text/html": [
       "<div>\n",
       "<style scoped>\n",
       "    .dataframe tbody tr th:only-of-type {\n",
       "        vertical-align: middle;\n",
       "    }\n",
       "\n",
       "    .dataframe tbody tr th {\n",
       "        vertical-align: top;\n",
       "    }\n",
       "\n",
       "    .dataframe thead th {\n",
       "        text-align: right;\n",
       "    }\n",
       "</style>\n",
       "<table border=\"1\" class=\"dataframe\">\n",
       "  <thead>\n",
       "    <tr style=\"text-align: right;\">\n",
       "      <th></th>\n",
       "      <th></th>\n",
       "      <th>Adj Close</th>\n",
       "    </tr>\n",
       "    <tr>\n",
       "      <th>Symbol</th>\n",
       "      <th>Date</th>\n",
       "      <th></th>\n",
       "    </tr>\n",
       "  </thead>\n",
       "  <tbody>\n",
       "    <tr>\n",
       "      <th rowspan=\"5\" valign=\"top\">AAPL</th>\n",
       "      <th>2025-03-03</th>\n",
       "      <td>238.03</td>\n",
       "    </tr>\n",
       "    <tr>\n",
       "      <th>2025-02-28</th>\n",
       "      <td>241.84</td>\n",
       "    </tr>\n",
       "    <tr>\n",
       "      <th>2025-02-27</th>\n",
       "      <td>237.30</td>\n",
       "    </tr>\n",
       "    <tr>\n",
       "      <th>2025-02-26</th>\n",
       "      <td>240.36</td>\n",
       "    </tr>\n",
       "    <tr>\n",
       "      <th>2025-02-25</th>\n",
       "      <td>247.04</td>\n",
       "    </tr>\n",
       "    <tr>\n",
       "      <th>...</th>\n",
       "      <th>...</th>\n",
       "      <td>...</td>\n",
       "    </tr>\n",
       "    <tr>\n",
       "      <th rowspan=\"5\" valign=\"top\">FCOM</th>\n",
       "      <th>2024-03-08</th>\n",
       "      <td>47.87</td>\n",
       "    </tr>\n",
       "    <tr>\n",
       "      <th>2024-03-07</th>\n",
       "      <td>47.85</td>\n",
       "    </tr>\n",
       "    <tr>\n",
       "      <th>2024-03-06</th>\n",
       "      <td>47.13</td>\n",
       "    </tr>\n",
       "    <tr>\n",
       "      <th>2024-03-05</th>\n",
       "      <td>47.21</td>\n",
       "    </tr>\n",
       "    <tr>\n",
       "      <th>2024-03-04</th>\n",
       "      <td>47.47</td>\n",
       "    </tr>\n",
       "  </tbody>\n",
       "</table>\n",
       "<p>619500 rows × 1 columns</p>\n",
       "</div>"
      ],
      "text/plain": [
       "                   Adj Close\n",
       "Symbol Date                 \n",
       "AAPL   2025-03-03     238.03\n",
       "       2025-02-28     241.84\n",
       "       2025-02-27     237.30\n",
       "       2025-02-26     240.36\n",
       "       2025-02-25     247.04\n",
       "...                      ...\n",
       "FCOM   2024-03-08      47.87\n",
       "       2024-03-07      47.85\n",
       "       2024-03-06      47.13\n",
       "       2024-03-05      47.21\n",
       "       2024-03-04      47.47\n",
       "\n",
       "[619500 rows x 1 columns]"
      ]
     },
     "execution_count": 48,
     "metadata": {},
     "output_type": "execute_result"
    }
   ],
   "source": [
    "import pandas as pd\n",
    "\n",
    "# Load the DataFrame from the pickle file\n",
    "df = pd.read_pickle(source_path)\n",
    "\n",
    "# Display the first few rows of the DataFrame to verify\n",
    "df = df[['Adj Close']].copy()\n",
    "df"
   ]
  },
  {
   "cell_type": "code",
   "execution_count": 49,
   "metadata": {},
   "outputs": [],
   "source": [
    "import utils\n",
    "\n",
    "list_dfs = utils.get_latest_dfs(df, days_ratio)"
   ]
  },
  {
   "cell_type": "code",
   "execution_count": 50,
   "metadata": {},
   "outputs": [
    {
     "name": "stdout",
     "output_type": "stream",
     "text": [
      "\n",
      "Combined performance metrics DataFrame:\n",
      "      Sharpe 30d  Sortino 30d  Omega 30d  Sharpe 63d  Sortino 63d  Omega 63d  \\\n",
      "A      -5.141319    -5.874034   0.387854   -1.557570    -2.072968   0.764167   \n",
      "AA     -4.138950    -4.757844   0.486068   -3.534636    -4.033184   0.538406   \n",
      "AAL    -6.545431    -6.369321   0.275131   -0.309140    -0.519767   0.936498   \n",
      "AAON   -5.192318    -5.220528   0.288863   -3.497344    -3.650716   0.442304   \n",
      "AAP    -2.981175    -3.289828   0.528001   -1.346271    -1.597772   0.775338   \n",
      "...          ...          ...        ...         ...          ...        ...   \n",
      "ZM     -0.949757    -1.295046   0.814267   -1.609598    -2.139231   0.735023   \n",
      "ZS      0.217949     0.340288   1.037328   -0.797255    -1.081709   0.878738   \n",
      "ZTO     1.049341     1.471367   1.172388    0.437474     0.613256   1.071279   \n",
      "ZTS     0.904212     1.190219   1.167916   -0.577078    -0.736313   0.909223   \n",
      "ZWS    -3.867918    -4.316013   0.522642   -2.628016    -3.051696   0.651794   \n",
      "\n",
      "      Sharpe 125d  Sortino 125d  Omega 125d  Sharpe 250d  Sortino 250d  \\\n",
      "A       -1.005100     -1.413684    0.840729    -0.481007     -0.651968   \n",
      "AA       0.062464      0.089683    1.010611     0.448254      0.656808   \n",
      "AAL      1.359764      2.433435    1.300548    -0.043775     -0.065025   \n",
      "AAON    -0.655890     -0.829606    0.862521    -0.053361     -0.067795   \n",
      "AAP     -0.698480     -0.888870    0.884525    -1.143217     -1.407391   \n",
      "...           ...           ...         ...          ...           ...   \n",
      "ZM       0.491707      0.702016    1.091808     0.235457      0.354255   \n",
      "ZS      -0.119164     -0.148472    0.978349    -0.228743     -0.297141   \n",
      "ZTO     -0.293324     -0.425053    0.953742     0.112484      0.170525   \n",
      "ZTS     -0.665969     -0.845534    0.895115    -0.392578     -0.530085   \n",
      "ZWS      0.622600      0.960935    1.112177     0.359073      0.533973   \n",
      "\n",
      "      Omega 250d  \n",
      "A       0.920348  \n",
      "AA      1.076155  \n",
      "AAL     0.991775  \n",
      "AAON    0.988760  \n",
      "AAP     0.814298  \n",
      "...          ...  \n",
      "ZM      1.044013  \n",
      "ZS      0.960021  \n",
      "ZTO     1.018740  \n",
      "ZTS     0.933928  \n",
      "ZWS     1.060325  \n",
      "\n",
      "[2478 rows x 12 columns]\n"
     ]
    }
   ],
   "source": [
    "all_results = {}\n",
    "\n",
    "for _df in list_dfs:\n",
    "    tickers_in_df = _df.index.get_level_values(0).unique()\n",
    "    for ticker in tickers_in_df:\n",
    "        result_df = utils.analyze_stock(_df, ticker, risk_free_rate=risk_free_rate)\n",
    "        if result_df is not None:\n",
    "            # Extract the ticker name from the result_df index\n",
    "            ticker_name = result_df.index[0]\n",
    "            # Convert the single-row DataFrame to a dictionary\n",
    "            metrics = result_df.iloc[0].to_dict()\n",
    "            \n",
    "            # Update the existing ticker entry or create a new one\n",
    "            if ticker_name in all_results:\n",
    "                all_results[ticker_name].update(metrics)\n",
    "            else:\n",
    "                all_results[ticker_name] = metrics\n",
    "\n",
    "if all_results:\n",
    "    combined_df = pd.DataFrame.from_dict(all_results, orient='index')\n",
    "    print(\"\\nCombined performance metrics DataFrame:\")\n",
    "    print(combined_df)\n",
    "else:\n",
    "    print(\"No performance metrics were calculated.\")"
   ]
  },
  {
   "cell_type": "code",
   "execution_count": 51,
   "metadata": {},
   "outputs": [
    {
     "name": "stdout",
     "output_type": "stream",
     "text": [
      "DataFrame successfully saved to c:\\Users\\ping\\Files_win10\\python\\py310\\stocks\\temp\\df_perf_ratios.pkl\n"
     ]
    }
   ],
   "source": [
    "# Save the combined DataFrame to pickle file\n",
    "combined_df.to_pickle(dest_path)\n",
    "print(f\"DataFrame successfully saved to {dest_path}\")"
   ]
  },
  {
   "cell_type": "code",
   "execution_count": null,
   "metadata": {},
   "outputs": [],
   "source": []
  }
 ],
 "metadata": {
  "kernelspec": {
   "display_name": ".venv",
   "language": "python",
   "name": "python3"
  },
  "language_info": {
   "codemirror_mode": {
    "name": "ipython",
    "version": 3
   },
   "file_extension": ".py",
   "mimetype": "text/x-python",
   "name": "python",
   "nbconvert_exporter": "python",
   "pygments_lexer": "ipython3",
   "version": "3.10.5"
  }
 },
 "nbformat": 4,
 "nbformat_minor": 2
}
