{
 "cells": [
  {
   "cell_type": "code",
   "execution_count": 7,
   "metadata": {},
   "outputs": [],
   "source": [
    "# File name to be saved pickle df\n",
    "pickle_file_name = \"df_finviz.pkl\""
   ]
  },
  {
   "cell_type": "code",
   "execution_count": 8,
   "metadata": {},
   "outputs": [
    {
     "name": "stdout",
     "output_type": "stream",
     "text": [
      "Temp directory already exists at: c:\\Users\\ping\\Files_win10\\python\\py310\\stocks\\temp\n"
     ]
    }
   ],
   "source": [
    "import os\n",
    "\n",
    "# Get the current working directory\n",
    "current_path = os.getcwd()\n",
    "\n",
    "# Create temp directory if it doesn't exist\n",
    "temp_dir_path = os.path.join(current_path, 'temp')\n",
    "if not os.path.exists(temp_dir_path):\n",
    "  os.makedirs(temp_dir_path)\n",
    "  print(f\"Created temp directory at: {temp_dir_path}\")\n",
    "else:\n",
    "  print(f\"Temp directory already exists at: {temp_dir_path}\")"
   ]
  },
  {
   "cell_type": "code",
   "execution_count": 9,
   "metadata": {},
   "outputs": [
    {
     "name": "stdout",
     "output_type": "stream",
     "text": [
      "Loaded DataFrame from: c:\\Users\\ping\\Files_win10\\python\\py310\\stocks\\temp\\df_finviz.pkl\n"
     ]
    }
   ],
   "source": [
    "import pandas as pd\n",
    "\n",
    "# Construct the full path to the pickle file\n",
    "pickle_path = os.path.join(temp_dir_path, pickle_file_name)\n",
    "\n",
    "# Load the DataFrame from the pickle file\n",
    "df = pd.read_pickle(pickle_path)\n",
    "print(f\"Loaded DataFrame from: {pickle_path}\")"
   ]
  },
  {
   "cell_type": "code",
   "execution_count": 10,
   "metadata": {},
   "outputs": [
    {
     "name": "stdout",
     "output_type": "stream",
     "text": [
      "Tickers saved to: c:\\Users\\ping\\Files_win10\\python\\py310\\stocks\\temp\\tickers.txt\n",
      "Number of symbols in tickers.txt: 200\n"
     ]
    }
   ],
   "source": [
    "# Save df.Ticker to a file in the temp directory\n",
    "tickers_path = os.path.join(temp_dir_path, 'tickers.txt')\n",
    "with open(tickers_path, 'w') as f:\n",
    "  for ticker in df.index:\n",
    "    f.write(f\"{ticker}\\n\")\n",
    "\n",
    "print(f\"Tickers saved to: {tickers_path}\")\n",
    "\n",
    "# Get the number of tickers from df.index\n",
    "num_tickers = len(df.index)\n",
    "print(f\"Number of symbols in tickers.txt: {num_tickers}\")"
   ]
  },
  {
   "cell_type": "code",
   "execution_count": null,
   "metadata": {},
   "outputs": [],
   "source": []
  }
 ],
 "metadata": {
  "kernelspec": {
   "display_name": ".venv",
   "language": "python",
   "name": "python3"
  },
  "language_info": {
   "codemirror_mode": {
    "name": "ipython",
    "version": 3
   },
   "file_extension": ".py",
   "mimetype": "text/x-python",
   "name": "python",
   "nbconvert_exporter": "python",
   "pygments_lexer": "ipython3",
   "version": "3.10.5"
  }
 },
 "nbformat": 4,
 "nbformat_minor": 2
}
