{
 "cells": [
  {
   "cell_type": "code",
   "execution_count": 7,
   "metadata": {},
   "outputs": [],
   "source": [
    "# Excel file path and sheet name\n",
    "file_path = r\"G:\\My Drive\\stocks\\finviz_scrape.xlsm\"\n",
    "sheet_name = \"2025-03-01\"\n",
    "\n",
    "# File name to be saved pickle df\n",
    "pickle_file_name = \"df_finviz.pkl\""
   ]
  },
  {
   "cell_type": "code",
   "execution_count": 8,
   "metadata": {},
   "outputs": [
    {
     "name": "stdout",
     "output_type": "stream",
     "text": [
      "                                        Industry Market Cap    P/E  Fwd P/E  \\\n",
      "Ticker                                                                        \n",
      "AAPL                        Consumer Electronics   3632.94B  38.45    29.53   \n",
      "ABBV                Drug Manufacturers - General    369.01B  87.40    15.03   \n",
      "ABNB                             Travel Services     87.56B  33.59    27.56   \n",
      "ABT                              Medical Devices    239.35B  18.01    24.19   \n",
      "ACN              Information Technology Services    217.98B  29.21    24.90   \n",
      "...                                          ...        ...    ...      ...   \n",
      "WFC                          Banks - Diversified    257.53B  14.57    11.31   \n",
      "WM                              Waste Management     93.60B  34.19    26.77   \n",
      "WMB                          Oil & Gas Midstream     70.94B  24.75    24.70   \n",
      "WMT                              Discount Stores    792.17B  40.97    33.37   \n",
      "ZTS     Drug Manufacturers - Specialty & Generic     74.89B  30.60    24.49   \n",
      "\n",
      "         PEG  P/FCF Dividend Payout Ratio  EPS this Y  EPS next Y  ...  \\\n",
      "Ticker                                                             ...   \n",
      "AAPL    3.89  36.96   0.0042       0.1611      0.0847      0.1186  ...   \n",
      "ABBV    5.79  20.69   0.0311       2.6315      0.2132      0.1329  ...   \n",
      "ABNB     2.5  19.53        -            0      0.0602      0.1562  ...   \n",
      "ABT      1.7  37.69   0.0172       0.2933      0.1033      0.1074  ...   \n",
      "ACN      3.2  24.07   0.0164       0.4512      0.0729      0.0918  ...   \n",
      "...      ...    ...      ...          ...         ...         ...  ...   \n",
      "WFC     1.04   8.67   0.0217       0.2796      0.1072      0.1644  ...   \n",
      "WM      3.58  43.36    0.014       0.4407      0.0558      0.1390  ...   \n",
      "WMB      2.4   30.9   0.0346        1.044      0.0998      0.1155  ...   \n",
      "WMT     4.15  62.57   0.0093       0.3444      0.0504      0.1208  ...   \n",
      "ZTS      3.7  32.59   0.0117       0.3286      0.0358      0.1135  ...   \n",
      "\n",
      "       Quick R  Gross M  Oper M Profit M  Beta   ATR Volatility W  \\\n",
      "Ticker                                                              \n",
      "AAPL      0.88   0.4652  0.3176   0.2430  1.18  5.89       0.0276   \n",
      "ABBV      0.55   0.7012  0.2157   0.0752  0.59  4.10       0.0198   \n",
      "ABNB      1.69   0.7154  0.2300   0.2385  1.09  5.13       0.0286   \n",
      "ABT       1.23    0.509  0.1640   0.3183  0.69  2.44       0.0175   \n",
      "ACN       1.47   0.3249  0.1553   0.1141  1.23  8.45       0.0234   \n",
      "...        ...      ...     ...      ...   ...   ...          ...   \n",
      "WFC          -        -  0.1911   0.1473  1.16  1.73       0.0266   \n",
      "WM        0.73   0.2907  0.1881   0.1245  0.76  3.30       0.0146   \n",
      "WMB       0.45    0.383  0.2931   0.2089  1.07  1.81       0.0366   \n",
      "WMT       0.24   0.2626  0.0431   0.0285  0.54  2.31       0.0269   \n",
      "ZTS       1.08    0.691  0.3665   0.2686  0.94  4.42       0.0259   \n",
      "\n",
      "       Volatility M Recom Target Price  \n",
      "Ticker                                  \n",
      "AAPL         0.0239  2.16       252.73  \n",
      "ABBV         0.0216  1.69       209.96  \n",
      "ABNB         0.0311  2.74       157.12  \n",
      "ABT          0.0180  1.73       135.52  \n",
      "ACN          0.0218  1.79       406.52  \n",
      "...             ...   ...          ...  \n",
      "WFC          0.0211  2.04        85.45  \n",
      "WM           0.0149  2.04       241.50  \n",
      "WMB          0.0309  2.25        60.32  \n",
      "WMT          0.0207  1.40       110.39  \n",
      "ZTS          0.0252  1.52       209.93  \n",
      "\n",
      "[200 rows x 28 columns]\n"
     ]
    }
   ],
   "source": [
    "import pandas as pd\n",
    "\n",
    "\n",
    "try:\n",
    "    df = pd.read_excel(file_path, sheet_name=sheet_name)\n",
    "\n",
    "    # Set the 'Ticker' column as the index\n",
    "    if 'Ticker' in df.columns:  # Check if 'Ticker' column exists\n",
    "        df = df.set_index('Ticker')\n",
    "        print(df)  # Print the DataFrame to verify it's loaded correctly with the new index\n",
    "    else:\n",
    "        print(\"Error: 'Ticker' column not found in the Excel file.\")\n",
    "\n",
    "except FileNotFoundError:\n",
    "    print(f\"Error: File not found at path: {file_path}\")\n",
    "except Exception as e:\n",
    "    print(f\"An error occurred: {e}\")"
   ]
  },
  {
   "cell_type": "code",
   "execution_count": 9,
   "metadata": {},
   "outputs": [
    {
     "name": "stdout",
     "output_type": "stream",
     "text": [
      "<class 'pandas.core.frame.DataFrame'>\n",
      "Index: 200 entries, AAPL to ZTS\n",
      "Data columns (total 28 columns):\n",
      " #   Column         Non-Null Count  Dtype  \n",
      "---  ------         --------------  -----  \n",
      " 0   Industry       200 non-null    string \n",
      " 1   Market Cap     200 non-null    Float64\n",
      " 2   P/E            200 non-null    Float64\n",
      " 3   Fwd P/E        200 non-null    Float64\n",
      " 4   PEG            199 non-null    Float64\n",
      " 5   P/FCF          184 non-null    Float64\n",
      " 6   Dividend       168 non-null    Float64\n",
      " 7   Payout Ratio   199 non-null    Float64\n",
      " 8   EPS this Y     200 non-null    Float64\n",
      " 9   EPS next Y     200 non-null    Float64\n",
      " 10  EPS next 5Y    199 non-null    Float64\n",
      " 11  Sales past 5Y  200 non-null    Float64\n",
      " 12  Sales Q/Q      199 non-null    Float64\n",
      " 13  EPS Q/Q        197 non-null    Float64\n",
      " 14  Inst Own       200 non-null    Float64\n",
      " 15  ROA            200 non-null    Float64\n",
      " 16  ROE            188 non-null    Float64\n",
      " 17  Curr R         182 non-null    Float64\n",
      " 18  Quick R        154 non-null    Float64\n",
      " 19  Gross M        169 non-null    Float64\n",
      " 20  Oper M         200 non-null    Float64\n",
      " 21  Profit M       200 non-null    Float64\n",
      " 22  Beta           199 non-null    Float64\n",
      " 23  ATR            200 non-null    Float64\n",
      " 24  Volatility W   200 non-null    Float64\n",
      " 25  Volatility M   200 non-null    Float64\n",
      " 26  Recom          200 non-null    Float64\n",
      " 27  Target Price   200 non-null    Float64\n",
      "dtypes: Float64(27), string(1)\n",
      "memory usage: 50.6+ KB\n"
     ]
    }
   ],
   "source": [
    "import numpy as np\n",
    "\n",
    "# Remove \"B\" and convert to numeric\n",
    "df['Market Cap'] = (\n",
    "    df['Market Cap']\n",
    "    .astype(str)  # Ensure we're working with strings\n",
    "    .str.replace('B', '', regex=False)  # Remove \"B\" explicitly\n",
    "    .str.replace(',', '', regex=False)  # Optional: Remove commas if present\n",
    "    .apply(pd.to_numeric, errors='coerce')  # Convert to float, invalid → NaN\n",
    ")\n",
    "\n",
    "# Columns to process (all except 'Industry')\n",
    "cols_to_process = df.columns.difference(['Industry'])\n",
    "\n",
    "# Step 1: Create a mask for cells that are exactly \"-\" (standalone hyphen)\n",
    "mask = df[cols_to_process].apply(lambda x: x.astype(str) == '-')\n",
    "\n",
    "# Step 2: Replace standalone hyphens with NaN\n",
    "df[cols_to_process] = df[cols_to_process].mask(mask, np.nan)\n",
    "\n",
    "# Step 3: Convert to float (coerce invalid values like \"150-200\" to NaN)\n",
    "df[cols_to_process] = df[cols_to_process].apply(pd.to_numeric, errors='coerce')\n",
    "\n",
    "# Convert Industry column from object to string\n",
    "df = df.convert_dtypes()\n",
    "df.info()"
   ]
  },
  {
   "cell_type": "code",
   "execution_count": 10,
   "metadata": {},
   "outputs": [
    {
     "name": "stdout",
     "output_type": "stream",
     "text": [
      "Temp directory already exists at: c:\\Users\\ping\\Files_win10\\python\\py310\\stocks\\temp\n"
     ]
    }
   ],
   "source": [
    "import os\n",
    "\n",
    "# Get the current working directory\n",
    "current_path = os.getcwd()\n",
    "\n",
    "# Create temp directory if it doesn't exist\n",
    "temp_dir_path = os.path.join(current_path, 'temp')\n",
    "if not os.path.exists(temp_dir_path):\n",
    "  os.makedirs(temp_dir_path)\n",
    "  print(f\"Created temp directory at: {temp_dir_path}\")\n",
    "else:\n",
    "  print(f\"Temp directory already exists at: {temp_dir_path}\")"
   ]
  },
  {
   "cell_type": "code",
   "execution_count": 11,
   "metadata": {},
   "outputs": [
    {
     "name": "stdout",
     "output_type": "stream",
     "text": [
      "DataFrame saved to: c:\\Users\\ping\\Files_win10\\python\\py310\\stocks\\temp\\df_finviz.pkl\n"
     ]
    }
   ],
   "source": [
    "import pickle\n",
    "\n",
    "# Create the full path for the pickle file\n",
    "pickle_path = os.path.join(temp_dir_path, pickle_file_name)\n",
    "\n",
    "# Save the DataFrame to pickle file\n",
    "with open(pickle_path, 'wb') as f:\n",
    "  pickle.dump(df, f)\n",
    "\n",
    "print(f\"DataFrame saved to: {pickle_path}\")"
   ]
  },
  {
   "cell_type": "code",
   "execution_count": null,
   "metadata": {},
   "outputs": [],
   "source": []
  }
 ],
 "metadata": {
  "kernelspec": {
   "display_name": ".venv",
   "language": "python",
   "name": "python3"
  },
  "language_info": {
   "codemirror_mode": {
    "name": "ipython",
    "version": 3
   },
   "file_extension": ".py",
   "mimetype": "text/x-python",
   "name": "python",
   "nbconvert_exporter": "python",
   "pygments_lexer": "ipython3",
   "version": "3.10.5"
  }
 },
 "nbformat": 4,
 "nbformat_minor": 2
}
