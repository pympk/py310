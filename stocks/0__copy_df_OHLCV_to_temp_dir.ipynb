{
 "cells": [
  {
   "cell_type": "code",
   "execution_count": 7,
   "metadata": {},
   "outputs": [
    {
     "name": "stdout",
     "output_type": "stream",
     "text": [
      "Latest df_OHLCV_yyyy-mm-dd.pkl file: df_OHLCV_2025-03-03.pkl\n"
     ]
    }
   ],
   "source": [
    "import os\n",
    "import datetime\n",
    "import utils  # Import the `utils.py` module from the `utils` package\n",
    "\n",
    "# Define the number of files to retrieve\n",
    "num_files = 10\n",
    "\n",
    "# Get the user's Downloads directory\n",
    "downloads_dir = os.path.expanduser(\"~\\\\Downloads\")  # Windows-specific\n",
    "\n",
    "recent_files = utils.get_latest_downloaded_files(downloads_dir, num_files=num_files)  # Call using utils.\n",
    "\n",
    "latest_ohlcv_file = ohlcv_files[0] if ohlcv_files else None\n",
    "print(f\"Latest df_OHLCV_yyyy-mm-dd.pkl file: {latest_ohlcv_file[0] if latest_ohlcv_file else 'No matching files found'}\")"
   ]
  },
  {
   "cell_type": "code",
   "execution_count": 8,
   "metadata": {},
   "outputs": [
    {
     "name": "stdout",
     "output_type": "stream",
     "text": [
      "Filtered OHLCV files:\n",
      "Name: df_OHLCV_2025-03-03.pkl, Size: 48550589, Timestamp: 2025-03-03 19:14:30.495627\n",
      "Name: df_OHLCV_2025-02-28.pkl, Size: 48604586, Timestamp: 2025-02-28 16:48:26.398709\n"
     ]
    }
   ],
   "source": [
    "import re\n",
    "\n",
    "# Filter files that match the pattern df_OHLCV_yyyy-mm-dd.pkl\n",
    "ohlcv_files = [(name, size, timestamp) for name, size, timestamp in recent_files \n",
    "         if re.match(r'^df_OHLCV_\\d{4}-\\d{2}-\\d{2}\\.pkl$', name)]\n",
    "\n",
    "print(\"Filtered OHLCV files:\")\n",
    "for file in ohlcv_files:\n",
    "  print(f\"Name: {file[0]}, Size: {file[1]}, Timestamp: {datetime.datetime.fromtimestamp(file[2])}\")"
   ]
  },
  {
   "cell_type": "code",
   "execution_count": 9,
   "metadata": {},
   "outputs": [
    {
     "name": "stdout",
     "output_type": "stream",
     "text": [
      "Latest df_OHLCV_yyyy-mm-dd.pkl file: df_OHLCV_2025-03-03.pkl\n"
     ]
    }
   ],
   "source": [
    "\n",
    "latest_ohlcv_file = ohlcv_files[0] if ohlcv_files else None\n",
    "print(f\"Latest df_OHLCV_yyyy-mm-dd.pkl file: {latest_ohlcv_file[0] if latest_ohlcv_file else 'No matching files found'}\")"
   ]
  },
  {
   "cell_type": "code",
   "execution_count": 10,
   "metadata": {},
   "outputs": [
    {
     "name": "stdout",
     "output_type": "stream",
     "text": [
      "Successfully copied latest OHLCV file:\n",
      "From: C:\\Users\\ping\\Downloads\\df_OHLCV_2025-03-03.pkl\n",
      "To: c:\\Users\\ping\\Files_win10\\python\\py310\\stocks\\temp\\df_OHLCV_2025-03-03.pkl\n"
     ]
    }
   ],
   "source": [
    "import os\n",
    "import shutil\n",
    "\n",
    "# Create temp directory if it doesn't exist\n",
    "temp_dir = os.path.join(os.getcwd(), 'temp')\n",
    "os.makedirs(temp_dir, exist_ok=True)\n",
    "\n",
    "# Get source and destination paths\n",
    "source_path = os.path.join(downloads_dir, latest_ohlcv_file[0])\n",
    "dest_path = os.path.join(temp_dir, latest_ohlcv_file[0])\n",
    "\n",
    "try:\n",
    "  shutil.copy2(source_path, dest_path)\n",
    "  print(f\"Successfully copied latest OHLCV file:\\nFrom: {source_path}\\nTo: {dest_path}\")\n",
    "except Exception as e:\n",
    "  print(f\"Error copying file: {e}\")"
   ]
  },
  {
   "cell_type": "code",
   "execution_count": null,
   "metadata": {},
   "outputs": [],
   "source": []
  }
 ],
 "metadata": {
  "kernelspec": {
   "display_name": ".venv",
   "language": "python",
   "name": "python3"
  },
  "language_info": {
   "codemirror_mode": {
    "name": "ipython",
    "version": 3
   },
   "file_extension": ".py",
   "mimetype": "text/x-python",
   "name": "python",
   "nbconvert_exporter": "python",
   "pygments_lexer": "ipython3",
   "version": "3.10.5"
  }
 },
 "nbformat": 4,
 "nbformat_minor": 2
}
