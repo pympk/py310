{
 "cells": [
  {
   "cell_type": "code",
   "execution_count": null,
   "metadata": {},
   "outputs": [],
   "source": []
  },
  {
   "cell_type": "code",
   "execution_count": 1,
   "metadata": {},
   "outputs": [
    {
     "name": "stdout",
     "output_type": "stream",
     "text": [
      "Python will look in these locations:\n",
      "['C:\\\\Users\\\\ping\\\\.pyenv\\\\pyenv-win\\\\versions\\\\3.10.5\\\\python310.zip', 'C:\\\\Users\\\\ping\\\\.pyenv\\\\pyenv-win\\\\versions\\\\3.10.5\\\\DLLs', 'C:\\\\Users\\\\ping\\\\.pyenv\\\\pyenv-win\\\\versions\\\\3.10.5\\\\lib', 'C:\\\\Users\\\\ping\\\\.pyenv\\\\pyenv-win\\\\versions\\\\3.10.5', 'c:\\\\Users\\\\ping\\\\Files_win10\\\\python\\\\py310\\\\.venv', '', 'c:\\\\Users\\\\ping\\\\Files_win10\\\\python\\\\py310\\\\.venv\\\\lib\\\\site-packages', 'c:\\\\Users\\\\ping\\\\Files_win10\\\\python\\\\py310\\\\.venv\\\\lib\\\\site-packages\\\\win32', 'c:\\\\Users\\\\ping\\\\Files_win10\\\\python\\\\py310\\\\.venv\\\\lib\\\\site-packages\\\\win32\\\\lib', 'c:\\\\Users\\\\ping\\\\Files_win10\\\\python\\\\py310\\\\.venv\\\\lib\\\\site-packages\\\\Pythonwin', 'c:\\\\Users\\\\ping\\\\Files_win10\\\\python\\\\py310\\\\stocks\\\\src']\n"
     ]
    },
    {
     "data": {
      "text/markdown": [
       "<span style='color:#00ffff;font-weight:500'>[Downloads] Scanned latest 20 files • Found 11 'df_OHLCV_' matches</span>"
      ],
      "text/plain": [
       "<IPython.core.display.Markdown object>"
      ]
     },
     "metadata": {},
     "output_type": "display_data"
    },
    {
     "data": {
      "text/markdown": [
       "**Available 'df_OHLCV_' files:**"
      ],
      "text/plain": [
       "<IPython.core.display.Markdown object>"
      ]
     },
     "metadata": {},
     "output_type": "display_data"
    },
    {
     "data": {
      "text/markdown": [
       "- (1) `[DOWNLOADS]` `df_OHLCV_2025-03-21.pkl` <span style='color:#00ffff'>(28.42 MB, 2025-03-21 15:09)</span>"
      ],
      "text/plain": [
       "<IPython.core.display.Markdown object>"
      ]
     },
     "metadata": {},
     "output_type": "display_data"
    },
    {
     "data": {
      "text/markdown": [
       "- (2) `[DOWNLOADS]` `df_OHLCV_2025-03-20.pkl` <span style='color:#00ffff'>(28.44 MB, 2025-03-20 15:13)</span>"
      ],
      "text/plain": [
       "<IPython.core.display.Markdown object>"
      ]
     },
     "metadata": {},
     "output_type": "display_data"
    },
    {
     "data": {
      "text/markdown": [
       "- (3) `[DOWNLOADS]` `df_OHLCV_2025-03-19.pkl` <span style='color:#00ffff'>(28.38 MB, 2025-03-19 20:27)</span>"
      ],
      "text/plain": [
       "<IPython.core.display.Markdown object>"
      ]
     },
     "metadata": {},
     "output_type": "display_data"
    },
    {
     "data": {
      "text/markdown": [
       "- (4) `[DOWNLOADS]` `df_OHLCV_2025-03-18.pkl` <span style='color:#00ffff'>(28.30 MB, 2025-03-18 15:37)</span>"
      ],
      "text/plain": [
       "<IPython.core.display.Markdown object>"
      ]
     },
     "metadata": {},
     "output_type": "display_data"
    },
    {
     "data": {
      "text/markdown": [
       "- (5) `[DOWNLOADS]` `df_OHLCV_2025-03-17.pkl` <span style='color:#00ffff'>(25.55 MB, 2025-03-17 16:07)</span>"
      ],
      "text/plain": [
       "<IPython.core.display.Markdown object>"
      ]
     },
     "metadata": {},
     "output_type": "display_data"
    },
    {
     "data": {
      "text/markdown": [
       "- (6) `[DOWNLOADS]` `df_OHLCV_2025-03-14.pkl` <span style='color:#00ffff'>(25.58 MB, 2025-03-15 19:36)</span>"
      ],
      "text/plain": [
       "<IPython.core.display.Markdown object>"
      ]
     },
     "metadata": {},
     "output_type": "display_data"
    },
    {
     "data": {
      "text/markdown": [
       "- (7) `[DOWNLOADS]` `df_OHLCV_2025-03-13.pkl` <span style='color:#00ffff'>(46.35 MB, 2025-03-13 17:01)</span>"
      ],
      "text/plain": [
       "<IPython.core.display.Markdown object>"
      ]
     },
     "metadata": {},
     "output_type": "display_data"
    },
    {
     "data": {
      "text/markdown": [
       "- (8) `[DOWNLOADS]` `df_OHLCV_2025-03-12.pkl` <span style='color:#00ffff'>(46.42 MB, 2025-03-12 16:22)</span>"
      ],
      "text/plain": [
       "<IPython.core.display.Markdown object>"
      ]
     },
     "metadata": {},
     "output_type": "display_data"
    },
    {
     "data": {
      "text/markdown": [
       "- (9) `[DOWNLOADS]` `df_OHLCV_2025-03-11.pkl` <span style='color:#00ffff'>(46.40 MB, 2025-03-11 17:25)</span>"
      ],
      "text/plain": [
       "<IPython.core.display.Markdown object>"
      ]
     },
     "metadata": {},
     "output_type": "display_data"
    },
    {
     "data": {
      "text/markdown": [
       "- (10) `[DOWNLOADS]` `df_OHLCV_2025-03-10.pkl` <span style='color:#00ffff'>(46.37 MB, 2025-03-10 16:33)</span>"
      ],
      "text/plain": [
       "<IPython.core.display.Markdown object>"
      ]
     },
     "metadata": {},
     "output_type": "display_data"
    },
    {
     "data": {
      "text/markdown": [
       "- (11) `[DOWNLOADS]` `df_OHLCV_2025-03-07.pkl` <span style='color:#00ffff'>(46.41 MB, 2025-03-07 16:13)</span>"
      ],
      "text/plain": [
       "<IPython.core.display.Markdown object>"
      ]
     },
     "metadata": {},
     "output_type": "display_data"
    },
    {
     "name": "stdout",
     "output_type": "stream",
     "text": [
      "\n",
      "Input a number to select file (1-11)\n"
     ]
    },
    {
     "data": {
      "text/markdown": [
       "\n",
       "    **Selected paths:**\n",
       "    - Source: `C:\\Users\\ping\\Downloads\\df_OHLCV_2025-03-14.pkl`  \n",
       "    - Destination: `..\\data\\df_OHLCV_2025-03-14_clean.pkl`\n",
       "    "
      ],
      "text/plain": [
       "<IPython.core.display.Markdown object>"
      ]
     },
     "metadata": {},
     "output_type": "display_data"
    }
   ],
   "source": [
    "import sys\n",
    "from pathlib import Path\n",
    "\n",
    "# Notebook cell\n",
    "%load_ext autoreload\n",
    "%autoreload 2\n",
    "\n",
    "# Get root directory (assuming notebook is in root/notebooks/)\n",
    "NOTEBOOK_DIR = Path.cwd()\n",
    "ROOT_DIR = NOTEBOOK_DIR.parent if NOTEBOOK_DIR.name == 'notebooks' else NOTEBOOK_DIR\n",
    "\n",
    "# Add src directory to Python path\n",
    "sys.path.append(str(ROOT_DIR / 'src'))\n",
    "\n",
    "# Verify path\n",
    "print(f\"Python will look in these locations:\\n{sys.path}\")\n",
    "\n",
    "\n",
    "# --- Execute the processor ---\n",
    "import utils\n",
    "\n",
    "\n",
    "SOURCE_PATH, DEST_PATH = utils.main_processor(\n",
    "    data_dir='..\\data',  # search project ..\\data    \n",
    "    downloads_dir=None,  # None searchs Downloads dir, '' omits search\n",
    "    downloads_limit=20,  # search the first 10 files\n",
    "    clean_name_override=None,  # override filename\n",
    "    start_file_pattern='df_OHLCV_', # search for files starting with 'df_'\n",
    ")\n",
    "\n"
   ]
  },
  {
   "cell_type": "code",
   "execution_count": 2,
   "metadata": {},
   "outputs": [
    {
     "name": "stdout",
     "output_type": "stream",
     "text": [
      "[Raw Data Overview]\n"
     ]
    },
    {
     "data": {
      "text/html": [
       "<div>\n",
       "<style scoped>\n",
       "    .dataframe tbody tr th:only-of-type {\n",
       "        vertical-align: middle;\n",
       "    }\n",
       "\n",
       "    .dataframe tbody tr th {\n",
       "        vertical-align: top;\n",
       "    }\n",
       "\n",
       "    .dataframe thead th {\n",
       "        text-align: right;\n",
       "    }\n",
       "</style>\n",
       "<table border=\"1\" class=\"dataframe\">\n",
       "  <thead>\n",
       "    <tr style=\"text-align: right;\">\n",
       "      <th></th>\n",
       "      <th></th>\n",
       "      <th>Open</th>\n",
       "      <th>High</th>\n",
       "      <th>Low</th>\n",
       "      <th>Close</th>\n",
       "      <th>Adj Close</th>\n",
       "      <th>Volume</th>\n",
       "      <th>Adj Open</th>\n",
       "      <th>Adj High</th>\n",
       "      <th>Adj Low</th>\n",
       "    </tr>\n",
       "    <tr>\n",
       "      <th>Symbol</th>\n",
       "      <th>Date</th>\n",
       "      <th></th>\n",
       "      <th></th>\n",
       "      <th></th>\n",
       "      <th></th>\n",
       "      <th></th>\n",
       "      <th></th>\n",
       "      <th></th>\n",
       "      <th></th>\n",
       "      <th></th>\n",
       "    </tr>\n",
       "  </thead>\n",
       "  <tbody>\n",
       "    <tr>\n",
       "      <th rowspan=\"5\" valign=\"top\">UBS</th>\n",
       "      <th>2025-03-14</th>\n",
       "      <td>32.25</td>\n",
       "      <td>32.85</td>\n",
       "      <td>32.19</td>\n",
       "      <td>32.73</td>\n",
       "      <td>32.73</td>\n",
       "      <td>7312500</td>\n",
       "      <td>32.25</td>\n",
       "      <td>32.85</td>\n",
       "      <td>32.19</td>\n",
       "    </tr>\n",
       "    <tr>\n",
       "      <th>2025-03-13</th>\n",
       "      <td>31.85</td>\n",
       "      <td>31.90</td>\n",
       "      <td>31.56</td>\n",
       "      <td>31.71</td>\n",
       "      <td>31.71</td>\n",
       "      <td>1876700</td>\n",
       "      <td>31.85</td>\n",
       "      <td>31.90</td>\n",
       "      <td>31.56</td>\n",
       "    </tr>\n",
       "    <tr>\n",
       "      <th>2025-03-12</th>\n",
       "      <td>31.96</td>\n",
       "      <td>32.03</td>\n",
       "      <td>31.64</td>\n",
       "      <td>31.94</td>\n",
       "      <td>31.94</td>\n",
       "      <td>3057200</td>\n",
       "      <td>31.96</td>\n",
       "      <td>32.03</td>\n",
       "      <td>31.64</td>\n",
       "    </tr>\n",
       "    <tr>\n",
       "      <th>2025-03-11</th>\n",
       "      <td>31.68</td>\n",
       "      <td>31.81</td>\n",
       "      <td>31.02</td>\n",
       "      <td>31.38</td>\n",
       "      <td>31.38</td>\n",
       "      <td>6007500</td>\n",
       "      <td>31.68</td>\n",
       "      <td>31.81</td>\n",
       "      <td>31.02</td>\n",
       "    </tr>\n",
       "    <tr>\n",
       "      <th>2025-03-10</th>\n",
       "      <td>32.74</td>\n",
       "      <td>32.86</td>\n",
       "      <td>31.65</td>\n",
       "      <td>31.88</td>\n",
       "      <td>31.88</td>\n",
       "      <td>7367000</td>\n",
       "      <td>32.74</td>\n",
       "      <td>32.86</td>\n",
       "      <td>31.65</td>\n",
       "    </tr>\n",
       "  </tbody>\n",
       "</table>\n",
       "</div>"
      ],
      "text/plain": [
       "                    Open   High    Low  Close  Adj Close   Volume  Adj Open  \\\n",
       "Symbol Date                                                                   \n",
       "UBS    2025-03-14  32.25  32.85  32.19  32.73      32.73  7312500     32.25   \n",
       "       2025-03-13  31.85  31.90  31.56  31.71      31.71  1876700     31.85   \n",
       "       2025-03-12  31.96  32.03  31.64  31.94      31.94  3057200     31.96   \n",
       "       2025-03-11  31.68  31.81  31.02  31.38      31.38  6007500     31.68   \n",
       "       2025-03-10  32.74  32.86  31.65  31.88      31.88  7367000     32.74   \n",
       "\n",
       "                   Adj High  Adj Low  \n",
       "Symbol Date                           \n",
       "UBS    2025-03-14     32.85    32.19  \n",
       "       2025-03-13     31.90    31.56  \n",
       "       2025-03-12     32.03    31.64  \n",
       "       2025-03-11     31.81    31.02  \n",
       "       2025-03-10     32.86    31.65  "
      ]
     },
     "metadata": {},
     "output_type": "display_data"
    },
    {
     "name": "stdout",
     "output_type": "stream",
     "text": [
      "<class 'pandas.core.frame.DataFrame'>\n",
      "MultiIndex: 348198 entries, ('UBS', Timestamp('2025-03-14 00:00:00')) to ('SARO', Timestamp('2024-10-02 00:00:00'))\n",
      "Data columns (total 9 columns):\n",
      " #   Column     Non-Null Count   Dtype  \n",
      "---  ------     --------------   -----  \n",
      " 0   Open       348198 non-null  float64\n",
      " 1   High       348198 non-null  float64\n",
      " 2   Low        348198 non-null  float64\n",
      " 3   Close      348198 non-null  float64\n",
      " 4   Adj Close  348198 non-null  float64\n",
      " 5   Volume     348168 non-null  Int64  \n",
      " 6   Adj Open   348198 non-null  float64\n",
      " 7   Adj High   348198 non-null  float64\n",
      " 8   Adj Low    348198 non-null  float64\n",
      "dtypes: Int64(1), float64(8)\n",
      "memory usage: 25.6+ MB\n"
     ]
    }
   ],
   "source": [
    "# --- Data Loading & Initial Inspection ---\n",
    "import pandas as pd\n",
    "\n",
    "# Load raw data from pickle file\n",
    "df = pd.read_pickle(SOURCE_PATH)\n",
    "\n",
    "# Display initial data structure\n",
    "print(\"[Raw Data Overview]\")\n",
    "display(df.head())\n",
    "df.info()"
   ]
  },
  {
   "cell_type": "code",
   "execution_count": 3,
   "metadata": {},
   "outputs": [
    {
     "name": "stdout",
     "output_type": "stream",
     "text": [
      "Original number of symbols: 1399\n",
      "Number of symbols after filtering: 1380\n",
      "Number of symbols filtered out: 19\n",
      "\n",
      "First 10 symbols that were filtered out:\n",
      "['STRK', 'ULS', 'VG', 'TEM', 'SOLV', 'BTC', 'RDDT', 'TTAN', 'SARO', 'ALAB']\n",
      "\n",
      "Example of dates for first filtered out symbol:\n",
      "\n",
      "Dates for STRK:\n",
      "DatetimeIndex(['2025-03-14', '2025-03-13', '2025-03-12', '2025-03-11',\n",
      "               '2025-03-10', '2025-03-07', '2025-03-06', '2025-03-05',\n",
      "               '2025-03-04', '2025-03-03', '2025-02-28', '2025-02-27',\n",
      "               '2025-02-26', '2025-02-25', '2025-02-24', '2025-02-21',\n",
      "               '2025-02-20', '2025-02-19', '2025-02-18', '2025-02-14',\n",
      "               '2025-02-13', '2025-02-12', '2025-02-11', '2025-02-10',\n",
      "               '2025-02-07', '2025-02-06', '2025-02-05', '2025-02-04',\n",
      "               '2025-02-03'],\n",
      "              dtype='datetime64[ns]', name='Date', freq=None)\n",
      "\n",
      "Filtered DataFrame info:\n",
      "<class 'pandas.core.frame.DataFrame'>\n",
      "MultiIndex: 345000 entries, ('UBS', Timestamp('2025-03-14 00:00:00')) to ('PCVX', Timestamp('2024-03-15 00:00:00'))\n",
      "Data columns (total 9 columns):\n",
      " #   Column     Non-Null Count   Dtype  \n",
      "---  ------     --------------   -----  \n",
      " 0   Open       345000 non-null  float64\n",
      " 1   High       345000 non-null  float64\n",
      " 2   Low        345000 non-null  float64\n",
      " 3   Close      345000 non-null  float64\n",
      " 4   Adj Close  345000 non-null  float64\n",
      " 5   Volume     344975 non-null  Int64  \n",
      " 6   Adj Open   345000 non-null  float64\n",
      " 7   Adj High   345000 non-null  float64\n",
      " 8   Adj Low    345000 non-null  float64\n",
      "dtypes: Int64(1), float64(8)\n",
      "memory usage: 25.4+ MB\n",
      "None\n",
      "\n",
      "[Cleaning Report]\n",
      "Removed 1 symbols with missing data: ['FER']\n",
      "\n",
      "[Cleaned Data Structure]\n",
      "<class 'pandas.core.frame.DataFrame'>\n",
      "MultiIndex: 344750 entries, ('UBS', Timestamp('2025-03-14 00:00:00')) to ('PCVX', Timestamp('2024-03-15 00:00:00'))\n",
      "Data columns (total 9 columns):\n",
      " #   Column     Non-Null Count   Dtype  \n",
      "---  ------     --------------   -----  \n",
      " 0   Open       344750 non-null  float64\n",
      " 1   High       344750 non-null  float64\n",
      " 2   Low        344750 non-null  float64\n",
      " 3   Close      344750 non-null  float64\n",
      " 4   Adj Close  344750 non-null  float64\n",
      " 5   Volume     344750 non-null  Int64  \n",
      " 6   Adj Open   344750 non-null  float64\n",
      " 7   Adj High   344750 non-null  float64\n",
      " 8   Adj Low    344750 non-null  float64\n",
      "dtypes: Int64(1), float64(8)\n",
      "memory usage: 25.4+ MB\n"
     ]
    }
   ],
   "source": [
    "# --- Data Filtering & Cleaning ---\n",
    "import utils  # Custom utility functions\n",
    "\n",
    "# 1. Align dates across all symbols using SPY as reference\n",
    "df = utils.filter_df_dates_to_reference_symbol(df=df, reference_symbol='SPY')\n",
    "\n",
    "# 2. Remove symbols with missing data points\n",
    "df_clean, missing_symbols = utils.filter_symbols_with_missing_values(df)\n",
    "\n",
    "# Display cleaning results\n",
    "print(\"\\n[Cleaning Report]\")\n",
    "print(f\"Removed {len(missing_symbols)} symbols with missing data: {missing_symbols}\")\n",
    "print(\"\\n[Cleaned Data Structure]\")\n",
    "df_clean.info()"
   ]
  },
  {
   "cell_type": "code",
   "execution_count": 4,
   "metadata": {},
   "outputs": [
    {
     "name": "stdout",
     "output_type": "stream",
     "text": [
      "\n",
      "[Save Successful] Cleaned data saved to:\n",
      "..\\data\\df_OHLCV_2025-03-14_clean.pkl\n"
     ]
    }
   ],
   "source": [
    "# --- Save Cleaned Data ---\n",
    "# Save processed data to pickle file\n",
    "df_clean.to_pickle(DEST_PATH)\n",
    "print(f\"\\n[Save Successful] Cleaned data saved to:\\n{DEST_PATH}\")"
   ]
  }
 ],
 "metadata": {
  "kernelspec": {
   "display_name": ".venv",
   "language": "python",
   "name": "python3"
  },
  "language_info": {
   "codemirror_mode": {
    "name": "ipython",
    "version": 3
   },
   "file_extension": ".py",
   "mimetype": "text/x-python",
   "name": "python",
   "nbconvert_exporter": "python",
   "pygments_lexer": "ipython3",
   "version": "3.10.5"
  }
 },
 "nbformat": 4,
 "nbformat_minor": 2
}
