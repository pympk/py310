{
 "cells": [
  {
   "cell_type": "code",
   "execution_count": null,
   "metadata": {},
   "outputs": [],
   "source": []
  },
  {
   "cell_type": "code",
   "execution_count": 1,
   "metadata": {},
   "outputs": [
    {
     "name": "stdout",
     "output_type": "stream",
     "text": [
      "Python will look in these locations:\n",
      "['C:\\\\Users\\\\ping\\\\.pyenv\\\\pyenv-win\\\\versions\\\\3.10.5\\\\python310.zip', 'C:\\\\Users\\\\ping\\\\.pyenv\\\\pyenv-win\\\\versions\\\\3.10.5\\\\DLLs', 'C:\\\\Users\\\\ping\\\\.pyenv\\\\pyenv-win\\\\versions\\\\3.10.5\\\\lib', 'C:\\\\Users\\\\ping\\\\.pyenv\\\\pyenv-win\\\\versions\\\\3.10.5', 'c:\\\\Users\\\\ping\\\\Files_win10\\\\python\\\\py310\\\\.venv', '', 'c:\\\\Users\\\\ping\\\\Files_win10\\\\python\\\\py310\\\\.venv\\\\lib\\\\site-packages', 'c:\\\\Users\\\\ping\\\\Files_win10\\\\python\\\\py310\\\\.venv\\\\lib\\\\site-packages\\\\win32', 'c:\\\\Users\\\\ping\\\\Files_win10\\\\python\\\\py310\\\\.venv\\\\lib\\\\site-packages\\\\win32\\\\lib', 'c:\\\\Users\\\\ping\\\\Files_win10\\\\python\\\\py310\\\\.venv\\\\lib\\\\site-packages\\\\Pythonwin', 'c:\\\\Users\\\\ping\\\\Files_win10\\\\python\\\\py310\\\\stocks\\\\src']\n"
     ]
    },
    {
     "data": {
      "text/markdown": [
       "<span style='color:#00ffff;font-weight:500'>[Downloads] Scanned latest 10 files • Found 6 'df_' matches</span>"
      ],
      "text/plain": [
       "<IPython.core.display.Markdown object>"
      ]
     },
     "metadata": {},
     "output_type": "display_data"
    },
    {
     "data": {
      "text/markdown": [
       "**Available 'df_' files:**"
      ],
      "text/plain": [
       "<IPython.core.display.Markdown object>"
      ]
     },
     "metadata": {},
     "output_type": "display_data"
    },
    {
     "data": {
      "text/markdown": [
       "- (1) `[DOWNLOADS]` `df_OHLCV_2025-03-07.pkl` <span style='color:#00ffff'>(46.41 MB, 2025-03-07 16:13)</span>"
      ],
      "text/plain": [
       "<IPython.core.display.Markdown object>"
      ]
     },
     "metadata": {},
     "output_type": "display_data"
    },
    {
     "data": {
      "text/markdown": [
       "- (2) `[DOWNLOADS]` `df_OHLCV_2025-03-06.pkl` <span style='color:#00ffff'>(46.37 MB, 2025-03-06 16:34)</span>"
      ],
      "text/plain": [
       "<IPython.core.display.Markdown object>"
      ]
     },
     "metadata": {},
     "output_type": "display_data"
    },
    {
     "data": {
      "text/markdown": [
       "- (3) `[DOWNLOADS]` `df_OHLCV_2025-03-05.pkl` <span style='color:#00ffff'>(46.40 MB, 2025-03-05 16:32)</span>"
      ],
      "text/plain": [
       "<IPython.core.display.Markdown object>"
      ]
     },
     "metadata": {},
     "output_type": "display_data"
    },
    {
     "data": {
      "text/markdown": [
       "- (4) `[DOWNLOADS]` `df_OHLCV_2025-03-04.pkl` <span style='color:#00ffff'>(46.42 MB, 2025-03-04 16:45)</span>"
      ],
      "text/plain": [
       "<IPython.core.display.Markdown object>"
      ]
     },
     "metadata": {},
     "output_type": "display_data"
    },
    {
     "data": {
      "text/markdown": [
       "- (5) `[DOWNLOADS]` `df_OHLCV_2025-03-03.pkl` <span style='color:#00ffff'>(46.30 MB, 2025-03-03 19:14)</span>"
      ],
      "text/plain": [
       "<IPython.core.display.Markdown object>"
      ]
     },
     "metadata": {},
     "output_type": "display_data"
    },
    {
     "data": {
      "text/markdown": [
       "- (6) `[DOWNLOADS]` `df_OHLCV_2025-02-28.pkl` <span style='color:#00ffff'>(46.35 MB, 2025-02-28 16:48)</span>"
      ],
      "text/plain": [
       "<IPython.core.display.Markdown object>"
      ]
     },
     "metadata": {},
     "output_type": "display_data"
    },
    {
     "name": "stdout",
     "output_type": "stream",
     "text": [
      "\n",
      "Input a number to select file (1-6)\n"
     ]
    },
    {
     "data": {
      "text/markdown": [
       "\n",
       "    **Selected paths:**\n",
       "    - Source: `C:\\Users\\ping\\Downloads\\df_OHLCV_2025-03-07.pkl`  \n",
       "    - Destination: `..\\data\\df_OHLCV_2025-03-07_clean.pkl`\n",
       "    "
      ],
      "text/plain": [
       "<IPython.core.display.Markdown object>"
      ]
     },
     "metadata": {},
     "output_type": "display_data"
    }
   ],
   "source": [
    "import sys\n",
    "from pathlib import Path\n",
    "\n",
    "# Notebook cell\n",
    "%load_ext autoreload\n",
    "%autoreload 2\n",
    "\n",
    "# Get root directory (assuming notebook is in root/notebooks/)\n",
    "NOTEBOOK_DIR = Path.cwd()\n",
    "ROOT_DIR = NOTEBOOK_DIR.parent if NOTEBOOK_DIR.name == 'notebooks' else NOTEBOOK_DIR\n",
    "\n",
    "# Add src directory to Python path\n",
    "sys.path.append(str(ROOT_DIR / 'src'))\n",
    "\n",
    "# Verify path\n",
    "print(f\"Python will look in these locations:\\n{sys.path}\")\n",
    "\n",
    "\n",
    "# --- Execute the processor ---\n",
    "import utils\n",
    "\n",
    "\n",
    "SOURCE_PATH, DEST_PATH = utils.main_processor(\n",
    "    data_dir='..\\data',  # search project ..\\data\n",
    "    downloads_dir=None,  # None searchs Downloads dir, '' omits search\n",
    "    downloads_limit=10,  # search the first 10 files\n",
    "    clean_name_override=None,  # override filename\n",
    "    start_file_pattern='df_', # search for files starting with 'df_'\n",
    ")\n",
    "\n"
   ]
  },
  {
   "cell_type": "code",
   "execution_count": 2,
   "metadata": {},
   "outputs": [
    {
     "name": "stdout",
     "output_type": "stream",
     "text": [
      "[Raw Data Overview]\n"
     ]
    },
    {
     "data": {
      "text/html": [
       "<div>\n",
       "<style scoped>\n",
       "    .dataframe tbody tr th:only-of-type {\n",
       "        vertical-align: middle;\n",
       "    }\n",
       "\n",
       "    .dataframe tbody tr th {\n",
       "        vertical-align: top;\n",
       "    }\n",
       "\n",
       "    .dataframe thead th {\n",
       "        text-align: right;\n",
       "    }\n",
       "</style>\n",
       "<table border=\"1\" class=\"dataframe\">\n",
       "  <thead>\n",
       "    <tr style=\"text-align: right;\">\n",
       "      <th></th>\n",
       "      <th></th>\n",
       "      <th>Open</th>\n",
       "      <th>High</th>\n",
       "      <th>Low</th>\n",
       "      <th>Close</th>\n",
       "      <th>Adj Close</th>\n",
       "      <th>Volume</th>\n",
       "      <th>Adj Open</th>\n",
       "      <th>Adj High</th>\n",
       "      <th>Adj Low</th>\n",
       "    </tr>\n",
       "    <tr>\n",
       "      <th>Symbol</th>\n",
       "      <th>Date</th>\n",
       "      <th></th>\n",
       "      <th></th>\n",
       "      <th></th>\n",
       "      <th></th>\n",
       "      <th></th>\n",
       "      <th></th>\n",
       "      <th></th>\n",
       "      <th></th>\n",
       "      <th></th>\n",
       "    </tr>\n",
       "  </thead>\n",
       "  <tbody>\n",
       "    <tr>\n",
       "      <th rowspan=\"5\" valign=\"top\">AAPL</th>\n",
       "      <th>2025-03-07</th>\n",
       "      <td>235.10</td>\n",
       "      <td>241.37</td>\n",
       "      <td>234.76</td>\n",
       "      <td>239.07</td>\n",
       "      <td>239.07</td>\n",
       "      <td>44099046</td>\n",
       "      <td>235.10</td>\n",
       "      <td>241.37</td>\n",
       "      <td>234.76</td>\n",
       "    </tr>\n",
       "    <tr>\n",
       "      <th>2025-03-06</th>\n",
       "      <td>234.44</td>\n",
       "      <td>237.86</td>\n",
       "      <td>233.16</td>\n",
       "      <td>235.33</td>\n",
       "      <td>235.33</td>\n",
       "      <td>45170400</td>\n",
       "      <td>234.44</td>\n",
       "      <td>237.86</td>\n",
       "      <td>233.16</td>\n",
       "    </tr>\n",
       "    <tr>\n",
       "      <th>2025-03-05</th>\n",
       "      <td>235.42</td>\n",
       "      <td>236.55</td>\n",
       "      <td>229.23</td>\n",
       "      <td>235.74</td>\n",
       "      <td>235.74</td>\n",
       "      <td>47227600</td>\n",
       "      <td>235.42</td>\n",
       "      <td>236.55</td>\n",
       "      <td>229.23</td>\n",
       "    </tr>\n",
       "    <tr>\n",
       "      <th>2025-03-04</th>\n",
       "      <td>237.71</td>\n",
       "      <td>240.07</td>\n",
       "      <td>234.68</td>\n",
       "      <td>235.93</td>\n",
       "      <td>235.93</td>\n",
       "      <td>53798100</td>\n",
       "      <td>237.71</td>\n",
       "      <td>240.07</td>\n",
       "      <td>234.68</td>\n",
       "    </tr>\n",
       "    <tr>\n",
       "      <th>2025-03-03</th>\n",
       "      <td>241.79</td>\n",
       "      <td>244.03</td>\n",
       "      <td>236.11</td>\n",
       "      <td>238.03</td>\n",
       "      <td>238.03</td>\n",
       "      <td>47184000</td>\n",
       "      <td>241.79</td>\n",
       "      <td>244.03</td>\n",
       "      <td>236.11</td>\n",
       "    </tr>\n",
       "  </tbody>\n",
       "</table>\n",
       "</div>"
      ],
      "text/plain": [
       "                     Open    High     Low   Close  Adj Close    Volume  \\\n",
       "Symbol Date                                                              \n",
       "AAPL   2025-03-07  235.10  241.37  234.76  239.07     239.07  44099046   \n",
       "       2025-03-06  234.44  237.86  233.16  235.33     235.33  45170400   \n",
       "       2025-03-05  235.42  236.55  229.23  235.74     235.74  47227600   \n",
       "       2025-03-04  237.71  240.07  234.68  235.93     235.93  53798100   \n",
       "       2025-03-03  241.79  244.03  236.11  238.03     238.03  47184000   \n",
       "\n",
       "                   Adj Open  Adj High  Adj Low  \n",
       "Symbol Date                                     \n",
       "AAPL   2025-03-07    235.10    241.37   234.76  \n",
       "       2025-03-06    234.44    237.86   233.16  \n",
       "       2025-03-05    235.42    236.55   229.23  \n",
       "       2025-03-04    237.71    240.07   234.68  \n",
       "       2025-03-03    241.79    244.03   236.11  "
      ]
     },
     "metadata": {},
     "output_type": "display_data"
    },
    {
     "name": "stdout",
     "output_type": "stream",
     "text": [
      "<class 'pandas.core.frame.DataFrame'>\n",
      "MultiIndex: 631716 entries, ('AAPL', Timestamp('2025-03-07 00:00:00')) to ('IBTE', Timestamp('2024-03-08 00:00:00'))\n",
      "Data columns (total 9 columns):\n",
      " #   Column     Non-Null Count   Dtype  \n",
      "---  ------     --------------   -----  \n",
      " 0   Open       631716 non-null  float64\n",
      " 1   High       631716 non-null  float64\n",
      " 2   Low        631716 non-null  float64\n",
      " 3   Close      631716 non-null  float64\n",
      " 4   Adj Close  631716 non-null  float64\n",
      " 5   Volume     631516 non-null  Int64  \n",
      " 6   Adj Open   631716 non-null  float64\n",
      " 7   Adj High   631716 non-null  float64\n",
      " 8   Adj Low    631716 non-null  float64\n",
      "dtypes: Int64(1), float64(8)\n",
      "memory usage: 46.4+ MB\n"
     ]
    }
   ],
   "source": [
    "# --- Data Loading & Initial Inspection ---\n",
    "import pandas as pd\n",
    "\n",
    "# Load raw data from pickle file\n",
    "df = pd.read_pickle(SOURCE_PATH)\n",
    "\n",
    "# Display initial data structure\n",
    "print(\"[Raw Data Overview]\")\n",
    "display(df.head())\n",
    "df.info()"
   ]
  },
  {
   "cell_type": "code",
   "execution_count": 3,
   "metadata": {},
   "outputs": [
    {
     "name": "stdout",
     "output_type": "stream",
     "text": [
      "Original number of symbols: 2551\n",
      "Number of symbols after filtering: 2492\n",
      "Number of symbols filtered out: 59\n",
      "\n",
      "First 10 symbols that were filtered out:\n",
      "['WAY', 'KLMN', 'STRK', 'LB', 'OS', 'LINE', 'KRMN', 'INGM', 'RSSL', 'MRP']\n",
      "\n",
      "Example of dates for first filtered out symbol:\n",
      "\n",
      "Dates for WAY:\n",
      "DatetimeIndex(['2025-03-07', '2025-03-06', '2025-03-05', '2025-03-04',\n",
      "               '2025-03-03', '2025-02-28', '2025-02-27', '2025-02-26',\n",
      "               '2025-02-25', '2025-02-24',\n",
      "               ...\n",
      "               '2024-06-21', '2024-06-20', '2024-06-18', '2024-06-17',\n",
      "               '2024-06-14', '2024-06-13', '2024-06-12', '2024-06-11',\n",
      "               '2024-06-10', '2024-06-07'],\n",
      "              dtype='datetime64[ns]', name='Date', length=187, freq=None)\n",
      "\n",
      "Filtered DataFrame info:\n",
      "<class 'pandas.core.frame.DataFrame'>\n",
      "MultiIndex: 623000 entries, ('AAPL', Timestamp('2025-03-07 00:00:00')) to ('FCOM', Timestamp('2024-03-08 00:00:00'))\n",
      "Data columns (total 9 columns):\n",
      " #   Column     Non-Null Count   Dtype  \n",
      "---  ------     --------------   -----  \n",
      " 0   Open       623000 non-null  float64\n",
      " 1   High       623000 non-null  float64\n",
      " 2   Low        623000 non-null  float64\n",
      " 3   Close      623000 non-null  float64\n",
      " 4   Adj Close  623000 non-null  float64\n",
      " 5   Volume     622829 non-null  Int64  \n",
      " 6   Adj Open   623000 non-null  float64\n",
      " 7   Adj High   623000 non-null  float64\n",
      " 8   Adj Low    623000 non-null  float64\n",
      "dtypes: Int64(1), float64(8)\n",
      "memory usage: 45.8+ MB\n",
      "None\n",
      "\n",
      "[Cleaning Report]\n",
      "Removed 9 symbols with missing data: ['FER', 'SIM', 'CLSK', 'ESBA', 'MESO', 'USCA', 'USCL', 'FSEC', 'GUSA']\n",
      "\n",
      "[Cleaned Data Structure]\n",
      "<class 'pandas.core.frame.DataFrame'>\n",
      "MultiIndex: 620750 entries, ('AAPL', Timestamp('2025-03-07 00:00:00')) to ('FCOM', Timestamp('2024-03-08 00:00:00'))\n",
      "Data columns (total 9 columns):\n",
      " #   Column     Non-Null Count   Dtype  \n",
      "---  ------     --------------   -----  \n",
      " 0   Open       620750 non-null  float64\n",
      " 1   High       620750 non-null  float64\n",
      " 2   Low        620750 non-null  float64\n",
      " 3   Close      620750 non-null  float64\n",
      " 4   Adj Close  620750 non-null  float64\n",
      " 5   Volume     620750 non-null  Int64  \n",
      " 6   Adj Open   620750 non-null  float64\n",
      " 7   Adj High   620750 non-null  float64\n",
      " 8   Adj Low    620750 non-null  float64\n",
      "dtypes: Int64(1), float64(8)\n",
      "memory usage: 45.7+ MB\n"
     ]
    }
   ],
   "source": [
    "# --- Data Filtering & Cleaning ---\n",
    "import utils  # Custom utility functions\n",
    "\n",
    "# 1. Align dates across all symbols using SPY as reference\n",
    "df = utils.filter_df_dates_to_reference_symbol(df=df, reference_symbol='SPY')\n",
    "\n",
    "# 2. Remove symbols with missing data points\n",
    "df_clean, missing_symbols = utils.filter_symbols_with_missing_values(df)\n",
    "\n",
    "# Display cleaning results\n",
    "print(\"\\n[Cleaning Report]\")\n",
    "print(f\"Removed {len(missing_symbols)} symbols with missing data: {missing_symbols}\")\n",
    "print(\"\\n[Cleaned Data Structure]\")\n",
    "df_clean.info()"
   ]
  },
  {
   "cell_type": "code",
   "execution_count": 4,
   "metadata": {},
   "outputs": [
    {
     "name": "stdout",
     "output_type": "stream",
     "text": [
      "\n",
      "[Save Successful] Cleaned data saved to:\n",
      "..\\data\\df_OHLCV_2025-03-07_clean.pkl\n"
     ]
    }
   ],
   "source": [
    "# --- Save Cleaned Data ---\n",
    "# Save processed data to pickle file\n",
    "df_clean.to_pickle(DEST_PATH)\n",
    "print(f\"\\n[Save Successful] Cleaned data saved to:\\n{DEST_PATH}\")"
   ]
  }
 ],
 "metadata": {
  "kernelspec": {
   "display_name": ".venv",
   "language": "python",
   "name": "python3"
  },
  "language_info": {
   "codemirror_mode": {
    "name": "ipython",
    "version": 3
   },
   "file_extension": ".py",
   "mimetype": "text/x-python",
   "name": "python",
   "nbconvert_exporter": "python",
   "pygments_lexer": "ipython3",
   "version": "3.10.5"
  }
 },
 "nbformat": 4,
 "nbformat_minor": 2
}
