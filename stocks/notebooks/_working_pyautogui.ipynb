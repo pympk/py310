{
 "cells": [
  {
   "cell_type": "code",
   "execution_count": null,
   "metadata": {},
   "outputs": [],
   "source": [
    "import pyautogui as pag\n",
    "import pyperclip  # Requires: pip install pyperclip\n",
    "import webbrowser\n",
    "import time\n",
    "import os\n",
    "import random\n",
    "import cv2\n",
    "\n",
    "print(cv2.__version__) "
   ]
  },
  {
   "cell_type": "code",
   "execution_count": 36,
   "metadata": {},
   "outputs": [],
   "source": [
    "def find_image_with_retry(image_path, timeout=10):\n",
    "    start = time.time()\n",
    "    while time.time() - start < timeout:\n",
    "        try:\n",
    "            return pag.locateCenterOnScreen(\n",
    "                image_path,\n",
    "                confidence=0.8,\n",
    "                grayscale=True\n",
    "            )  # Removed region parameter\n",
    "        except pag.ImageNotFoundException:\n",
    "            time.sleep(0.5)\n",
    "    raise Exception(f\"Image not found after {timeout} seconds\")"
   ]
  },
  {
   "cell_type": "code",
   "execution_count": null,
   "metadata": {},
   "outputs": [],
   "source": [
    "def capture_pos(\n",
    "    initial_delay=3,\n",
    "    temp_x=100,\n",
    "    temp_y=100,\n",
    "    move_duration=1,\n",
    "    return_duration=1,\n",
    "    hold_duration=3\n",
    "):\n",
    "    \"\"\"\n",
    "    Capture and demonstrate mouse position memory functionality.\n",
    "    \n",
    "    Parameters:\n",
    "    - initial_delay: Delay before position capture (seconds)\n",
    "    - temp_x, temp_y: Temporary demonstration coordinates\n",
    "    - move_duration: Time to reach temporary position\n",
    "    - return_duration: Time to return to captured position\n",
    "    - hold_duration: Pause at temporary position\n",
    "    \n",
    "    Returns:\n",
    "    - Point object with captured coordinates (x, y)\n",
    "    \"\"\"\n",
    "    try:\n",
    "        print(f\"Prepare to capture position in {initial_delay} seconds...\")\n",
    "        time.sleep(initial_delay)\n",
    "        \n",
    "        # Capture target position\n",
    "        captured_pos = pag.position()\n",
    "        print(f\"\\nPosition captured: X:{captured_pos.x} Y:{captured_pos.y}\")\n",
    "        \n",
    "        # Demonstrate position memory\n",
    "        pag.moveTo(temp_x, temp_y, duration=move_duration)\n",
    "        print(f\"Moved to temporary position: ({temp_x}, {temp_y})\")\n",
    "        \n",
    "        time.sleep(hold_duration)\n",
    "        \n",
    "        # Return to original position\n",
    "        pag.moveTo(captured_pos.x, captured_pos.y, duration=return_duration)\n",
    "        print(f\"Returned to captured position: X:{captured_pos.x} Y:{captured_pos.y}\")\n",
    "        \n",
    "        return captured_pos\n",
    "        \n",
    "    except KeyboardInterrupt:\n",
    "        print(\"\\nOperation cancelled by user\")\n",
    "        return None\n"
   ]
  },
  {
   "cell_type": "code",
   "execution_count": 60,
   "metadata": {},
   "outputs": [],
   "source": [
    "\n",
    "def open_page_copy_table_paste_to_excel():\n",
    "\n",
    "  time.sleep(3)\n",
    "\n",
    "  # right click to table \n",
    "  pag.click(*table_position, button='right', duration=2)\n",
    "  print(f'right clicked Table at: {table_position}')\n",
    "\n",
    "  # # click Table Capture\n",
    "  pag.move(80, -40, duration=1)  # relative move\n",
    "  pag.click(button='left', duration=1)\n",
    "  print(f'clicked Table at: {table_position}')\n",
    "\n",
    "  # find table_copy image\n",
    "  # image_pos = find_image_with_retry('..\\data\\img_pyautogui\\Table_copy.PNG')\n",
    "  pag.click(*table_copy_position, button='left', duration=1)  \n",
    "  print(f'clicked Table_copy at: {table_copy_position}')\n",
    "\n",
    "  # # click Table_copy\n",
    "  # pag.click(*image_pos, button='left', duration=1)\n",
    "  # print(f'clicked Table_copy at: {image_pos}')\n",
    "\n",
    "  # close table\n",
    "  pag.click(*table_close_position, button='left', duration=3)\n",
    "  print(f'close_table at: {table_close_position}')\n",
    "\n",
    "  # open excel\n",
    "  pag.click(*excel_position, button='left', duration=3)\n",
    "  print(f'open excel at: {excel_position}')\n",
    "\n",
    "  # paste data in excel\n",
    "  pag.hotkey('ctrl', 'm')\n",
    "  print(f'pasted data in excel')\n",
    "\n",
    "  # minimize excel\n",
    "  pag.click(*excel_minimize_position, button='left', duration=3)\n",
    "  print(f'minimize excel at: {excel_position}')\n",
    "\n",
    "  # Page Up key press to reset screen position\n",
    "  pag.press('pageup')\n",
    "\n",
    "  return None\n"
   ]
  },
  {
   "cell_type": "code",
   "execution_count": 61,
   "metadata": {},
   "outputs": [
    {
     "name": "stdout",
     "output_type": "stream",
     "text": [
      "right clicked Table at: Point(x=899, y=766)\n",
      "clicked Table at: Point(x=899, y=766)\n",
      "clicked Table_copy at: Point(x=934, y=1041)\n",
      "close_table at: Point(x=1778, y=828)\n",
      "open excel at: Point(x=1871, y=522)\n",
      "pasted data in excel\n",
      "minimize excel at: Point(x=1871, y=522)\n"
     ]
    }
   ],
   "source": [
    "# # url_position = pag.Point(x=1540, y=172)\n",
    "\n",
    "url = \"https://finviz.com/screener.ashx?v=152&ft=4&o=-e.assetsundermanagement&c=0,1,2,3,4,6,14,42,43,44,45,46,47,48,49,50,51,52,53,54,57,58,59,67,65,66,103,100,109,120,121,122\"\n",
    "\n",
    "# open the URL in a new tab\n",
    "webbrowser.open_new_tab(url)\n",
    "time.sleep(5)\n",
    "\n",
    "# zoom out to 80%\n",
    "pag.hotkey('ctrl', '-')\n",
    "pag.hotkey('ctrl', '-')\n",
    "pag.hotkey('ctrl', '-')\n",
    "pag.hotkey('ctrl', '-')\n",
    "\n",
    "# copy 1st table to excel\n",
    "open_page_copy_table_paste_to_excel()"
   ]
  },
  {
   "cell_type": "code",
   "execution_count": 35,
   "metadata": {},
   "outputs": [
    {
     "name": "stdout",
     "output_type": "stream",
     "text": [
      "Prepare to capture position in 5 seconds...\n",
      "\n",
      "Position captured: X:899 Y:766\n",
      "Moved to temporary position: (100, 100)\n",
      "Returned to captured position: X:899 Y:766\n"
     ]
    }
   ],
   "source": [
    "# Put cursor at middle of FinViz table\n",
    "table_position = capture_pos(initial_delay=5)"
   ]
  },
  {
   "cell_type": "code",
   "execution_count": 37,
   "metadata": {},
   "outputs": [
    {
     "name": "stdout",
     "output_type": "stream",
     "text": [
      "Prepare to capture position in 5 seconds...\n",
      "\n",
      "Position captured: X:934 Y:1041\n",
      "Moved to temporary position: (100, 100)\n",
      "Returned to captured position: X:934 Y:1041\n"
     ]
    }
   ],
   "source": [
    "# Capture table_copy position\n",
    "table_copy_position = capture_pos(initial_delay=5)"
   ]
  },
  {
   "cell_type": "code",
   "execution_count": 38,
   "metadata": {},
   "outputs": [
    {
     "name": "stdout",
     "output_type": "stream",
     "text": [
      "Prepare to capture position in 5 seconds...\n",
      "\n",
      "Position captured: X:1778 Y:828\n",
      "Moved to temporary position: (100, 100)\n",
      "Returned to captured position: X:1778 Y:828\n"
     ]
    }
   ],
   "source": [
    "# Capture table_close position \n",
    "table_close_position = capture_pos(initial_delay=5)"
   ]
  },
  {
   "cell_type": "code",
   "execution_count": 39,
   "metadata": {},
   "outputs": [
    {
     "name": "stdout",
     "output_type": "stream",
     "text": [
      "Prepare to capture position in 5 seconds...\n",
      "\n",
      "Position captured: X:1871 Y:522\n",
      "Moved to temporary position: (100, 100)\n",
      "Returned to captured position: X:1871 Y:522\n"
     ]
    }
   ],
   "source": [
    "# Capture Excel icon position\n",
    "# Make sure Excel is open to Developer tab, and\n",
    "# Macro PasteToLastEmptyCellInColumnA, Ctrl+M is working\n",
    "excel_position = capture_pos(initial_delay=5)"
   ]
  },
  {
   "cell_type": "code",
   "execution_count": 40,
   "metadata": {},
   "outputs": [
    {
     "name": "stdout",
     "output_type": "stream",
     "text": [
      "Prepare to capture position in 5 seconds...\n",
      "\n",
      "Position captured: X:1651 Y:25\n",
      "Moved to temporary position: (100, 100)\n",
      "Returned to captured position: X:1651 Y:25\n"
     ]
    }
   ],
   "source": [
    "# Open Excel, capture minimize position\n",
    "excel_minimize_position = capture_pos(initial_delay=5)"
   ]
  },
  {
   "cell_type": "code",
   "execution_count": null,
   "metadata": {},
   "outputs": [
    {
     "name": "stdout",
     "output_type": "stream",
     "text": [
      "right clicked Table at: Point(x=899, y=766)\n",
      "clicked Table at: Point(x=899, y=766)\n",
      "clicked Table_copy at: Point(x=934, y=1041)\n",
      "close_table at: Point(x=1778, y=828)\n",
      "open excel at: Point(x=1871, y=522)\n",
      "pasted data in excel\n",
      "minimize excel at: Point(x=1871, y=522)\n",
      "right clicked Table at: Point(x=899, y=766)\n",
      "clicked Table at: Point(x=899, y=766)\n",
      "clicked Table_copy at: Point(x=934, y=1041)\n",
      "close_table at: Point(x=1778, y=828)\n",
      "open excel at: Point(x=1871, y=522)\n",
      "pasted data in excel\n",
      "minimize excel at: Point(x=1871, y=522)\n",
      "right clicked Table at: Point(x=899, y=766)\n",
      "clicked Table at: Point(x=899, y=766)\n",
      "clicked Table_copy at: Point(x=934, y=1041)\n",
      "close_table at: Point(x=1778, y=828)\n",
      "open excel at: Point(x=1871, y=522)\n",
      "pasted data in excel\n",
      "minimize excel at: Point(x=1871, y=522)\n"
     ]
    }
   ],
   "source": [
    "urls = [\n",
    "    'https://finviz.com/screener.ashx?v=152&ft=4&o=-e.assetsundermanagement&r=21',\n",
    "    'https://finviz.com/screener.ashx?v=152&ft=4&o=-e.assetsundermanagement&r=41',\n",
    "    'https://finviz.com/screener.ashx?v=152&ft=4&o=-e.assetsundermanagement&r=61',\n",
    "]\n",
    "\n",
    "time.sleep(3)\n",
    "\n",
    "for url in urls:\n",
    "    pyperclip.copy(url)  # Copy to clipboard\n",
    "    \n",
    "    pag.hotkey('ctrl', 'l')  # Focus URL bar\n",
    "    time.sleep(0.2)\n",
    "    \n",
    "    pag.hotkey('ctrl', 'a')  # Select existing text\n",
    "    pag.press('delete')      # Clear\n",
    "    time.sleep(0.1)\n",
    "    \n",
    "    pag.hotkey('ctrl', 'v')  # Paste from clipboard\n",
    "    time.sleep(0.1)\n",
    "    \n",
    "    pag.press('enter')\n",
    "    time.sleep(4)  # Longer wait for full page load\n",
    "\n",
    "    x_cords = random.randint(1000, 1200)\n",
    "    y_cords = random.randint(900, 1000)\n",
    "    pag.moveTo(x_cords, y_cords)  # Move to table\n",
    "\n",
    "\n",
    "    open_page_copy_table_paste_to_excel()\n"
   ]
  },
  {
   "cell_type": "code",
   "execution_count": null,
   "metadata": {},
   "outputs": [],
   "source": []
  },
  {
   "cell_type": "code",
   "execution_count": null,
   "metadata": {},
   "outputs": [],
   "source": []
  },
  {
   "cell_type": "code",
   "execution_count": null,
   "metadata": {},
   "outputs": [],
   "source": []
  },
  {
   "cell_type": "code",
   "execution_count": null,
   "metadata": {},
   "outputs": [],
   "source": []
  },
  {
   "cell_type": "code",
   "execution_count": null,
   "metadata": {},
   "outputs": [],
   "source": []
  },
  {
   "cell_type": "code",
   "execution_count": 58,
   "metadata": {},
   "outputs": [],
   "source": [
    "# url = \"https://finviz.com/screener.ashx?v=152&ft=4&o=-e.assetsundermanagement&c=0,1,2,3,4,6,14,42,43,44,45,46,47,48,49,50,51,52,53,54,57,58,59,67,65,66,103,100,109,120,121,122\"\n",
    "\n",
    "# # open the URL in a new tab\n",
    "# webbrowser.open_new_tab(url)\n",
    "# time.sleep(5)\n",
    "\n",
    "# # zoom out to 80%\n",
    "# pag.hotkey('ctrl', '-')\n",
    "# pag.hotkey('ctrl', '-')\n",
    "# pag.hotkey('ctrl', '-')\n",
    "# pag.hotkey('ctrl', '-')\n",
    "\n",
    "\n",
    "# def copy_table_paste_to_excel():\n",
    "\n",
    "def open_page_copy_table_paste_to_excel():\n",
    "\n",
    "  time.sleep(3)\n",
    "\n",
    "  # right click to table \n",
    "  pag.click(*table_position, button='right', duration=2)\n",
    "  print(f'right clicked Table at: {table_position}')\n",
    "\n",
    "  # # click Table Capture\n",
    "  pag.move(80, -40, duration=1)  # relative move\n",
    "  pag.click(button='left', duration=1)\n",
    "  print(f'clicked Table at: {table_position}')\n",
    "\n",
    "  # find table_copy image\n",
    "  # image_pos = find_image_with_retry('..\\data\\img_pyautogui\\Table_copy.PNG')\n",
    "  pag.click(*table_copy_position, button='left', duration=1)  \n",
    "  print(f'clicked Table_copy at: {table_copy_position}')\n",
    "\n",
    "  # # click Table_copy\n",
    "  # pag.click(*image_pos, button='left', duration=1)\n",
    "  # print(f'clicked Table_copy at: {image_pos}')\n",
    "\n",
    "  # close table\n",
    "  pag.click(*table_close_position, button='left', duration=3)\n",
    "  print(f'close_table at: {table_close_position}')\n",
    "\n",
    "  # open excel\n",
    "  pag.click(*excel_position, button='left', duration=3)\n",
    "  print(f'open excel at: {excel_position}')\n",
    "\n",
    "  # paste data in excel\n",
    "  pag.hotkey('ctrl', 'm')\n",
    "  print(f'pasted data in excel')\n",
    "\n",
    "  # minimize excel\n",
    "  pag.click(*excel_minimize_position, button='left', duration=3)\n",
    "  print(f'minimize excel at: {excel_position}')\n",
    "\n",
    "  # Page Up key press to reset screen position\n",
    "  pag.press('pageup')\n",
    "\n",
    "  return None\n",
    "\n",
    "\n",
    "\n",
    "\n"
   ]
  },
  {
   "cell_type": "code",
   "execution_count": null,
   "metadata": {},
   "outputs": [],
   "source": []
  },
  {
   "cell_type": "code",
   "execution_count": null,
   "metadata": {},
   "outputs": [],
   "source": [
    "import random\n",
    "\n",
    "random_x = random.randint(1000, 1200)\n",
    "print(random_num)"
   ]
  },
  {
   "cell_type": "code",
   "execution_count": null,
   "metadata": {},
   "outputs": [],
   "source": [
    "random integer betwenn (1000, 1200)"
   ]
  },
  {
   "cell_type": "code",
   "execution_count": null,
   "metadata": {},
   "outputs": [],
   "source": []
  },
  {
   "cell_type": "code",
   "execution_count": null,
   "metadata": {},
   "outputs": [],
   "source": []
  },
  {
   "cell_type": "code",
   "execution_count": null,
   "metadata": {},
   "outputs": [],
   "source": [
    "import os\n",
    "# image_path = os.path.abspath('..\\data\\img_pyautogui\\Selection_btn.PNG')\n",
    "# image_path = os.path.abspath('..\\data\\img_pyautogui\\Home.PNG')\n",
    "image_path = os.path.abspath('..\\data\\img_pyautogui\\Settings.PNG')\n",
    "print(image_path)\n",
    "  # or the correct relative path from the .py file\n",
    "time.sleep(10)\n",
    "res = pyautogui.locateCenterOnScreen(image_path)\n",
    "print(res)"
   ]
  },
  {
   "cell_type": "code",
   "execution_count": null,
   "metadata": {},
   "outputs": [],
   "source": [
    "# res = pyautogui.locateOnScreen('..\\data\\img_pyautogui\\Selection_btn.PNG')\n",
    "# display(res)\n",
    "res = pyautogui.locateCenterOnScreen('..\\data\\img_pyautogui\\Settings.PNG')\n",
    "# stocks\\data\\img_pyautogui\\Settings.PNG\n",
    "display(res)\n",
    "\n",
    "# pyautogui.hotkey('ctrl', 't')\n",
    "\n"
   ]
  },
  {
   "cell_type": "code",
   "execution_count": null,
   "metadata": {},
   "outputs": [],
   "source": [
    "import webbrowser\n",
    "import time\n",
    "\n",
    "from selenium import webdriver\n",
    "from selenium.webdriver.common.by import By\n",
    "\n",
    "\n",
    "\n",
    "url = \"https://finviz.com/screener.ashx?v=152&ft=4&o=-e.assetsundermanagement&c=0,1,2,3,4,6,14,42,43,44,45,46,47,48,49,50,51,52,53,54,57,58,59,67,65,66,103,100,109,120,121,122\"\n",
    "webbrowser.open_new_tab(url)\n",
    "\n",
    "print(\"Finviz.com opened in background. Please manually set the zoom level to 50% in your browser.\")\n",
    "time.sleep(15)\n",
    "\n"
   ]
  },
  {
   "cell_type": "code",
   "execution_count": null,
   "metadata": {},
   "outputs": [],
   "source": []
  },
  {
   "cell_type": "code",
   "execution_count": null,
   "metadata": {},
   "outputs": [],
   "source": [
    "from selenium import webdriver\n",
    "from selenium.webdriver.common.by import By\n",
    "\n",
    "# Replace with the actual path to your webdriver (e.g., chromedriver)\n",
    "driver = webdriver.Chrome()\n",
    "\n",
    "# driver.get(\"https://finviz.com/\")  # Or whatever URL the image is on\n",
    "\n",
    "\n",
    "try:\n",
    "    # Find the element by its text content.  This is the most robust approach\n",
    "    # if the text is unique on the page\n",
    "    settings_button = driver.find_element(By.XPATH, \"//a[text()='Settings']\")\n",
    "    settings_button.click()\n",
    "\n",
    "except Exception as e:\n",
    "    print(f\"Error clicking the 'Settings' button: {e}\")\n",
    "\n",
    "finally:\n",
    "    # Keep the browser open for a few seconds to see the result (optional)\n",
    "    import time\n",
    "    time.sleep(5)\n",
    "    driver.quit()"
   ]
  }
 ],
 "metadata": {
  "kernelspec": {
   "display_name": ".venv",
   "language": "python",
   "name": "python3"
  },
  "language_info": {
   "codemirror_mode": {
    "name": "ipython",
    "version": 3
   },
   "file_extension": ".py",
   "mimetype": "text/x-python",
   "name": "python",
   "nbconvert_exporter": "python",
   "pygments_lexer": "ipython3",
   "version": "3.10.5"
  }
 },
 "nbformat": 4,
 "nbformat_minor": 2
}
