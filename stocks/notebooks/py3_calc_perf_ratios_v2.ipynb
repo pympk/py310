{
 "cells": [
  {
   "cell_type": "code",
   "execution_count": null,
   "metadata": {},
   "outputs": [],
   "source": []
  },
  {
   "cell_type": "code",
   "execution_count": 1,
   "metadata": {},
   "outputs": [],
   "source": [
    "# Configuration\n",
    "\n",
    "# days used in calculating ratios\n",
    "DAYS_RATIO = [5, 10,15, 30, 60, 120, 250]\n",
    "\n",
    "# risk free rate\n",
    "RISK_FREE_RATE = 0.04"
   ]
  },
  {
   "cell_type": "code",
   "execution_count": 2,
   "metadata": {},
   "outputs": [
    {
     "name": "stdout",
     "output_type": "stream",
     "text": [
      "Python will look in these locations:\n",
      "['C:\\\\Users\\\\ping\\\\.pyenv\\\\pyenv-win\\\\versions\\\\3.10.5\\\\python310.zip', 'C:\\\\Users\\\\ping\\\\.pyenv\\\\pyenv-win\\\\versions\\\\3.10.5\\\\DLLs', 'C:\\\\Users\\\\ping\\\\.pyenv\\\\pyenv-win\\\\versions\\\\3.10.5\\\\lib', 'C:\\\\Users\\\\ping\\\\.pyenv\\\\pyenv-win\\\\versions\\\\3.10.5', 'c:\\\\Users\\\\ping\\\\Files_win10\\\\python\\\\py310\\\\.venv', '', 'c:\\\\Users\\\\ping\\\\Files_win10\\\\python\\\\py310\\\\.venv\\\\lib\\\\site-packages', 'c:\\\\Users\\\\ping\\\\Files_win10\\\\python\\\\py310\\\\.venv\\\\lib\\\\site-packages\\\\win32', 'c:\\\\Users\\\\ping\\\\Files_win10\\\\python\\\\py310\\\\.venv\\\\lib\\\\site-packages\\\\win32\\\\lib', 'c:\\\\Users\\\\ping\\\\Files_win10\\\\python\\\\py310\\\\.venv\\\\lib\\\\site-packages\\\\Pythonwin', 'c:\\\\Users\\\\ping\\\\Files_win10\\\\python\\\\py310\\\\stocks\\\\src']\n"
     ]
    },
    {
     "data": {
      "text/markdown": [
       "**Available 'df_OHLCV_' files:**"
      ],
      "text/plain": [
       "<IPython.core.display.Markdown object>"
      ]
     },
     "metadata": {},
     "output_type": "display_data"
    },
    {
     "data": {
      "text/markdown": [
       "- (1) `[DATA]` `df_OHLCV_2025-03-10_clean.pkl` <span style='color:#00ffff'>(45.55 MB, 2025-03-10 20:09)</span>"
      ],
      "text/plain": [
       "<IPython.core.display.Markdown object>"
      ]
     },
     "metadata": {},
     "output_type": "display_data"
    },
    {
     "data": {
      "text/markdown": [
       "- (2) `[DATA]` `df_OHLCV_2025-03-10_clean_clean.pkl` <span style='color:#00ffff'>(45.55 MB, 2025-03-15 20:13)</span>"
      ],
      "text/plain": [
       "<IPython.core.display.Markdown object>"
      ]
     },
     "metadata": {},
     "output_type": "display_data"
    },
    {
     "data": {
      "text/markdown": [
       "- (3) `[DATA]` `df_OHLCV_2025-03-14_clean.pkl` <span style='color:#00ffff'>(25.33 MB, 2025-03-15 20:14)</span>"
      ],
      "text/plain": [
       "<IPython.core.display.Markdown object>"
      ]
     },
     "metadata": {},
     "output_type": "display_data"
    },
    {
     "name": "stdout",
     "output_type": "stream",
     "text": [
      "\n",
      "Input a number to select file (1-3)\n"
     ]
    },
    {
     "data": {
      "text/markdown": [
       "\n",
       "    **Selected paths:**\n",
       "    - Source: `..\\data\\df_OHLCV_2025-03-14_clean.pkl`  \n",
       "    - Destination: `..\\data\\df_perf_ratios.pkl`\n",
       "    "
      ],
      "text/plain": [
       "<IPython.core.display.Markdown object>"
      ]
     },
     "metadata": {},
     "output_type": "display_data"
    }
   ],
   "source": [
    "import sys\n",
    "from pathlib import Path\n",
    "\n",
    "# Notebook cell\n",
    "%load_ext autoreload\n",
    "%autoreload 2\n",
    "\n",
    "# Get root directory (assuming notebook is in root/notebooks/)\n",
    "NOTEBOOK_DIR = Path.cwd()\n",
    "ROOT_DIR = NOTEBOOK_DIR.parent if NOTEBOOK_DIR.name == 'notebooks' else NOTEBOOK_DIR\n",
    "\n",
    "# Add src directory to Python path\n",
    "sys.path.append(str(ROOT_DIR / 'src'))\n",
    "\n",
    "# Verify path\n",
    "print(f\"Python will look in these locations:\\n{sys.path}\")\n",
    "\n",
    "\n",
    "# --- Execute the processor ---\n",
    "import utils\n",
    "\n",
    "SOURCE_PATH, DEST_PATH = utils.main_processor(\n",
    "    data_dir='..\\data',  # search project ..\\data\n",
    "    downloads_dir='',  # None searchs Downloads dir, '' omits search\n",
    "    downloads_limit=0,  # search the first 10 files\n",
    "    clean_name_override='df_perf_ratios.pkl',  # override filename\n",
    "    start_file_pattern='df_OHLCV_', # search for files starting with 'df_'\n",
    ")\n",
    "\n"
   ]
  },
  {
   "cell_type": "code",
   "execution_count": 3,
   "metadata": {},
   "outputs": [
    {
     "data": {
      "text/html": [
       "<div>\n",
       "<style scoped>\n",
       "    .dataframe tbody tr th:only-of-type {\n",
       "        vertical-align: middle;\n",
       "    }\n",
       "\n",
       "    .dataframe tbody tr th {\n",
       "        vertical-align: top;\n",
       "    }\n",
       "\n",
       "    .dataframe thead th {\n",
       "        text-align: right;\n",
       "    }\n",
       "</style>\n",
       "<table border=\"1\" class=\"dataframe\">\n",
       "  <thead>\n",
       "    <tr style=\"text-align: right;\">\n",
       "      <th></th>\n",
       "      <th></th>\n",
       "      <th>Adj Close</th>\n",
       "    </tr>\n",
       "    <tr>\n",
       "      <th>Symbol</th>\n",
       "      <th>Date</th>\n",
       "      <th></th>\n",
       "    </tr>\n",
       "  </thead>\n",
       "  <tbody>\n",
       "    <tr>\n",
       "      <th rowspan=\"5\" valign=\"top\">UBS</th>\n",
       "      <th>2025-03-14</th>\n",
       "      <td>32.73</td>\n",
       "    </tr>\n",
       "    <tr>\n",
       "      <th>2025-03-13</th>\n",
       "      <td>31.71</td>\n",
       "    </tr>\n",
       "    <tr>\n",
       "      <th>2025-03-12</th>\n",
       "      <td>31.94</td>\n",
       "    </tr>\n",
       "    <tr>\n",
       "      <th>2025-03-11</th>\n",
       "      <td>31.38</td>\n",
       "    </tr>\n",
       "    <tr>\n",
       "      <th>2025-03-10</th>\n",
       "      <td>31.88</td>\n",
       "    </tr>\n",
       "    <tr>\n",
       "      <th>...</th>\n",
       "      <th>...</th>\n",
       "      <td>...</td>\n",
       "    </tr>\n",
       "    <tr>\n",
       "      <th rowspan=\"5\" valign=\"top\">PCVX</th>\n",
       "      <th>2024-03-21</th>\n",
       "      <td>67.64</td>\n",
       "    </tr>\n",
       "    <tr>\n",
       "      <th>2024-03-20</th>\n",
       "      <td>69.13</td>\n",
       "    </tr>\n",
       "    <tr>\n",
       "      <th>2024-03-19</th>\n",
       "      <td>67.60</td>\n",
       "    </tr>\n",
       "    <tr>\n",
       "      <th>2024-03-18</th>\n",
       "      <td>68.04</td>\n",
       "    </tr>\n",
       "    <tr>\n",
       "      <th>2024-03-15</th>\n",
       "      <td>69.70</td>\n",
       "    </tr>\n",
       "  </tbody>\n",
       "</table>\n",
       "<p>344750 rows × 1 columns</p>\n",
       "</div>"
      ],
      "text/plain": [
       "                   Adj Close\n",
       "Symbol Date                 \n",
       "UBS    2025-03-14      32.73\n",
       "       2025-03-13      31.71\n",
       "       2025-03-12      31.94\n",
       "       2025-03-11      31.38\n",
       "       2025-03-10      31.88\n",
       "...                      ...\n",
       "PCVX   2024-03-21      67.64\n",
       "       2024-03-20      69.13\n",
       "       2024-03-19      67.60\n",
       "       2024-03-18      68.04\n",
       "       2024-03-15      69.70\n",
       "\n",
       "[344750 rows x 1 columns]"
      ]
     },
     "metadata": {},
     "output_type": "display_data"
    }
   ],
   "source": [
    "import pandas as pd\n",
    "\n",
    "# Load the DataFrame from the pickle file\n",
    "df = pd.read_pickle(SOURCE_PATH)\n",
    "\n",
    "# Display the first few rows of the DataFrame to verify\n",
    "df = df[['Adj Close']].copy()\n",
    "display(df)"
   ]
  },
  {
   "cell_type": "code",
   "execution_count": 4,
   "metadata": {},
   "outputs": [],
   "source": [
    "import utils\n",
    "\n",
    "list_dfs = utils.get_latest_dfs(df, DAYS_RATIO)"
   ]
  },
  {
   "cell_type": "code",
   "execution_count": 5,
   "metadata": {},
   "outputs": [
    {
     "name": "stderr",
     "output_type": "stream",
     "text": [
      "c:\\Users\\ping\\Files_win10\\python\\py310\\.venv\\lib\\site-packages\\empyrical\\stats.py:799: RuntimeWarning: divide by zero encountered in divide\n",
      "  np.divide(average_annual_return, annualized_downside_risk, out=out)\n"
     ]
    },
    {
     "name": "stdout",
     "output_type": "stream",
     "text": [
      "\n",
      "Combined performance metrics DataFrame:\n",
      "      Sharpe 5d  Sortino 5d  Omega 5d  Sharpe 10d  Sortino 10d  Omega 10d  \\\n",
      "A     -0.967958   -1.857841  0.850624   -3.070634    -4.131212   0.602240   \n",
      "AA     9.832251   22.572613  3.843882    3.881416     6.204737   1.847612   \n",
      "AAPL -10.609635  -10.355952  0.222952   -8.425683    -8.241613   0.238875   \n",
      "ABBV -14.058346  -11.366243  0.036393    0.082421     0.130006   1.013076   \n",
      "ABEV   6.300423   13.580392  2.710969    9.692998    29.534024   6.533087   \n",
      "...         ...         ...       ...         ...          ...        ...   \n",
      "ZG    -2.300781   -3.165323  0.702736   -2.310841    -2.898739   0.717765   \n",
      "ZM     1.832998    3.315179  1.356618   -0.148098    -0.199910   0.975417   \n",
      "ZS     1.851402    3.250818  1.349685    2.400416     3.390267   1.435912   \n",
      "ZTO   -0.275099   -0.456699  0.958836    0.599488     1.042027   1.094113   \n",
      "ZTS  -11.861555  -10.493258  0.104667   -5.369924    -5.827059   0.388268   \n",
      "\n",
      "      Sharpe 15d  Sortino 15d  Omega 15d  Sharpe 30d  ...  Omega 30d  \\\n",
      "A      -5.275896    -5.936497   0.393170   -6.955616  ...   0.297817   \n",
      "AA     -1.230213    -1.658395   0.820749   -0.677002  ...   0.893197   \n",
      "AAPL   -8.097294    -7.989408   0.266698   -2.838027  ...   0.620339   \n",
      "ABBV    3.385289     6.051230   1.693406    6.693484  ...   2.985398   \n",
      "ABEV    8.889358    30.630226   5.534262    6.288916  ...   3.528572   \n",
      "...          ...          ...        ...         ...  ...        ...   \n",
      "ZG     -1.971331    -2.459104   0.753747   -2.314482  ...   0.675639   \n",
      "ZM     -3.522164    -3.791950   0.484426   -3.974994  ...   0.447933   \n",
      "ZS      0.304729     0.410180   1.045937   -0.366905  ...   0.945541   \n",
      "ZTO     0.482410     0.818555   1.075353    1.802944  ...   1.313899   \n",
      "ZTS    -1.532920    -1.916127   0.779743   -1.549970  ...   0.766091   \n",
      "\n",
      "      Sharpe 60d  Sortino 60d  Omega 60d  Sharpe 120d  Sortino 120d  \\\n",
      "A      -2.056905    -2.668575   0.698119    -1.140641     -1.600891   \n",
      "AA     -1.150325    -1.463664   0.825311     0.130291      0.186069   \n",
      "AAPL   -2.406218    -2.923104   0.670052    -0.628158     -0.802609   \n",
      "ABBV    4.222182     8.680665   1.995947     0.805390      1.069216   \n",
      "ABEV    1.284537     1.883595   1.257583     0.036723      0.052245   \n",
      "...          ...          ...        ...          ...           ...   \n",
      "ZG     -1.206903    -1.443610   0.814342     0.379345      0.653576   \n",
      "ZM     -1.524584    -2.010510   0.744666     0.637952      0.912214   \n",
      "ZS     -0.251225    -0.339866   0.959600     0.845393      1.226523   \n",
      "ZTO     0.438684     0.609020   1.069088    -0.461050     -0.672607   \n",
      "ZTS    -1.323220    -1.629405   0.805016    -1.576573     -1.923989   \n",
      "\n",
      "      Omega 120d  Sharpe 250d  Sortino 250d  Omega 250d  \n",
      "A       0.822414    -0.745330     -1.002146    0.879233  \n",
      "AA      1.022391     0.380773      0.552227    1.064328  \n",
      "AAPL    0.898656     0.846237      1.229021    1.158436  \n",
      "ABBV    1.182836     0.819013      1.098858    1.169381  \n",
      "ABEV    1.006293    -0.303003     -0.422983    0.949455  \n",
      "...          ...          ...           ...         ...  \n",
      "ZG      1.083222     0.941310      1.683112    1.202922  \n",
      "ZM      1.119593     0.405457      0.614656    1.076926  \n",
      "ZS      1.145485     0.155485      0.203661    1.027896  \n",
      "ZTO     0.929149    -0.048314     -0.072714    0.992089  \n",
      "ZTS     0.769225    -0.267511     -0.360135    0.954304  \n",
      "\n",
      "[1379 rows x 21 columns]\n"
     ]
    }
   ],
   "source": [
    "all_results = {}\n",
    "\n",
    "for _df in list_dfs:\n",
    "    tickers_in_df = _df.index.get_level_values(0).unique()\n",
    "    for ticker in tickers_in_df:\n",
    "        result_df = utils.analyze_stock(_df, ticker, risk_free_rate=RISK_FREE_RATE)\n",
    "        if result_df is not None:\n",
    "            # Extract the ticker name from the result_df index\n",
    "            ticker_name = result_df.index[0]\n",
    "            # Convert the single-row DataFrame to a dictionary\n",
    "            metrics = result_df.iloc[0].to_dict()\n",
    "            \n",
    "            # Update the existing ticker entry or create a new one\n",
    "            if ticker_name in all_results:\n",
    "                all_results[ticker_name].update(metrics)\n",
    "            else:\n",
    "                all_results[ticker_name] = metrics\n",
    "\n",
    "if all_results:\n",
    "    combined_df = pd.DataFrame.from_dict(all_results, orient='index')\n",
    "    print(\"\\nCombined performance metrics DataFrame:\")\n",
    "    print(combined_df)\n",
    "else:\n",
    "    print(\"No performance metrics were calculated.\")"
   ]
  },
  {
   "cell_type": "code",
   "execution_count": 6,
   "metadata": {},
   "outputs": [
    {
     "name": "stdout",
     "output_type": "stream",
     "text": [
      "DataFrame successfully saved to ..\\data\\df_perf_ratios.pkl\n"
     ]
    }
   ],
   "source": [
    "# Save the combined DataFrame to pickle file\n",
    "combined_df.to_pickle(DEST_PATH)\n",
    "print(f\"DataFrame successfully saved to {DEST_PATH}\")"
   ]
  },
  {
   "cell_type": "code",
   "execution_count": 7,
   "metadata": {},
   "outputs": [
    {
     "name": "stdout",
     "output_type": "stream",
     "text": [
      "+------+-------------+--------------+------------+--------------+---------------+-------------+--------------+---------------+-------------+--------------+---------------+-------------+--------------+---------------+-------------+---------------+----------------+--------------+---------------+----------------+--------------+\n",
      "|      |   Sharpe 5d |   Sortino 5d |   Omega 5d |   Sharpe 10d |   Sortino 10d |   Omega 10d |   Sharpe 15d |   Sortino 15d |   Omega 15d |   Sharpe 30d |   Sortino 30d |   Omega 30d |   Sharpe 60d |   Sortino 60d |   Omega 60d |   Sharpe 120d |   Sortino 120d |   Omega 120d |   Sharpe 250d |   Sortino 250d |   Omega 250d |\n",
      "+======+=============+==============+============+==============+===============+=============+==============+===============+=============+==============+===============+=============+==============+===============+=============+===============+================+==============+===============+================+==============+\n",
      "| AAPL |    -10.6096 |     -10.3560 |     0.2230 |      -8.4257 |       -8.2416 |      0.2389 |      -8.0973 |       -7.9894 |      0.2667 |      -2.8380 |       -3.3148 |      0.6203 |      -2.4062 |       -2.9231 |      0.6701 |       -0.6282 |        -0.8026 |       0.8987 |        0.8462 |         1.2290 |       1.1584 |\n",
      "+------+-------------+--------------+------------+--------------+---------------+-------------+--------------+---------------+-------------+--------------+---------------+-------------+--------------+---------------+-------------+---------------+----------------+--------------+---------------+----------------+--------------+\n",
      "| MSFT |      5.4796 |      14.4380 |     2.8190 |       0.0303 |        0.0474 |      1.0053 |      -2.4462 |       -3.3156 |      0.6752 |      -2.6036 |       -3.3480 |      0.6500 |      -2.4457 |       -3.0515 |      0.6445 |       -1.0483 |        -1.3153 |       0.8255 |       -0.3706 |        -0.4759 |       0.9382 |\n",
      "+------+-------------+--------------+------------+--------------+---------------+-------------+--------------+---------------+-------------+--------------+---------------+-------------+--------------+---------------+-------------+---------------+----------------+--------------+---------------+----------------+--------------+\n",
      "| GOOG |     -0.1964 |      -0.3056 |     0.9707 |      -0.3376 |       -0.4413 |      0.9488 |      -4.1129 |       -4.7805 |      0.5497 |      -5.1787 |       -5.5033 |      0.4162 |      -2.3012 |       -2.7399 |      0.6816 |        0.1565 |         0.2170 |       1.0266 |        0.6018 |         0.8633 |       1.1101 |\n",
      "+------+-------------+--------------+------------+--------------+---------------+-------------+--------------+---------------+-------------+--------------+---------------+-------------+--------------+---------------+-------------+---------------+----------------+--------------+---------------+----------------+--------------+\n",
      "| NVDA |     17.0463 |     677.7190 |    86.3846 |       3.0386 |        4.8328 |      1.6381 |      -1.2318 |       -1.5621 |      0.8259 |       0.4263 |        0.5639 |      1.0704 |      -0.2448 |       -0.3083 |      0.9588 |        0.3886 |         0.5071 |       1.0687 |        0.8000 |         1.1217 |       1.1428 |\n",
      "+------+-------------+--------------+------------+--------------+---------------+-------------+--------------+---------------+-------------+--------------+---------------+-------------+--------------+---------------+-------------+---------------+----------------+--------------+---------------+----------------+--------------+\n",
      "| IBIT |      6.4879 |      16.5012 |     2.9658 |      -0.2895 |       -0.4056 |      0.9535 |      -2.4648 |       -3.1033 |      0.6731 |      -2.8589 |       -3.4988 |      0.6263 |      -1.7304 |       -2.2320 |      0.7591 |        1.3731 |         2.2211 |       1.2530 |        0.5689 |         0.8728 |       1.0981 |\n",
      "+------+-------------+--------------+------------+--------------+---------------+-------------+--------------+---------------+-------------+--------------+---------------+-------------+--------------+---------------+-------------+---------------+----------------+--------------+---------------+----------------+--------------+\n",
      "| GLD  |     17.2634 |     inf      |   nan      |       6.4797 |       15.4875 |      3.1382 |       1.0896 |        1.6952 |      1.1923 |       3.6205 |        6.1098 |      1.8201 |       3.4723 |        5.6411 |      1.7230 |        1.6199 |         2.2651 |       1.2994 |        1.9143 |         2.7733 |       1.3614 |\n",
      "+------+-------------+--------------+------------+--------------+---------------+-------------+--------------+---------------+-------------+--------------+---------------+-------------+--------------+---------------+-------------+---------------+----------------+--------------+---------------+----------------+--------------+\n",
      "| VCIT |     -8.1883 |      -8.7644 |     0.2684 |      -7.7957 |       -8.2336 |      0.3161 |      -0.6724 |       -0.9831 |      0.9059 |       1.1708 |        1.8037 |      1.1878 |      -0.1318 |       -0.1869 |      0.9792 |       -1.2380 |        -1.6902 |       0.8196 |        0.4402 |         0.6260 |       1.0721 |\n",
      "+------+-------------+--------------+------------+--------------+---------------+-------------+--------------+---------------+-------------+--------------+---------------+-------------+--------------+---------------+-------------+---------------+----------------+--------------+---------------+----------------+--------------+\n"
     ]
    }
   ],
   "source": [
    "_symbols = ['AAPL', 'MSFT', 'GOOG', 'NVDA', 'IBIT', 'GLD', 'VCIT']\n",
    "\n",
    "from tabulate import tabulate\n",
    "\n",
    "# Create a DataFrame with only the selected symbols\n",
    "selected_df = combined_df.loc[_symbols]\n",
    "\n",
    "# Display the formatted table\n",
    "print(tabulate(selected_df, headers='keys', tablefmt='grid', floatfmt='.4f'))"
   ]
  },
  {
   "cell_type": "code",
   "execution_count": null,
   "metadata": {},
   "outputs": [],
   "source": []
  }
 ],
 "metadata": {
  "kernelspec": {
   "display_name": ".venv",
   "language": "python",
   "name": "python3"
  },
  "language_info": {
   "codemirror_mode": {
    "name": "ipython",
    "version": 3
   },
   "file_extension": ".py",
   "mimetype": "text/x-python",
   "name": "python",
   "nbconvert_exporter": "python",
   "pygments_lexer": "ipython3",
   "version": "3.10.5"
  }
 },
 "nbformat": 4,
 "nbformat_minor": 2
}
