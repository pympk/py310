{
 "cells": [
  {
   "cell_type": "code",
   "execution_count": 47,
   "metadata": {},
   "outputs": [
    {
     "name": "stdout",
     "output_type": "stream",
     "text": [
      "4.11.0\n"
     ]
    }
   ],
   "source": [
    "import pyautogui as pag\n",
    "import pyperclip  # Requires: pip install pyperclip\n",
    "import requests  # Import the requests library\n",
    "import webbrowser\n",
    "import time\n",
    "import os\n",
    "import random\n",
    "import cv2\n",
    "\n",
    "print(cv2.__version__) "
   ]
  },
  {
   "cell_type": "code",
   "execution_count": 48,
   "metadata": {},
   "outputs": [],
   "source": [
    "def capture_pos(\n",
    "    initial_delay=3,\n",
    "    temp_x=100,\n",
    "    temp_y=100,\n",
    "    move_duration=1,\n",
    "    return_duration=1,\n",
    "    hold_duration=3\n",
    "):\n",
    "    \"\"\"\n",
    "    Capture and demonstrate mouse position memory functionality.\n",
    "    \n",
    "    Parameters:\n",
    "    - initial_delay: Delay before position capture (seconds)\n",
    "    - temp_x, temp_y: Temporary demonstration coordinates\n",
    "    - move_duration: Time to reach temporary position\n",
    "    - return_duration: Time to return to captured position\n",
    "    - hold_duration: Pause at temporary position\n",
    "    \n",
    "    Returns:\n",
    "    - Point object with captured coordinates (x, y)\n",
    "    \"\"\"\n",
    "    try:\n",
    "        print(f\"Prepare to capture position in {initial_delay} seconds...\")\n",
    "        time.sleep(initial_delay)\n",
    "        \n",
    "        # Capture target position\n",
    "        captured_pos = pag.position()\n",
    "        print(f\"\\nPosition captured: X:{captured_pos.x} Y:{captured_pos.y}\")\n",
    "        \n",
    "        # Demonstrate position memory\n",
    "        pag.moveTo(temp_x, temp_y, duration=move_duration)\n",
    "        print(f\"Moved to temporary position: ({temp_x}, {temp_y})\")\n",
    "        \n",
    "        time.sleep(hold_duration)\n",
    "        \n",
    "        # Return to original position\n",
    "        pag.moveTo(captured_pos.x, captured_pos.y, duration=return_duration)\n",
    "        print(f\"Returned to captured position: X:{captured_pos.x} Y:{captured_pos.y}\")\n",
    "        \n",
    "        return captured_pos\n",
    "        \n",
    "    except KeyboardInterrupt:\n",
    "        print(\"\\nOperation cancelled by user\")\n",
    "        return None\n"
   ]
  },
  {
   "cell_type": "code",
   "execution_count": 49,
   "metadata": {},
   "outputs": [],
   "source": [
    "\n",
    "def open_page_copy_table_paste_to_excel():\n",
    "\n",
    "  time.sleep(3)\n",
    "\n",
    "  # right click to table \n",
    "  pag.click(*table_position, button='right', duration=2)\n",
    "  print(f'right clicked Table at: {table_position}')\n",
    "\n",
    "  # # click Table Capture\n",
    "  pag.move(80, -40, duration=1)  # relative move\n",
    "  pag.click(button='left', duration=1)\n",
    "  print(f'clicked Table at: {table_position}')\n",
    "\n",
    "  # find table_copy image\n",
    "  # image_pos = find_image_with_retry('..\\data\\img_pyautogui\\Table_copy.PNG')\n",
    "  pag.click(*table_copy_position, button='left', duration=1)  \n",
    "  print(f'clicked Table_copy at: {table_copy_position}')\n",
    "\n",
    "  # # click Table_copy\n",
    "  # pag.click(*image_pos, button='left', duration=1)\n",
    "  # print(f'clicked Table_copy at: {image_pos}')\n",
    "\n",
    "  # close table\n",
    "  pag.click(*table_close_position, button='left', duration=3)\n",
    "  print(f'close_table at: {table_close_position}')\n",
    "\n",
    "  # open excel\n",
    "  pag.click(*excel_position, button='left', duration=3)\n",
    "  print(f'open excel at: {excel_position}')\n",
    "\n",
    "  # paste data in excel\n",
    "  pag.hotkey('ctrl', 'm')\n",
    "  print(f'pasted data in excel')\n",
    "\n",
    "  # minimize excel\n",
    "  pag.click(*excel_minimize_position, button='left', duration=3)\n",
    "  print(f'minimize excel at: {excel_position}')\n",
    "\n",
    "  # Page Up key press to reset screen position\n",
    "  pag.press('pageup')\n",
    "\n",
    "  return None\n"
   ]
  },
  {
   "cell_type": "code",
   "execution_count": 50,
   "metadata": {},
   "outputs": [
    {
     "data": {
      "text/plain": [
       "{'User-Agent': 'Mozilla/5.0 (Windows NT 10.0; Win64; x64) AppleWebKit/537.36 (KHTML, like Gecko) Chrome/134.0.0.0 Safari/537.36'}"
      ]
     },
     "metadata": {},
     "output_type": "display_data"
    },
    {
     "data": {
      "text/plain": [
       "{'User-Agent': 'Mozilla/5.0 (Macintosh; Intel Mac OS X 10_15_7) AppleWebKit/537.36 (KHTML, like Gecko) Chrome/126.0.0.0 Safari/537.36'}"
      ]
     },
     "metadata": {},
     "output_type": "display_data"
    }
   ],
   "source": [
    "from fake_useragent import UserAgent\n",
    "\n",
    "ua = UserAgent()  # Initialize UserAgent\n",
    "\n",
    "def get_random_user_agent():\n",
    "    \"\"\"Returns a random, realistic user agent string.\"\"\"\n",
    "    return ua.random\n",
    "\n",
    "headers = {\"User-Agent\": get_random_user_agent()}\n",
    "display(headers)\n",
    "headers = {\"User-Agent\": get_random_user_agent()}\n",
    "display(headers)"
   ]
  },
  {
   "cell_type": "code",
   "execution_count": 51,
   "metadata": {},
   "outputs": [],
   "source": [
    "urls = [\n",
    "    \"https://finviz.com/screener.ashx?v=152&ft=4&o=-e.assetsundermanagement&c=0,1,2,3,4,6,14,42,43,44,45,46,47,48,49,50,51,52,53,54,57,58,59,67,65,66,103,100,109,120,121,122\",\n",
    "    'https://finviz.com/screener.ashx?v=152&ft=4&o=-e.assetsundermanagement&r=21',\n",
    "    'https://finviz.com/screener.ashx?v=152&ft=4&o=-e.assetsundermanagement&r=41',\n",
    "    'https://finviz.com/screener.ashx?v=152&ft=4&o=-e.assetsundermanagement&r=61',\n",
    "]"
   ]
  },
  {
   "cell_type": "code",
   "execution_count": 52,
   "metadata": {},
   "outputs": [],
   "source": [
    "urls = [\n",
    "    'https://finviz.com/screener.ashx?v=152&ft=4&o=-e.assetsundermanagement&r=81',\n",
    "    'https://finviz.com/screener.ashx?v=152&ft=4&o=-e.assetsundermanagement&r=101',\n",
    "    'https://finviz.com/screener.ashx?v=152&ft=4&o=-e.assetsundermanagement&r=121',\n",
    "    'https://finviz.com/screener.ashx?v=152&ft=4&o=-e.assetsundermanagement&r=141',\n",
    "    'https://finviz.com/screener.ashx?v=152&ft=4&o=-e.assetsundermanagement&r=161',\n",
    "    'https://finviz.com/screener.ashx?v=152&ft=4&o=-e.assetsundermanagement&r=181',\n",
    "\n",
    "    'https://finviz.com/screener.ashx?v=152&ft=4&o=-e.assetsundermanagement&r=201',\n",
    "    'https://finviz.com/screener.ashx?v=152&ft=4&o=-e.assetsundermanagement&r=221',\n",
    "    'https://finviz.com/screener.ashx?v=152&ft=4&o=-e.assetsundermanagement&r=241',\n",
    "    'https://finviz.com/screener.ashx?v=152&ft=4&o=-e.assetsundermanagement&r=261',\n",
    "    'https://finviz.com/screener.ashx?v=152&ft=4&o=-e.assetsundermanagement&r=281',           \n",
    "]"
   ]
  },
  {
   "cell_type": "code",
   "execution_count": 57,
   "metadata": {},
   "outputs": [],
   "source": [
    "urls = [\n",
    "    \"https://finviz.com/screener.ashx?v=152&ft=4&o=-e.assetsundermanagement&c=0,1,2,3,4,6,14,42,43,44,45,46,47,48,49,50,51,52,53,54,57,58,59,67,65,66,103,100,109,120,121,122\",\n",
    "    'https://finviz.com/screener.ashx?v=152&ft=4&o=-e.assetsundermanagement&r=301',\n",
    "    # 'https://finviz.com/screener.ashx?v=352&ft=4&o=-e.assetsundermanagement&r=301',\n",
    "    'https://finviz.com/screener.ashx?v=352&ft=4&o=-e.assetsundermanagement&r=321',\n",
    "    'https://finviz.com/screener.ashx?v=352&ft=4&o=-e.assetsundermanagement&r=341',\n",
    "    'https://finviz.com/screener.ashx?v=352&ft=4&o=-e.assetsundermanagement&r=361',\n",
    "    'https://finviz.com/screener.ashx?v=352&ft=4&o=-e.assetsundermanagement&r=381',\n",
    "\n",
    "    'https://finviz.com/screener.ashx?v=152&ft=4&o=-e.assetsundermanagement&r=401',\n",
    "    'https://finviz.com/screener.ashx?v=152&ft=4&o=-e.assetsundermanagement&r=421',\n",
    "    'https://finviz.com/screener.ashx?v=152&ft=4&o=-e.assetsundermanagement&r=441',\n",
    "    'https://finviz.com/screener.ashx?v=152&ft=4&o=-e.assetsundermanagement&r=461',\n",
    "    'https://finviz.com/screener.ashx?v=152&ft=4&o=-e.assetsundermanagement&r=481',           \n",
    "]"
   ]
  },
  {
   "cell_type": "code",
   "execution_count": null,
   "metadata": {},
   "outputs": [],
   "source": [
    "# sort by marketcap\n",
    "url = 'https://finviz.com/screener.ashx?v=152&ft=4&o=-marketcap'"
   ]
  },
  {
   "cell_type": "code",
   "execution_count": null,
   "metadata": {},
   "outputs": [],
   "source": [
    "def process_first_url(url):\n",
    "    headers = {\"User-Agent\": get_random_user_agent()}\n",
    "    response = requests.get(url, headers=headers)\n",
    "\n",
    "    print(f\"Processing FIRST URL: {url}\")\n",
    "    # open the URL in a new tab\n",
    "    webbrowser.open_new_tab(url)\n",
    "    time.sleep(5)\n",
    "\n",
    "    # zoom out to 50%\n",
    "    pag.hotkey('ctrl', '-')\n",
    "    pag.hotkey('ctrl', '-')\n",
    "    pag.hotkey('ctrl', '-')\n",
    "    pag.hotkey('ctrl', '-')\n",
    "\n",
    "    # copy 1st table to excel\n",
    "    open_page_copy_table_paste_to_excel()\n",
    "\n",
    "    print(f\"First response status: {response.status_code}\")\n",
    "    print(f'headers: {headers}\\n')\n",
    "\n",
    "    return None"
   ]
  },
  {
   "cell_type": "code",
   "execution_count": 55,
   "metadata": {},
   "outputs": [],
   "source": [
    "def process_other_urls(url):\n",
    "    headers = {\"User-Agent\": get_random_user_agent()}\n",
    "    response = requests.get(url, headers=headers)\n",
    "    \n",
    "    print(f\"Processing OTHER URL: {url}\")\n",
    "\n",
    "    pyperclip.copy(url)  # Copy to clipboard\n",
    "    \n",
    "    pag.hotkey('ctrl', 'l')  # Focus URL bar\n",
    "    time.sleep(0.2)\n",
    "    \n",
    "    pag.hotkey('ctrl', 'a')  # Select existing text\n",
    "    pag.press('delete')      # Clear\n",
    "    time.sleep(0.1)\n",
    "    \n",
    "    pag.hotkey('ctrl', 'v')  # Paste from clipboard\n",
    "    time.sleep(0.1)\n",
    "    \n",
    "    pag.press('enter')\n",
    "    time.sleep(4)  # Longer wait for full page load\n",
    "\n",
    "    x_cords = random.randint(1000, 1200)\n",
    "    y_cords = random.randint(900, 1000)\n",
    "    pag.moveTo(x_cords, y_cords)  # Move to table\n",
    "\n",
    "    open_page_copy_table_paste_to_excel()\n",
    "\n",
    "    print(f\"Standard response length: {len(response.text)} characters\")\n",
    "    print(f'headers: {headers}\\n')\n",
    "\n",
    "    return None\n"
   ]
  },
  {
   "cell_type": "code",
   "execution_count": null,
   "metadata": {},
   "outputs": [],
   "source": [
    "process_first_url(urls[0])"
   ]
  },
  {
   "cell_type": "code",
   "execution_count": null,
   "metadata": {},
   "outputs": [],
   "source": [
    "# Main execution logic\n",
    "\n",
    "time.sleep(5)  # Initial delay for user to prepare\n",
    "\n",
    "for index, url in enumerate(urls):\n",
    "    try:\n",
    "        print(f'process url: {index}')\n",
    "\n",
    "        if index == 0:  # First URL \n",
    "        # if index == -1:  # Use process_others_urls   \n",
    "                      \n",
    "            process_first_url(url)\n",
    "        else:  # All other URLs\n",
    "            process_other_urls(url)\n",
    "            \n",
    "    except Exception as e:\n",
    "        print(f\"Error processing {url}: {str(e)}\")\n",
    "        continue  # Skip to next URL on error\n",
    "\n",
    "print(\"Processing complete\")"
   ]
  },
  {
   "cell_type": "code",
   "execution_count": null,
   "metadata": {},
   "outputs": [],
   "source": [
    "time.sleep(5)  # Initial delay for user to prepare\n",
    "\n",
    "for index, url in enumerate(urls[0:2]):\n",
    "    if index == 0:  # First URL\n",
    "        process_first_url(url)"
   ]
  },
  {
   "cell_type": "code",
   "execution_count": null,
   "metadata": {},
   "outputs": [],
   "source": []
  },
  {
   "cell_type": "code",
   "execution_count": null,
   "metadata": {},
   "outputs": [],
   "source": [
    "process_first_url(urls[0])"
   ]
  },
  {
   "cell_type": "code",
   "execution_count": null,
   "metadata": {},
   "outputs": [],
   "source": [
    "process_other_urls(urls[1])"
   ]
  },
  {
   "cell_type": "code",
   "execution_count": 61,
   "metadata": {},
   "outputs": [],
   "source": [
    "pag_postiions = [table_close_position, table_close_position, table_copy_position, excel_position, excel_minimize_position]\n"
   ]
  },
  {
   "cell_type": "code",
   "execution_count": 64,
   "metadata": {},
   "outputs": [
    {
     "name": "stdout",
     "output_type": "stream",
     "text": [
      "Saved positions dictionary to: c:\\Users\\ping\\Files_win10\\python\\py310\\stocks\\data\\pag_positions_dict.pkl\n"
     ]
    }
   ],
   "source": [
    "import pickle\n",
    "import os\n",
    "\n",
    "# Create dictionary of positions\n",
    "positions_dict = {\n",
    "  'table_position': table_position,\n",
    "  'table_copy_position': table_copy_position,\n",
    "  'table_close_position': table_close_position,\n",
    "  'excel_position': excel_position,\n",
    "  'excel_minimize_position': excel_minimize_position\n",
    "}\n",
    "\n",
    "# Save positions dictionary\n",
    "save_path = os.path.join(data_dir, 'pag_positions_dict.pkl')\n",
    "with open(save_path, 'wb') as f:\n",
    "  pickle.dump(positions_dict, f)\n",
    "\n",
    "print(f'Saved positions dictionary to: {save_path}')"
   ]
  },
  {
   "cell_type": "code",
   "execution_count": 73,
   "metadata": {},
   "outputs": [
    {
     "name": "stdout",
     "output_type": "stream",
     "text": [
      "Data directory set to: C:\\Users\\ping\\Files_win10\\python\\py310\\stocks\\data\n"
     ]
    }
   ],
   "source": [
    "import os\n",
    "\n",
    "# Set the data directory path\n",
    "data_dir = os.path.join(os.path.expanduser('~'), 'Files_win10', 'python', 'py310', 'stocks', 'data')\n",
    "\n",
    "# Create the directory if it doesn't exist\n",
    "os.makedirs(data_dir, exist_ok=True)\n",
    "\n",
    "print(f'Data directory set to: {data_dir}')"
   ]
  },
  {
   "cell_type": "code",
   "execution_count": null,
   "metadata": {},
   "outputs": [],
   "source": []
  },
  {
   "cell_type": "code",
   "execution_count": 76,
   "metadata": {},
   "outputs": [
    {
     "name": "stdout",
     "output_type": "stream",
     "text": [
      "Loaded positions from: C:\\Users\\ping\\Files_win10\\python\\py310\\stocks\\data\\pag_positions_dict.pkl\n",
      "Positions: {'table_position': Point(x=925, y=723), 'table_copy_position': Point(x=939, y=1040), 'table_close_position': Point(x=1776, y=825), 'excel_position': Point(x=1865, y=521), 'excel_minimize_position': Point(x=1649, y=21)}\n"
     ]
    }
   ],
   "source": [
    "import pickle\n",
    "import os\n",
    "\n",
    "\n",
    "# Load positions from the saved pickle file\n",
    "save_path = os.path.join(data_dir, 'pag_positions_dic.pkl')\n",
    "save_path = r'C:\\Users\\ping\\Files_win10\\python\\py310\\stocks\\data\\pag_positions_dict.pkl'\n",
    "with open(save_path, 'rb') as f:\n",
    "  pag_positions = pickle.load(f)\n",
    "\n",
    "print(f'Loaded positions from: {save_path}')\n",
    "print(f'Positions: {pag_positions}')\n",
    "\n",
    "# For easier reference, unpack the positions\n",
    "table_position, table_copy_position, table_close_position, excel_position, excel_minimize_position = pag_positions"
   ]
  },
  {
   "cell_type": "code",
   "execution_count": null,
   "metadata": {},
   "outputs": [
    {
     "name": "stdout",
     "output_type": "stream",
     "text": [
      "Prepare to capture position in 5 seconds...\n",
      "\n",
      "Position captured: X:925 Y:723\n",
      "Moved to temporary position: (100, 100)\n",
      "Returned to captured position: X:925 Y:723\n"
     ]
    }
   ],
   "source": [
    "# Put cursor at middle of FinViz table\n",
    "table_position = capture_pos(initial_delay=5)"
   ]
  },
  {
   "cell_type": "code",
   "execution_count": null,
   "metadata": {},
   "outputs": [
    {
     "name": "stdout",
     "output_type": "stream",
     "text": [
      "Prepare to capture position in 5 seconds...\n",
      "\n",
      "Position captured: X:939 Y:1040\n",
      "Moved to temporary position: (100, 100)\n",
      "Returned to captured position: X:939 Y:1040\n"
     ]
    }
   ],
   "source": [
    "# Capture table_copy position\n",
    "table_copy_position = capture_pos(initial_delay=5)"
   ]
  },
  {
   "cell_type": "code",
   "execution_count": null,
   "metadata": {},
   "outputs": [
    {
     "name": "stdout",
     "output_type": "stream",
     "text": [
      "Prepare to capture position in 5 seconds...\n",
      "\n",
      "Position captured: X:1776 Y:825\n",
      "Moved to temporary position: (100, 100)\n",
      "Returned to captured position: X:1776 Y:825\n"
     ]
    }
   ],
   "source": [
    "# Capture table_close position \n",
    "table_close_position = capture_pos(initial_delay=5)"
   ]
  },
  {
   "cell_type": "code",
   "execution_count": null,
   "metadata": {},
   "outputs": [
    {
     "name": "stdout",
     "output_type": "stream",
     "text": [
      "Prepare to capture position in 5 seconds...\n",
      "\n",
      "Position captured: X:1865 Y:521\n",
      "Moved to temporary position: (100, 100)\n",
      "Returned to captured position: X:1865 Y:521\n"
     ]
    }
   ],
   "source": [
    "# Capture Excel icon position\n",
    "# Make sure Excel is open to Developer tab, and\n",
    "# Macro PasteToLastEmptyCellInColumnA, Ctrl+M is working\n",
    "excel_position = capture_pos(initial_delay=5)"
   ]
  },
  {
   "cell_type": "code",
   "execution_count": null,
   "metadata": {},
   "outputs": [
    {
     "name": "stdout",
     "output_type": "stream",
     "text": [
      "Prepare to capture position in 5 seconds...\n",
      "\n",
      "Position captured: X:1649 Y:21\n",
      "Moved to temporary position: (100, 100)\n",
      "Returned to captured position: X:1649 Y:21\n"
     ]
    }
   ],
   "source": [
    "# Open Excel, capture minimize position\n",
    "excel_minimize_position = capture_pos(initial_delay=5)"
   ]
  },
  {
   "cell_type": "code",
   "execution_count": null,
   "metadata": {},
   "outputs": [],
   "source": []
  },
  {
   "cell_type": "code",
   "execution_count": null,
   "metadata": {},
   "outputs": [],
   "source": []
  },
  {
   "cell_type": "code",
   "execution_count": null,
   "metadata": {},
   "outputs": [],
   "source": [
    "\n",
    "# # time.sleep(3)\n",
    "\n",
    "# for url in urls:\n",
    "#     pyperclip.copy(url)  # Copy to clipboard\n",
    "    \n",
    "#     pag.hotkey('ctrl', 'l')  # Focus URL bar\n",
    "#     time.sleep(0.2)\n",
    "    \n",
    "#     pag.hotkey('ctrl', 'a')  # Select existing text\n",
    "#     pag.press('delete')      # Clear\n",
    "#     time.sleep(0.1)\n",
    "    \n",
    "#     pag.hotkey('ctrl', 'v')  # Paste from clipboard\n",
    "#     time.sleep(0.1)\n",
    "    \n",
    "#     pag.press('enter')\n",
    "#     time.sleep(4)  # Longer wait for full page load\n",
    "\n",
    "#     x_cords = random.randint(1000, 1200)\n",
    "#     y_cords = random.randint(900, 1000)\n",
    "#     pag.moveTo(x_cords, y_cords)  # Move to table\n",
    "\n",
    "#     open_page_copy_table_paste_to_excel()\n"
   ]
  },
  {
   "cell_type": "code",
   "execution_count": null,
   "metadata": {},
   "outputs": [],
   "source": []
  },
  {
   "cell_type": "code",
   "execution_count": null,
   "metadata": {},
   "outputs": [],
   "source": []
  },
  {
   "cell_type": "code",
   "execution_count": null,
   "metadata": {},
   "outputs": [],
   "source": []
  },
  {
   "cell_type": "code",
   "execution_count": null,
   "metadata": {},
   "outputs": [],
   "source": []
  },
  {
   "cell_type": "code",
   "execution_count": null,
   "metadata": {},
   "outputs": [],
   "source": []
  },
  {
   "cell_type": "code",
   "execution_count": null,
   "metadata": {},
   "outputs": [],
   "source": [
    "# url = \"https://finviz.com/screener.ashx?v=152&ft=4&o=-e.assetsundermanagement&c=0,1,2,3,4,6,14,42,43,44,45,46,47,48,49,50,51,52,53,54,57,58,59,67,65,66,103,100,109,120,121,122\"\n",
    "\n",
    "# # open the URL in a new tab\n",
    "# webbrowser.open_new_tab(url)\n",
    "# time.sleep(5)\n",
    "\n",
    "# # zoom out to 80%\n",
    "# pag.hotkey('ctrl', '-')\n",
    "# pag.hotkey('ctrl', '-')\n",
    "# pag.hotkey('ctrl', '-')\n",
    "# pag.hotkey('ctrl', '-')\n",
    "\n",
    "\n",
    "# def copy_table_paste_to_excel():\n",
    "\n",
    "def open_page_copy_table_paste_to_excel():\n",
    "\n",
    "  time.sleep(3)\n",
    "\n",
    "  # right click to table \n",
    "  pag.click(*table_position, button='right', duration=2)\n",
    "  print(f'right clicked Table at: {table_position}')\n",
    "\n",
    "  # # click Table Capture\n",
    "  pag.move(80, -40, duration=1)  # relative move\n",
    "  pag.click(button='left', duration=1)\n",
    "  print(f'clicked Table at: {table_position}')\n",
    "\n",
    "  # find table_copy image\n",
    "  # image_pos = find_image_with_retry('..\\data\\img_pyautogui\\Table_copy.PNG')\n",
    "  pag.click(*table_copy_position, button='left', duration=1)  \n",
    "  print(f'clicked Table_copy at: {table_copy_position}')\n",
    "\n",
    "  # # click Table_copy\n",
    "  # pag.click(*image_pos, button='left', duration=1)\n",
    "  # print(f'clicked Table_copy at: {image_pos}')\n",
    "\n",
    "  # close table\n",
    "  pag.click(*table_close_position, button='left', duration=3)\n",
    "  print(f'close_table at: {table_close_position}')\n",
    "\n",
    "  # open excel\n",
    "  pag.click(*excel_position, button='left', duration=3)\n",
    "  print(f'open excel at: {excel_position}')\n",
    "\n",
    "  # paste data in excel\n",
    "  pag.hotkey('ctrl', 'm')\n",
    "  print(f'pasted data in excel')\n",
    "\n",
    "  # minimize excel\n",
    "  pag.click(*excel_minimize_position, button='left', duration=3)\n",
    "  print(f'minimize excel at: {excel_position}')\n",
    "\n",
    "  # Page Up key press to reset screen position\n",
    "  pag.press('pageup')\n",
    "\n",
    "  return None\n",
    "\n",
    "\n",
    "\n",
    "\n"
   ]
  },
  {
   "cell_type": "code",
   "execution_count": null,
   "metadata": {},
   "outputs": [],
   "source": []
  },
  {
   "cell_type": "code",
   "execution_count": null,
   "metadata": {},
   "outputs": [],
   "source": [
    "import random\n",
    "\n",
    "random_x = random.randint(1000, 1200)\n",
    "print(random_num)"
   ]
  },
  {
   "cell_type": "code",
   "execution_count": null,
   "metadata": {},
   "outputs": [],
   "source": [
    "random integer betwenn (1000, 1200)"
   ]
  },
  {
   "cell_type": "code",
   "execution_count": null,
   "metadata": {},
   "outputs": [],
   "source": []
  },
  {
   "cell_type": "code",
   "execution_count": null,
   "metadata": {},
   "outputs": [],
   "source": []
  },
  {
   "cell_type": "code",
   "execution_count": null,
   "metadata": {},
   "outputs": [],
   "source": [
    "import os\n",
    "# image_path = os.path.abspath('..\\data\\img_pyautogui\\Selection_btn.PNG')\n",
    "# image_path = os.path.abspath('..\\data\\img_pyautogui\\Home.PNG')\n",
    "image_path = os.path.abspath('..\\data\\img_pyautogui\\Settings.PNG')\n",
    "print(image_path)\n",
    "  # or the correct relative path from the .py file\n",
    "time.sleep(10)\n",
    "res = pyautogui.locateCenterOnScreen(image_path)\n",
    "print(res)"
   ]
  },
  {
   "cell_type": "code",
   "execution_count": null,
   "metadata": {},
   "outputs": [],
   "source": [
    "# res = pyautogui.locateOnScreen('..\\data\\img_pyautogui\\Selection_btn.PNG')\n",
    "# display(res)\n",
    "res = pyautogui.locateCenterOnScreen('..\\data\\img_pyautogui\\Settings.PNG')\n",
    "# stocks\\data\\img_pyautogui\\Settings.PNG\n",
    "display(res)\n",
    "\n",
    "# pyautogui.hotkey('ctrl', 't')\n",
    "\n"
   ]
  },
  {
   "cell_type": "code",
   "execution_count": null,
   "metadata": {},
   "outputs": [],
   "source": [
    "import webbrowser\n",
    "import time\n",
    "\n",
    "from selenium import webdriver\n",
    "from selenium.webdriver.common.by import By\n",
    "\n",
    "\n",
    "\n",
    "url = \"https://finviz.com/screener.ashx?v=152&ft=4&o=-e.assetsundermanagement&c=0,1,2,3,4,6,14,42,43,44,45,46,47,48,49,50,51,52,53,54,57,58,59,67,65,66,103,100,109,120,121,122\"\n",
    "webbrowser.open_new_tab(url)\n",
    "\n",
    "print(\"Finviz.com opened in background. Please manually set the zoom level to 50% in your browser.\")\n",
    "time.sleep(15)\n",
    "\n"
   ]
  },
  {
   "cell_type": "code",
   "execution_count": null,
   "metadata": {},
   "outputs": [],
   "source": []
  },
  {
   "cell_type": "code",
   "execution_count": null,
   "metadata": {},
   "outputs": [],
   "source": [
    "from selenium import webdriver\n",
    "from selenium.webdriver.common.by import By\n",
    "\n",
    "# Replace with the actual path to your webdriver (e.g., chromedriver)\n",
    "driver = webdriver.Chrome()\n",
    "\n",
    "# driver.get(\"https://finviz.com/\")  # Or whatever URL the image is on\n",
    "\n",
    "\n",
    "try:\n",
    "    # Find the element by its text content.  This is the most robust approach\n",
    "    # if the text is unique on the page\n",
    "    settings_button = driver.find_element(By.XPATH, \"//a[text()='Settings']\")\n",
    "    settings_button.click()\n",
    "\n",
    "except Exception as e:\n",
    "    print(f\"Error clicking the 'Settings' button: {e}\")\n",
    "\n",
    "finally:\n",
    "    # Keep the browser open for a few seconds to see the result (optional)\n",
    "    import time\n",
    "    time.sleep(5)\n",
    "    driver.quit()"
   ]
  }
 ],
 "metadata": {
  "kernelspec": {
   "display_name": ".venv",
   "language": "python",
   "name": "python3"
  },
  "language_info": {
   "codemirror_mode": {
    "name": "ipython",
    "version": 3
   },
   "file_extension": ".py",
   "mimetype": "text/x-python",
   "name": "python",
   "nbconvert_exporter": "python",
   "pygments_lexer": "ipython3",
   "version": "3.10.5"
  }
 },
 "nbformat": 4,
 "nbformat_minor": 2
}
