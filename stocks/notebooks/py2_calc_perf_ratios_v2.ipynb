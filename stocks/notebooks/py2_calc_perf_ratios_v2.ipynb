{
 "cells": [
  {
   "cell_type": "code",
   "execution_count": null,
   "metadata": {},
   "outputs": [],
   "source": []
  },
  {
   "cell_type": "code",
   "execution_count": 1,
   "metadata": {},
   "outputs": [],
   "source": [
    "# Configuration\n",
    "\n",
    "# days used in calculating ratios\n",
    "DAYS_RATIO = [30, 63, 125, 250]\n",
    "\n",
    "# risk free rate\n",
    "RISK_FREE_RATE = 0.04"
   ]
  },
  {
   "cell_type": "code",
   "execution_count": 2,
   "metadata": {},
   "outputs": [
    {
     "name": "stdout",
     "output_type": "stream",
     "text": [
      "Python will look in these locations:\n",
      "['C:\\\\Users\\\\ping\\\\.pyenv\\\\pyenv-win\\\\versions\\\\3.10.5\\\\python310.zip', 'C:\\\\Users\\\\ping\\\\.pyenv\\\\pyenv-win\\\\versions\\\\3.10.5\\\\DLLs', 'C:\\\\Users\\\\ping\\\\.pyenv\\\\pyenv-win\\\\versions\\\\3.10.5\\\\lib', 'C:\\\\Users\\\\ping\\\\.pyenv\\\\pyenv-win\\\\versions\\\\3.10.5', 'c:\\\\Users\\\\ping\\\\Files_win10\\\\python\\\\py310\\\\.venv', '', 'c:\\\\Users\\\\ping\\\\Files_win10\\\\python\\\\py310\\\\.venv\\\\lib\\\\site-packages', 'c:\\\\Users\\\\ping\\\\Files_win10\\\\python\\\\py310\\\\.venv\\\\lib\\\\site-packages\\\\win32', 'c:\\\\Users\\\\ping\\\\Files_win10\\\\python\\\\py310\\\\.venv\\\\lib\\\\site-packages\\\\win32\\\\lib', 'c:\\\\Users\\\\ping\\\\Files_win10\\\\python\\\\py310\\\\.venv\\\\lib\\\\site-packages\\\\Pythonwin', 'c:\\\\Users\\\\ping\\\\Files_win10\\\\python\\\\py310\\\\stocks\\\\src']\n"
     ]
    },
    {
     "data": {
      "text/markdown": [
       "**Available 'df_OHLCV_' files:**"
      ],
      "text/plain": [
       "<IPython.core.display.Markdown object>"
      ]
     },
     "metadata": {},
     "output_type": "display_data"
    },
    {
     "data": {
      "text/markdown": [
       "- (1) `[DATA]` `df_OHLCV_2025-03-07_clean.pkl` <span style='color:#00ffff'>(45.60 MB, 2025-03-09 12:53)</span>"
      ],
      "text/plain": [
       "<IPython.core.display.Markdown object>"
      ]
     },
     "metadata": {},
     "output_type": "display_data"
    },
    {
     "name": "stdout",
     "output_type": "stream",
     "text": [
      "\n",
      "Input a number to select file (1-1)\n"
     ]
    },
    {
     "data": {
      "text/markdown": [
       "\n",
       "    **Selected paths:**\n",
       "    - Source: `..\\data\\df_OHLCV_2025-03-07_clean.pkl`  \n",
       "    - Destination: `..\\data\\df_perf_ratios.pkl`\n",
       "    "
      ],
      "text/plain": [
       "<IPython.core.display.Markdown object>"
      ]
     },
     "metadata": {},
     "output_type": "display_data"
    }
   ],
   "source": [
    "import sys\n",
    "from pathlib import Path\n",
    "\n",
    "# Notebook cell\n",
    "%load_ext autoreload\n",
    "%autoreload 2\n",
    "\n",
    "# Get root directory (assuming notebook is in root/notebooks/)\n",
    "NOTEBOOK_DIR = Path.cwd()\n",
    "ROOT_DIR = NOTEBOOK_DIR.parent if NOTEBOOK_DIR.name == 'notebooks' else NOTEBOOK_DIR\n",
    "\n",
    "# Add src directory to Python path\n",
    "sys.path.append(str(ROOT_DIR / 'src'))\n",
    "\n",
    "# Verify path\n",
    "print(f\"Python will look in these locations:\\n{sys.path}\")\n",
    "\n",
    "\n",
    "# --- Execute the processor ---\n",
    "import utils\n",
    "\n",
    "SOURCE_PATH, DEST_PATH = utils.main_processor(\n",
    "    data_dir='..\\data',  # search project ..\\data\n",
    "    downloads_dir='',  # None searchs Downloads dir, '' omits search\n",
    "    downloads_limit=0,  # search the first 10 files\n",
    "    clean_name_override='df_perf_ratios.pkl',  # override filename\n",
    "    start_file_pattern='df_OHLCV_', # search for files starting with 'df_'\n",
    ")\n",
    "\n"
   ]
  },
  {
   "cell_type": "code",
   "execution_count": 3,
   "metadata": {},
   "outputs": [
    {
     "data": {
      "text/html": [
       "<div>\n",
       "<style scoped>\n",
       "    .dataframe tbody tr th:only-of-type {\n",
       "        vertical-align: middle;\n",
       "    }\n",
       "\n",
       "    .dataframe tbody tr th {\n",
       "        vertical-align: top;\n",
       "    }\n",
       "\n",
       "    .dataframe thead th {\n",
       "        text-align: right;\n",
       "    }\n",
       "</style>\n",
       "<table border=\"1\" class=\"dataframe\">\n",
       "  <thead>\n",
       "    <tr style=\"text-align: right;\">\n",
       "      <th></th>\n",
       "      <th></th>\n",
       "      <th>Adj Close</th>\n",
       "    </tr>\n",
       "    <tr>\n",
       "      <th>Symbol</th>\n",
       "      <th>Date</th>\n",
       "      <th></th>\n",
       "    </tr>\n",
       "  </thead>\n",
       "  <tbody>\n",
       "    <tr>\n",
       "      <th rowspan=\"5\" valign=\"top\">AAPL</th>\n",
       "      <th>2025-03-07</th>\n",
       "      <td>239.07</td>\n",
       "    </tr>\n",
       "    <tr>\n",
       "      <th>2025-03-06</th>\n",
       "      <td>235.33</td>\n",
       "    </tr>\n",
       "    <tr>\n",
       "      <th>2025-03-05</th>\n",
       "      <td>235.74</td>\n",
       "    </tr>\n",
       "    <tr>\n",
       "      <th>2025-03-04</th>\n",
       "      <td>235.93</td>\n",
       "    </tr>\n",
       "    <tr>\n",
       "      <th>2025-03-03</th>\n",
       "      <td>238.03</td>\n",
       "    </tr>\n",
       "    <tr>\n",
       "      <th>...</th>\n",
       "      <th>...</th>\n",
       "      <td>...</td>\n",
       "    </tr>\n",
       "    <tr>\n",
       "      <th rowspan=\"5\" valign=\"top\">FCOM</th>\n",
       "      <th>2024-03-14</th>\n",
       "      <td>48.10</td>\n",
       "    </tr>\n",
       "    <tr>\n",
       "      <th>2024-03-13</th>\n",
       "      <td>48.22</td>\n",
       "    </tr>\n",
       "    <tr>\n",
       "      <th>2024-03-12</th>\n",
       "      <td>48.20</td>\n",
       "    </tr>\n",
       "    <tr>\n",
       "      <th>2024-03-11</th>\n",
       "      <td>47.87</td>\n",
       "    </tr>\n",
       "    <tr>\n",
       "      <th>2024-03-08</th>\n",
       "      <td>47.87</td>\n",
       "    </tr>\n",
       "  </tbody>\n",
       "</table>\n",
       "<p>620750 rows × 1 columns</p>\n",
       "</div>"
      ],
      "text/plain": [
       "                   Adj Close\n",
       "Symbol Date                 \n",
       "AAPL   2025-03-07     239.07\n",
       "       2025-03-06     235.33\n",
       "       2025-03-05     235.74\n",
       "       2025-03-04     235.93\n",
       "       2025-03-03     238.03\n",
       "...                      ...\n",
       "FCOM   2024-03-14      48.10\n",
       "       2024-03-13      48.22\n",
       "       2024-03-12      48.20\n",
       "       2024-03-11      47.87\n",
       "       2024-03-08      47.87\n",
       "\n",
       "[620750 rows x 1 columns]"
      ]
     },
     "metadata": {},
     "output_type": "display_data"
    }
   ],
   "source": [
    "import pandas as pd\n",
    "\n",
    "# Load the DataFrame from the pickle file\n",
    "df = pd.read_pickle(SOURCE_PATH)\n",
    "\n",
    "# Display the first few rows of the DataFrame to verify\n",
    "df = df[['Adj Close']].copy()\n",
    "display(df)"
   ]
  },
  {
   "cell_type": "code",
   "execution_count": 4,
   "metadata": {},
   "outputs": [],
   "source": [
    "import utils\n",
    "\n",
    "list_dfs = utils.get_latest_dfs(df, DAYS_RATIO)"
   ]
  },
  {
   "cell_type": "code",
   "execution_count": 5,
   "metadata": {},
   "outputs": [
    {
     "name": "stdout",
     "output_type": "stream",
     "text": [
      "\n",
      "Combined performance metrics DataFrame:\n",
      "      Sharpe 30d  Sortino 30d  Omega 30d  Sharpe 63d  Sortino 63d  Omega 63d  \\\n",
      "A      -5.993620    -6.466958   0.339012   -1.674944    -2.234644   0.749575   \n",
      "AA     -2.155763    -2.666636   0.684955   -2.977692    -3.484073   0.595495   \n",
      "AAL    -6.161390    -6.616198   0.345950   -0.886122    -1.413585   0.834315   \n",
      "AAON   -4.036187    -4.292629   0.397821   -2.681261    -2.930634   0.544580   \n",
      "AAP    -3.596952    -3.990680   0.475036   -1.322611    -1.593380   0.778788   \n",
      "...          ...          ...        ...         ...          ...        ...   \n",
      "ZM     -1.042746    -1.420463   0.797720   -1.124288    -1.520347   0.804002   \n",
      "ZS      1.786321     2.972718   1.327855    0.203157     0.288942   1.032987   \n",
      "ZTO     1.951694     2.910301   1.343725    0.974938     1.404762   1.163057   \n",
      "ZTS     0.313751     0.411443   1.054799   -0.449735    -0.577324   0.928823   \n",
      "ZWS    -3.474744    -3.957712   0.562681   -2.711818    -3.164389   0.644772   \n",
      "\n",
      "      Sharpe 125d  Sortino 125d  Omega 125d  Sharpe 250d  Sortino 250d  \\\n",
      "A       -0.642007     -0.918444    0.895019    -0.600526     -0.811223   \n",
      "AA       0.781738      1.169699    1.141902     0.377389      0.548348   \n",
      "AAL      0.968267      1.665870    1.200368    -0.159596     -0.235084   \n",
      "AAON     0.032063      0.041957    1.007210     0.196037      0.253517   \n",
      "AAP     -0.205835     -0.266902    0.964303    -1.238796     -1.523658   \n",
      "...           ...           ...         ...          ...           ...   \n",
      "ZM       0.800067      1.146691    1.153786     0.423432      0.645999   \n",
      "ZS       1.709588      2.633319    1.311832     0.226878      0.298784   \n",
      "ZTO     -0.243128     -0.353621    0.961616     0.195529      0.297980   \n",
      "ZTS     -0.949118     -1.193616    0.854051    -0.268903     -0.364409   \n",
      "ZWS      1.470190      2.364153    1.285417     0.420080      0.623016   \n",
      "\n",
      "      Omega 250d  \n",
      "A       0.901131  \n",
      "AA      1.063907  \n",
      "AAL     0.970544  \n",
      "AAON    1.042186  \n",
      "AAP     0.800552  \n",
      "...          ...  \n",
      "ZM      1.080501  \n",
      "ZS      1.041159  \n",
      "ZTO     1.032771  \n",
      "ZTS     0.954218  \n",
      "ZWS     1.070735  \n",
      "\n",
      "[2483 rows x 12 columns]\n"
     ]
    }
   ],
   "source": [
    "all_results = {}\n",
    "\n",
    "for _df in list_dfs:\n",
    "    tickers_in_df = _df.index.get_level_values(0).unique()\n",
    "    for ticker in tickers_in_df:\n",
    "        result_df = utils.analyze_stock(_df, ticker, risk_free_rate=RISK_FREE_RATE)\n",
    "        if result_df is not None:\n",
    "            # Extract the ticker name from the result_df index\n",
    "            ticker_name = result_df.index[0]\n",
    "            # Convert the single-row DataFrame to a dictionary\n",
    "            metrics = result_df.iloc[0].to_dict()\n",
    "            \n",
    "            # Update the existing ticker entry or create a new one\n",
    "            if ticker_name in all_results:\n",
    "                all_results[ticker_name].update(metrics)\n",
    "            else:\n",
    "                all_results[ticker_name] = metrics\n",
    "\n",
    "if all_results:\n",
    "    combined_df = pd.DataFrame.from_dict(all_results, orient='index')\n",
    "    print(\"\\nCombined performance metrics DataFrame:\")\n",
    "    print(combined_df)\n",
    "else:\n",
    "    print(\"No performance metrics were calculated.\")"
   ]
  },
  {
   "cell_type": "code",
   "execution_count": 6,
   "metadata": {},
   "outputs": [
    {
     "name": "stdout",
     "output_type": "stream",
     "text": [
      "DataFrame successfully saved to ..\\data\\df_perf_ratios.pkl\n"
     ]
    }
   ],
   "source": [
    "# Save the combined DataFrame to pickle file\n",
    "combined_df.to_pickle(DEST_PATH)\n",
    "print(f\"DataFrame successfully saved to {DEST_PATH}\")"
   ]
  },
  {
   "cell_type": "code",
   "execution_count": 7,
   "metadata": {},
   "outputs": [
    {
     "name": "stdout",
     "output_type": "stream",
     "text": [
      "+------+--------------+---------------+-------------+--------------+---------------+-------------+---------------+----------------+--------------+---------------+----------------+--------------+\n",
      "|      |   Sharpe 30d |   Sortino 30d |   Omega 30d |   Sharpe 63d |   Sortino 63d |   Omega 63d |   Sharpe 125d |   Sortino 125d |   Omega 125d |   Sharpe 250d |   Sortino 250d |   Omega 250d |\n",
      "+======+==============+===============+=============+==============+===============+=============+===============+================+==============+===============+================+==============+\n",
      "| AAPL |       2.3427 |        3.7633 |      1.4917 |      -0.2936 |       -0.3939 |      0.9512 |        0.6798 |         0.9495 |       1.1233 |        1.3981 |         2.1201 |       1.2752 |\n",
      "+------+--------------+---------------+-------------+--------------+---------------+-------------+---------------+----------------+--------------+---------------+----------------+--------------+\n",
      "| MSFT |      -3.7995 |       -4.3646 |      0.4960 |      -1.7787 |       -2.2614 |      0.7240 |       -0.2143 |        -0.2775 |       0.9622 |       -0.1971 |        -0.2563 |       0.9667 |\n",
      "+------+--------------+---------------+-------------+--------------+---------------+-------------+---------------+----------------+--------------+---------------+----------------+--------------+\n",
      "| GOOG |      -3.4833 |       -3.9329 |      0.5502 |       0.0311 |        0.0443 |      1.0053 |        1.0544 |         1.5181 |       1.1944 |        0.9237 |         1.3507 |       1.1740 |\n",
      "+------+--------------+---------------+-------------+--------------+---------------+-------------+---------------+----------------+--------------+---------------+----------------+--------------+\n",
      "| NVDA |      -2.1891 |       -2.5486 |      0.6777 |      -1.3847 |       -1.6828 |      0.7863 |        0.5469 |         0.7237 |       1.0983 |        0.6682 |         0.9357 |       1.1183 |\n",
      "+------+--------------+---------------+-------------+--------------+---------------+-------------+---------------+----------------+--------------+---------------+----------------+--------------+\n",
      "| IBIT |      -4.0532 |       -4.7058 |      0.5363 |      -1.0281 |       -1.3779 |      0.8517 |        2.1269 |         3.6887 |       1.4168 |        0.6104 |         0.9441 |       1.1054 |\n",
      "+------+--------------+---------------+-------------+--------------+---------------+-------------+---------------+----------------+--------------+---------------+----------------+--------------+\n",
      "| GLD  |       2.8060 |        4.5361 |      1.5811 |       2.5278 |        3.8685 |      1.4790 |        1.8789 |         2.6649 |       1.3540 |        1.6956 |         2.4350 |       1.3145 |\n",
      "+------+--------------+---------------+-------------+--------------+---------------+-------------+---------------+----------------+--------------+---------------+----------------+--------------+\n",
      "| VCIT |       2.6909 |        4.7131 |      1.5017 |      -0.5543 |       -0.7812 |      0.9145 |       -0.8620 |        -1.1922 |       0.8689 |        0.2982 |         0.4227 |       1.0485 |\n",
      "+------+--------------+---------------+-------------+--------------+---------------+-------------+---------------+----------------+--------------+---------------+----------------+--------------+\n"
     ]
    }
   ],
   "source": [
    "_symbols = ['AAPL', 'MSFT', 'GOOG', 'NVDA', 'IBIT', 'GLD', 'VCIT']\n",
    "\n",
    "from tabulate import tabulate\n",
    "\n",
    "# Create a DataFrame with only the selected symbols\n",
    "selected_df = combined_df.loc[_symbols]\n",
    "\n",
    "# Display the formatted table\n",
    "print(tabulate(selected_df, headers='keys', tablefmt='grid', floatfmt='.4f'))"
   ]
  },
  {
   "cell_type": "code",
   "execution_count": null,
   "metadata": {},
   "outputs": [],
   "source": []
  }
 ],
 "metadata": {
  "kernelspec": {
   "display_name": ".venv",
   "language": "python",
   "name": "python3"
  },
  "language_info": {
   "codemirror_mode": {
    "name": "ipython",
    "version": 3
   },
   "file_extension": ".py",
   "mimetype": "text/x-python",
   "name": "python",
   "nbconvert_exporter": "python",
   "pygments_lexer": "ipython3",
   "version": "3.10.5"
  }
 },
 "nbformat": 4,
 "nbformat_minor": 2
}
