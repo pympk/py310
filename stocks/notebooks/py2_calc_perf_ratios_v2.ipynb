{
 "cells": [
  {
   "cell_type": "code",
   "execution_count": null,
   "metadata": {},
   "outputs": [],
   "source": []
  },
  {
   "cell_type": "code",
   "execution_count": 1,
   "metadata": {},
   "outputs": [],
   "source": [
    "# Configuration\n",
    "\n",
    "# days used in calculating ratios\n",
    "DAYS_RATIO = [15, 30, 60, 120, 250]\n",
    "\n",
    "# risk free rate\n",
    "RISK_FREE_RATE = 0.04"
   ]
  },
  {
   "cell_type": "code",
   "execution_count": 2,
   "metadata": {},
   "outputs": [
    {
     "name": "stdout",
     "output_type": "stream",
     "text": [
      "Python will look in these locations:\n",
      "['C:\\\\Users\\\\ping\\\\.pyenv\\\\pyenv-win\\\\versions\\\\3.10.5\\\\python310.zip', 'C:\\\\Users\\\\ping\\\\.pyenv\\\\pyenv-win\\\\versions\\\\3.10.5\\\\DLLs', 'C:\\\\Users\\\\ping\\\\.pyenv\\\\pyenv-win\\\\versions\\\\3.10.5\\\\lib', 'C:\\\\Users\\\\ping\\\\.pyenv\\\\pyenv-win\\\\versions\\\\3.10.5', 'c:\\\\Users\\\\ping\\\\Files_win10\\\\python\\\\py310\\\\.venv', '', 'c:\\\\Users\\\\ping\\\\Files_win10\\\\python\\\\py310\\\\.venv\\\\lib\\\\site-packages', 'c:\\\\Users\\\\ping\\\\Files_win10\\\\python\\\\py310\\\\.venv\\\\lib\\\\site-packages\\\\win32', 'c:\\\\Users\\\\ping\\\\Files_win10\\\\python\\\\py310\\\\.venv\\\\lib\\\\site-packages\\\\win32\\\\lib', 'c:\\\\Users\\\\ping\\\\Files_win10\\\\python\\\\py310\\\\.venv\\\\lib\\\\site-packages\\\\Pythonwin', 'c:\\\\Users\\\\ping\\\\Files_win10\\\\python\\\\py310\\\\stocks\\\\src']\n"
     ]
    },
    {
     "data": {
      "text/markdown": [
       "**Available 'df_OHLCV_' files:**"
      ],
      "text/plain": [
       "<IPython.core.display.Markdown object>"
      ]
     },
     "metadata": {},
     "output_type": "display_data"
    },
    {
     "data": {
      "text/markdown": [
       "- (1) `[DATA]` `df_OHLCV_2025-03-07_clean.pkl` <span style='color:#00ffff'>(45.60 MB, 2025-03-09 12:53)</span>"
      ],
      "text/plain": [
       "<IPython.core.display.Markdown object>"
      ]
     },
     "metadata": {},
     "output_type": "display_data"
    },
    {
     "data": {
      "text/markdown": [
       "- (2) `[DATA]` `df_OHLCV_2025-03-10_clean.pkl` <span style='color:#00ffff'>(45.55 MB, 2025-03-10 20:09)</span>"
      ],
      "text/plain": [
       "<IPython.core.display.Markdown object>"
      ]
     },
     "metadata": {},
     "output_type": "display_data"
    },
    {
     "name": "stdout",
     "output_type": "stream",
     "text": [
      "\n",
      "Input a number to select file (1-2)\n"
     ]
    },
    {
     "data": {
      "text/markdown": [
       "\n",
       "    **Selected paths:**\n",
       "    - Source: `..\\data\\df_OHLCV_2025-03-10_clean.pkl`  \n",
       "    - Destination: `..\\data\\df_perf_ratios.pkl`\n",
       "    "
      ],
      "text/plain": [
       "<IPython.core.display.Markdown object>"
      ]
     },
     "metadata": {},
     "output_type": "display_data"
    }
   ],
   "source": [
    "import sys\n",
    "from pathlib import Path\n",
    "\n",
    "# Notebook cell\n",
    "%load_ext autoreload\n",
    "%autoreload 2\n",
    "\n",
    "# Get root directory (assuming notebook is in root/notebooks/)\n",
    "NOTEBOOK_DIR = Path.cwd()\n",
    "ROOT_DIR = NOTEBOOK_DIR.parent if NOTEBOOK_DIR.name == 'notebooks' else NOTEBOOK_DIR\n",
    "\n",
    "# Add src directory to Python path\n",
    "sys.path.append(str(ROOT_DIR / 'src'))\n",
    "\n",
    "# Verify path\n",
    "print(f\"Python will look in these locations:\\n{sys.path}\")\n",
    "\n",
    "\n",
    "# --- Execute the processor ---\n",
    "import utils\n",
    "\n",
    "SOURCE_PATH, DEST_PATH = utils.main_processor(\n",
    "    data_dir='..\\data',  # search project ..\\data\n",
    "    downloads_dir='',  # None searchs Downloads dir, '' omits search\n",
    "    downloads_limit=0,  # search the first 10 files\n",
    "    clean_name_override='df_perf_ratios.pkl',  # override filename\n",
    "    start_file_pattern='df_OHLCV_', # search for files starting with 'df_'\n",
    ")\n",
    "\n"
   ]
  },
  {
   "cell_type": "code",
   "execution_count": 3,
   "metadata": {},
   "outputs": [
    {
     "data": {
      "text/html": [
       "<div>\n",
       "<style scoped>\n",
       "    .dataframe tbody tr th:only-of-type {\n",
       "        vertical-align: middle;\n",
       "    }\n",
       "\n",
       "    .dataframe tbody tr th {\n",
       "        vertical-align: top;\n",
       "    }\n",
       "\n",
       "    .dataframe thead th {\n",
       "        text-align: right;\n",
       "    }\n",
       "</style>\n",
       "<table border=\"1\" class=\"dataframe\">\n",
       "  <thead>\n",
       "    <tr style=\"text-align: right;\">\n",
       "      <th></th>\n",
       "      <th></th>\n",
       "      <th>Adj Close</th>\n",
       "    </tr>\n",
       "    <tr>\n",
       "      <th>Symbol</th>\n",
       "      <th>Date</th>\n",
       "      <th></th>\n",
       "    </tr>\n",
       "  </thead>\n",
       "  <tbody>\n",
       "    <tr>\n",
       "      <th rowspan=\"5\" valign=\"top\">AAPL</th>\n",
       "      <th>2025-03-10</th>\n",
       "      <td>227.48</td>\n",
       "    </tr>\n",
       "    <tr>\n",
       "      <th>2025-03-07</th>\n",
       "      <td>239.07</td>\n",
       "    </tr>\n",
       "    <tr>\n",
       "      <th>2025-03-06</th>\n",
       "      <td>235.33</td>\n",
       "    </tr>\n",
       "    <tr>\n",
       "      <th>2025-03-05</th>\n",
       "      <td>235.74</td>\n",
       "    </tr>\n",
       "    <tr>\n",
       "      <th>2025-03-04</th>\n",
       "      <td>235.93</td>\n",
       "    </tr>\n",
       "    <tr>\n",
       "      <th>...</th>\n",
       "      <th>...</th>\n",
       "      <td>...</td>\n",
       "    </tr>\n",
       "    <tr>\n",
       "      <th rowspan=\"5\" valign=\"top\">FCOM</th>\n",
       "      <th>2024-03-15</th>\n",
       "      <td>47.62</td>\n",
       "    </tr>\n",
       "    <tr>\n",
       "      <th>2024-03-14</th>\n",
       "      <td>48.10</td>\n",
       "    </tr>\n",
       "    <tr>\n",
       "      <th>2024-03-13</th>\n",
       "      <td>48.22</td>\n",
       "    </tr>\n",
       "    <tr>\n",
       "      <th>2024-03-12</th>\n",
       "      <td>48.20</td>\n",
       "    </tr>\n",
       "    <tr>\n",
       "      <th>2024-03-11</th>\n",
       "      <td>47.87</td>\n",
       "    </tr>\n",
       "  </tbody>\n",
       "</table>\n",
       "<p>620000 rows × 1 columns</p>\n",
       "</div>"
      ],
      "text/plain": [
       "                   Adj Close\n",
       "Symbol Date                 \n",
       "AAPL   2025-03-10     227.48\n",
       "       2025-03-07     239.07\n",
       "       2025-03-06     235.33\n",
       "       2025-03-05     235.74\n",
       "       2025-03-04     235.93\n",
       "...                      ...\n",
       "FCOM   2024-03-15      47.62\n",
       "       2024-03-14      48.10\n",
       "       2024-03-13      48.22\n",
       "       2024-03-12      48.20\n",
       "       2024-03-11      47.87\n",
       "\n",
       "[620000 rows x 1 columns]"
      ]
     },
     "metadata": {},
     "output_type": "display_data"
    }
   ],
   "source": [
    "import pandas as pd\n",
    "\n",
    "# Load the DataFrame from the pickle file\n",
    "df = pd.read_pickle(SOURCE_PATH)\n",
    "\n",
    "# Display the first few rows of the DataFrame to verify\n",
    "df = df[['Adj Close']].copy()\n",
    "display(df)"
   ]
  },
  {
   "cell_type": "code",
   "execution_count": 4,
   "metadata": {},
   "outputs": [],
   "source": [
    "import utils\n",
    "\n",
    "list_dfs = utils.get_latest_dfs(df, DAYS_RATIO)"
   ]
  },
  {
   "cell_type": "code",
   "execution_count": 5,
   "metadata": {},
   "outputs": [
    {
     "name": "stdout",
     "output_type": "stream",
     "text": [
      "\n",
      "Combined performance metrics DataFrame:\n",
      "      Sharpe 15d  Sortino 15d  Omega 15d  Sharpe 30d  Sortino 30d  Omega 30d  \\\n",
      "A      -5.505585    -5.855561   0.335729   -6.734780    -7.002462   0.300426   \n",
      "AA     -5.666268    -6.069974   0.374360   -2.033830    -2.547147   0.701730   \n",
      "AAL    -9.758861    -9.581713   0.204881   -7.367966    -7.556580   0.281696   \n",
      "AAON   -5.291580    -5.546311   0.302506   -3.217010    -3.543728   0.480896   \n",
      "AAP    -3.486874    -3.946222   0.472947   -3.332664    -3.740184   0.507988   \n",
      "...          ...          ...        ...         ...          ...        ...   \n",
      "ZM     -6.501352    -6.330959   0.227003   -2.215518    -2.891289   0.619095   \n",
      "ZS     -3.757921    -4.394813   0.570578    0.475289     0.684074   1.080152   \n",
      "ZTO     0.644115     0.947906   1.109089    1.342331     1.980133   1.228681   \n",
      "ZTS     7.192651    14.298137   3.187329   -0.201828    -0.256705   0.965810   \n",
      "ZWS    -2.787690    -3.419556   0.635059   -4.457622    -4.902777   0.482494   \n",
      "\n",
      "      Sharpe 60d  Sortino 60d  Omega 60d  Sharpe 120d  Sortino 120d  \\\n",
      "A      -2.586946    -3.246425   0.631665    -1.011509     -1.416187   \n",
      "AA     -2.670805    -3.190910   0.632979    -0.331531     -0.463910   \n",
      "AAL    -3.579376    -4.116275   0.534457     0.800832      1.360534   \n",
      "AAON   -2.643905    -2.898112   0.551803    -0.399326     -0.517818   \n",
      "AAP    -1.644883    -1.942857   0.731557    -0.215078     -0.277779   \n",
      "...          ...          ...        ...          ...           ...   \n",
      "ZM     -1.616160    -2.115577   0.729416     0.568516      0.806212   \n",
      "ZS     -0.269419    -0.362980   0.956867     0.797498      1.156255   \n",
      "ZTO     0.801533     1.117096   1.130991    -0.517696     -0.750050   \n",
      "ZTS    -0.450046    -0.576765   0.928822    -1.136948     -1.418897   \n",
      "ZWS    -3.273485    -3.729731   0.584860     0.217811      0.301875   \n",
      "\n",
      "      Omega 120d  Sharpe 250d  Sortino 250d  Omega 250d  \n",
      "A       0.839895    -0.725754     -0.971669    0.881852  \n",
      "AA      0.944742     0.203909      0.293562    1.034045  \n",
      "AAL     1.164174    -0.249204     -0.365144    0.954561  \n",
      "AAON    0.914083     0.189950      0.245595    1.040837  \n",
      "AAP     0.962819    -1.244576     -1.530156    0.799701  \n",
      "...          ...          ...           ...         ...  \n",
      "ZM      1.106089     0.199691      0.300478    1.037174  \n",
      "ZS      1.137666     0.025831      0.033653    1.004609  \n",
      "ZTO     0.920604     0.186079      0.283542    1.031141  \n",
      "ZTS     0.828126    -0.264253     -0.358162    0.955003  \n",
      "ZWS     1.035903     0.352919      0.519862    1.059135  \n",
      "\n",
      "[2480 rows x 15 columns]\n"
     ]
    }
   ],
   "source": [
    "all_results = {}\n",
    "\n",
    "for _df in list_dfs:\n",
    "    tickers_in_df = _df.index.get_level_values(0).unique()\n",
    "    for ticker in tickers_in_df:\n",
    "        result_df = utils.analyze_stock(_df, ticker, risk_free_rate=RISK_FREE_RATE)\n",
    "        if result_df is not None:\n",
    "            # Extract the ticker name from the result_df index\n",
    "            ticker_name = result_df.index[0]\n",
    "            # Convert the single-row DataFrame to a dictionary\n",
    "            metrics = result_df.iloc[0].to_dict()\n",
    "            \n",
    "            # Update the existing ticker entry or create a new one\n",
    "            if ticker_name in all_results:\n",
    "                all_results[ticker_name].update(metrics)\n",
    "            else:\n",
    "                all_results[ticker_name] = metrics\n",
    "\n",
    "if all_results:\n",
    "    combined_df = pd.DataFrame.from_dict(all_results, orient='index')\n",
    "    print(\"\\nCombined performance metrics DataFrame:\")\n",
    "    print(combined_df)\n",
    "else:\n",
    "    print(\"No performance metrics were calculated.\")"
   ]
  },
  {
   "cell_type": "code",
   "execution_count": 6,
   "metadata": {},
   "outputs": [
    {
     "name": "stdout",
     "output_type": "stream",
     "text": [
      "DataFrame successfully saved to ..\\data\\df_perf_ratios.pkl\n"
     ]
    }
   ],
   "source": [
    "# Save the combined DataFrame to pickle file\n",
    "combined_df.to_pickle(DEST_PATH)\n",
    "print(f\"DataFrame successfully saved to {DEST_PATH}\")"
   ]
  },
  {
   "cell_type": "code",
   "execution_count": 7,
   "metadata": {},
   "outputs": [
    {
     "name": "stdout",
     "output_type": "stream",
     "text": [
      "+------+--------------+---------------+-------------+--------------+---------------+-------------+--------------+---------------+-------------+---------------+----------------+--------------+---------------+----------------+--------------+\n",
      "|      |   Sharpe 15d |   Sortino 15d |   Omega 15d |   Sharpe 30d |   Sortino 30d |   Omega 30d |   Sharpe 60d |   Sortino 60d |   Omega 60d |   Sharpe 120d |   Sortino 120d |   Omega 120d |   Sharpe 250d |   Sortino 250d |   Omega 250d |\n",
      "+======+==============+===============+=============+==============+===============+=============+==============+===============+=============+===============+================+==============+===============+================+==============+\n",
      "| AAPL |      -4.7174 |       -5.0886 |      0.3901 |      -0.2793 |       -0.3698 |      0.9520 |      -1.3574 |       -1.7114 |      0.7926 |        0.4225 |         0.5726 |       1.0754 |        1.1192 |         1.6548 |       1.2161 |\n",
      "+------+--------------+---------------+-------------+--------------+---------------+-------------+--------------+---------------+-------------+---------------+----------------+--------------+---------------+----------------+--------------+\n",
      "| MSFT |      -4.8402 |       -5.8097 |      0.4719 |      -4.0481 |       -4.5768 |      0.4721 |      -2.5544 |       -3.1438 |      0.6300 |       -1.1730 |        -1.4616 |       0.8078 |       -0.3317 |        -0.4278 |       0.9445 |\n",
      "+------+--------------+---------------+-------------+--------------+---------------+-------------+--------------+---------------+-------------+---------------+----------------+--------------+---------------+----------------+--------------+\n",
      "| GOOG |      -5.9282 |       -6.3195 |      0.3882 |      -3.5573 |       -3.9948 |      0.5415 |      -1.3267 |       -1.7221 |      0.7986 |        0.4082 |         0.5683 |       1.0718 |        0.6841 |         0.9847 |       1.1265 |\n",
      "+------+--------------+---------------+-------------+--------------+---------------+-------------+--------------+---------------+-------------+---------------+----------------+--------------+---------------+----------------+--------------+\n",
      "| NVDA |      -6.7687 |       -6.8994 |      0.3384 |      -1.1152 |       -1.4525 |      0.8368 |      -1.2740 |       -1.5467 |      0.8031 |       -0.1582 |        -0.2018 |       0.9733 |        0.6107 |         0.8524 |       1.1074 |\n",
      "+------+--------------+---------------+-------------+--------------+---------------+-------------+--------------+---------------+-------------+---------------+----------------+--------------+---------------+----------------+--------------+\n",
      "| IBIT |      -5.0714 |       -5.4886 |      0.4373 |      -4.5455 |       -4.9698 |      0.4685 |      -1.5770 |       -2.0217 |      0.7789 |        1.4349 |         2.3205 |       1.2673 |        0.3633 |         0.5502 |       1.0617 |\n",
      "+------+--------------+---------------+-------------+--------------+---------------+-------------+--------------+---------------+-------------+---------------+----------------+--------------+---------------+----------------+--------------+\n",
      "| GLD  |      -2.7456 |       -3.4224 |      0.6197 |       2.9338 |        4.7920 |      1.6154 |       1.8884 |        2.8145 |      1.3393 |        1.3435 |         1.8678 |       1.2405 |        1.6227 |         2.3271 |       1.2984 |\n",
      "+------+--------------+---------------+-------------+--------------+---------------+-------------+--------------+---------------+-------------+---------------+----------------+--------------+---------------+----------------+--------------+\n",
      "| VCIT |       5.3800 |       10.3668 |      2.1930 |       2.3368 |        3.9420 |      1.4196 |      -0.2887 |       -0.4091 |      0.9548 |       -1.0471 |        -1.4433 |       0.8436 |        0.3700 |         0.5253 |       1.0604 |\n",
      "+------+--------------+---------------+-------------+--------------+---------------+-------------+--------------+---------------+-------------+---------------+----------------+--------------+---------------+----------------+--------------+\n"
     ]
    }
   ],
   "source": [
    "_symbols = ['AAPL', 'MSFT', 'GOOG', 'NVDA', 'IBIT', 'GLD', 'VCIT']\n",
    "\n",
    "from tabulate import tabulate\n",
    "\n",
    "# Create a DataFrame with only the selected symbols\n",
    "selected_df = combined_df.loc[_symbols]\n",
    "\n",
    "# Display the formatted table\n",
    "print(tabulate(selected_df, headers='keys', tablefmt='grid', floatfmt='.4f'))"
   ]
  },
  {
   "cell_type": "code",
   "execution_count": null,
   "metadata": {},
   "outputs": [],
   "source": []
  }
 ],
 "metadata": {
  "kernelspec": {
   "display_name": ".venv",
   "language": "python",
   "name": "python3"
  },
  "language_info": {
   "codemirror_mode": {
    "name": "ipython",
    "version": 3
   },
   "file_extension": ".py",
   "mimetype": "text/x-python",
   "name": "python",
   "nbconvert_exporter": "python",
   "pygments_lexer": "ipython3",
   "version": "3.10.5"
  }
 },
 "nbformat": 4,
 "nbformat_minor": 2
}
