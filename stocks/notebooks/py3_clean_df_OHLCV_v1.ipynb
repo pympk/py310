{
 "cells": [
  {
   "cell_type": "code",
   "execution_count": null,
   "metadata": {},
   "outputs": [],
   "source": []
  },
  {
   "cell_type": "code",
   "execution_count": 1,
   "metadata": {},
   "outputs": [
    {
     "data": {
      "text/markdown": [
       "**Available OHLCV files:**"
      ],
      "text/plain": [
       "<IPython.core.display.Markdown object>"
      ]
     },
     "metadata": {},
     "output_type": "display_data"
    },
    {
     "data": {
      "text/markdown": [
       "- (1) `df_OHLCV_2025-03-03.pkl`"
      ],
      "text/plain": [
       "<IPython.core.display.Markdown object>"
      ]
     },
     "metadata": {},
     "output_type": "display_data"
    },
    {
     "data": {
      "text/markdown": [
       "- (2) `df_OHLCV_2025-03-03_clean.pkl`"
      ],
      "text/plain": [
       "<IPython.core.display.Markdown object>"
      ]
     },
     "metadata": {},
     "output_type": "display_data"
    },
    {
     "data": {
      "text/markdown": [
       "- (3) `df_OHLCV_2025-03-06.pkl`"
      ],
      "text/plain": [
       "<IPython.core.display.Markdown object>"
      ]
     },
     "metadata": {},
     "output_type": "display_data"
    },
    {
     "data": {
      "text/markdown": [
       "\n",
       "    **Selected paths:**\n",
       "    - Source: `temp\\df_OHLCV_2025-03-03.pkl`  \n",
       "    - Destination: `temp\\df_OHLCV_2025-03-03_clean.pkl`\n",
       "    "
      ],
      "text/plain": [
       "<IPython.core.display.Markdown object>"
      ]
     },
     "metadata": {},
     "output_type": "display_data"
    }
   ],
   "source": [
    "# --- Configuration & File Path Setup ---\n",
    "import os\n",
    "from IPython.display import display, Markdown\n",
    "\n",
    "def get_ohlcv_files(temp_dir):\n",
    "    \"\"\"Return list of files matching df_OHLCV_ pattern\"\"\"\n",
    "    os.makedirs(temp_dir, exist_ok=True)\n",
    "    return [f for f in os.listdir(temp_dir) if f.startswith('df_OHLCV_')]\n",
    "\n",
    "def display_file_selector(files):\n",
    "    \"\"\"Show interactive file selection interface\"\"\"\n",
    "    display(Markdown(\"**Available OHLCV files:**\"))\n",
    "    for idx, f in enumerate(files, 1):\n",
    "        display(Markdown(f\"- ({idx}) `{f}`\"))\n",
    "        \n",
    "def get_user_choice(files):\n",
    "    \"\"\"Handle user input with validation\"\"\"\n",
    "    while True:\n",
    "        try:\n",
    "            prompt = f\"\\n\\033[1mSelect file (1-{len(files)}): \\033[0m\"\n",
    "            choice = int(input(prompt))\n",
    "            if 1 <= choice <= len(files):\n",
    "                return files[choice-1]\n",
    "            display(Markdown(f\"<span style='color:red'>Enter 1-{len(files)}</span>\"))\n",
    "        except ValueError:\n",
    "            display(Markdown(\"<span style='color:red'>Numbers only!</span>\"))\n",
    "\n",
    "def generate_clean_filename(source_file):\n",
    "    \"\"\"Create cleaned filename with _clean suffix\"\"\"\n",
    "    base, ext = os.path.splitext(source_file)\n",
    "    return f\"{base}_clean{ext}\"\n",
    "\n",
    "def main_processor(temp_dir='temp'):\n",
    "    \"\"\"Orchestrate the full file selection process\"\"\"\n",
    "    # Get matching files\n",
    "    ohlcv_files = get_ohlcv_files(temp_dir)\n",
    "    if not ohlcv_files:\n",
    "        display(Markdown(\"**Error:** No OHLCV files found!\"))\n",
    "        return None, None\n",
    "    \n",
    "    # User interaction flow\n",
    "    display_file_selector(ohlcv_files)\n",
    "    selected_file = get_user_choice(ohlcv_files)\n",
    "    clean_file = generate_clean_filename(selected_file)\n",
    "    \n",
    "    # Build paths\n",
    "    source_path = os.path.join(temp_dir, selected_file)\n",
    "    dest_path = os.path.join(temp_dir, clean_file)\n",
    "    \n",
    "    # Final confirmation\n",
    "    display(Markdown(f\"\"\"\n",
    "    **Selected paths:**\n",
    "    - Source: `{source_path}`  \n",
    "    - Destination: `{dest_path}`\n",
    "    \"\"\"))\n",
    "    return source_path, dest_path\n",
    "\n",
    "# --- Execute the processor ---\n",
    "SOURCE_PATH, DEST_PATH = main_processor()"
   ]
  },
  {
   "cell_type": "code",
   "execution_count": null,
   "metadata": {},
   "outputs": [],
   "source": [
    "# --- Configuration & File Path Setup ---\n",
    "import os\n",
    "from IPython.display import display, Markdown  # Jupyter-specific display tools\n",
    "\n",
    "# Create temp directory if needed\n",
    "TEMP_DIR = os.path.join(os.getcwd(), 'temp')\n",
    "os.makedirs(TEMP_DIR, exist_ok=True)\n",
    "\n",
    "# List files starting with 'df_OHLCV_' in TEMP_DIR\n",
    "matching_files = [f for f in os.listdir(TEMP_DIR) if f.startswith('df_OHLCV_')]\n",
    "\n",
    "if not matching_files:\n",
    "    display(Markdown(\"**Error:** No matching files found in temp directory!\"))\n",
    "    exit()\n",
    "\n",
    "# Display files with bold headers using Markdown\n",
    "display(Markdown(\"**Available files:**\"))\n",
    "for idx, filename in enumerate(matching_files, 1):\n",
    "    display(Markdown(f\"- ({idx}) `{filename}`\"))\n",
    "\n",
    "# Jupyter-optimized input handling\n",
    "while True:\n",
    "    try:\n",
    "        print(f'\\nInput a number into the prompt (top of the screen) to select file to process')\n",
    "        # Create a prominent input prompt\n",
    "        choice = int(input(f\"\\n\\033[1mEnter choice (1-{len(matching_files)}): \\033[0m\"))\n",
    "        if 1 <= choice <= len(matching_files):\n",
    "            SOURCE_FILENAME = matching_files[choice - 1]\n",
    "            break\n",
    "        else:\n",
    "            display(Markdown(f\"<span style='color:red'>Invalid: Enter 1-{len(matching_files)}</span>\"))\n",
    "    except ValueError:\n",
    "        display(Markdown(\"<span style='color:red'>Numbers only please!</span>\"))\n",
    "\n",
    "# Generate cleaned filename\n",
    "base, ext = os.path.splitext(SOURCE_FILENAME)\n",
    "CLEANED_FILENAME = f\"{base}_clean{ext}\"\n",
    "\n",
    "# Build paths and show confirmation\n",
    "source_path = os.path.join(TEMP_DIR, SOURCE_FILENAME)\n",
    "dest_path = os.path.join(TEMP_DIR, CLEANED_FILENAME)\n",
    "\n",
    "display(Markdown(f\"\"\"\n",
    "**Selected paths:**\n",
    "- Source: `{source_path}`  \n",
    "- Destination: `{dest_path}`\n",
    "\"\"\"))"
   ]
  },
  {
   "cell_type": "code",
   "execution_count": null,
   "metadata": {},
   "outputs": [],
   "source": [
    "# --- Data Loading & Initial Inspection ---\n",
    "import pandas as pd\n",
    "\n",
    "# Load raw data from pickle file\n",
    "df = pd.read_pickle(source_path)\n",
    "\n",
    "# Display initial data structure\n",
    "print(\"[Raw Data Overview]\")\n",
    "display(df.head())\n",
    "df.info()"
   ]
  },
  {
   "cell_type": "code",
   "execution_count": null,
   "metadata": {},
   "outputs": [],
   "source": [
    "# --- Data Filtering & Cleaning ---\n",
    "import utils  # Custom utility functions\n",
    "\n",
    "# 1. Align dates across all symbols using SPY as reference\n",
    "df = utils.filter_df_dates_to_reference_symbol(df=df, reference_symbol='SPY')\n",
    "\n",
    "# 2. Remove symbols with missing data points\n",
    "df_clean, missing_symbols = utils.filter_symbols_with_missing_values(df)\n",
    "\n",
    "# Display cleaning results\n",
    "print(\"\\n[Cleaning Report]\")\n",
    "print(f\"Removed {len(missing_symbols)} symbols with missing data: {missing_symbols}\")\n",
    "print(\"\\n[Cleaned Data Structure]\")\n",
    "df_clean.info()"
   ]
  },
  {
   "cell_type": "code",
   "execution_count": null,
   "metadata": {},
   "outputs": [],
   "source": [
    "# --- Save Cleaned Data ---\n",
    "# Save processed data to pickle file\n",
    "df_clean.to_pickle(dest_path)\n",
    "print(f\"\\n[Save Successful] Cleaned data saved to:\\n{dest_path}\")"
   ]
  }
 ],
 "metadata": {
  "kernelspec": {
   "display_name": ".venv",
   "language": "python",
   "name": "python3"
  },
  "language_info": {
   "codemirror_mode": {
    "name": "ipython",
    "version": 3
   },
   "file_extension": ".py",
   "mimetype": "text/x-python",
   "name": "python",
   "nbconvert_exporter": "python",
   "pygments_lexer": "ipython3",
   "version": "3.10.5"
  }
 },
 "nbformat": 4,
 "nbformat_minor": 2
}
