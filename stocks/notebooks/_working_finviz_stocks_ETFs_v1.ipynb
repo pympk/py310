{
 "cells": [
  {
   "cell_type": "code",
   "execution_count": 15,
   "metadata": {},
   "outputs": [],
   "source": [
    "selector = '.styled-table-new'\n",
    "\n",
    "# columns_list = ['No.', 'Ticker', 'Company', 'Sector', 'Industry', 'Market Cap',\n",
    "#        'Dividend', 'Perf Week', 'Perf Month', 'Perf Quart', 'Perf Half',\n",
    "#        'Perf Year', 'Perf YTD', 'Beta', 'ATR', 'Volatility W', 'Volatility M',\n",
    "#        'SMA20', 'SMA50', 'SMA200', '52W High', '52W Low', 'RSI', 'Volume',\n",
    "#        'Price', 'Change', 'Single Category', 'Asset Type', 'AUM', 'Return% 1Y',\n",
    "#        'Return% 3Y', 'Return% 5Y',]"
   ]
  },
  {
   "cell_type": "code",
   "execution_count": 13,
   "metadata": {},
   "outputs": [],
   "source": [
    "import requests\n",
    "from bs4 import BeautifulSoup\n",
    "# import time\n",
    "# import random  # For a bit of randomness in the sleep time\n",
    "import pandas as pd\n",
    "\n",
    "def download_yahoo_finance_table(url, selector):\n",
    "    \"\"\"\n",
    "    Downloads table data from a Yahoo Finance page with rate limiting.\n",
    "    \"\"\"\n",
    "    try:\n",
    "        # Add a User-Agent header to mimic a browser\n",
    "        headers = {'User-Agent': 'Mozilla/5.0 (Windows NT 10.0; Win64; x64) AppleWebKit/537.36 (KHTML, like Gecko) Chrome/91.0.4472.124 Safari/537.36'}  # Example User-Agent\n",
    "        response = requests.get(url, headers=headers)\n",
    "        response.raise_for_status()  # Raise HTTPError for bad responses (4xx or 5xx)\n",
    "\n",
    "        soup = BeautifulSoup(response.content, 'html.parser')\n",
    "        table_body = soup.select_one(selector)\n",
    "\n",
    "        if table_body is None:\n",
    "            print(f\"Error: Table body not found using selector: {selector}\")\n",
    "            return None\n",
    "\n",
    "        rows = table_body.find_all('tr')\n",
    "        if not rows:\n",
    "            print(\"Error: No rows found in the table.\")\n",
    "            return None\n",
    "\n",
    "        # Extract headers from the first row (th elements)\n",
    "        headers_list = [th.text.strip() for th in rows[0].find_all('th')]\n",
    "\n",
    "        data = []\n",
    "        for row in rows:\n",
    "            cells = row.find_all('td')\n",
    "            row_data = [cell.text.strip() for cell in cells]\n",
    "            if row_data:  # Only append if the row has data\n",
    "                data.append(row_data)\n",
    "\n",
    "        if not data:\n",
    "            print(\"Error: No data found in the table rows.\")\n",
    "            return None\n",
    "\n",
    "        df = pd.DataFrame(data, columns=headers_list)\n",
    "        return df\n",
    "\n",
    "    except requests.exceptions.RequestException as e:\n",
    "        print(f\"Error during request: {e}\")\n",
    "        return None\n",
    "    except Exception as e:\n",
    "        print(f\"An unexpected error occurred: {e}\")\n",
    "        return None"
   ]
  },
  {
   "cell_type": "code",
   "execution_count": null,
   "metadata": {},
   "outputs": [],
   "source": [
    "import random\n",
    "\n",
    "def add_random_column(columns_str):\n",
    "    # Handle empty input to avoid conversion errors\n",
    "    columns = []\n",
    "    if columns_str:\n",
    "        columns = [int(x) for x in columns_str.split(',')]\n",
    "    \n",
    "    # Generate set of available numbers (0-130 not in columns)\n",
    "    available_nums = set(range(131)) - set(columns)\n",
    "    \n",
    "    if available_nums:\n",
    "        # Determine how many numbers to add (1-3, but not exceeding available count)\n",
    "        max_possible = len(available_nums)\n",
    "        max_k = min(3, max_possible)\n",
    "        k = random.randint(1, max_k)  # Randomly choose 1, 2, or 3 (or up to max possible)\n",
    "        \n",
    "        # Sample k unique numbers from available_nums\n",
    "        new_columns = random.sample(list(available_nums), k)\n",
    "        \n",
    "        # Add new numbers to the list and sort\n",
    "        columns.extend(new_columns)\n",
    "        columns.sort()\n",
    "        \n",
    "        # Convert back to string\n",
    "        return ','.join(map(str, columns))\n",
    "    else:\n",
    "        # Return original if no numbers available\n",
    "        return columns_str\n",
    "\n",
    "url_etfs ='https://finviz.com/screener.ashx?v=152&ft=4&o=-marketcap&c='\n",
    "url_columns ='0,1,2,3,4,6,14,42,43,44,45,46,47,48,49,50,51,52,53,54,57,58,59,67,65,66,103,100,109,120,121,122'\n",
    "url_etfs_rows = ['&r=1', '&r=21', '&r=41', '&r=61', '&r=81', '&r=101', '&r=121', '&r=141', '&r=161', '&r=181', '&r=201', '&r=221', '&r=241', '&r=261', '&r=281', '&r=301', '&r=321', '&r=341', '&r=361', '&r=381', '&r=401', '&r=421', '&r=441', '&r=461', '&r=481', '&r=501', '&r=521', '&r=541', '&r=561', '&r=581', '&r=601', '&r=621', '&r=641', '&r=661', '&r=681', '&r=701', '&r=721', '&r=741', '&r=761', '&r=781', '&r=801', '&r=821', '&r=841', '&r=861', '&r=881', '&r=901', '&r=921', '&r=941', '&r=961', '&r=981']\n",
    "# shuffled_url_etfs_rows = random.sample(url_etfs_rows, len(url_etfs_rows))  # Returns a new shuffled list\n",
    "\n",
    "# random_columns = add_random_column(url_columns)\n",
    "# print(f\"len: {len(random_columns)}, added_random_columns: {random_columns}\")    "
   ]
  },
  {
   "cell_type": "code",
   "execution_count": 8,
   "metadata": {},
   "outputs": [
    {
     "name": "stdout",
     "output_type": "stream",
     "text": [
      "len(urls_mktcap): 50\n",
      "['https://finviz.com/screener.ashx?v=152&ft=4&o=-marketcap&c=0,1,2,3,4,6,14,42,43,44,45,46,47,48,49,50,51,52,53,54,57,58,59,65,66,67,99,100,103,109,111,120,121,122,129&r=301', 'https://finviz.com/screener.ashx?v=152&ft=4&o=-marketcap&c=0,1,2,3,4,6,14,42,43,44,45,46,47,48,49,50,51,52,53,54,57,58,59,65,66,67,68,100,103,109,114,120,121,122&r=721', 'https://finviz.com/screener.ashx?v=152&ft=4&o=-marketcap&c=0,1,2,3,4,6,14,42,43,44,45,46,47,48,49,50,51,52,53,54,57,58,59,65,66,67,71,88,94,100,103,109,120,121,122&r=21']\n"
     ]
    }
   ],
   "source": [
    "urls_mktcap = []\n",
    "\n",
    "for _rows in shuffled_url_mktcap_rows:\n",
    "    random_columns = add_random_column(url_columns)\n",
    "    url = url_mktcap + random_columns + _rows\n",
    "    urls_mktcap.append(url)\n",
    "\n",
    "\n",
    "print(f'len(urls_mktcap): {len(urls_mktcap)}')\n",
    "print(urls_mktcap[0:3])  # Print the length of the list of url)"
   ]
  },
  {
   "cell_type": "code",
   "execution_count": null,
   "metadata": {},
   "outputs": [],
   "source": [
    "url_etfs ='https://finviz.com/screener.ashx?v=152&ft=4&o=-e.assetsundermanagement&c='\n",
    "url_columns ='0,1,2,3,4,6,14,42,43,44,45,46,47,48,49,50,51,52,53,54,57,58,59,67,65,66,103,100,109,120,121,122'\n",
    "url_etfs_rows = ['&r=1', '&r=21', '&r=41', '&r=61', '&r=81', '&r=101', '&r=121', '&r=141', '&r=161', '&r=181', '&r=201', '&r=221', '&r=241', '&r=261', '&r=281', '&r=301', '&r=321', '&r=341', '&r=361', '&r=381']\n",
    "# shuffled_url_etfs_rows = random.sample(url_etfs_rows, len(url_etfs_rows))  # Returns a new shuffled list"
   ]
  },
  {
   "cell_type": "code",
   "execution_count": null,
   "metadata": {},
   "outputs": [
    {
     "name": "stdout",
     "output_type": "stream",
     "text": [
      "len(urls_etfs): 20\n",
      "['https://finviz.com/screener.ashx?v=152&ft=4&o=-e.assetsundermanagement&c=0,1,2,3,4,6,14,42,43,44,45,46,47,48,49,50,51,52,53,54,57,58,59,65,66,67,70,92,95,100,103,109,120,121,122&r=341', 'https://finviz.com/screener.ashx?v=152&ft=4&o=-e.assetsundermanagement&c=0,1,2,3,4,6,14,16,20,42,43,44,45,46,47,48,49,50,51,52,53,54,57,58,59,65,66,67,100,103,109,120,121,122,127&r=321', 'https://finviz.com/screener.ashx?v=152&ft=4&o=-e.assetsundermanagement&c=0,1,2,3,4,6,14,42,43,44,45,46,47,48,49,50,51,52,53,54,57,58,59,65,66,67,97,100,103,109,120,121,122&r=61']\n"
     ]
    }
   ],
   "source": [
    "urls_etfs = []\n",
    "\n",
    "for _rows in shuffled_url_etfs_rows:\n",
    "    random_columns = add_random_column(url_columns)\n",
    "    url = url_etfs + random_columns + _rows\n",
    "    urls_etfs.append(url)\n",
    "\n",
    "print(f'len(urls_etfs): {len(urls_etfs)}')\n",
    "print(urls_etfs[0:3])  # Print the length of the list of url)"
   ]
  },
  {
   "cell_type": "code",
   "execution_count": 10,
   "metadata": {},
   "outputs": [
    {
     "name": "stdout",
     "output_type": "stream",
     "text": [
      "len(shuffled_urls): 70\n",
      "['https://finviz.com/screener.ashx?v=152&ft=4&o=-e.assetsundermanagement&c=0,1,2,3,4,6,14,42,43,44,45,46,47,48,49,50,51,52,53,54,57,58,59,65,66,67,76,100,103,109,120,121,122&r=21', 'https://finviz.com/screener.ashx?v=152&ft=4&o=-marketcap&c=0,1,2,3,4,6,14,19,42,43,44,45,46,47,48,49,50,51,52,53,54,57,58,59,65,66,67,75,100,103,108,109,120,121,122&r=201', 'https://finviz.com/screener.ashx?v=152&ft=4&o=-marketcap&c=0,1,2,3,4,6,14,42,43,44,45,46,47,48,49,50,51,52,53,54,57,58,59,65,66,67,95,100,103,109,120,121,122&r=81']\n"
     ]
    }
   ],
   "source": [
    "urls =  urls_mktcap +urls_etfs\n",
    "shuffled_urls = random.sample(urls, len(urls))  # Returns a new shuffled list\n",
    "\n",
    "print(f'len(shuffled_urls): {len(shuffled_urls)}')\n",
    "print(shuffled_urls[0:3])  # Print the length of the list of url)  "
   ]
  },
  {
   "cell_type": "code",
   "execution_count": null,
   "metadata": {},
   "outputs": [],
   "source": [
    "import pandas as pd\n",
    "import time\n",
    "import random\n",
    "\n",
    "urls_to_download = shuffled_urls[0:3]  # Adjust the range as needed\n",
    "total_urls_to_download = len(urls_to_download)\n",
    "\n",
    "df = pd.DataFrame()  # Initialized an empty DataFrame\n",
    "processed_count = 0\n",
    "\n",
    "columns_list = ['No.', 'Ticker', 'Company', 'Sector', 'Industry', 'Market Cap',\n",
    "       'Dividend', 'Perf Week', 'Perf Month', 'Perf Quart', 'Perf Half',\n",
    "       'Perf Year', 'Perf YTD', 'Beta', 'ATR', 'Volatility W', 'Volatility M',\n",
    "       'SMA20', 'SMA50', 'SMA200', '52W High', '52W Low', 'RSI', 'Volume',\n",
    "       'Price', 'Change', 'Single Category', 'Asset Type', 'AUM', 'Return% 1Y',\n",
    "       'Return% 3Y', 'Return% 5Y',]\n",
    "\n",
    "for url in urls_to_download :\n",
    "    # Introduce a delay between requests (adjust as needed)\n",
    "    delay_seconds = random.uniform(2, 4.5)  # Sleep between 2 and 5 seconds\n",
    "    # print(f\"Downloading {symbol}. Sleeping for {delay_seconds:.2f} seconds...\")\n",
    "    processed_count += 1\n",
    "    print(f\"Downloading {url}. Sleeping for {delay_seconds:.2f} seconds.  Processed {processed_count} / {total_urls_to_download} urls\")\n",
    "    time.sleep(delay_seconds)\n",
    "\n",
    "    df_temp = download_yahoo_finance_table(url, selector)\n",
    "\n",
    "    if df_temp is not None:\n",
    "        df_temp_filtered = df_temp[columns_list]\n",
    "        # df = pd.concat([df, df_temp_filtered])  # Append to the combined DataFrame\n",
    "        # Discards the original row indices of both DataFrames.\n",
    "        # Creates a new sequential integer index\n",
    "        df = pd.concat([df, df_temp_filtered], ignore_index=True)\n",
    "    else:\n",
    "        print(f\"Failed to download data for {url}\")"
   ]
  },
  {
   "cell_type": "code",
   "execution_count": null,
   "metadata": {},
   "outputs": [],
   "source": [
    "df.info()"
   ]
  },
  {
   "cell_type": "code",
   "execution_count": null,
   "metadata": {},
   "outputs": [],
   "source": [
    "df"
   ]
  },
  {
   "cell_type": "code",
   "execution_count": null,
   "metadata": {},
   "outputs": [],
   "source": []
  }
 ],
 "metadata": {
  "colab": {
   "authorship_tag": "ABX9TyP0Xbj8MojxCBwCH1wY3vgo",
   "mount_file_id": "1kPgpF6IeYD0Y-AVWLPiZ92O5i60rq7nT",
   "provenance": [
    {
     "file_id": "1IwwL6zZA9L74r4-OPTkHxJhLYSyUzc7V",
     "timestamp": 1741059324768
    },
    {
     "file_id": "1Kysq6BVvqd3O84m0gdT3BQm0jVwlp4XD",
     "timestamp": 1740622053247
    },
    {
     "file_id": "1XL4-86ZLWu8UIMKO6GL97YMbIdSslX5K",
     "timestamp": 1740587177316
    },
    {
     "file_id": "1KXs8MumJ78xO9mcgU8bnQwtev1ZYwIGm",
     "timestamp": 1740372106860
    },
    {
     "file_id": "19kXxHAiFbW12PG4kbS8SPisFq7mbgVQh",
     "timestamp": 1740371261418
    }
   ]
  },
  "kernelspec": {
   "display_name": ".venv",
   "language": "python",
   "name": "python3"
  },
  "language_info": {
   "codemirror_mode": {
    "name": "ipython",
    "version": 3
   },
   "file_extension": ".py",
   "mimetype": "text/x-python",
   "name": "python",
   "nbconvert_exporter": "python",
   "pygments_lexer": "ipython3",
   "version": "3.10.5"
  }
 },
 "nbformat": 4,
 "nbformat_minor": 0
}
