{
 "cells": [
  {
   "cell_type": "markdown",
   "metadata": {
    "id": "8cF_oc_knFTn"
   },
   "source": [
    "YouTube URLS to download"
   ]
  },
  {
   "cell_type": "code",
   "execution_count": 1,
   "metadata": {
    "executionInfo": {
     "elapsed": 210,
     "status": "ok",
     "timestamp": 1724281960262,
     "user": {
      "displayName": "ping yee",
      "userId": "17916777163667289249"
     },
     "user_tz": 420
    },
    "id": "bPICKO6h9KU_"
   },
   "outputs": [],
   "source": [
    "urls = [\"https://www.youtube.com/watch?v=aircAruvnKk\", \"https://www.youtube.com/watch?v=IHZwWFHWa-w\", \"https://www.youtube.com/watch?v=Ilg3gGewQ5U\", \"https://www.youtube.com/watch?v=tIeHLnjs5U8\"]\n",
    "urls = [\"https://www.youtube.com/watch?v=IHZwWFHWa-w\"]\n",
    "urls = [\"https://youtu.be/EQXz7EwqOcI?si=9-mhUqJXJBmESOjv\"]\n",
    "urls = [\"https://www.youtube.com/watch?v=P_VkMBQD57o\"]"
   ]
  },
  {
   "cell_type": "code",
   "execution_count": 2,
   "metadata": {},
   "outputs": [],
   "source": [
    "# from pytubefix import YouTube\n",
    "# from pytubefix.cli import on_progress\n",
    " \n",
    "# url = \"https://youtu.be/xy4PRGtr61w\"\n",
    " \n",
    "# # yt = YouTube(url, on_progress_callback = on_progress)\n",
    "# yt = YouTube(url, 'WEB_CREATOR')\n",
    "# print(yt.title)\n",
    " \n",
    "# ys = yt.streams.get_highest_resolution()\n",
    "# ys.download()"
   ]
  },
  {
   "cell_type": "markdown",
   "metadata": {},
   "source": [
    "Run Colab youtube_download.ipynb or Run below cell in Colab"
   ]
  },
  {
   "cell_type": "code",
   "execution_count": 3,
   "metadata": {
    "colab": {
     "base_uri": "https://localhost:8080/"
    },
    "executionInfo": {
     "elapsed": 26797,
     "status": "ok",
     "timestamp": 1724281851199,
     "user": {
      "displayName": "ping yee",
      "userId": "17916777163667289249"
     },
     "user_tz": 420
    },
    "id": "YqKXogB-gKlS",
    "outputId": "76a26fcd-052c-439c-981e-eadf9d04dd28"
   },
   "outputs": [],
   "source": [
    "# !pip install --quiet python-dotenv pytubefix\n",
    "\n",
    "# import os\n",
    "# import sys\n",
    "# from google.colab import drive\n",
    "\n",
    "# drive.mount('/content/drive')\n",
    "\n",
    "# path_utils =\"/content/drive/Othercomputers/My Computer/Files_win10/python/py310/\"\n",
    "\n",
    "# # Directory to save videos\n",
    "# save_dir = '/content/drive/MyDrive/0_YouTube'"
   ]
  },
  {
   "cell_type": "code",
   "execution_count": 4,
   "metadata": {},
   "outputs": [
    {
     "name": "stdout",
     "output_type": "stream",
     "text": [
      "current directory: c:\\Users\\ping\\Files_win10\\python\\py310\\Youtube\n",
      "path_utils: c:\\Users\\ping\\Files_win10\\python\\py310\n",
      "save_dir: C:\\Users\\ping\\Desktop\\youtube\n"
     ]
    }
   ],
   "source": [
    "import os\n",
    "import sys\n",
    "\n",
    "\n",
    "current_dir = os.getcwd()\n",
    "\n",
    "# Parent directory where myUtils is located\n",
    "path_utils = os.path.dirname(current_dir)\n",
    "\n",
    "# Save downloads to Desktop/youtube directory\n",
    "save_dir = os.path.join(os.environ['USERPROFILE'], 'Desktop\\\\youtube')\n",
    "\n",
    "# Create save_dir if it does not exists\n",
    "os.makedirs(save_dir, exist_ok=True)\n",
    "\n",
    "print(f'current directory: {current_dir}')\n",
    "print(f'path_utils: {path_utils}')\n",
    "print(f'save_dir: {save_dir}')"
   ]
  },
  {
   "cell_type": "code",
   "execution_count": 5,
   "metadata": {},
   "outputs": [],
   "source": [
    "sys.path.append(path_utils)\n",
    "\n",
    "from myUtils import get_file_names, find_strings_with_substring, keep_first_n_words, extract_caption_text"
   ]
  },
  {
   "cell_type": "code",
   "execution_count": 6,
   "metadata": {
    "colab": {
     "base_uri": "https://localhost:8080/"
    },
    "executionInfo": {
     "elapsed": 218,
     "status": "ok",
     "timestamp": 1724281928503,
     "user": {
      "displayName": "ping yee",
      "userId": "17916777163667289249"
     },
     "user_tz": 420
    },
    "id": "GSDDID4Qqsnk",
    "outputId": "0a374821-3d86-4ea6-80c6-85f29ca1d3ca"
   },
   "outputs": [
    {
     "name": "stdout",
     "output_type": "stream",
     "text": [
      "current directory: C:\\Users\\ping\\Desktop\\youtube\n"
     ]
    }
   ],
   "source": [
    "# Change current directory to save_dir\n",
    "os.chdir(save_dir)\n",
    "print(f'current directory: {os.getcwd()}')"
   ]
  },
  {
   "cell_type": "code",
   "execution_count": 7,
   "metadata": {
    "colab": {
     "base_uri": "https://localhost:8080/"
    },
    "executionInfo": {
     "elapsed": 229,
     "status": "ok",
     "timestamp": 1724281934583,
     "user": {
      "displayName": "ping yee",
      "userId": "17916777163667289249"
     },
     "user_tz": 420
    },
    "id": "sHoukfXbobrM",
    "outputId": "ce03b0c5-7ee1-4354-b9ac-baf197b429dd"
   },
   "outputs": [
    {
     "name": "stdout",
     "output_type": "stream",
     "text": [
      "files in current directory C:\\Users\\ping\\Desktop\\youtube:\n",
      "Elite_Japanese_Running_Drills_洛南高校陸上部ランニングドリル動きづくり.mp4\n",
      "How to Create & Deploy a Python Web Application FAST (fastHTML Tutorial).mp4\n",
      "Jim_Fan_on_Nvidias_Embodied_AI_Lab_and_Jensen_Huangs.mp3\n",
      "Jim_Fan_on_Nvidias_Embodied_AI_Lab_and_Jensen_Huangs.mp4\n",
      "洛南高校陸上部_中長距離パート_ウォーミングアップドリル.mp4\n"
     ]
    }
   ],
   "source": [
    "# Files in current directory\n",
    "filenames = get_file_names(save_dir)\n",
    "print(f'files in current directory {os.getcwd()}:')\n",
    "for filename in filenames:\n",
    "  print(filename)"
   ]
  },
  {
   "cell_type": "markdown",
   "metadata": {
    "id": "vV1aL6IYnT7-"
   },
   "source": [
    "Download YouTube videos, captions, audios"
   ]
  },
  {
   "cell_type": "code",
   "execution_count": 8,
   "metadata": {},
   "outputs": [
    {
     "name": "stdout",
     "output_type": "stream",
     "text": [
      "6.17.0\n"
     ]
    }
   ],
   "source": [
    "import pytubefix\n",
    "print(pytubefix.__version__)\n"
   ]
  },
  {
   "cell_type": "code",
   "execution_count": 9,
   "metadata": {
    "colab": {
     "base_uri": "https://localhost:8080/"
    },
    "executionInfo": {
     "elapsed": 7844,
     "status": "ok",
     "timestamp": 1724282018333,
     "user": {
      "displayName": "ping yee",
      "userId": "17916777163667289249"
     },
     "user_tz": 420
    },
    "id": "5bfG4-mH7shY",
    "outputId": "ac55fe0c-582f-46f2-8a8a-fdc348b0691c"
   },
   "outputs": [
    {
     "ename": "LoginRequired",
     "evalue": "\u001b[91mP_VkMBQD57o requires login to view, reason: Please sign in\u001b[0m",
     "output_type": "error",
     "traceback": [
      "\u001b[1;31m---------------------------------------------------------------------------\u001b[0m",
      "\u001b[1;31mKeyError\u001b[0m                                  Traceback (most recent call last)",
      "File \u001b[1;32mc:\\Users\\ping\\Files_win10\\python\\py310\\.venv\\lib\\site-packages\\pytubefix\\__main__.py:689\u001b[0m, in \u001b[0;36mYouTube.title\u001b[1;34m(self)\u001b[0m\n\u001b[0;32m    688\u001b[0m \u001b[38;5;28;01mtry\u001b[39;00m:\n\u001b[1;32m--> 689\u001b[0m     \u001b[38;5;28mself\u001b[39m\u001b[38;5;241m.\u001b[39m_title \u001b[38;5;241m=\u001b[39m \u001b[38;5;28;43mself\u001b[39;49m\u001b[38;5;241;43m.\u001b[39;49m\u001b[43mvid_info\u001b[49m\u001b[43m[\u001b[49m\u001b[38;5;124;43m'\u001b[39;49m\u001b[38;5;124;43mvideoDetails\u001b[39;49m\u001b[38;5;124;43m'\u001b[39;49m\u001b[43m]\u001b[49m[\u001b[38;5;124m'\u001b[39m\u001b[38;5;124mtitle\u001b[39m\u001b[38;5;124m'\u001b[39m]\n\u001b[0;32m    690\u001b[0m \u001b[38;5;28;01mexcept\u001b[39;00m \u001b[38;5;167;01mKeyError\u001b[39;00m \u001b[38;5;28;01mas\u001b[39;00m e:\n\u001b[0;32m    691\u001b[0m     \u001b[38;5;66;03m# Check_availability will raise the correct exception in most cases\u001b[39;00m\n\u001b[0;32m    692\u001b[0m     \u001b[38;5;66;03m#  if it doesn't, ask for a report.\u001b[39;00m\n",
      "\u001b[1;31mKeyError\u001b[0m: 'videoDetails'",
      "\nDuring handling of the above exception, another exception occurred:\n",
      "\u001b[1;31mLoginRequired\u001b[0m                             Traceback (most recent call last)",
      "Cell \u001b[1;32mIn[9], line 12\u001b[0m\n\u001b[0;32m     10\u001b[0m \u001b[38;5;66;03m# yt = YouTube(url, on_progress_callback = on_progress)\u001b[39;00m\n\u001b[0;32m     11\u001b[0m yt \u001b[38;5;241m=\u001b[39m YouTube(url, \u001b[38;5;124m'\u001b[39m\u001b[38;5;124mWEB_CREATOR\u001b[39m\u001b[38;5;124m'\u001b[39m)\n\u001b[1;32m---> 12\u001b[0m filename \u001b[38;5;241m=\u001b[39m keep_first_n_words(\u001b[43myt\u001b[49m\u001b[38;5;241;43m.\u001b[39;49m\u001b[43mtitle\u001b[49m, \u001b[38;5;241m10\u001b[39m)\n\u001b[0;32m     13\u001b[0m \u001b[38;5;28mprint\u001b[39m(\u001b[38;5;124mf\u001b[39m\u001b[38;5;124m'\u001b[39m\u001b[38;5;124mYouTube URL: \u001b[39m\u001b[38;5;132;01m{\u001b[39;00murl\u001b[38;5;132;01m}\u001b[39;00m\u001b[38;5;124m'\u001b[39m)\n\u001b[0;32m     14\u001b[0m \u001b[38;5;28mprint\u001b[39m(\u001b[38;5;124mf\u001b[39m\u001b[38;5;124m'\u001b[39m\u001b[38;5;124mYouTube title: \u001b[39m\u001b[38;5;132;01m{\u001b[39;00myt\u001b[38;5;241m.\u001b[39mtitle\u001b[38;5;132;01m}\u001b[39;00m\u001b[38;5;124m'\u001b[39m)\n",
      "File \u001b[1;32mc:\\Users\\ping\\Files_win10\\python\\py310\\.venv\\lib\\site-packages\\pytubefix\\__main__.py:693\u001b[0m, in \u001b[0;36mYouTube.title\u001b[1;34m(self)\u001b[0m\n\u001b[0;32m    689\u001b[0m     \u001b[38;5;28mself\u001b[39m\u001b[38;5;241m.\u001b[39m_title \u001b[38;5;241m=\u001b[39m \u001b[38;5;28mself\u001b[39m\u001b[38;5;241m.\u001b[39mvid_info[\u001b[38;5;124m'\u001b[39m\u001b[38;5;124mvideoDetails\u001b[39m\u001b[38;5;124m'\u001b[39m][\u001b[38;5;124m'\u001b[39m\u001b[38;5;124mtitle\u001b[39m\u001b[38;5;124m'\u001b[39m]\n\u001b[0;32m    690\u001b[0m \u001b[38;5;28;01mexcept\u001b[39;00m \u001b[38;5;167;01mKeyError\u001b[39;00m \u001b[38;5;28;01mas\u001b[39;00m e:\n\u001b[0;32m    691\u001b[0m     \u001b[38;5;66;03m# Check_availability will raise the correct exception in most cases\u001b[39;00m\n\u001b[0;32m    692\u001b[0m     \u001b[38;5;66;03m#  if it doesn't, ask for a report.\u001b[39;00m\n\u001b[1;32m--> 693\u001b[0m     \u001b[38;5;28;43mself\u001b[39;49m\u001b[38;5;241;43m.\u001b[39;49m\u001b[43mcheck_availability\u001b[49m\u001b[43m(\u001b[49m\u001b[43m)\u001b[49m\n\u001b[0;32m    694\u001b[0m     \u001b[38;5;28;01mraise\u001b[39;00m exceptions\u001b[38;5;241m.\u001b[39mPytubeFixError(\n\u001b[0;32m    695\u001b[0m         (\n\u001b[0;32m    696\u001b[0m             \u001b[38;5;124mf\u001b[39m\u001b[38;5;124m'\u001b[39m\u001b[38;5;124mException while accessing title of \u001b[39m\u001b[38;5;132;01m{\u001b[39;00m\u001b[38;5;28mself\u001b[39m\u001b[38;5;241m.\u001b[39mwatch_url\u001b[38;5;132;01m}\u001b[39;00m\u001b[38;5;124m. \u001b[39m\u001b[38;5;124m'\u001b[39m\n\u001b[0;32m    697\u001b[0m             \u001b[38;5;124m'\u001b[39m\u001b[38;5;124mPlease file a bug report at https://github.com/JuanBindez/pytubefix\u001b[39m\u001b[38;5;124m'\u001b[39m\n\u001b[0;32m    698\u001b[0m         )\n\u001b[0;32m    699\u001b[0m     ) \u001b[38;5;28;01mfrom\u001b[39;00m \u001b[38;5;21;01me\u001b[39;00m\n\u001b[0;32m    701\u001b[0m \u001b[38;5;28;01mreturn\u001b[39;00m \u001b[38;5;28mself\u001b[39m\u001b[38;5;241m.\u001b[39m_title\u001b[38;5;241m.\u001b[39mtranslate(translation_table)\n",
      "File \u001b[1;32mc:\\Users\\ping\\Files_win10\\python\\py310\\.venv\\lib\\site-packages\\pytubefix\\__main__.py:347\u001b[0m, in \u001b[0;36mYouTube.check_availability\u001b[1;34m(self)\u001b[0m\n\u001b[0;32m    345\u001b[0m         \u001b[38;5;28;01mraise\u001b[39;00m exceptions\u001b[38;5;241m.\u001b[39mBotDetection(video_id\u001b[38;5;241m=\u001b[39m\u001b[38;5;28mself\u001b[39m\u001b[38;5;241m.\u001b[39mvideo_id)\n\u001b[0;32m    346\u001b[0m     \u001b[38;5;28;01melse\u001b[39;00m:\n\u001b[1;32m--> 347\u001b[0m         \u001b[38;5;28;01mraise\u001b[39;00m exceptions\u001b[38;5;241m.\u001b[39mLoginRequired(video_id\u001b[38;5;241m=\u001b[39m\u001b[38;5;28mself\u001b[39m\u001b[38;5;241m.\u001b[39mvideo_id, reason\u001b[38;5;241m=\u001b[39mreason)\n\u001b[0;32m    349\u001b[0m \u001b[38;5;28;01melif\u001b[39;00m status \u001b[38;5;241m==\u001b[39m \u001b[38;5;124m'\u001b[39m\u001b[38;5;124mAGE_CHECK_REQUIRED\u001b[39m\u001b[38;5;124m'\u001b[39m:\n\u001b[0;32m    350\u001b[0m     \u001b[38;5;28;01mif\u001b[39;00m \u001b[38;5;28mself\u001b[39m\u001b[38;5;241m.\u001b[39muse_oauth:\n",
      "\u001b[1;31mLoginRequired\u001b[0m: \u001b[91mP_VkMBQD57o requires login to view, reason: Please sign in\u001b[0m"
     ]
    }
   ],
   "source": [
    "from pytubefix import YouTube\n",
    "from pytubefix.cli import on_progress\n",
    "\n",
    "for url in urls:\n",
    "  # initialize filenames\n",
    "  v_filename = \"\"\n",
    "  c_filename = \"\"\n",
    "  a_filename = \"\"\n",
    "\n",
    "  # yt = YouTube(url, on_progress_callback = on_progress)\n",
    "  yt = YouTube(url, 'WEB_CREATOR')\n",
    "  filename = keep_first_n_words(yt.title, 10)\n",
    "  print(f'YouTube URL: {url}')\n",
    "  print(f'YouTube title: {yt.title}')\n",
    "  print(f'Filename: {filename}')\n",
    "  print('-'*20)\n",
    "\n",
    "  # download video\n",
    "  ys = yt.streams.get_highest_resolution()\n",
    "  v_filename = filename + '.mp4'\n",
    "  ys.download(output_path=save_dir, filename=v_filename)\n",
    "  print(f'Video saved as: {v_filename}')\n",
    "  print('-'*20)\n",
    "\n",
    "  # download caption\n",
    "  caption = yt.captions.get_by_language_code('en')\n",
    "  if caption: # check if caption exists\n",
    "    c_filename = filename + '.srt'\n",
    "    caption.download(title=c_filename)\n",
    "    print(f'Caption saved as: {c_filename}')\n",
    "  else:\n",
    "    print(f\"CAPTIONS NOT FOUND for {c_filename}\")\n",
    "  print('-'*20)\n",
    "\n",
    "  # download audio\n",
    "  ys = yt.streams.get_audio_only()\n",
    "  a_filename = filename + '.mp3'\n",
    "  ys.download(output_path=save_dir, filename=a_filename)\n",
    "  print(f'Audio saved as: {a_filename}')\n",
    "  print(f\"{'='*40}\\n\")\n"
   ]
  },
  {
   "cell_type": "markdown",
   "metadata": {
    "id": "QAQ-2Al3_NoE"
   },
   "source": [
    "Extracted caption text from .srt file"
   ]
  },
  {
   "cell_type": "code",
   "execution_count": null,
   "metadata": {
    "colab": {
     "base_uri": "https://localhost:8080/"
    },
    "executionInfo": {
     "elapsed": 226,
     "status": "ok",
     "timestamp": 1724282037148,
     "user": {
      "displayName": "ping yee",
      "userId": "17916777163667289249"
     },
     "user_tz": 420
    },
    "id": "bTRzkVoVN0rn",
    "outputId": "847c8bba-1851-4238-c678-d655daf292b2"
   },
   "outputs": [],
   "source": [
    "# find srt files in current directory\n",
    "filenames = get_file_names(save_dir)\n",
    "srt_files = find_strings_with_substring(filenames, \"srt\", \"end\")\n",
    "print(f'srt files in current directory {os.getcwd()}:')\n",
    "print(srt_files)"
   ]
  },
  {
   "cell_type": "markdown",
   "metadata": {
    "id": "HiwxXboMjA3l"
   },
   "source": [
    "Extract caption texts from .srt files and save as .txt files"
   ]
  },
  {
   "cell_type": "code",
   "execution_count": 23,
   "metadata": {
    "colab": {
     "base_uri": "https://localhost:8080/"
    },
    "executionInfo": {
     "elapsed": 1384,
     "status": "ok",
     "timestamp": 1724282048670,
     "user": {
      "displayName": "ping yee",
      "userId": "17916777163667289249"
     },
     "user_tz": 420
    },
    "id": "uRDQUFI7Qz3X",
    "outputId": "3495320f-707d-45aa-8b11-cde964164275"
   },
   "outputs": [],
   "source": [
    "for file in srt_files:\n",
    "  path_srt_file = save_dir + '/' + file\n",
    "  caption_text = extract_caption_text(path_srt_file)\n",
    "  print(f'path_srt_file: {path_srt_file}')\n",
    "  print(f'caption_text: {caption_text}')\n",
    "  print('-'*20)\n",
    "\n",
    "  # save caption_text as a .txt file\n",
    "  txt_file_name = file.replace('.srt', '.txt')\n",
    "  with open(save_dir + '/' + txt_file_name, 'w') as f:\n",
    "    f.write(caption_text)\n",
    "  print(f'caption text saved as: {txt_file_name}')\n",
    "  print(f\"{'='*40}\\n\")\n"
   ]
  },
  {
   "cell_type": "code",
   "execution_count": null,
   "metadata": {
    "colab": {
     "base_uri": "https://localhost:8080/"
    },
    "executionInfo": {
     "elapsed": 248,
     "status": "ok",
     "timestamp": 1724282071169,
     "user": {
      "displayName": "ping yee",
      "userId": "17916777163667289249"
     },
     "user_tz": 420
    },
    "id": "NkcSaUYWurXv",
    "outputId": "956528ff-0411-4d11-ce94-1322e1dafd50"
   },
   "outputs": [],
   "source": [
    "# print directory filenames\n",
    "filenames = get_file_names(save_dir)\n",
    "mp4_filenames = find_strings_with_substring(filenames, \"mp4\", \"end\")\n",
    "mp3_filenames = find_strings_with_substring(filenames, \"mp3\", \"end\")\n",
    "# .srt files are caption text files\n",
    "srt_filenames = find_strings_with_substring(filenames, \"srt\", \"end\")\n",
    "txt_filenames = find_strings_with_substring(filenames, \"txt\", \"end\")\n",
    "\n",
    "print(f'mp4 filenames: {mp4_filenames}')\n",
    "print(f'mp3 filenames: {mp3_filenames}')\n",
    "print(f'srt filenames: {srt_filenames}')\n",
    "print(f'txt filenames: {txt_filenames}')\n"
   ]
  },
  {
   "cell_type": "code",
   "execution_count": null,
   "metadata": {
    "id": "43_h11ktBVxC"
   },
   "outputs": [],
   "source": []
  }
 ],
 "metadata": {
  "colab": {
   "authorship_tag": "ABX9TyNoLk0utYPKEZ106V9Eamy8",
   "provenance": [
    {
     "file_id": "1kkAjy3QZyCTO-5IakQ0wX-hwFXpJncDP",
     "timestamp": 1724108615461
    },
    {
     "file_id": "1omHCshyvgAkl4xOFAnnEaubfxhjUOBbg",
     "timestamp": 1723249985497
    }
   ]
  },
  "kernelspec": {
   "display_name": ".venv",
   "language": "python",
   "name": "python3"
  },
  "language_info": {
   "codemirror_mode": {
    "name": "ipython",
    "version": 3
   },
   "file_extension": ".py",
   "mimetype": "text/x-python",
   "name": "python",
   "nbconvert_exporter": "python",
   "pygments_lexer": "ipython3",
   "version": "3.10.5"
  }
 },
 "nbformat": 4,
 "nbformat_minor": 0
}
