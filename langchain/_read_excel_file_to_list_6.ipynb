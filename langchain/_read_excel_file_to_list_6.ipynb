{
 "cells": [
  {
   "cell_type": "markdown",
   "id": "bafb515b",
   "metadata": {},
   "source": [
    "### Read Excel file, extract the data from column A into a list, and treat first line as a header"
   ]
  },
  {
   "cell_type": "code",
   "execution_count": 1,
   "id": "96fcbac0",
   "metadata": {},
   "outputs": [],
   "source": [
    "import sys\n",
    "import pandas as pd\n",
    "\n",
    "sys.path.append('../..')\n",
    "\n",
    "from py3810.myUtils import pickle_dump, pickle_load\n",
    "\n",
    "# Set the path to the directory containing the Excel file\n",
    "path_lumen_docs = \"../langchain/docs/lumen/docs/\"\n",
    "excel_filename = \"lumen_sitemapXML_2024-06-20.xlsx\"\n",
    "\n",
    "# Construct the file path of the Excel file\n",
    "path_excel_file = path_lumen_docs + excel_filename"
   ]
  },
  {
   "cell_type": "code",
   "execution_count": null,
   "id": "5a5b7cd5",
   "metadata": {},
   "outputs": [],
   "source": [
    "# Define a helper function to flatten a nested list\n",
    "def fatten_list(nested_list):\n",
    "    return [item for sublist in nested_list for item in sublist]"
   ]
  },
  {
   "cell_type": "code",
   "execution_count": 3,
   "id": "c6a14ce3",
   "metadata": {},
   "outputs": [
    {
     "name": "stdout",
     "output_type": "stream",
     "text": [
      "len(lumen_urls): 178\n",
      "['https://www.lumenoptometric.com/', 'https://www.lumenoptometric.com/about-us/', 'https://www.lumenoptometric.com/about-us/appointments-forms/', 'https://www.lumenoptometric.com/about-us/gallery/', 'https://www.lumenoptometric.com/about-us/office/', 'https://www.lumenoptometric.com/about-us/testimonials/', 'https://www.lumenoptometric.com/blog/', 'https://www.lumenoptometric.com/blog/amd-awareness-month/3-big-amd-myths-debunked/', 'https://www.lumenoptometric.com/blog/covid-19/contact-lens-wear-during-covid-19/', 'https://www.lumenoptometric.com/blog/covid-19/how-to-stop-masks-from-fogging-glasses/', 'https://www.lumenoptometric.com/blog/eye-care/10-essential-rules-for-contact-lens-wearers/', 'https://www.lumenoptometric.com/blog/eye-care/3-reasons-why-kids-with-myopia-need-to-spend-more-time-outdoors/', 'https://www.lumenoptometric.com/blog/eye-care/3-workplace-eye-wellness-tips-for-employees/', 'https://www.lumenoptometric.com/blog/eye-care/4-effective-methods-for-limiting-your-childs-screen-time/', 'https://www.lumenoptometric.com/blog/eye-care/4-signs-your-child-is-ready-for-contact-lenses/', 'https://www.lumenoptometric.com/blog/eye-care/4-ways-to-prevent-diabetic-eye-disease/', 'https://www.lumenoptometric.com/blog/eye-care/5-best-things-you-can-do-for-your-eyes/', 'https://www.lumenoptometric.com/blog/eye-care/5-daily-habits-that-can-benefit-your-eyes-and-vision/', 'https://www.lumenoptometric.com/blog/eye-care/5-facts-about-myopia-you-probably-didnt-know/', 'https://www.lumenoptometric.com/blog/eye-care/5-ways-to-get-your-kids-outdoors-this-winter-and-save-their-vision/', 'https://www.lumenoptometric.com/blog/eye-care/a-brief-overview-of-childrens-eye-conditions/', 'https://www.lumenoptometric.com/blog/eye-care/a-quick-guide-to-contact-lens-solutions/', 'https://www.lumenoptometric.com/blog/eye-care/a-quick-guide-to-eyeglass-frame-materials/', 'https://www.lumenoptometric.com/blog/eye-care/adjusting-to-your-new-multifocal-lenses/', 'https://www.lumenoptometric.com/blog/eye-care/answering-common-questions-about-dilated-eye-exams/', 'https://www.lumenoptometric.com/blog/eye-care/answering-some-frequently-asked-questions-about-neurolens/', 'https://www.lumenoptometric.com/blog/eye-care/are-myopia-management-contact-lenses-safe-for-children/', 'https://www.lumenoptometric.com/blog/eye-care/are-online-eye-tests-reliable-and-when-are-they-useful/', 'https://www.lumenoptometric.com/blog/eye-care/basic-facts-about-neurolenses/', 'https://www.lumenoptometric.com/blog/eye-care/blocked-tear-ducts-symptoms-causes-and-solutions/', 'https://www.lumenoptometric.com/blog/eye-care/can-blue-light-glasses-protect-kids-from-digital-eye-strain/', 'https://www.lumenoptometric.com/blog/eye-care/can-myopia-worsen-despite-corrected-visual-habits/', 'https://www.lumenoptometric.com/blog/eye-care/can-poor-sleeping-habits-affect-your-eyes/', 'https://www.lumenoptometric.com/blog/eye-care/common-causes-of-workplace-eye-injuries-and-disease/', 'https://www.lumenoptometric.com/blog/eye-care/computer-vision-syndrome-possible-solutions-and-corrections/', 'https://www.lumenoptometric.com/blog/eye-care/contact-lens-fitting-what-to-expect-during-your-session/', 'https://www.lumenoptometric.com/blog/eye-care/contact-lenses-and-eye-exams-what-you-need-to-know/', 'https://www.lumenoptometric.com/blog/eye-care/contact-lenses-what-happens-when-you-overwear-them/', 'https://www.lumenoptometric.com/blog/eye-care/debunking-5-popular-myths-about-cataracts/', 'https://www.lumenoptometric.com/blog/eye-care/debunking-common-myths-about-vision-and-eye-health/', 'https://www.lumenoptometric.com/blog/eye-care/do-children-and-teenagers-sleep-habits-affect-their-vision/', 'https://www.lumenoptometric.com/blog/eye-care/do-you-need-a-contact-lens-follow-up-appointment/', 'https://www.lumenoptometric.com/blog/eye-care/dry-eye-vs-seasonal-allergies-whats-affecting-your-eyes/', 'https://www.lumenoptometric.com/blog/eye-care/elevate-your-performance-the-impact-of-sports-eyewear/', 'https://www.lumenoptometric.com/blog/eye-care/essential-first-aid-tips-for-childrens-eye-injuries/', 'https://www.lumenoptometric.com/blog/eye-care/essential-things-you-should-know-about-glaucoma/', 'https://www.lumenoptometric.com/blog/eye-care/essential-tips-for-scleral-lens-wearers/', 'https://www.lumenoptometric.com/blog/eye-care/examining-the-link-between-dry-eye-and-migraines/', 'https://www.lumenoptometric.com/blog/eye-care/eye-allergy-vs-eye-infection/', 'https://www.lumenoptometric.com/blog/eye-care/eye-exams-why-they-matter-even-if-you-have-20-20-vision/', 'https://www.lumenoptometric.com/blog/eye-care/eye-symptoms-that-patients-should-never-ignore/', 'https://www.lumenoptometric.com/blog/eye-care/eyeglass-maintenance-tips-to-remember/', 'https://www.lumenoptometric.com/blog/eye-care/eyeglasses-vs-contact-lenses-making-the-right-choice/', 'https://www.lumenoptometric.com/blog/eye-care/eyesight-vision-and-their-differences/', 'https://www.lumenoptometric.com/blog/eye-care/fda-approved-misight-contact-lenses-do-wonders-in-reducing-myopia/', 'https://www.lumenoptometric.com/blog/eye-care/global-myopia-awareness-coalition-gmac-launches-little-kid-license-myopia-awareness-campaign/', 'https://www.lumenoptometric.com/blog/eye-care/halloween-eye-safety-month/', 'https://www.lumenoptometric.com/blog/eye-care/high-index-lenses-features-and-benefits/', 'https://www.lumenoptometric.com/blog/eye-care/how-can-vision-problems-affect-learning-in-children/', 'https://www.lumenoptometric.com/blog/eye-care/how-do-you-put-in-and-remove-your-contact-lenses/', 'https://www.lumenoptometric.com/blog/eye-care/how-does-alcohol-affect-your-eye-health-and-vision/', 'https://www.lumenoptometric.com/blog/eye-care/how-eating-a-healthy-diet-can-reduce-the-risk-of-cataracts/', 'https://www.lumenoptometric.com/blog/eye-care/how-long-does-my-child-need-myopia-management/', 'https://www.lumenoptometric.com/blog/eye-care/how-often-should-you-update-your-eye-prescription/', 'https://www.lumenoptometric.com/blog/eye-care/how-these-4-types-of-refractive-errors-are-corrected/', 'https://www.lumenoptometric.com/blog/eye-care/how-to-drive-safely-at-night-top-tips-from-optometrists/', 'https://www.lumenoptometric.com/blog/eye-care/how-to-keep-your-eyes-safe-while-playing-sports/', 'https://www.lumenoptometric.com/blog/eye-care/how-to-make-contact-lenses-work-for-an-active-lifestyle/', 'https://www.lumenoptometric.com/blog/eye-care/how-to-manage-dry-eye-syndrome/', 'https://www.lumenoptometric.com/blog/eye-care/how-to-take-care-of-your-aging-eyes/', 'https://www.lumenoptometric.com/blog/eye-care/how-you-can-help-your-child-excel-in-school-this-year/', 'https://www.lumenoptometric.com/blog/eye-care/is-it-possible-to-prevent-glaucoma/', 'https://www.lumenoptometric.com/blog/eye-care/is-it-safe-to-wear-contact-lenses-amid-covid-19/', 'https://www.lumenoptometric.com/blog/eye-care/myopia-control-and-prevention-3-different-types-of-myopia-control-explained/', 'https://www.lumenoptometric.com/blog/eye-care/optometrist-vs-ophthalmologist-who-should-you-go-to/', 'https://www.lumenoptometric.com/blog/eye-care/pediatricians-and-ophthalmologists-agree-its-best-to-proactively-treat-your-myopic-children/', 'https://www.lumenoptometric.com/blog/eye-care/promoting-eye-wellness-in-the-workplace/', 'https://www.lumenoptometric.com/blog/eye-care/recent-media-coverage-about-childhood-myopia/', 'https://www.lumenoptometric.com/blog/eye-care/recognizing-signs-of-nearsightedness-in-your-child/', 'https://www.lumenoptometric.com/blog/eye-care/safe-sun-exposure-why-its-great-for-your-kids-eyes/', 'https://www.lumenoptometric.com/blog/eye-care/scratched-cornea-causes-symptoms-and-treatment/', 'https://www.lumenoptometric.com/blog/eye-care/senior-eye-care-why-it-matters/', 'https://www.lumenoptometric.com/blog/eye-care/should-you-go-for-daily-or-monthly-contact-lenses/', 'https://www.lumenoptometric.com/blog/eye-care/signs-that-your-eyes-have-been-overexposed-to-the-sun/', 'https://www.lumenoptometric.com/blog/eye-care/symptoms-of-age-related-macular-degeneration/', 'https://www.lumenoptometric.com/blog/eye-care/the-effect-of-menopause-on-eye-health/', 'https://www.lumenoptometric.com/blog/eye-care/the-four-best-ways-to-treat-and-manage-myopia/', 'https://www.lumenoptometric.com/blog/eye-care/the-impact-of-autoimmune-disorders-on-the-eyes-and-vision/', 'https://www.lumenoptometric.com/blog/eye-care/the-impact-of-wearing-the-wrong-prescription-on-your-eyes/', 'https://www.lumenoptometric.com/blog/eye-care/the-importance-of-post-concussion-eye-exams/', 'https://www.lumenoptometric.com/blog/eye-care/the-importance-of-yearly-eye-tests-for-children/', 'https://www.lumenoptometric.com/blog/eye-care/the-link-between-dry-eyes-and-diabetes/', 'https://www.lumenoptometric.com/blog/eye-care/the-manufacturing-process-of-contact-lenses/', 'https://www.lumenoptometric.com/blog/eye-care/the-pros-and-cons-of-progressive-lenses/', 'https://www.lumenoptometric.com/blog/eye-care/things-to-consider-when-choosing-a-pediatric-optometrist/', 'https://www.lumenoptometric.com/blog/eye-care/tips-for-preventing-breakouts-from-wearing-eyeglasses/', 'https://www.lumenoptometric.com/blog/eye-care/tips-on-taking-a-proactive-approach-to-a-childs-eye-health/', 'https://www.lumenoptometric.com/blog/eye-care/tips-to-protect-your-eyes-from-uv-damage/', 'https://www.lumenoptometric.com/blog/eye-care/top-myopia-treatment-options-for-children/', 'https://www.lumenoptometric.com/blog/eye-care/types-of-cataracts-and-how-they-are-diagnosed/', 'https://www.lumenoptometric.com/blog/eye-care/types-of-people-who-need-uv-eye-protection/', 'https://www.lumenoptometric.com/blog/eye-care/understanding-how-prescription-lenses-are-made/', 'https://www.lumenoptometric.com/blog/eye-care/vision-and-headaches-are-they-linked-to-each-other/', 'https://www.lumenoptometric.com/blog/eye-care/vision-changes-101-essentials-you-need-to-know/', 'https://www.lumenoptometric.com/blog/eye-care/visual-migraine-vs-ocular-migraine-whats-the-difference/', 'https://www.lumenoptometric.com/blog/eye-care/vr-headsets-are-they-bad-for-the-eyes/', 'https://www.lumenoptometric.com/blog/eye-care/watery-eyes-what-causes-them-and-when-to-see-a-doctor/', 'https://www.lumenoptometric.com/blog/eye-care/what-are-myopia-treatment-benefits/', 'https://www.lumenoptometric.com/blog/eye-care/what-are-toric-lenses-for/', 'https://www.lumenoptometric.com/blog/eye-care/what-brides-and-grooms-should-know-before-wearing-glasses/', 'https://www.lumenoptometric.com/blog/eye-care/what-can-make-contact-lens-fitting-harder/', 'https://www.lumenoptometric.com/blog/eye-care/what-causes-myopia/', 'https://www.lumenoptometric.com/blog/eye-care/what-does-good-eye-safety-at-home-look-like/', 'https://www.lumenoptometric.com/blog/eye-care/what-should-you-ask-your-doctor-during-an-eye-exam/', 'https://www.lumenoptometric.com/blog/eye-care/what-you-need-to-know-about-myopia-control-in-children/', 'https://www.lumenoptometric.com/blog/eye-care/what-you-need-to-know-about-sports-eye-safety/', 'https://www.lumenoptometric.com/blog/eye-care/what-you-should-know-about-trigeminal-dysphoria/', 'https://www.lumenoptometric.com/blog/eye-care/why-are-my-eyes-so-dry/', 'https://www.lumenoptometric.com/blog/eye-care/why-are-your-new-eyeglasses-uncomfortable-to-wear/', 'https://www.lumenoptometric.com/blog/eye-care/why-do-aging-eyes-need-more-light/', 'https://www.lumenoptometric.com/blog/eye-care/your-vision-and-eye-health-resolutions-for-2022/', 'https://www.lumenoptometric.com/blog/eye-health/beyond-age-can-children-and-young-adults-get-cataracts/', 'https://www.lumenoptometric.com/blog/eye-health/eye-vitamins-can-they-improve-vision/', 'https://www.lumenoptometric.com/blog/eye-health/eyes-at-ease-5-effective-exercises-to-prevent-eye-strain/', 'https://www.lumenoptometric.com/blog/eye-health/factors-that-can-impact-your-vision-and-eye-health-in-winter/', 'https://www.lumenoptometric.com/blog/eye-health/halloween-eye-health-and-safety-month-protect-their-vision/', 'https://www.lumenoptometric.com/blog/eye-health/how-your-diet-can-impact-age-related-macular-degeneration/', 'https://www.lumenoptometric.com/blog/eye-health/whats-the-ideal-schedule-for-pediatric-eye-exams/', 'https://www.lumenoptometric.com/blog/eye-health/why-you-should-protect-your-child-from-myopia/', 'https://www.lumenoptometric.com/blog/eye-safety/how-to-choose-the-right-sports-eye-safety-gear/', 'https://www.lumenoptometric.com/blog/eyes/is-myopia-hereditary/', 'https://www.lumenoptometric.com/blog/eyes/what-is-nearsightedness-and-how-is-it-treated/', 'https://www.lumenoptometric.com/blog/information/3-facts-about-myopia-and-what-you-can-do-for-your-child/', 'https://www.lumenoptometric.com/blog/information/3-facts-about-myopia-you-should-know/', 'https://www.lumenoptometric.com/blog/information/5-spooky-things-you-didnt-know-about-myopia/', 'https://www.lumenoptometric.com/blog/information/6-practical-ways-to-prevent-myopia-from-worsening-in-children/', 'https://www.lumenoptometric.com/blog/information/a-closer-look-at-eye-damaging-habits/', 'https://www.lumenoptometric.com/blog/information/all-you-need-to-know-about-myopia-control/', 'https://www.lumenoptometric.com/blog/information/can-myopia-be-prevented/', 'https://www.lumenoptometric.com/blog/information/childhood-myopia-what-it-is-and-what-you-can-do-to-help-your-child/', 'https://www.lumenoptometric.com/blog/information/childrens-eye-health-and-safety-month-the-importance-of-early-detection-and-intervention-for-kids-vision/', 'https://www.lumenoptometric.com/blog/information/do-your-eyes-grow/', 'https://www.lumenoptometric.com/blog/information/does-my-child-have-myopia-myopia-symptoms-and-how-to-treat/', 'https://www.lumenoptometric.com/blog/information/does-myopia-get-worse-with-age/', 'https://www.lumenoptometric.com/blog/information/myopia-nearsightedness-a-pervasive-disease/', 'https://www.lumenoptometric.com/blog/information/ortho-k-5-important-faqs/', 'https://www.lumenoptometric.com/blog/information/protect-your-childs-eyesight-by-encouraging-them-to-play-outside/', 'https://www.lumenoptometric.com/blog/information/reasons-why-its-helpful-to-get-your-annual-eye-exam-when-school-starts/', 'https://www.lumenoptometric.com/blog/information/recognizing-the-signs-symptoms-of-myopia-in-children/', 'https://www.lumenoptometric.com/blog/information/simple-and-effective-eye-health-tips-for-young-adults/', 'https://www.lumenoptometric.com/blog/information/understanding-myopia-and-astigmatism-a-comprehensive-guide-for-mothers/', 'https://www.lumenoptometric.com/blog/information/visual-acuity-what-you-need-to-know-about-20-20-vision/', 'https://www.lumenoptometric.com/blog/information/what-is-the-difference-between-myopia-and-hyperopia/', 'https://www.lumenoptometric.com/blog/office-videos/video-tour-post-covid-safety-precautions/', 'https://www.lumenoptometric.com/blog/vision-changes/how-pregnancy-affects-your-vision/', 'https://www.lumenoptometric.com/comprehensive-eye-exams/', 'https://www.lumenoptometric.com/comprehensive-eye-exams/contact-lenses/', 'https://www.lumenoptometric.com/comprehensive-eye-exams/dry-eye-treatment/', 'https://www.lumenoptometric.com/contact-us/', 'https://www.lumenoptometric.com/covid-19-protocols/', 'https://www.lumenoptometric.com/neurolens-therapy/', 'https://www.lumenoptometric.com/orthokeratology/', 'https://www.lumenoptometric.com/orthokeratology/adult-vs-childrens-designs/', 'https://www.lumenoptometric.com/orthokeratology/candidacy/', 'https://www.lumenoptometric.com/orthokeratology/frequently-asked-questions/', 'https://www.lumenoptometric.com/orthokeratology/hows-ortho-k-work/', 'https://www.lumenoptometric.com/orthokeratology/is-ortho-k-safe/', 'https://www.lumenoptometric.com/orthokeratology/our-technology/', 'https://www.lumenoptometric.com/poseyedon-lens/', 'https://www.lumenoptometric.com/scleral-lenses/', 'https://www.lumenoptometric.com/sitemap/', 'https://www.lumenoptometric.com/treehouse-eyes-myopia-management-for-children/', 'https://www.lumenoptometric.com/treehouse-eyes-myopia-management-for-children/is-myopia-unhealthy/', 'https://www.lumenoptometric.com/treehouse-eyes-myopia-management-for-children/myopia-treatments/', 'https://www.lumenoptometric.com/treehouse-eyes-myopia-management-for-children/nature-versus-nurture/', 'https://www.lumenoptometric.com/treehouse-eyes-myopia-management-for-children/our-technology/', 'https://www.lumenoptometric.com/treehouse-eyes-myopia-management-for-children/what-is-myopia/', 'https://www.lumenoptometric.com/videos/']\n"
     ]
    }
   ],
   "source": [
    "# Extract the data from Excel file column A, first line as a header\n",
    "df = pd.read_excel(path_excel_file, sheet_name='Sheet1', usecols='A', header=0)\n",
    "\n",
    "# Convert the data frame to a list\n",
    "column_A = df.values.tolist()\n",
    "\n",
    "# Create a list of unique URLs by flattening the list and removing duplicates\n",
    "lumen_urls = sorted(fatten_list(column_A))\n",
    "\n",
    "# Print the length of the lumen_urls list\n",
    "print(f'len(lumen_urls): {len(lumen_urls)}')\n",
    "\n",
    "# Print the lumen_urls list\n",
    "print(lumen_urls)\n",
    "\n",
    "pickle_dump(file_to_pickle=lumen_urls, filename_pickle='lumen_urls', path_pickle_dump=path_lumen_docs)\n"
   ]
  },
  {
   "cell_type": "markdown",
   "id": "4cd597a0",
   "metadata": {},
   "source": [
    "https://colab.research.google.com/drive/1f_1HeD1mK_wXfjgvY4VGNFKSQBE5Imeh?usp=sharing#scrollTo=jm2nTHTtVTp0"
   ]
  },
  {
   "cell_type": "code",
   "execution_count": 4,
   "id": "a5cc30bc",
   "metadata": {},
   "outputs": [],
   "source": [
    "pickle_dump(file_to_pickle=lumen_urls, filename_pickle='lumen_urls', path_pickle_dump=path_lumen_docs)"
   ]
  },
  {
   "cell_type": "code",
   "execution_count": null,
   "id": "761bf8d9",
   "metadata": {},
   "outputs": [],
   "source": [
    "# import os\n",
    "# import sys\n",
    "# sys.path.append('../..')\n",
    "\n",
    "# from py3810.myUtils import pickle_dump, pickle_load\n",
    "# path_lumen_docs = '..\\langchain\\docs\\lumen\\\\docs\\\\'\n",
    "# path_chatbot = '..\\langchain\\chatbot\\\\'\n",
    "\n",
    "# from dotenv import load_dotenv, find_dotenv\n",
    "# _ = load_dotenv(find_dotenv('.env\\my_api_key.env')) # read local .env file\n",
    "\n",
    "# os.environ[\"OPENAI_API_KEY\"]\n",
    "# os.environ[\"LANGCHAIN_TRACING_V2\"] = \"true\"\n",
    "# os.environ[\"LANGCHAIN_API_KEY\"]\n",
    "# os.environ[\"ToMarkDown_API_KEY\"]\n",
    "# os.environ[\"SECRET_KEY\"]\n"
   ]
  },
  {
   "cell_type": "code",
   "execution_count": null,
   "id": "a8b834d2",
   "metadata": {},
   "outputs": [],
   "source": [
    "from langchain.document_loaders import WebBaseLoader\n",
    "from langchain_community.document_transformers import Html2TextTransformer\n",
    "\n",
    "loader = WebBaseLoader(lumen_urls)\n",
    "docs = loader.load()\n",
    "html2text = Html2TextTransformer()\n",
    "docs_transformed = html2text.transform_documents(docs)"
   ]
  },
  {
   "cell_type": "code",
   "execution_count": null,
   "id": "9b52b207",
   "metadata": {},
   "outputs": [],
   "source": [
    "# docs_transformed[0].page_content\n",
    "docs_transformed"
   ]
  },
  {
   "cell_type": "code",
   "execution_count": null,
   "id": "b0f47005",
   "metadata": {},
   "outputs": [],
   "source": [
    "pickle_dump(file_to_pickle=docs_transformed, filename_pickle='lumen_docs_website', path_pickle_dump=path_lumen_docs)"
   ]
  },
  {
   "cell_type": "code",
   "execution_count": null,
   "id": "7f77da7e",
   "metadata": {},
   "outputs": [],
   "source": []
  },
  {
   "cell_type": "code",
   "execution_count": null,
   "id": "fb7b5e8c",
   "metadata": {},
   "outputs": [],
   "source": [
    "data[0:3]\n",
    "_data = data"
   ]
  },
  {
   "cell_type": "code",
   "execution_count": null,
   "id": "db53703e",
   "metadata": {},
   "outputs": [],
   "source": []
  },
  {
   "cell_type": "code",
   "execution_count": null,
   "id": "635250c5",
   "metadata": {},
   "outputs": [],
   "source": [
    "data = pickle_load(filename_pickle='lumen_data', path_pickle_dump=path_lumen_docs)\n",
    "# pickle_dump(file_to_pickle=data, filename_pickle='lumen_data', path_pickle_dump=path_lumen_docs)\n"
   ]
  },
  {
   "cell_type": "code",
   "execution_count": null,
   "id": "4ed435f4",
   "metadata": {},
   "outputs": [],
   "source": [
    "# Concatenate all the pages into a single string\n",
    "str_text = ''\n",
    "for page in data:\n",
    "  str_text += page.page_content"
   ]
  },
  {
   "cell_type": "code",
   "execution_count": null,
   "id": "b74c9ca7",
   "metadata": {},
   "outputs": [],
   "source": [
    "# C:\\Users\\ping\\AppData\\Roaming\\nltk_data\\corpora\\words\\en\n",
    "import nltk\n",
    "nltk.download('words')\n",
    "from nltk.corpus import words\n",
    "\n",
    "def find_misspelled_words(text):\n",
    "  my_words = set(text.split())\n",
    "  english_words = set(words.words())\n",
    "  return [word for word in my_words if word.lower() not in english_words]"
   ]
  },
  {
   "cell_type": "code",
   "execution_count": null,
   "id": "e27f7108",
   "metadata": {},
   "outputs": [],
   "source": [
    "l_misspelled_words = find_misspelled_words(str_text)\n",
    "print(f'l_misspelled_words, len={len(l_misspelled_words)}:\\n{l_misspelled_words}')"
   ]
  },
  {
   "cell_type": "code",
   "execution_count": null,
   "id": "d40edc0d",
   "metadata": {},
   "outputs": [],
   "source": [
    "def remove_trailing_chars(items, chars):\n",
    "  for i, item in enumerate(items):\n",
    "    for char in chars:\n",
    "      item = item.rstrip(char)\n",
    "    items[i] = item\n",
    "\n",
    "  return items\n",
    "\n",
    "# Example usage\n",
    "chars = [\".\", \",\", \":\", \"'\"]\n",
    "items = ['apple.', 'banana:', 'cherry\"', 'a.apple', '.apple']\n",
    "print(remove_trailing_chars(items, chars))"
   ]
  },
  {
   "cell_type": "code",
   "execution_count": null,
   "id": "07e3adc0",
   "metadata": {},
   "outputs": [],
   "source": [
    "chars = [\".\", \",\", \":\", \"'\", '\"', '”', '?', ')']\n",
    "l_misspelled_words = remove_trailing_chars(l_misspelled_words, chars)\n",
    "print(f'l_misspelled_words, len={len(l_misspelled_words)}:\\n{l_misspelled_words}')"
   ]
  },
  {
   "cell_type": "code",
   "execution_count": null,
   "id": "6ef6f223",
   "metadata": {},
   "outputs": [],
   "source": [
    "str_misspelled_words = \" \".join(l_misspelled_words)"
   ]
  },
  {
   "cell_type": "code",
   "execution_count": null,
   "id": "9747a8c9",
   "metadata": {},
   "outputs": [],
   "source": [
    "l_misspelled_words = find_misspelled_words(str_misspelled_words)\n",
    "print(f'l_misspelled_words, len={len(l_misspelled_words)}:\\n{l_misspelled_words}')"
   ]
  },
  {
   "cell_type": "code",
   "execution_count": null,
   "id": "47e8b9dd",
   "metadata": {},
   "outputs": [],
   "source": [
    "def separate_item_on_chars(items, chars):\n",
    "  rtn_list = []\n",
    "  for i, item in enumerate(items):\n",
    "    print(f'item: {item}')\n",
    "    for char in chars:\n",
    "      if char in item:\n",
    "        my_list = item.split(char)\n",
    "        print(f'my_list before split: {my_list}')        \n",
    "        my_list[0] = my_list[0] + char\n",
    "        print(f'char: {char}')\n",
    "        print(f'my_list[0]: {my_list[0]}')\n",
    "        print(f'my_list after split: {my_list}')      \n",
    "        rtn_list.append(my_list)\n",
    "        print(' ')\n",
    "\n",
    "  return rtn_list\n",
    "\n",
    "# Example usage\n",
    "chars = [\".\", \",\", \":\", \"'\"]\n",
    "items = ['apple.app', 'banana:ban', 'cherry\"che', 'a.apple', '.apple']\n",
    "print(separate_item_on_chars(items, chars))\n",
    "\n"
   ]
  },
  {
   "cell_type": "code",
   "execution_count": null,
   "id": "39f6d632",
   "metadata": {},
   "outputs": [],
   "source": [
    "separate"
   ]
  },
  {
   "cell_type": "code",
   "execution_count": null,
   "id": "3ec001f5",
   "metadata": {},
   "outputs": [],
   "source": [
    "sep_char = '?'\n",
    "my_list = ['Appointment?Do']\n",
    "my_list[0].split(sep_char)\n",
    "# my_list = my_list[0].split(sep_char)\n",
    "# my_list[0] = my_list[0] + sep_char\n",
    "# print(my_list)"
   ]
  },
  {
   "cell_type": "code",
   "execution_count": null,
   "id": "48b71ceb",
   "metadata": {},
   "outputs": [],
   "source": []
  },
  {
   "cell_type": "code",
   "execution_count": null,
   "id": "3a1228da",
   "metadata": {},
   "outputs": [],
   "source": []
  },
  {
   "cell_type": "code",
   "execution_count": null,
   "id": "1124c0ea",
   "metadata": {},
   "outputs": [],
   "source": [
    "my_words = set(text.split())\n",
    "english_words = set(words.words())"
   ]
  },
  {
   "cell_type": "code",
   "execution_count": null,
   "id": "c5cb56d4",
   "metadata": {},
   "outputs": [],
   "source": []
  },
  {
   "cell_type": "code",
   "execution_count": null,
   "id": "4da89d9c",
   "metadata": {},
   "outputs": [],
   "source": [
    "misspelled_w = []\n",
    "for word in my_words:\n",
    "  if word.lower() not in english_words:\n",
    "    misspelled_w.append(word)\n",
    "\n",
    "print(f'len(misspelled_w): {len(misspelled_w)}')                        \n",
    "# print(f'len(misspelled_w): {len(misspelled_w)}')\n",
    "misspelled_w"
   ]
  },
  {
   "cell_type": "code",
   "execution_count": null,
   "id": "a0a97172",
   "metadata": {},
   "outputs": [],
   "source": [
    "word = 'By'\n",
    "english_words = set(words.words('en'))\n",
    "if word.lower() not in english_words:\n",
    "  print(f'{word} NOT in english_words')\n",
    "else:\n",
    "  print(f'{word} IN english_words')    "
   ]
  },
  {
   "cell_type": "code",
   "execution_count": null,
   "id": "fb03252b",
   "metadata": {},
   "outputs": [],
   "source": [
    "print(f'len(misspelled_words): {len(misspelled_words)}')\n",
    "misspelled_words"
   ]
  },
  {
   "cell_type": "code",
   "execution_count": null,
   "id": "57048fb1",
   "metadata": {},
   "outputs": [],
   "source": [
    "misspelled_words = remove_trailing_char(misspelled_words, '.')"
   ]
  },
  {
   "cell_type": "code",
   "execution_count": null,
   "id": "72bde4f2",
   "metadata": {},
   "outputs": [],
   "source": [
    "def combine_items(items):\n",
    "  return \" \".join(items)\n",
    "\n",
    "# Example usage\n",
    "items = [\"hello\", \"world\"]\n",
    "print(combine_items(items))  # Output: \"hello world\""
   ]
  },
  {
   "cell_type": "code",
   "execution_count": null,
   "id": "d0fa7e3d",
   "metadata": {},
   "outputs": [],
   "source": [
    "str_misspelled_words = combine_items(misspelled_words)\n",
    "misspelled_words = find_misspelled_words(str_misspelled_words)\n",
    "print(f'len(misspelled_words): {len(misspelled_words)}')\n",
    "misspelled_words"
   ]
  },
  {
   "cell_type": "code",
   "execution_count": null,
   "id": "55ed18bb",
   "metadata": {},
   "outputs": [],
   "source": []
  },
  {
   "cell_type": "code",
   "execution_count": null,
   "id": "78cb914d",
   "metadata": {},
   "outputs": [],
   "source": [
    "my_text = set(text.split())\n",
    "my_text"
   ]
  },
  {
   "cell_type": "code",
   "execution_count": null,
   "id": "493eb58e",
   "metadata": {},
   "outputs": [],
   "source": [
    "# Concatenate all the pages into a single string\n",
    "text = ''\n",
    "for page in data:\n",
    "  text += page.page_content\n",
    "\n",
    "print(f'len(text) before removing HTML tangs: {len(text)}')\n",
    "# Clean the text by removing any HTML tags\n",
    "import re\n",
    "\n",
    "text = re.sub(r'\\n+', '\\n', text)  # replace \\n\\n\\n..\\n with \\n\n",
    "text = re.sub(r'\\xa0', ' ', text)# replace '\\xa0' with ' '\n",
    "# replace all occurrences of the newline character \\n that are followed by\n",
    "# a word character (\\w) with a space character \" \". The strip() method\n",
    "# remove any leading or trailing whitespace from the string.\n",
    "text = re.sub(r'\\n(?=\\w)', ' ', text).strip()\n",
    "text = re.sub(r'\\n', ' ', text)  \n",
    "text = re.sub(r' +(?=\\s)', ' ', text)  \n",
    "\n",
    "print(f'len(text) after  removing HTML tangs: {len(text)}')\n",
    "\n",
    "# # Optionally, you can also remove any stopwords or punctuation\n",
    "# from nltk.corpus import stopwords\n",
    "# text = ' '.join([word for word in text.split() if word.lower() not in stopwords.words('english')])\n",
    "# text = text.translate(str.maketrans('', '', string.punctuation))"
   ]
  },
  {
   "cell_type": "code",
   "execution_count": null,
   "id": "53af894a",
   "metadata": {},
   "outputs": [],
   "source": [
    "print(f'len(text) before removing HTML tangs: {len(text)}')\n",
    "text = re.sub(r'\\n', ' ', text)  # replace \\n\\n\\n..\\n with \\n\n",
    "print(f'len(text) after  removing HTML tangs: {len(text)}')"
   ]
  },
  {
   "cell_type": "code",
   "execution_count": null,
   "id": "ef5a03fa",
   "metadata": {},
   "outputs": [],
   "source": [
    "text = \"  hello\\nworld  \"\n",
    "text = re.sub(r'\\n(?=\\w)', ' ', text).strip()\n",
    "print(text)  # Output: \"hello world\""
   ]
  },
  {
   "cell_type": "code",
   "execution_count": null,
   "id": "332b9c36",
   "metadata": {},
   "outputs": [],
   "source": [
    "import re\n",
    "\n",
    "# The (?=\\w) pattern is a positive lookahead assertion that matches a position in the string\n",
    "# where the next character is a word character.\n",
    "pattern = r'\\b\\w+(?=\\s+\\d+(\\W+|$))'\n",
    "\n",
    "text = 'The quick brown fox jumps over the 12345 lazy dog.'\n",
    "\n",
    "matches = re.findall(pattern, text)\n",
    "\n",
    "print(matches)  # Output: ['jumps', 'over', 'the']"
   ]
  },
  {
   "cell_type": "code",
   "execution_count": null,
   "id": "aed630c7",
   "metadata": {},
   "outputs": [],
   "source": [
    "# Load the data from a website\n",
    "loader = WebBaseLoader('https://example.com')\n",
    "pages = loader.load()\n",
    "\n",
    "# Concatenate all the pages into a single string\n",
    "text = ''\n",
    "for page in pages:\n",
    "    text += page.page_content\n",
    "\n",
    "# Clean the text by removing any HTML tags\n",
    "import re\n",
    "text = re.sub(r'<.*?>', '', text)\n",
    "\n",
    "# Optionally, you can also remove any stopwords or punctuation\n",
    "from nltk.corpus import stopwords\n",
    "text = ' '.join([word for word in text.split() if word.lower() not in stopwords.words('english')])\n",
    "text = text.translate(str.maketrans('', '', string.punctuation))"
   ]
  }
 ],
 "metadata": {
  "kernelspec": {
   "display_name": "Python 3 (ipykernel)",
   "language": "python",
   "name": "python3"
  },
  "language_info": {
   "codemirror_mode": {
    "name": "ipython",
    "version": 3
   },
   "file_extension": ".py",
   "mimetype": "text/x-python",
   "name": "python",
   "nbconvert_exporter": "python",
   "pygments_lexer": "ipython3",
   "version": "3.10.5"
  }
 },
 "nbformat": 4,
 "nbformat_minor": 5
}
