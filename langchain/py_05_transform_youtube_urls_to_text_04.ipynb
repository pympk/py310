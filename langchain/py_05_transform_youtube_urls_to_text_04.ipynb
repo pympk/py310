{
 "cells": [
  {
   "cell_type": "code",
   "execution_count": 12,
   "id": "28d7c6bc",
   "metadata": {},
   "outputs": [
    {
     "name": "stdout",
     "output_type": "stream",
     "text": [
      "SECRET_KEY = my_secret_key\n",
      "DATABASE_PASSWORD = my_db_pwd\n"
     ]
    }
   ],
   "source": [
    "import os\n",
    "import openai\n",
    "import sys\n",
    "sys.path.append('../..')\n",
    "\n",
    "from py3810.myUtils import pickle_dump, pickle_load\n",
    "\n",
    "# Set the path to the directory containing the Excel file\n",
    "path_lumen_dump = \"../langchain/docs/lumen/\"\n",
    "path_lumen_docs = path_lumen_dump + \"docs/\"\n",
    "path_save_audios = path_lumen_docs + \"youtube_audio/\"\n",
    "\n",
    "from dotenv import load_dotenv, find_dotenv\n",
    "_ = load_dotenv(find_dotenv('.env\\my_api_key.env')) # read local .env file\n",
    "\n",
    "SECRET_KEY1 = os.environ.get(\"SECRET_KEY\")\n",
    "DATABASE_PASSWORD2 = os.environ.get(\"DATABASE_PASSWORD\")\n",
    "print(f\"SECRET_KEY = {SECRET_KEY1}\")\n",
    "print(f\"DATABASE_PASSWORD = {DATABASE_PASSWORD2}\")\n",
    "\n",
    "openai.api_key  = os.environ['OPENAI_API_KEY']"
   ]
  },
  {
   "cell_type": "code",
   "execution_count": 13,
   "id": "2e6b2a99",
   "metadata": {},
   "outputs": [],
   "source": [
    "from langchain.document_loaders.generic import GenericLoader\n",
    "from langchain.document_loaders.parsers import OpenAIWhisperParser\n",
    "from langchain.document_loaders.blob_loaders.youtube_audio import YoutubeAudioLoader"
   ]
  },
  {
   "cell_type": "code",
   "execution_count": 14,
   "id": "f2231f2a",
   "metadata": {},
   "outputs": [
    {
     "name": "stdout",
     "output_type": "stream",
     "text": [
      "len(urls_youtube): 39\n"
     ]
    },
    {
     "data": {
      "text/plain": [
       "['https://www.youtube.com/watch?v=-UMk6KKcT_c',\n",
       " 'https://www.youtube.com/watch?v=1e_XRLQvjmE',\n",
       " 'https://www.youtube.com/watch?v=6xgYtUvPpX0',\n",
       " 'https://www.youtube.com/watch?v=9pJWBnDKyTA',\n",
       " 'https://www.youtube.com/watch?v=ApSg1Zqc5LU',\n",
       " 'https://www.youtube.com/watch?v=BeDrtW-menM',\n",
       " 'https://www.youtube.com/watch?v=CoukXsJKjv8',\n",
       " 'https://www.youtube.com/watch?v=DhtuaIazLIw',\n",
       " 'https://www.youtube.com/watch?v=H4GfHJCOcAk',\n",
       " 'https://www.youtube.com/watch?v=HfdIB-5bP-0',\n",
       " 'https://www.youtube.com/watch?v=IRHtQQVethk',\n",
       " 'https://www.youtube.com/watch?v=JHNzfnt9xZM',\n",
       " 'https://www.youtube.com/watch?v=JOlfZ6PBzAc',\n",
       " 'https://www.youtube.com/watch?v=KOpBVoqeeTE',\n",
       " 'https://www.youtube.com/watch?v=Lq7LmBjatMA',\n",
       " 'https://www.youtube.com/watch?v=Nb_PLkwmTl8',\n",
       " 'https://www.youtube.com/watch?v=OdO5a0OG7_w',\n",
       " 'https://www.youtube.com/watch?v=RIoA_bIo8hE',\n",
       " 'https://www.youtube.com/watch?v=U75Hjr90PR0',\n",
       " 'https://www.youtube.com/watch?v=UcZrM2L1h8w',\n",
       " 'https://www.youtube.com/watch?v=UmMYehZNlc0',\n",
       " 'https://www.youtube.com/watch?v=YEkxyL02tSs',\n",
       " 'https://www.youtube.com/watch?v=abUT6U9cXrI',\n",
       " 'https://www.youtube.com/watch?v=dk96_v9_6qs',\n",
       " 'https://www.youtube.com/watch?v=f3DXdTKNxlk',\n",
       " 'https://www.youtube.com/watch?v=gV_lqzoUekI',\n",
       " 'https://www.youtube.com/watch?v=gqmjNdJ7VR4',\n",
       " 'https://www.youtube.com/watch?v=h6VgVfYl9R0',\n",
       " 'https://www.youtube.com/watch?v=j1QovDcF0ww',\n",
       " 'https://www.youtube.com/watch?v=jSah_BdQMdg',\n",
       " 'https://www.youtube.com/watch?v=lGENWFm5M5s',\n",
       " 'https://www.youtube.com/watch?v=lxILkAXDi9s',\n",
       " 'https://www.youtube.com/watch?v=pP_GoxPywkY',\n",
       " 'https://www.youtube.com/watch?v=psh8iOBhjTM',\n",
       " 'https://www.youtube.com/watch?v=tNugl0Z3m7U',\n",
       " 'https://www.youtube.com/watch?v=tzCkP5zMPDc',\n",
       " 'https://www.youtube.com/watch?v=vqYF4eLTaNw',\n",
       " 'https://www.youtube.com/watch?v=w48uv-h9M0s',\n",
       " 'https://www.youtube.com/watch?v=yVF2oczrJ8w']"
      ]
     },
     "execution_count": 14,
     "metadata": {},
     "output_type": "execute_result"
    }
   ],
   "source": [
    "urls_youtube = pickle_load(path_pickle_dump=path_lumen_dump, filename_pickle='lumen_urls_youtube')\n",
    "print(f'len(urls_youtube): {len(urls_youtube)}')\n",
    "urls_youtube"
   ]
  },
  {
   "cell_type": "code",
   "execution_count": 16,
   "id": "8bf9d311",
   "metadata": {},
   "outputs": [
    {
     "data": {
      "text/plain": [
       "{'https://www.youtube.com/watch?v=-UMk6KKcT_c': \"Vivian's Happy With Her WAVE Ortho-K Lenses!\",\n",
       " 'https://www.youtube.com/watch?v=1e_XRLQvjmE': 'Inserting & Removing Your Orthokeratology Lenses',\n",
       " 'https://www.youtube.com/watch?v=6xgYtUvPpX0': 'Aiden Sums Up Ortho-K in Two Words: \"It\\'s Amazing!\"',\n",
       " 'https://www.youtube.com/watch?v=9pJWBnDKyTA': 'How To Prevent Your Mask From Fogging Your Glasses',\n",
       " 'https://www.youtube.com/watch?v=ApSg1Zqc5LU': 'Optometry Office Video Tour - Post-COVID Safety Precautions',\n",
       " 'https://www.youtube.com/watch?v=BeDrtW-menM': 'Scleral 1.0 Example',\n",
       " 'https://www.youtube.com/watch?v=CoukXsJKjv8': \"Improving Confidence with Ortho-K - Tanya's Experience\",\n",
       " 'https://www.youtube.com/watch?v=DhtuaIazLIw': 'How Ortho-K Works & How It Slows Myopia',\n",
       " 'https://www.youtube.com/watch?v=H4GfHJCOcAk': \"Life after Keratoconus - Param's Scleral Testimonial\",\n",
       " 'https://www.youtube.com/watch?v=HfdIB-5bP-0': '\"I Just Love It!\" Ortho-K From A Parent\\'s Perspective',\n",
       " 'https://www.youtube.com/watch?v=IRHtQQVethk': 'Contact Lens Wear During COVID-19',\n",
       " 'https://www.youtube.com/watch?v=JHNzfnt9xZM': 'Ortho-K Helps Monique With Farsightedness',\n",
       " 'https://www.youtube.com/watch?v=JOlfZ6PBzAc': \"We're Partnering With Treehouse Eyes!\",\n",
       " 'https://www.youtube.com/watch?v=KOpBVoqeeTE': 'Linette Enjoys Her Refreshed Eyesight With Orthokeratology',\n",
       " 'https://www.youtube.com/watch?v=Lq7LmBjatMA': \"Treating Tired Eyes - Christa's Neurolens Testimonial\",\n",
       " 'https://www.youtube.com/watch?v=Nb_PLkwmTl8': \"Eye Fatigue Treatment - Leslie's Neurolens Testimonial\",\n",
       " 'https://www.youtube.com/watch?v=OdO5a0OG7_w': 'Advanced Ortho-K and Scleral Training',\n",
       " 'https://www.youtube.com/watch?v=RIoA_bIo8hE': 'Ortho-K Helps Natasha Back To Clarity After LASIK',\n",
       " 'https://www.youtube.com/watch?v=U75Hjr90PR0': \"Alleviating Keratoconus - Maricela's Scleral Testimonial\",\n",
       " 'https://www.youtube.com/watch?v=UcZrM2L1h8w': 'How And Why Do Eyes Worsen?',\n",
       " 'https://www.youtube.com/watch?v=UmMYehZNlc0': \"Relieving Headaches & Back/Neck Pain - Christine's Neurolens Testimonial\",\n",
       " 'https://www.youtube.com/watch?v=YEkxyL02tSs': \"Seeing More Clearly - Lydia's Scleral Testimonial\",\n",
       " 'https://www.youtube.com/watch?v=abUT6U9cXrI': \"Alleviating Keratoconus - Irma's Scleral Testimonial\",\n",
       " 'https://www.youtube.com/watch?v=dk96_v9_6qs': \"I Wake Up & See! Sean's Experience with Ortho-k\",\n",
       " 'https://www.youtube.com/watch?v=f3DXdTKNxlk': \"Keeping Aidan's Eyes Healthy With Myopia Management\",\n",
       " 'https://www.youtube.com/watch?v=gV_lqzoUekI': \"Negative Pressure Tutorial for Doctor's Offices\",\n",
       " 'https://www.youtube.com/watch?v=gqmjNdJ7VR4': \"Alleviating Keratoconus - Anthony's Scleral Testimonial\",\n",
       " 'https://www.youtube.com/watch?v=h6VgVfYl9R0': 'Our Plan To Keep You Healthy During COVID-19',\n",
       " 'https://www.youtube.com/watch?v=j1QovDcF0ww': 'Optometry Office Video Tour - Post-COVID Safety Precautions - UPDATED',\n",
       " 'https://www.youtube.com/watch?v=jSah_BdQMdg': 'Lumen Optometric Ortho-K and Scleral Lens Prep Training',\n",
       " 'https://www.youtube.com/watch?v=lGENWFm5M5s': \"Tiff & Isaac's Ortho-K Visit\",\n",
       " 'https://www.youtube.com/watch?v=lxILkAXDi9s': \"Clear Vision Without Glasses! Ashley's Orthokeratology Experience\",\n",
       " 'https://www.youtube.com/watch?v=pP_GoxPywkY': \"Restoring Vision - Cindy's Scleral Testimonial\",\n",
       " 'https://www.youtube.com/watch?v=psh8iOBhjTM': 'Ortho-K Is The Best Option For Niki And Fam',\n",
       " 'https://www.youtube.com/watch?v=tNugl0Z3m7U': \"Fatigue and Irritated Eyes - Joanne's Neurolens Testimonial\",\n",
       " 'https://www.youtube.com/watch?v=tzCkP5zMPDc': 'How Ortho-K Helped Jeff Excel At Sports',\n",
       " 'https://www.youtube.com/watch?v=vqYF4eLTaNw': 'Healthy Eyes For Both of My Kids!',\n",
       " 'https://www.youtube.com/watch?v=w48uv-h9M0s': 'Scleral 2.0 Example',\n",
       " 'https://www.youtube.com/watch?v=yVF2oczrJ8w': \"Life after Keratoconus - Virginia's Scleral Testimonial\"}"
      ]
     },
     "execution_count": 16,
     "metadata": {},
     "output_type": "execute_result"
    }
   ],
   "source": [
    "from pytube import YouTube\n",
    "\n",
    "dict_yt = {}\n",
    "\n",
    "for url in urls_youtube:\n",
    "  yt = YouTube(url)\n",
    "  title = yt.title\n",
    "  dict_yt[url]= title \n",
    "\n",
    "dict_yt"
   ]
  },
  {
   "cell_type": "code",
   "execution_count": null,
   "id": "4fed3d6b",
   "metadata": {},
   "outputs": [],
   "source": [
    "import os\n",
    "\n",
    "# Create a temporary directory\n",
    "path_temp_directory = path_save_audios+'_trash/'\n",
    "\n",
    "# Check if directory exists (optional)\n",
    "if not os.path.exists(path_temp_directory):\n",
    "  # Create the directory\n",
    "  os.makedirs(path_temp_directory)\n",
    "  print(f\"Directory '{path_temp_directory}' created successfully!\")\n",
    "else:\n",
    "  print(f\"Directory '{path_temp_directory}' already exists.\")"
   ]
  },
  {
   "cell_type": "code",
   "execution_count": null,
   "id": "5036a0a4",
   "metadata": {},
   "outputs": [],
   "source": [
    "import os\n",
    "\n",
    "def clear_temp_directory(path_temp_directory):\n",
    "  \"\"\"\n",
    "  Removes all files from a specified temporary directory.\n",
    "\n",
    "  Args:\n",
    "      path_temp_directory (str): The path to the temporary directory.\n",
    "\n",
    "  Raises:\n",
    "      OSError: If an error occurs while removing a file.\n",
    "  \"\"\"\n",
    "\n",
    "  for filename in os.listdir(path_temp_directory):\n",
    "    file_path = os.path.join(path_temp_directory, filename)\n",
    "    try:\n",
    "      os.remove(file_path)\n",
    "    except OSError as e:\n",
    "      print(f\"Error removing file {file_path}: {e}\")\n",
    "\n",
    "# Example usage\n",
    "# path_temp_directory = \"/path/to/your/temp/directory\"\n",
    "# clear_temp_directory(path_temp_directory)\n"
   ]
  },
  {
   "cell_type": "code",
   "execution_count": null,
   "id": "dd724587",
   "metadata": {},
   "outputs": [],
   "source": [
    "docs = []\n",
    "for url in urls_youtube:\n",
    "  print([url])\n",
    "  # clearing temp directory ensure url will be the only file\n",
    "  # in the directory, and metadata source is the url\n",
    "  clear_temp_directory(path_temp_directory)\n",
    "  loader = GenericLoader(\n",
    "    YoutubeAudioLoader([url], path_temp_directory),\n",
    "    OpenAIWhisperParser()\n",
    "  )\n",
    "  doc = loader.load()\n",
    "  doc[0].metadata['source'] = url\n",
    "  docs.extend(doc)  # copy list content of _doc to list _docs"
   ]
  },
  {
   "cell_type": "code",
   "execution_count": null,
   "id": "9178b1bb",
   "metadata": {},
   "outputs": [],
   "source": [
    "docs"
   ]
  },
  {
   "cell_type": "code",
   "execution_count": null,
   "id": "bfbe9200",
   "metadata": {},
   "outputs": [],
   "source": [
    "# pickle_dump(file_to_pickle=docs, filename_pickle='lumen_docs_youtube', path_pickle_dump=path_lumen_docs)"
   ]
  },
  {
   "cell_type": "code",
   "execution_count": null,
   "id": "84236d4a",
   "metadata": {},
   "outputs": [],
   "source": [
    "# _docs = pickle_load(filename_pickle='lumen_docs_youtube', path_pickle_dump=path_lumen_docs)"
   ]
  },
  {
   "cell_type": "code",
   "execution_count": null,
   "id": "ce2c3a04",
   "metadata": {},
   "outputs": [],
   "source": [
    "# print(len(_docs))\n",
    "# _docs"
   ]
  }
 ],
 "metadata": {
  "kernelspec": {
   "display_name": "Python 3 (ipykernel)",
   "language": "python",
   "name": "python3"
  },
  "language_info": {
   "codemirror_mode": {
    "name": "ipython",
    "version": 3
   },
   "file_extension": ".py",
   "mimetype": "text/x-python",
   "name": "python",
   "nbconvert_exporter": "python",
   "pygments_lexer": "ipython3",
   "version": "3.10.5"
  }
 },
 "nbformat": 4,
 "nbformat_minor": 5
}
