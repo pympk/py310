{
 "cells": [
  {
   "cell_type": "markdown",
   "id": "bafb515b",
   "metadata": {},
   "source": [
    "# Document Splitting"
   ]
  },
  {
   "cell_type": "code",
   "execution_count": null,
   "id": "9ca36167",
   "metadata": {},
   "outputs": [],
   "source": [
    "import os\n",
    "import openai\n",
    "import sys\n",
    "sys.path.append('../..')\n",
    "\n",
    "from py3810.myUtils import pickle_dump, pickle_load\n",
    "path_lumen_docs = '..\\langchain\\docs\\lumen\\\\docs\\\\'\n",
    "\n",
    "from dotenv import load_dotenv, find_dotenv\n",
    "_ = load_dotenv(find_dotenv('.env\\my_api_key.env')) # read local .env file\n",
    "\n",
    "SECRET_KEY1 = os.environ.get(\"SECRET_KEY\")\n",
    "DATABASE_PASSWORD2 = os.environ.get(\"DATABASE_PASSWORD\")\n",
    "print(f\"SECRET_KEY = {SECRET_KEY1}\")\n",
    "print(f\"DATABASE_PASSWORD = {DATABASE_PASSWORD2}\")\n",
    "\n",
    "openai.api_key  = os.environ['openai_api']"
   ]
  },
  {
   "cell_type": "code",
   "execution_count": null,
   "id": "2ba7f084",
   "metadata": {},
   "outputs": [],
   "source": []
  },
  {
   "cell_type": "code",
   "execution_count": null,
   "id": "5faa1993",
   "metadata": {},
   "outputs": [],
   "source": [
    "from urllib.parse import urlparse\n",
    "\n",
    "def url_validator(x):\n",
    "    try:\n",
    "        result = urlparse(x)\n",
    "        # print(f'result: {result}, {type(result)}')\n",
    "        return all([result.scheme, result.netloc])\n",
    "    except AttributeError:\n",
    "        return False"
   ]
  },
  {
   "cell_type": "code",
   "execution_count": null,
   "id": "cf3ddedd",
   "metadata": {},
   "outputs": [],
   "source": [
    "def remove_duplicates(my_list):\n",
    "  \"\"\"\n",
    "  Removes duplicate items from a list while preserving order.\n",
    "\n",
    "  Args:\n",
    "      my_list: A list with potential duplicates.\n",
    "\n",
    "  Returns:\n",
    "      A new list with duplicates removed, preserving the original order.\n",
    "  \"\"\"\n",
    "  seen = set()\n",
    "  unique_list = []\n",
    "  for item in my_list:\n",
    "    if item not in seen:\n",
    "      seen.add(item)\n",
    "      unique_list.append(item)\n",
    "  return unique_list\n",
    "\n",
    "# Example usage\n",
    "my_list = [1, 2, 2, 3, 4, 1]\n",
    "unique_list = remove_duplicates(my_list)\n",
    "print(unique_list)  # Output: [1, 2, 3, 4] (Order may vary)"
   ]
  },
  {
   "cell_type": "code",
   "execution_count": null,
   "id": "79c879f2",
   "metadata": {},
   "outputs": [],
   "source": [
    "from pyrsistent import v\n",
    "import requests\n",
    "from bs4 import BeautifulSoup\n",
    "from urllib.parse import urlparse\n",
    "\n",
    "def url_validator(x):\n",
    "    try:\n",
    "        result = urlparse(x)\n",
    "        # print(f'result: {result}, {type(result)}')\n",
    "        return all([result.scheme, result.netloc])\n",
    "    except AttributeError:\n",
    "        return False\n",
    "\n",
    "def list_website_links(url, verbose=False):\n",
    "  l_hrefs = []\n",
    "  l_valid_hrefs = []  \n",
    "  \"\"\"Fetches the HTML content of a website and extracts all links.\"\"\"\n",
    "  response = requests.get(url)\n",
    "  soup = BeautifulSoup(response.content, \"html.parser\")\n",
    "  links = soup.find_all('a')\n",
    "  \n",
    "  for link in links:\n",
    "    # Get the href attribute which contains the link URL\n",
    "    href = link.get('href')\n",
    "    # Check if the link exists and avoid empty links\n",
    "    if href:\n",
    "      # print(f'href: {href}')\n",
    "      l_hrefs.append(href)      \n",
    "      if url_validator(href):\n",
    "        l_valid_hrefs.append(href)\n",
    "        # print(f'valid_urls: {href}')\n",
    "\n",
    "  if verbose:\n",
    "    print(f'valid hrefs, len={len(l_valid_hrefs)}:')\n",
    "    for valid_href in l_valid_hrefs:\n",
    "      print(valid_href)\n",
    "    print(f'\\nall hrefs, len={len(l_hrefs)}:')\n",
    "    for href in l_hrefs:\n",
    "      print(href)       \n",
    "\n",
    "  return l_valid_hrefs, l_hrefs       \n",
    "\n",
    "# # Example usage\n",
    "# website_url = \"https://www.lumenoptometric.com\"\n",
    "# l_valid_hrefs, l_hrefs  = list_website_links(website_url, verbose=True)\n"
   ]
  },
  {
   "cell_type": "code",
   "execution_count": null,
   "id": "6602fa91",
   "metadata": {},
   "outputs": [],
   "source": [
    "import requests\n",
    "from bs4 import BeautifulSoup\n",
    "\n",
    "def find_youtube_links(url):\n",
    "  \"\"\"\n",
    "  This function takes a URL as input and returns a list of YouTube video links found on the webpage.\n",
    "\n",
    "  Args:\n",
    "      url: The URL of the webpage to scrape.\n",
    "\n",
    "  Returns:\n",
    "      A list of YouTube video links found on the webpage.\n",
    "  \"\"\"\n",
    "  try:\n",
    "    # Get the webpage content\n",
    "    response = requests.get(url)\n",
    "    response.raise_for_status()  # Raise an exception for bad status codes\n",
    "\n",
    "    # Parse the HTML content\n",
    "    soup = BeautifulSoup(response.content, 'html.parser')\n",
    "\n",
    "    # Find all iframe tags (common for embedding videos)\n",
    "    iframes = soup.find_all('iframe')\n",
    "\n",
    "    # Extract YouTube video links from iframes\n",
    "    youtube_links = []\n",
    "    for iframe in iframes:\n",
    "      # Check if iframe source points to YouTube\n",
    "      if 'youtube.com/embed/' in iframe.get('src', ''):\n",
    "        youtube_links.append(iframe['src'])\n",
    "\n",
    "    return youtube_links\n",
    "\n",
    "  except requests.exceptions.RequestException as e:\n",
    "    print(f\"Error: {e}\")\n",
    "    return []\n",
    "\n",
    "# Example usage\n",
    "target_url = \"https://www.lumenoptometric.com/\"  # Replace with the target webpage URL\n",
    "youtube_links = find_youtube_links(target_url)\n",
    "\n",
    "if youtube_links:\n",
    "  print(\"Found YouTube links:\")\n",
    "  for link in youtube_links:\n",
    "    print(link)\n",
    "else:\n",
    "  print(\"No YouTube links found on the webpage.\")\n"
   ]
  },
  {
   "cell_type": "code",
   "execution_count": null,
   "id": "c20982e7",
   "metadata": {},
   "outputs": [],
   "source": [
    "def find_substring(text_list, substring):\n",
    "  \"\"\"\n",
    "  Searches a list of text strings for a given substring and returns a new list with matches.\n",
    "\n",
    "  Args:\n",
    "      text_list: A list of strings.\n",
    "      substring: The substring to search for.\n",
    "\n",
    "  Returns:\n",
    "      A new list containing all strings from text_list that have the specified substring.\n",
    "  \"\"\"\n",
    "  return [text for text in text_list if substring in text]  # Case sensitive search\n",
    "\n",
    "# Example usage\n",
    "text_list = [\"This has abc\", \"another string\", \"no xyz here\", \"AbCdEf\", \"fdsabcieojdsl\", \"fdsab cieojdsl\"]\n",
    "matches_abc = find_substring(text_list, substring=\"abc\")\n",
    "print(matches_abc)  # Output: [\"This has abc\", \"AbCdEf\"]\n",
    "\n",
    "matches_xyz = find_substring(text_list, substring=\"xyz\")\n",
    "print(matches_xyz)  # Output: [\"no xyz here\"]\n",
    "\n"
   ]
  },
  {
   "cell_type": "code",
   "execution_count": null,
   "id": "619c4502",
   "metadata": {},
   "outputs": [],
   "source": [
    "valid_urls = []\n",
    "yt_links = []\n",
    "website_url = \"https://www.lumenoptometric.com\"\n",
    "_urls, _  = list_website_links(website_url, verbose=False)\n",
    "valid_urls = valid_urls + _urls\n",
    "valid_urls = remove_duplicates(valid_urls)\n",
    "print(f'valid_urls, len:{len(valid_urls)}:\\n{valid_urls}')\n",
    "\n",
    "_yt_links = find_youtube_links(_urls)\n",
    "yt_links = yt_links + _yt_links\n",
    "yt_links = remove_duplicates(yt_links)\n",
    "print(f'yt_links, len:{len(yt_links)}:\\n{yt_links}')"
   ]
  },
  {
   "cell_type": "code",
   "execution_count": null,
   "id": "88b1a995",
   "metadata": {},
   "outputs": [],
   "source": [
    "# website_url = \"https://www.lumenoptometric.com/blog/\"\n",
    "# _urls, _  = list_website_links(website_url, verbose=False)"
   ]
  },
  {
   "cell_type": "code",
   "execution_count": null,
   "id": "813964f3",
   "metadata": {},
   "outputs": [],
   "source": [
    "for _url in _urls:\n",
    "  _urls = find_substring(_urls, 'https://www.lumenoptometric.com')  \n",
    "  _tmp_urls, _ = list_website_links(_url, verbose=False)\n",
    "  valid_urls = valid_urls + _tmp_urls\n",
    "  valid_urls = find_substring(valid_urls, 'https://www.lumenoptometric.com')    \n",
    "  valid_urls = remove_duplicates(valid_urls)\n",
    "\n",
    "  _yt_links = find_youtube_links(_url)\n",
    "  yt_links = yt_links + _yt_links\n",
    "  yt_links = remove_duplicates(yt_links)    \n",
    "\n",
    "print(f'valid_urls, len:{len(valid_urls)}:\\n{valid_urls}')\n",
    "print(f'yt_links, len:{len(yt_links)}:\\n{yt_links}')\n",
    "_urls = _tmp_urls\n",
    "\n",
    "# print(f'_tmp_urls, len:{len(_tmp_urls)}:\\n{_tmp_urls}')\n",
    "\n",
    "# _valid_urls  = [item for sublist in _valid_urls for item in sublist]  # flatten\n",
    "# _valid_urls"
   ]
  },
  {
   "cell_type": "code",
   "execution_count": null,
   "id": "9a6cd09c",
   "metadata": {},
   "outputs": [],
   "source": [
    "sorted_yt_links = sorted(yt_links)\n",
    "sorted_yt_links "
   ]
  },
  {
   "cell_type": "code",
   "execution_count": null,
   "id": "d80e4558",
   "metadata": {},
   "outputs": [],
   "source": [
    "my_list = sorted_yt_links\n",
    "target_char ='?'\n",
    "modified_list = [item.split(target_char)[0] for item in my_list]\n",
    "print(f'len(modified_list): {len(modified_list)}')\n",
    "modified_list "
   ]
  },
  {
   "cell_type": "code",
   "execution_count": null,
   "id": "c54e9263",
   "metadata": {},
   "outputs": [],
   "source": [
    "modified_list = remove_duplicates(modified_list)\n",
    "print(f'len(modified_list): {len(modified_list)}')\n",
    "modified_list "
   ]
  },
  {
   "cell_type": "code",
   "execution_count": null,
   "id": "f134dbd1",
   "metadata": {},
   "outputs": [],
   "source": []
  },
  {
   "cell_type": "code",
   "execution_count": null,
   "id": "04249c58",
   "metadata": {},
   "outputs": [],
   "source": []
  },
  {
   "cell_type": "code",
   "execution_count": null,
   "id": "cf868617",
   "metadata": {},
   "outputs": [],
   "source": [
    "for _url in _urls:\n",
    "  _tmp_urls, _ = list_website_links(_url, verbose=False)\n",
    "  valid_urls = valid_urls + _tmp_urls\n",
    "  valid_urls = remove_duplicates(valid_urls)\n",
    "\n",
    "print(f'valid_urls, len:{len(valid_urls)}:\\n{valid_urls}')\n",
    "_urls = _tmp_urls\n",
    "\n",
    "# print(f'_tmp_urls, len:{len(_tmp_urls)}:\\n{_tmp_urls}')\n",
    "\n",
    "# _valid_urls  = [item for sublist in _valid_urls for item in sublist]  # flatten\n",
    "# _valid_urls"
   ]
  },
  {
   "cell_type": "code",
   "execution_count": null,
   "id": "7878a55d",
   "metadata": {},
   "outputs": [],
   "source": [
    "sorted_valid_urls = sorted(valid_urls)\n",
    "print(f'len(sorted_valid_urls): {len(sorted_valid_urls)}')\n",
    "sorted_valid_urls"
   ]
  },
  {
   "cell_type": "code",
   "execution_count": null,
   "id": "00699fa0",
   "metadata": {},
   "outputs": [],
   "source": []
  },
  {
   "cell_type": "code",
   "execution_count": null,
   "id": "11091517",
   "metadata": {},
   "outputs": [],
   "source": [
    "lumen_urls = find_substring(sorted_valid_urls, 'https://www.lumenoptometric.com')\n",
    "print(f'lumen_urls, len={len(lumen_urls)}')\n",
    "lumen_urls"
   ]
  },
  {
   "cell_type": "code",
   "execution_count": null,
   "id": "b458bbec",
   "metadata": {},
   "outputs": [],
   "source": [
    "scraped_lumen_urls = pickle_load(filename_pickle='scraped_lumen_urls', path_pickle_dump=path_lumen_docs)\n",
    "print(f'len(scraped_lumen_urls): {len(scraped_lumen_urls)}')\n",
    "scraped_lumen_urls = find_substring(scraped_lumen_urls, 'https://www.lumenoptometric.com')\n",
    "print(f'len(scraped_lumen_urls): {len(scraped_lumen_urls)}')"
   ]
  },
  {
   "cell_type": "code",
   "execution_count": null,
   "id": "7025c5b6",
   "metadata": {},
   "outputs": [],
   "source": [
    "url_dif = list(set(scraped_lumen_urls) - set(lumen_urls))\n",
    "sorted_url_dif = sorted(url_dif)\n",
    "print(f'len(sorted_url_dif): {len(sorted_url_dif)}')\n",
    "sorted_url_dif"
   ]
  },
  {
   "cell_type": "code",
   "execution_count": null,
   "id": "255514dc",
   "metadata": {},
   "outputs": [],
   "source": []
  },
  {
   "cell_type": "code",
   "execution_count": null,
   "id": "bb489302",
   "metadata": {},
   "outputs": [],
   "source": []
  },
  {
   "cell_type": "code",
   "execution_count": null,
   "id": "88c3be8c",
   "metadata": {},
   "outputs": [],
   "source": [
    "_urls = lumen_urls\n",
    "for _url in _urls:\n",
    "  _tmp_urls, _ = list_website_links(_url, verbose=False)\n",
    "  lumen_urls = lumen_urls + _tmp_urls\n",
    "  lumen_urls = remove_duplicates(lumen_urls)\n",
    "\n",
    "print(f'lumen_urls, len={len(lumen_urls)}')\n",
    "lumen_urls\n",
    "# print(f'valid_urls, len:{len(valid_urls)}:\\n{valid_urls}')\n",
    "# _urls = _tmp_urls"
   ]
  },
  {
   "cell_type": "code",
   "execution_count": null,
   "id": "bc607e82",
   "metadata": {},
   "outputs": [],
   "source": [
    "_lumen_urls = find_substring(lumen_urls, 'https://www.lumenoptometric.com')\n",
    "_lumen_urls = remove_duplicates(_lumen_urls)\n",
    "print(f'_lumen_urls, len={len(_lumen_urls)}')\n",
    "_lumen_urls"
   ]
  },
  {
   "cell_type": "code",
   "execution_count": null,
   "id": "89ea3b98",
   "metadata": {},
   "outputs": [],
   "source": [
    "pickle_dump(file_to_pickle=_lumen_urls, filename_pickle='scraped_lumen_urls', path_pickle_dump=path_lumen_docs)"
   ]
  },
  {
   "cell_type": "code",
   "execution_count": null,
   "id": "f6a43e5e",
   "metadata": {},
   "outputs": [],
   "source": []
  },
  {
   "cell_type": "code",
   "execution_count": null,
   "id": "1487d7b3",
   "metadata": {},
   "outputs": [],
   "source": []
  },
  {
   "cell_type": "code",
   "execution_count": null,
   "id": "557474a8",
   "metadata": {},
   "outputs": [],
   "source": []
  },
  {
   "cell_type": "code",
   "execution_count": null,
   "id": "80babff4",
   "metadata": {},
   "outputs": [],
   "source": []
  },
  {
   "cell_type": "code",
   "execution_count": null,
   "id": "7c6a87e6",
   "metadata": {},
   "outputs": [],
   "source": [
    "_urls = lumen_urls\n",
    "for _url in _urls:\n",
    "  _tmp_urls, _ = list_website_links(_url, verbose=False)\n",
    "  lumen_urls = lumen_urls + _tmp_urls\n",
    "  lumen_urls = remove_duplicates(lumen_urls)\n",
    "\n",
    "print(f'lumen_urls, len={len(lumen_urls)}')\n",
    "lumen_urls\n",
    "# print(f'valid_urls, len:{len(valid_urls)}:\\n{valid_urls}')\n",
    "# _urls = _tmp_urls"
   ]
  },
  {
   "cell_type": "code",
   "execution_count": null,
   "id": "14c693c9",
   "metadata": {},
   "outputs": [],
   "source": []
  },
  {
   "cell_type": "code",
   "execution_count": null,
   "id": "268b1bcc",
   "metadata": {},
   "outputs": [],
   "source": []
  },
  {
   "cell_type": "code",
   "execution_count": null,
   "id": "43249622",
   "metadata": {},
   "outputs": [],
   "source": []
  },
  {
   "cell_type": "code",
   "execution_count": null,
   "id": "c06afce1",
   "metadata": {},
   "outputs": [],
   "source": [
    "print(f'valid_urls, len:{len(valid_urls)}:\\n{valid_urls}')"
   ]
  },
  {
   "cell_type": "code",
   "execution_count": null,
   "id": "63ef0271",
   "metadata": {},
   "outputs": [],
   "source": [
    "_valid_urls  = [item for sublist in _valid_urls for item in sublist]  # flatten\n",
    "_valid_urls"
   ]
  },
  {
   "cell_type": "code",
   "execution_count": null,
   "id": "f381fca4",
   "metadata": {},
   "outputs": [],
   "source": [
    "flatten_valid_hrefs = [item for sublist in valid_hrefs for item in sublist]\n",
    "flatten_valid_hrefs "
   ]
  },
  {
   "cell_type": "code",
   "execution_count": null,
   "id": "4ce3f92d",
   "metadata": {},
   "outputs": [],
   "source": [
    "len(flatten_valid_hrefs)"
   ]
  },
  {
   "cell_type": "code",
   "execution_count": null,
   "id": "729b324c",
   "metadata": {},
   "outputs": [],
   "source": [
    "flatten_valid_hrefs = flatten_valid_hrefs.append(l_valid_hrefs_0)"
   ]
  },
  {
   "cell_type": "code",
   "execution_count": null,
   "id": "569bc294",
   "metadata": {},
   "outputs": [],
   "source": [
    "len(flatten_valid_hrefs)"
   ]
  },
  {
   "cell_type": "markdown",
   "id": "041d081d",
   "metadata": {},
   "source": [
    "flatten_valide_hrefs = flatten_valide_hrefs.append(l_valid_hrefs_0)"
   ]
  },
  {
   "cell_type": "code",
   "execution_count": null,
   "id": "4648b03c",
   "metadata": {},
   "outputs": [],
   "source": [
    "unique_valid_hrefs = list(set(flatten_valid_hrefs))\n",
    "len(unique_valid_hrefs)\n",
    "unique_valid_hrefs"
   ]
  },
  {
   "cell_type": "code",
   "execution_count": null,
   "id": "c6d2809a",
   "metadata": {},
   "outputs": [],
   "source": [
    "unique_valid_hrefs.sort()\n",
    "unique_valid_hrefs"
   ]
  },
  {
   "cell_type": "code",
   "execution_count": null,
   "id": "3d1492f3",
   "metadata": {},
   "outputs": [],
   "source": []
  },
  {
   "cell_type": "code",
   "execution_count": null,
   "id": "392e237f",
   "metadata": {},
   "outputs": [],
   "source": []
  },
  {
   "cell_type": "code",
   "execution_count": null,
   "id": "2e517880",
   "metadata": {},
   "outputs": [],
   "source": []
  },
  {
   "cell_type": "code",
   "execution_count": null,
   "id": "4f93e95c",
   "metadata": {},
   "outputs": [],
   "source": []
  },
  {
   "cell_type": "code",
   "execution_count": null,
   "id": "dc79033a",
   "metadata": {},
   "outputs": [],
   "source": [
    "for _href in l_valid_hrefs:\n",
    "  l_valid_hrefs1, l_hrefs1  = list_website_links(_href, verbose=True)"
   ]
  },
  {
   "cell_type": "code",
   "execution_count": null,
   "id": "02e02bf4",
   "metadata": {},
   "outputs": [],
   "source": [
    "# Example usage\n",
    "website_url = \"https://www.lumenoptometric.com\"\n",
    "l_valid_hrefs, l_hrefs  = list_website_links(website_url)"
   ]
  },
  {
   "cell_type": "code",
   "execution_count": null,
   "id": "801c271d",
   "metadata": {},
   "outputs": [],
   "source": [
    "l_hrefs"
   ]
  },
  {
   "cell_type": "code",
   "execution_count": null,
   "id": "440f9271",
   "metadata": {},
   "outputs": [],
   "source": [
    "l_valid_hrefs"
   ]
  },
  {
   "cell_type": "code",
   "execution_count": null,
   "id": "9f97c85a-78e8-4c63-bd45-ce585e26b63a",
   "metadata": {
    "height": 30
   },
   "outputs": [],
   "source": [
    "import requests\n",
    "from bs4 import BeautifulSoup\n",
    "\n",
    "def list_website_links(url):\n",
    "  l_links = []\n",
    "  \"\"\"Fetches the HTML content of a website and extracts all links.\"\"\"\n",
    "  response = requests.get(url)\n",
    "  soup = BeautifulSoup(response.content, \"html.parser\")\n",
    "  links = soup.find_all('a')\n",
    "  \n",
    "  for link in links:\n",
    "    # Get the href attribute which contains the link URL\n",
    "    href = link.get('href')\n",
    "    # Check if the link exists and avoid empty links\n",
    "    if href:\n",
    "      print(href)\n",
    "      l_links.append(href)\n",
    "      \n",
    "  return l_links      \n",
    "\n",
    "# # Example usage\n",
    "# website_url = \"https://www.lumenoptometric.com/\"\n",
    "# result_links = list_website_links(website_url)\n"
   ]
  },
  {
   "cell_type": "code",
   "execution_count": null,
   "id": "c40b73ff",
   "metadata": {},
   "outputs": [],
   "source": [
    "# Example usage\n",
    "website_url = \"https://www.lumenoptometric.com\"\n",
    "l_links = list_website_links(website_url)"
   ]
  },
  {
   "cell_type": "code",
   "execution_count": null,
   "id": "ffa1a61f",
   "metadata": {},
   "outputs": [],
   "source": [
    "from urllib.parse import urlparse\n",
    "\n",
    "def url_validator(x):\n",
    "    try:\n",
    "        result = urlparse(x)\n",
    "        # print(f'result: {result}, {type(result)}')\n",
    "        return all([result.scheme, result.netloc])\n",
    "    except AttributeError:\n",
    "        return False"
   ]
  },
  {
   "cell_type": "code",
   "execution_count": null,
   "id": "25c7e24d",
   "metadata": {},
   "outputs": [],
   "source": [
    "valid_urls = []\n",
    "for i, url in enumerate(l_links):\n",
    "  # print(f'{i}, url')\n",
    "  if url_validator(url):\n",
    "    valid_urls.append(url)\n",
    "  # else:\n",
    "  #   print(f'not a valid url: {url}')  "
   ]
  },
  {
   "cell_type": "code",
   "execution_count": null,
   "id": "9f23bd72",
   "metadata": {},
   "outputs": [],
   "source": [
    "valid_urls"
   ]
  },
  {
   "cell_type": "code",
   "execution_count": null,
   "id": "140995ed",
   "metadata": {},
   "outputs": [],
   "source": [
    "# Example usage\n",
    "website_url = \"https://www.lumenoptometric.com/treehouse-eyes-myopia-management-for-children/what-is-myopia/\"\n",
    "list_website_links(website_url)"
   ]
  },
  {
   "cell_type": "code",
   "execution_count": null,
   "id": "6b4f3b1f",
   "metadata": {},
   "outputs": [],
   "source": [
    "website_url = \"https://www.lumenoptometric.com/blog/\"\n",
    "list_website_links(website_url)"
   ]
  }
 ],
 "metadata": {
  "kernelspec": {
   "display_name": "Python 3 (ipykernel)",
   "language": "python",
   "name": "python3"
  },
  "language_info": {
   "codemirror_mode": {
    "name": "ipython",
    "version": 3
   },
   "file_extension": ".py",
   "mimetype": "text/x-python",
   "name": "python",
   "nbconvert_exporter": "python",
   "pygments_lexer": "ipython3",
   "version": "3.8.10"
  }
 },
 "nbformat": 4,
 "nbformat_minor": 5
}
