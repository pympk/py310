{
 "cells": [
  {
   "cell_type": "code",
   "execution_count": 1,
   "id": "f26c2a2a-f7a7-4580-ab73-178bab918dd7",
   "metadata": {
    "height": 183,
    "tags": []
   },
   "outputs": [
    {
     "name": "stdout",
     "output_type": "stream",
     "text": [
      "SECRET_KEY = my_secret_key\n",
      "DATABASE_PASSWORD = my_db_pwd\n"
     ]
    }
   ],
   "source": [
    "import os\n",
    "import openai\n",
    "import sys\n",
    "sys.path.append('../..')\n",
    "\n",
    "from py3810.myUtils import pickle_dump, pickle_load\n",
    "from dotenv import load_dotenv, find_dotenv\n",
    "_ = load_dotenv(find_dotenv('.env\\my_api_key.env')) # read local .env file\n",
    "\n",
    "SECRET_KEY1 = os.environ.get(\"SECRET_KEY\")\n",
    "DATABASE_PASSWORD2 = os.environ.get(\"DATABASE_PASSWORD\")\n",
    "print(f\"SECRET_KEY = {SECRET_KEY1}\")\n",
    "print(f\"DATABASE_PASSWORD = {DATABASE_PASSWORD2}\")\n",
    "\n",
    "openai.api_key  = os.environ['OPENAI_API_KEY']"
   ]
  },
  {
   "cell_type": "code",
   "execution_count": 2,
   "id": "69d319c6",
   "metadata": {},
   "outputs": [],
   "source": [
    "# Set the path to the directory containing the Excel file\n",
    "path_lumen_dump = \"../langchain/docs/lumen/\"\n",
    "path_lumen_docs = path_lumen_dump + \"docs/\""
   ]
  },
  {
   "cell_type": "code",
   "execution_count": 3,
   "id": "d0f850bd",
   "metadata": {},
   "outputs": [],
   "source": [
    "lumen_urls_youtube = pickle_load(filename_pickle='lumen_urls_youtube', path_pickle_dump=path_lumen_dump)"
   ]
  },
  {
   "cell_type": "code",
   "execution_count": 4,
   "id": "6693a5e6",
   "metadata": {},
   "outputs": [
    {
     "data": {
      "text/plain": [
       "['https://youtu.be/-UMk6KKcT_c',\n",
       " 'https://youtu.be/DhtuaIazLIw',\n",
       " 'https://youtu.be/H4GfHJCOcAk',\n",
       " 'https://youtu.be/IRHtQQVethk',\n",
       " 'https://youtu.be/JHNzfnt9xZM',\n",
       " 'https://youtu.be/KOpBVoqeeTE',\n",
       " 'https://youtu.be/Lq7LmBjatMA',\n",
       " 'https://youtu.be/Nb_PLkwmTl8',\n",
       " 'https://youtu.be/RIoA_bIo8hE',\n",
       " 'https://youtu.be/UcZrM2L1h8w',\n",
       " 'https://youtu.be/UmMYehZNlc0',\n",
       " 'https://youtu.be/abUT6U9cXrI',\n",
       " 'https://youtu.be/gqmjNdJ7VR4',\n",
       " 'https://youtu.be/pP_GoxPywkY',\n",
       " 'https://youtu.be/psh8iOBhjTM',\n",
       " 'https://youtu.be/tNugl0Z3m7U',\n",
       " 'https://youtu.be/yVF2oczrJ8w']"
      ]
     },
     "execution_count": 4,
     "metadata": {},
     "output_type": "execute_result"
    }
   ],
   "source": [
    "lumen_urls_youtube "
   ]
  },
  {
   "cell_type": "markdown",
   "id": "823c9839",
   "metadata": {},
   "source": [
    "https://developer.mozilla.org/en-US/docs/Web/JavaScript/Guide/Regular_expressions/Cheatsheet"
   ]
  },
  {
   "cell_type": "code",
   "execution_count": 5,
   "id": "53e4b44e",
   "metadata": {},
   "outputs": [
    {
     "name": "stdout",
     "output_type": "stream",
     "text": [
      "Total videos: 30\n",
      "https://www.youtube.com/watch?v=f3DXdTKNxlk\n",
      "https://www.youtube.com/watch?v=6xgYtUvPpX0\n",
      "https://www.youtube.com/watch?v=HfdIB-5bP-0\n",
      "https://www.youtube.com/watch?v=vqYF4eLTaNw\n",
      "https://www.youtube.com/watch?v=psh8iOBhjTM\n",
      "https://www.youtube.com/watch?v=KOpBVoqeeTE\n",
      "https://www.youtube.com/watch?v=-UMk6KKcT_c\n",
      "https://www.youtube.com/watch?v=RIoA_bIo8hE\n",
      "https://www.youtube.com/watch?v=JHNzfnt9xZM\n",
      "https://www.youtube.com/watch?v=1e_XRLQvjmE\n",
      "https://www.youtube.com/watch?v=lGENWFm5M5s\n",
      "https://www.youtube.com/watch?v=DhtuaIazLIw\n",
      "https://www.youtube.com/watch?v=UcZrM2L1h8w\n",
      "https://www.youtube.com/watch?v=j1QovDcF0ww\n",
      "https://www.youtube.com/watch?v=OdO5a0OG7_w\n",
      "https://www.youtube.com/watch?v=JOlfZ6PBzAc\n",
      "https://www.youtube.com/watch?v=gV_lqzoUekI\n",
      "https://www.youtube.com/watch?v=jSah_BdQMdg\n",
      "https://www.youtube.com/watch?v=lxILkAXDi9s\n",
      "https://www.youtube.com/watch?v=tzCkP5zMPDc\n",
      "https://www.youtube.com/watch?v=CoukXsJKjv8\n",
      "https://www.youtube.com/watch?v=dk96_v9_6qs\n",
      "https://www.youtube.com/watch?v=ApSg1Zqc5LU\n",
      "https://www.youtube.com/watch?v=h6VgVfYl9R0\n",
      "https://www.youtube.com/watch?v=9pJWBnDKyTA\n",
      "https://www.youtube.com/watch?v=IRHtQQVethk\n",
      "https://www.youtube.com/watch?v=w48uv-h9M0s\n",
      "https://www.youtube.com/watch?v=BeDrtW-menM\n",
      "https://www.youtube.com/watch?v=Nb_PLkwmTl8\n",
      "https://www.youtube.com/watch?v=tNugl0Z3m7U\n"
     ]
    }
   ],
   "source": [
    "import re\n",
    "from bs4 import BeautifulSoup as bs\n",
    "from urllib.request import urlopen\n",
    "# from urllib.error import URLError, ssl\n",
    "import json\n",
    "\n",
    "import ssl\n",
    "\n",
    "ssl._create_default_https_context = ssl._create_unverified_context\n",
    "\n",
    "# youtube_search = \"https://www.youtube.com/@PW-Foundation/videos\"\n",
    "# youtube_search = \"https://www.lumenoptometric.com/treehouse-eyes-myopia-management-for-children/\"\n",
    "youtube_search = \"https://www.youtube.com/@lumenoptometric/videos\"\n",
    "\n",
    "# Open the URL and read the content of the page\n",
    "url_search = urlopen(youtube_search)\n",
    "youtube_page = url_search.read()\n",
    "\n",
    "# Parse the HTML content of the page using BeautifulSoup\n",
    "youtube_html = bs(youtube_page, \"html.parser\")\n",
    "\n",
    "# # Define a regular expression pattern to extract the JSON data from the script tag\n",
    "pattern = r'<script nonce=\"[-\\w]+\">\\n\\s+var ytInitialData = (.+)'\n",
    "script_data = re.search(pattern=pattern, string=youtube_html.prettify())[1].replace(';', '')\n",
    "\n",
    "# Load the JSON data into a Python dictionary\n",
    "json_data = json.loads(script_data)\n",
    "\n",
    "# Extract the list of videos from the JSON data and store it in the 'videos_container' variable\n",
    "videos_container = json_data['contents']['twoColumnBrowseResultsRenderer']['tabs'][1]['tabRenderer']['content']['richGridRenderer']['contents']\n",
    "\n",
    "print(f\"Total videos: {len(videos_container)-1}\")\n",
    "\n",
    "# Loop through the video list and print the URLs of the videos\n",
    "for video in videos_container[:-1]:\n",
    "    # print(video)\n",
    "    video_id = video['richItemRenderer']['content']['videoRenderer']['videoId']\n",
    "    video_url = f\"https://www.youtube.com/watch?v={video_id}\"\n",
    "    print(video_url)\n"
   ]
  },
  {
   "cell_type": "markdown",
   "id": "beeb64e0",
   "metadata": {},
   "source": [
    "https://regex101.com/"
   ]
  },
  {
   "cell_type": "code",
   "execution_count": 16,
   "id": "4b3294c1",
   "metadata": {},
   "outputs": [
    {
     "name": "stdout",
     "output_type": "stream",
     "text": [
      "Found video IDs:\n",
      "'abc123'\n"
     ]
    }
   ],
   "source": [
    "import re\n",
    "\n",
    "def find_video_ids(document):\n",
    "    \"\"\"Searches a document for strings matching the 'videoIds' pattern.\n",
    "\n",
    "    Args:\n",
    "        document: The document content (string) to search.\n",
    "\n",
    "    Returns:\n",
    "        A list of video ID strings found in the document.\n",
    "    \"\"\"\n",
    "\n",
    "    # regex = r\"'videoIds': \\['(.*?)'\\]|\"\"videoIds\"\": \\[\"\"(.*?)\"\"\\]\"\n",
    "    # regex = r\"'videoIds': \\[\"\"(.*?)\"\"\\]\"    \n",
    "    regex = r\"'videoIds': \\[\"\"(.*?)\"\"\\]\"        \n",
    "    matches = re.findall(regex, document)\n",
    "    return matches\n",
    "\n",
    "# Example usage with triple quotes for multiline string\n",
    "document_content = \"\"\"\n",
    "This is some sample text.\n",
    "Here's an example with video IDs:\n",
    "{\n",
    "  'videoIds': ['abc123']\n",
    "}\n",
    "\n",
    "Another section of text...\n",
    "\"\"\"\n",
    "\n",
    "video_ids = find_video_ids(document_content)\n",
    "\n",
    "if video_ids:\n",
    "    print(\"Found video IDs:\")\n",
    "    for id in video_ids:\n",
    "        print(id)\n",
    "else:\n",
    "    print(\"No video IDs found in the document.\")\n"
   ]
  },
  {
   "cell_type": "code",
   "execution_count": 17,
   "id": "c634762a",
   "metadata": {},
   "outputs": [
    {
     "name": "stdout",
     "output_type": "stream",
     "text": [
      "30\n"
     ]
    },
    {
     "data": {
      "text/plain": [
       "[\"'lGENWFm5M5s'\",\n",
       " \"'h6VgVfYl9R0'\",\n",
       " \"'1e_XRLQvjmE'\",\n",
       " \"'vqYF4eLTaNw'\",\n",
       " \"'lxILkAXDi9s'\",\n",
       " \"'jSah_BdQMdg'\",\n",
       " \"'KOpBVoqeeTE'\",\n",
       " \"'ApSg1Zqc5LU'\",\n",
       " \"'-UMk6KKcT_c'\",\n",
       " \"'tNugl0Z3m7U'\",\n",
       " \"'Nb_PLkwmTl8'\",\n",
       " \"'UcZrM2L1h8w'\",\n",
       " \"'BeDrtW-menM'\",\n",
       " \"'f3DXdTKNxlk'\",\n",
       " \"'HfdIB-5bP-0'\",\n",
       " \"'IRHtQQVethk'\",\n",
       " \"'tzCkP5zMPDc'\",\n",
       " \"'j1QovDcF0ww'\",\n",
       " \"'OdO5a0OG7_w'\",\n",
       " \"'psh8iOBhjTM'\",\n",
       " \"'6xgYtUvPpX0'\",\n",
       " \"'9pJWBnDKyTA'\",\n",
       " \"'CoukXsJKjv8'\",\n",
       " \"'DhtuaIazLIw'\",\n",
       " \"'w48uv-h9M0s'\",\n",
       " \"'JOlfZ6PBzAc'\",\n",
       " \"'gV_lqzoUekI'\",\n",
       " \"'dk96_v9_6qs'\",\n",
       " \"'JHNzfnt9xZM'\",\n",
       " \"'RIoA_bIo8hE'\"]"
      ]
     },
     "execution_count": 17,
     "metadata": {},
     "output_type": "execute_result"
    }
   ],
   "source": [
    "_video_ids = list(set(find_video_ids(str(videos_container))))\n",
    "print(len(_video_ids))\n",
    "_video_ids\n"
   ]
  }
 ],
 "metadata": {
  "kernelspec": {
   "display_name": "Python 3 (ipykernel)",
   "language": "python",
   "name": "python3"
  },
  "language_info": {
   "codemirror_mode": {
    "name": "ipython",
    "version": 3
   },
   "file_extension": ".py",
   "mimetype": "text/x-python",
   "name": "python",
   "nbconvert_exporter": "python",
   "pygments_lexer": "ipython3",
   "version": "3.10.5"
  }
 },
 "nbformat": 4,
 "nbformat_minor": 5
}
