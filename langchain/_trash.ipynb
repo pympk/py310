{
 "cells": [
  {
   "cell_type": "code",
   "execution_count": 1,
   "metadata": {},
   "outputs": [],
   "source": [
    "import sys\n",
    "sys.path.append('../..')\n",
    "# from py310.myUtils1 import delete_all_rows, find_strings_with_substring, keep_first_n_words\n",
    "from py310.myUtils import delete_all_rows, find_strings_with_substring, keep_first_n_words\n",
    "from py310.myUtils import get_file_names, check_file_size, find_strings_with_substring, keep_first_n_words, extract_caption_text\n",
    "# from py310.myUtils0 import keep_first_n_words\n",
    "# from py310.myUtils import delete_all_rows, find_strings_with_substring"
   ]
  }
 ],
 "metadata": {
  "kernelspec": {
   "display_name": ".venv",
   "language": "python",
   "name": "python3"
  },
  "language_info": {
   "codemirror_mode": {
    "name": "ipython",
    "version": 3
   },
   "file_extension": ".py",
   "mimetype": "text/x-python",
   "name": "python",
   "nbconvert_exporter": "python",
   "pygments_lexer": "ipython3",
   "version": "3.10.5"
  }
 },
 "nbformat": 4,
 "nbformat_minor": 2
}
