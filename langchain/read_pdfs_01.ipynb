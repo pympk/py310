{
 "cells": [
  {
   "cell_type": "code",
   "execution_count": 57,
   "id": "ed26a9b9",
   "metadata": {},
   "outputs": [],
   "source": [
    "import os\n",
    "import sys\n",
    "sys.path.append('../..')\n",
    "\n",
    "from py3810.myUtils import pickle_dump, pickle_load\n",
    "\n",
    "# Set the path to the directory containing the Excel file\n",
    "path_lumen_dump = \"../langchain/docs/lumen/\"\n",
    "path_lumen_docs = path_lumen_dump + \"docs/\""
   ]
  },
  {
   "cell_type": "code",
   "execution_count": 58,
   "id": "dc6df54a",
   "metadata": {},
   "outputs": [
    {
     "data": {
      "text/plain": [
       "['https://www.lumenoptometric.com/wp-content/uploads/2020/05/Intro_ScleralLenses.pdf',\n",
       " 'https://www.lumenoptometric.com/wp-content/uploads/2020/07/Lumen-HPA300-NP-Template.pdf']"
      ]
     },
     "execution_count": 58,
     "metadata": {},
     "output_type": "execute_result"
    }
   ],
   "source": [
    "lumen_urls_pdf = pickle_load(filename_pickle='lumen_urls_pdf', path_pickle_dump=path_lumen_dump)\n",
    "lumen_urls_pdf"
   ]
  },
  {
   "cell_type": "code",
   "execution_count": 59,
   "id": "97edc043",
   "metadata": {},
   "outputs": [
    {
     "name": "stdout",
     "output_type": "stream",
     "text": [
      "Langchain document text: INTRODUCTION TO SCLERAL LENSESCLEAR & COMFORTABLE VISION \n",
      "WITHOUT COMPROMISE...\n",
      "Langchain document text: EXCEPTIONALLY CLEAR, STABLE, AND COMFORTABLE \n",
      "vision is no longer out of reach. The future is here a...\n"
     ]
    }
   ],
   "source": [
    "import langchain  # Assuming langchain is installed\n",
    "from langchain_community.document_loaders import PyPDFLoader\n",
    "\n",
    "def convert_pdfs_to_langchain(pdf_urls):\n",
    "  \"\"\"\n",
    "  This function converts a list of PDF URLs to Langchain document objects\n",
    "  using PyPDFLoader for efficient processing.\n",
    "\n",
    "  Args:\n",
    "      pdf_urls: A list of URLs pointing to PDF files.\n",
    "\n",
    "  Returns:\n",
    "      A list of Langchain TextDocument objects.\n",
    "  \"\"\"\n",
    "  langchain_docs = []\n",
    "  for url in pdf_urls:\n",
    "    try:\n",
    "      # Use PyPDFLoader to read the PDF content locally (avoiding download)\n",
    "      loader = PyPDFLoader(url)\n",
    "      docs = loader.load()\n",
    "      for doc in docs:\n",
    "        # append only if page_content has text\n",
    "        if doc.page_content != \"\":  \n",
    "          langchain_docs.append(doc)\n",
    "\n",
    "        # langchain_docs.append(doc)\n",
    "    except Exception as e:\n",
    "      print(f\"Error processing PDF from {url}: {e}\")\n",
    "  return langchain_docs\n",
    "\n",
    "# Example usage (same as before)\n",
    "pdf_urls = \\\n",
    "  ['https://www.lumenoptometric.com/wp-content/uploads/2020/05/Intro_ScleralLenses.pdf',\n",
    "   'https://www.lumenoptometric.com/wp-content/uploads/2020/07/Lumen-HPA300-NP-Template.pdf']\n",
    "langchain_documents = convert_pdfs_to_langchain(pdf_urls)\n",
    "\n",
    "# You can now use the Langchain documents for further processing\n",
    "for doc in langchain_documents:\n",
    "  print(f\"Langchain document text: {doc.page_content[:100]}...\")\n"
   ]
  },
  {
   "cell_type": "code",
   "execution_count": 60,
   "id": "2b18fb97",
   "metadata": {},
   "outputs": [
    {
     "data": {
      "text/plain": [
       "[Document(page_content='INTRODUCTION TO SCLERAL LENSESCLEAR & COMFORTABLE VISION \\nWITHOUT COMPROMISE', metadata={'source': 'https://www.lumenoptometric.com/wp-content/uploads/2020/05/Intro_ScleralLenses.pdf', 'page': 0}),\n",
       " Document(page_content='EXCEPTIONALLY CLEAR, STABLE, AND COMFORTABLE \\nvision is no longer out of reach. The future is here and the answer lies with scleral lenses.\\nWILL I SEE A DIFFERENCE BETWEEN SCLERAL AND SOFT LENSES?\\nScleral lenses are built from highly-\\ncustomizable, firm lens materials, which offer clearer vision relative to the standard soft lenses. Example: consider how vision \\nis better through a window versus clear, \\nflexible plastic sheeting.\\nCAN SCLERALS BE WORN THE WHOLE DAY?\\nThey can be worn for the full  course of the day. Some patients may need to remove and clean the lenses mid day to maintain the best possible comfort and vision.\\nWILL THEY HELP WITH MY DRY EYES?\\nThe moisture chamber under the scleral lens will greatly diminish dryness, leading to much more comfortable vision.\\nHOW LONG DOES A SCLERAL LENS LAST?\\nA set of scleral lenses should be replaced every 18- 24 months to maintain healthy vision, comfort, and to avoid lens warpage.ARE SCLERAL LENSES COMFORTABLE?\\nYes! The lenses are larger so they rest gently on the sclera and the edges are tucked under the eyelid. A well-fitting scleral lens is just as comfortable and less \\ndry than soft contacts.\\nSCLERAL LENSES DONE RIGHT AT  \\nLUMEN OPTOMETRIC!\\nFirst, we start with a topographical scan of \\nthe cornea, which allows us to capture the curvature of your eye. We then customize the scleral lens for each individual eye, \\nfactoring in the prescription, all while \\nensuring that the lens rests gently and comfortably on the sclera. \\nOnce the lens is designed, we confirm that \\nwe’ve met both your visual and comfort demands. Our scleral lens fitting is not complete until you are completely pleased with the results.\\nTO GET STARTED, SCHEDULE AN APPOINTMENT \\nWITH US AT WWW.LUMENOPTOMETRIC.COM \\nFOR A COMPLIMENTARY CONSULTATION  \\nWHERE WE’LL EXPLAIN THE SCLERAL FITTING \\nPROCESS IN MORE DETAIL.WHAT ARE SCLERAL \\nLENSES?\\nScleral lenses are large \\ndiameter lenses that create a moisture chamber over the cornea (clear window of the eye) and gently settle on the sclera \\n(white covering of the eye).WHAT ARE THEIR \\nADVANTAGES?\\nClear, stable vision due to the rigid lens design. Increased comfort from the lens resting on the less-sensitive sclera. Decreased dry eye from all-\\nday lubrication of the cornea.  WHO CAN  \\nHELP?\\nPatients with keratoconus, pellucid, post-surgical glare/blur, compromised corneal integrity (dry eyes, recurrent erosions), high prescriptions, & exacting visual demands (photography, videography, sports).', metadata={'source': 'https://www.lumenoptometric.com/wp-content/uploads/2020/05/Intro_ScleralLenses.pdf', 'page': 1})]"
      ]
     },
     "execution_count": 60,
     "metadata": {},
     "output_type": "execute_result"
    }
   ],
   "source": [
    "docs_pdfs = convert_pdfs_to_langchain(lumen_urls_pdf)\n",
    "docs_pdfs"
   ]
  },
  {
   "cell_type": "code",
   "execution_count": null,
   "id": "1846d867",
   "metadata": {},
   "outputs": [],
   "source": []
  },
  {
   "cell_type": "code",
   "execution_count": null,
   "id": "2ff7e7b0",
   "metadata": {},
   "outputs": [],
   "source": [
    "pickle_dump(file_to_pickle=docs, filename_pickle='lumen_pdf_docs_processed', path_pickle_dump=path_lumen_docs)"
   ]
  }
 ],
 "metadata": {
  "kernelspec": {
   "display_name": "Python 3 (ipykernel)",
   "language": "python",
   "name": "python3"
  },
  "language_info": {
   "codemirror_mode": {
    "name": "ipython",
    "version": 3
   },
   "file_extension": ".py",
   "mimetype": "text/x-python",
   "name": "python",
   "nbconvert_exporter": "python",
   "pygments_lexer": "ipython3",
   "version": "3.10.5"
  }
 },
 "nbformat": 4,
 "nbformat_minor": 5
}
