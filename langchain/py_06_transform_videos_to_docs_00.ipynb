{
 "cells": [
  {
   "cell_type": "code",
   "execution_count": 2,
   "id": "89768b87",
   "metadata": {},
   "outputs": [
    {
     "name": "stdout",
     "output_type": "stream",
     "text": [
      "This is a very long string that needs to be wrapped to fit within 80 columns. It\n",
      "can contain spaces, punctuation, and even newlines.\n"
     ]
    }
   ],
   "source": [
    "import textwrap\n",
    "\n",
    "def print_wrapped(text, width=80):\n",
    "  \"\"\"\n",
    "  Prints a long string to the console, wrapped to fit within a specified width.\n",
    "\n",
    "  Args:\n",
    "      text: The long string to be wrapped.\n",
    "      width: The desired width for each line (default: 80 columns).\n",
    "  \"\"\"\n",
    "  wrapped_text = textwrap.wrap(text, width=width)\n",
    "  for line in wrapped_text:\n",
    "    print(line)\n",
    "\n",
    "# Example usage\n",
    "long_string = \"This is a very long string that needs to be wrapped to fit within 80 columns. It can contain spaces, punctuation, and even newlines.\"\n",
    "print_wrapped(long_string)"
   ]
  },
  {
   "cell_type": "code",
   "execution_count": 3,
   "id": "f26c2a2a-f7a7-4580-ab73-178bab918dd7",
   "metadata": {
    "height": 183,
    "tags": []
   },
   "outputs": [],
   "source": [
    "import os\n",
    "import openai\n",
    "import sys\n",
    "sys.path.append('../..')\n",
    "\n",
    "from py3810.myUtils import pickle_dump, pickle_load\n",
    "\n",
    "# Set the path to the directory containing the Excel file\n",
    "path_lumen_dump = \"../langchain/docs/lumen/\"\n",
    "path_lumen_docs = path_lumen_dump + \"docs/\""
   ]
  },
  {
   "cell_type": "code",
   "execution_count": 4,
   "id": "5064a9a8",
   "metadata": {},
   "outputs": [
    {
     "data": {
      "text/plain": [
       "['../langchain/docs/lumen/videos/Doc-MyopiaDesignMaking.mp4']"
      ]
     },
     "execution_count": 4,
     "metadata": {},
     "output_type": "execute_result"
    }
   ],
   "source": [
    "urls_eric_videos = [path_lumen_dump + 'videos/Doc-MyopiaDesignMaking.mp4']\n",
    "urls_eric_videos"
   ]
  },
  {
   "cell_type": "markdown",
   "id": "202ce440",
   "metadata": {},
   "source": [
    "### Convert mp4 to mp3 or wav formats  \n",
    "- Open terminal, cd to mp4 directory  \n",
    "- ffmpeg -i Doc_MyopiaDesignMaking.mp4 -q:a 0 -map a Doc_MyopiaDesignMaking.mp3  \n",
    "- ffmpeg -i Doc_MyopiaDesignMaking.mp4 -q:a 0 -map a Doc_MyopiaDesignMaking.wav  "
   ]
  },
  {
   "cell_type": "markdown",
   "id": "9989bfd8",
   "metadata": {},
   "source": [
    "#### Convert audio files to text string"
   ]
  },
  {
   "cell_type": "code",
   "execution_count": 5,
   "id": "62df90b3",
   "metadata": {},
   "outputs": [],
   "source": [
    "import whisper\n",
    "model = whisper.load_model(\"base\")\n",
    "result = model.transcribe(\"..\\langchain\\docs\\lumen\\\\videos\\Doc_MyopiaDesignMaking.wav\")"
   ]
  },
  {
   "cell_type": "code",
   "execution_count": 6,
   "id": "d550beed",
   "metadata": {},
   "outputs": [
    {
     "name": "stdout",
     "output_type": "stream",
     "text": [
      "The text in video:\n",
      " In this video, we'll go over my opium management decision making and some of\n",
      "the flow charts can be for fairly complicated and the tree-all size has one, but\n",
      "I think we like to, I've got it fairly simple, a simplified thing. And so we'll\n",
      "start with atropine here. Okay. So atropine we order from OSRX and it's at .025\n",
      "and .05 are the percentages that they offer. You can also prescribe 1% if needed\n",
      "with progresses, with transitions. If we know that both parents have a super\n",
      "high prescription and the kid is progressing at a young age, okay, and their\n",
      "axial lengths are larger than they're supposed to be. The no need to worry about\n",
      "it. Doctors have used it for a long period of time. There's a lot more doctors\n",
      "who are scared about using, above never use it, that have opinions about it, but\n",
      "the doctors that have used 1%. Don't worry about it so much. It just works,\n",
      "right? And so atropine I typically say for children under six years old or as a\n",
      "combination treatment. Usually I tend to have there be more little boys on\n",
      "atropine as opposed to little girls because when it comes to little girls they\n",
      "tend to be a little bit more mature and the other options are more available to\n",
      "them. Okay. So these are the percentages we never prescribe .01 and then\n",
      "otherwise as combination treatment, we just consider a complex treatment with\n",
      "ortho-k or with soft multifocals if their axial length progression is greater\n",
      "than about maybe .2 millimeters per year, right? Anyone from .1.15, the truth is\n",
      "pretty normal, I sometimes you get .1 to .15, this is probably a upper limit.\n",
      "You shouldn't really be going above .2. And then the next is soft multifocal\n",
      "contact lenses and I as a breed them, abbreviated SMFCLs. And this is for low\n",
      "myopia. The reason why we mentioned low myopia is because when you're creating\n",
      "an ortho-k and you're asked why my why low myopia for this versus why not just\n",
      "fit them in ortho-k, you're trying to create a certain amount of plus in the\n",
      "pupil. And the thing is is that when you're trying to displace the tissue\n",
      "central, you're trying to displace the central tissue to the paressential area,\n",
      "the red ring, when the prescription is not that low there's actually not that\n",
      "much tissue displacement. So it's a little tough creating all that much plus in\n",
      "the pupil. Most doctors do mention that they still have done it, but I still\n",
      "like to play it safe. I don't, when it comes to wave, you can sort of calculate\n",
      "how much plus you're going to anticipate putting in the pupil and when it comes\n",
      "to low myopia designs, the numbers don't pan out. So I'd still prefer for the\n",
      "young prescriptions for the young kids to wear the soft multifocal and then when\n",
      "they do, I mean ultimately they'll still progress a little bit once they get\n",
      "into the .1.50s or so .1.25, .1.50, then you can switch them over to ortho-k.\n",
      "It's also a great option for parents who are hesitant about ortho-k. Some\n",
      "parents definitely do see the benefits and some patients, even though it's FDA-\n",
      "approved, they get a little bit nervous about sleeping in lenses, even though\n",
      "you explain to them exactly that you're only sleeping in the lenses, you're not,\n",
      "you're not supposed to sleep in normal soft contacts because typically if you're\n",
      "sleeping in them, that meant that you've been wearing them all day long. And\n",
      "that's not the case with ortho-k, but it works well as a bridge. And so again,\n",
      "soft multifocal scan also be used with atropane as well. If actually like\n",
      "there's not under good control. Normally I would start with natural view one day\n",
      "multifocal, unless the parent comes to a specifically mentioning my site one\n",
      "day. The main difference is that the my site one day, since they're the only\n",
      "ones that have the FDA approval for a soft contact, they actually charge a lot\n",
      "more for it. And the natural view tends to work better. It has higher parameters\n",
      "if it's needed and the amount of plus up that's generated out in the periphery\n",
      "is actually quite high. And this pans out even, you can tell for adults to, the\n",
      "adults tend to do a bit better when it comes to the natural view types of\n",
      "designs. As opposed to the standard, Coopervision, Biophinity, Proclear types of\n",
      "multifocal, right? And so for the kids, they get the same amount of higher plus\n",
      "out in the periphery. And then when it comes to ortho-k, well that's a typo.\n",
      "That's for greater than one doctor in myopia. So you're at 125-150 or so. Yeah,\n",
      "if both eyes are 125, then I'll still suggest it or one eye's one, the other\n",
      "ones 150, then I'll still consider ortho-k's. At that point, it's just simpler.\n",
      "Or if they have more cylinder than that, okay. When we design it custom, we can\n",
      "actually knock out vast majority of the sill. Very rare. Do I recall having\n",
      "patients still have sill present? Even if a patient's up to four to four to four\n",
      "to four to four to four to four to four to four to four to four to four to four\n",
      "to four to four to four to four to four to four to four to four to four to four\n",
      "to four to four to four to three. right that we're the sill typically normally\n",
      "knocks down about half or so when it's customary does take care of it because of\n",
      "our g-sem designs most most standard Non-custom lenses are r-sem unless you go\n",
      "with something like dual-axis or whatnot And so even then the g-sem are more\n",
      "complicated than dual-axis lenses and then ortho care works better for patients\n",
      "who or parents have had lacic for their kids They understand it's almost like a\n",
      "form of lacic, but it's protective and so When it comes to all the treatments,\n",
      "that's basically what we have here and I think it'll get more complicated as we\n",
      "have more treatment options available to us as Spectacle lenses come out, but\n",
      "right now it's basically I imagine really young kids and then kind of in between\n",
      "This is for the best majority of the kids that we're going to meet it definitely\n",
      "has more of the appeal because they can see clear without having to wear\n",
      "glasses, right? And so or alternatively both of these are either one of these\n",
      "combined with that chipping\n"
     ]
    }
   ],
   "source": [
    "print(f'The text in video:')\n",
    "print_wrapped(result['text'])"
   ]
  },
  {
   "cell_type": "markdown",
   "id": "47f07daf",
   "metadata": {},
   "source": [
    "#### Convert text string to LangChain Document"
   ]
  },
  {
   "cell_type": "code",
   "execution_count": 7,
   "id": "8fa2ca49",
   "metadata": {},
   "outputs": [],
   "source": [
    "# Convert text string to LangChain Document\n",
    "from langchain.docstore.document import Document\n",
    "text_content = result[\"text\"] # text string\n",
    "metasource =  \"Doc_MyopiaDesignMaking.wav\"\n",
    "doc = Document(page_content=text_content, metadata={\"source\": metasource})"
   ]
  },
  {
   "cell_type": "code",
   "execution_count": 8,
   "id": "57bb134b",
   "metadata": {},
   "outputs": [],
   "source": [
    "pickle_dump(file_to_pickle=[doc], filename_pickle='lumen_docs_videos', path_pickle_dump=path_lumen_docs)"
   ]
  },
  {
   "cell_type": "code",
   "execution_count": 9,
   "id": "9e20dd4f",
   "metadata": {},
   "outputs": [],
   "source": [
    "_doc = pickle_load(filename_pickle='lumen_docs_videos', path_pickle_dump=path_lumen_docs)"
   ]
  },
  {
   "cell_type": "code",
   "execution_count": 10,
   "id": "f178c16c",
   "metadata": {},
   "outputs": [
    {
     "name": "stdout",
     "output_type": "stream",
     "text": [
      " In this video, we'll go over my opium management decision making and some of\n",
      "the flow charts can be for fairly complicated and the tree-all size has one, but\n",
      "I think we like to, I've got it fairly si\n"
     ]
    }
   ],
   "source": [
    "print_wrapped(_doc[0].page_content[0:200])"
   ]
  },
  {
   "cell_type": "code",
   "execution_count": 11,
   "id": "19d58265",
   "metadata": {},
   "outputs": [
    {
     "data": {
      "text/plain": [
       "{'source': 'Doc_MyopiaDesignMaking.wav'}"
      ]
     },
     "execution_count": 11,
     "metadata": {},
     "output_type": "execute_result"
    }
   ],
   "source": [
    "_doc[0].metadata"
   ]
  }
 ],
 "metadata": {
  "kernelspec": {
   "display_name": "Python 3 (ipykernel)",
   "language": "python",
   "name": "python3"
  },
  "language_info": {
   "codemirror_mode": {
    "name": "ipython",
    "version": 3
   },
   "file_extension": ".py",
   "mimetype": "text/x-python",
   "name": "python",
   "nbconvert_exporter": "python",
   "pygments_lexer": "ipython3",
   "version": "3.10.5"
  }
 },
 "nbformat": 4,
 "nbformat_minor": 5
}
