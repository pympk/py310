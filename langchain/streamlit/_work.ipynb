{
 "cells": [
  {
   "cell_type": "code",
   "execution_count": 3,
   "id": "166df067",
   "metadata": {},
   "outputs": [
    {
     "name": "stdout",
     "output_type": "stream",
     "text": [
      "1.5.3\n"
     ]
    }
   ],
   "source": [
    "import pandas as pd\n",
    "print(pd.__version__)"
   ]
  },
  {
   "cell_type": "code",
   "execution_count": 2,
   "id": "3c703848",
   "metadata": {},
   "outputs": [
    {
     "name": "stdout",
     "output_type": "stream",
     "text": [
      "1.34.0\n"
     ]
    }
   ],
   "source": [
    "import streamlit as st\n",
    "print(st.__version__)"
   ]
  },
  {
   "cell_type": "code",
   "execution_count": 1,
   "id": "7b4a8ddc",
   "metadata": {},
   "outputs": [
    {
     "ename": "ModuleNotFoundError",
     "evalue": "No module named 'streamlit_chromadb_connection'",
     "output_type": "error",
     "traceback": [
      "\u001b[1;31m---------------------------------------------------------------------------\u001b[0m",
      "\u001b[1;31mModuleNotFoundError\u001b[0m                       Traceback (most recent call last)",
      "Cell \u001b[1;32mIn[1], line 2\u001b[0m\n\u001b[0;32m      1\u001b[0m \u001b[38;5;28;01mimport\u001b[39;00m \u001b[38;5;21;01mstreamlit\u001b[39;00m \u001b[38;5;28;01mas\u001b[39;00m \u001b[38;5;21;01mst\u001b[39;00m\n\u001b[1;32m----> 2\u001b[0m \u001b[38;5;28;01mfrom\u001b[39;00m \u001b[38;5;21;01mstreamlit_chromadb_connection\u001b[39;00m\u001b[38;5;21;01m.\u001b[39;00m\u001b[38;5;21;01mchromadb_connection\u001b[39;00m \u001b[38;5;28;01mimport\u001b[39;00m ChromadbConnection\n\u001b[0;32m      4\u001b[0m configuration \u001b[38;5;241m=\u001b[39m {\n\u001b[0;32m      5\u001b[0m     \u001b[38;5;124m\"\u001b[39m\u001b[38;5;124mclient\u001b[39m\u001b[38;5;124m\"\u001b[39m: \u001b[38;5;124m\"\u001b[39m\u001b[38;5;124mPersistentClient\u001b[39m\u001b[38;5;124m\"\u001b[39m,\n\u001b[0;32m      6\u001b[0m     \u001b[38;5;124m\"\u001b[39m\u001b[38;5;124mpath\u001b[39m\u001b[38;5;124m\"\u001b[39m: \u001b[38;5;124m\"\u001b[39m\u001b[38;5;124m/tmp/.chroma\u001b[39m\u001b[38;5;124m\"\u001b[39m\n\u001b[0;32m      7\u001b[0m }\n\u001b[0;32m      9\u001b[0m collection_name \u001b[38;5;241m=\u001b[39m \u001b[38;5;124m\"\u001b[39m\u001b[38;5;124mdocuments_collection\u001b[39m\u001b[38;5;124m\"\u001b[39m\n",
      "\u001b[1;31mModuleNotFoundError\u001b[0m: No module named 'streamlit_chromadb_connection'"
     ]
    }
   ],
   "source": [
    "import streamlit as st\n",
    "from streamlit_chromadb_connection.chromadb_connection import ChromadbConnection\n",
    "\n",
    "configuration = {\n",
    "    \"client\": \"PersistentClient\",\n",
    "    \"path\": \"/tmp/.chroma\"\n",
    "}\n",
    "\n",
    "collection_name = \"documents_collection\"\n",
    "\n",
    "conn = st.connection(\"chromadb\",\n",
    "                     type=ChromaDBConnection,\n",
    "                     **configuration)\n",
    "documents_collection_df = conn.get_collection_data(collection_name)\n",
    "st.dataframe(documents_collection_df)\n"
   ]
  },
  {
   "cell_type": "code",
   "execution_count": null,
   "id": "ed26a9b9",
   "metadata": {},
   "outputs": [],
   "source": [
    "import os\n",
    "import sys\n",
    "sys.path.append('../..')\n",
    "\n",
    "from py3810.myUtils import pickle_dump, pickle_load\n",
    "path_lumen_docs = '..\\langchain\\docs\\lumen\\\\docs\\\\'\n",
    "\n",
    "from dotenv import load_dotenv, find_dotenv\n",
    "_ = load_dotenv(find_dotenv('.env\\my_api_key.env')) # read local .env file\n",
    "\n",
    "os.environ[\"OPENAI_API_KEY\"]\n",
    "os.environ[\"LANGCHAIN_TRACING_V2\"] = \"true\"\n",
    "os.environ[\"LANGCHAIN_API_KEY\"]\n",
    "os.environ[\"SECRET_KEY\"]\n"
   ]
  },
  {
   "cell_type": "code",
   "execution_count": null,
   "id": "2f84947a",
   "metadata": {},
   "outputs": [],
   "source": [
    "docs_raw_lumen_videos = pickle_load(filename_pickle='docs_raw_lumen_videos', path_pickle_dump=path_lumen_docs)"
   ]
  },
  {
   "cell_type": "code",
   "execution_count": null,
   "id": "2dddd445",
   "metadata": {},
   "outputs": [],
   "source": [
    "docs_raw_lumen_videos"
   ]
  },
  {
   "cell_type": "code",
   "execution_count": null,
   "id": "e87e143f",
   "metadata": {},
   "outputs": [],
   "source": [
    "docs_a = docs_raw_lumen_videos[0:6]\n",
    "docs_b = docs_raw_lumen_videos[6:]\n",
    "docs_a"
   ]
  },
  {
   "cell_type": "code",
   "execution_count": null,
   "id": "54a3e0f5",
   "metadata": {},
   "outputs": [],
   "source": [
    "docs_b"
   ]
  },
  {
   "cell_type": "code",
   "execution_count": null,
   "id": "07ed00b5",
   "metadata": {},
   "outputs": [],
   "source": [
    "docs_c = docs_a + docs_b\n",
    "docs_c"
   ]
  },
  {
   "cell_type": "code",
   "execution_count": null,
   "id": "e1904483",
   "metadata": {},
   "outputs": [],
   "source": [
    "def merge_documents(doc1, doc2):\n",
    "    merged_doc = {\n",
    "        \"text\": doc1[\"text\"] + \" \" + doc2[\"text\"],\n",
    "        \"metadata\": {**doc1[\"metadata\"], **doc2[\"metadata\"]},\n",
    "        \"chunks\": doc1[\"chunks\"] + doc2[\"chunks\"],\n",
    "        \"embeddings\": doc1[\"embeddings\"] + doc2[\"embeddings\"]\n",
    "    }\n",
    "    return merged_doc\n",
    "# docs_raw_lumen_video\n",
    "docs_c = merge_documents(docs_a, docs_b)"
   ]
  },
  {
   "cell_type": "code",
   "execution_count": null,
   "id": "2fe13ac0",
   "metadata": {},
   "outputs": [],
   "source": []
  },
  {
   "cell_type": "markdown",
   "id": "6403f303",
   "metadata": {},
   "source": [
    "https://docs.trychroma.com/guides  "
   ]
  },
  {
   "cell_type": "code",
   "execution_count": null,
   "id": "879352f0",
   "metadata": {},
   "outputs": [],
   "source": [
    "import chromadb"
   ]
  },
  {
   "cell_type": "code",
   "execution_count": null,
   "id": "2a18c436",
   "metadata": {},
   "outputs": [],
   "source": [
    "path_chromadb = \"./chroma_trash\"\n",
    "client = chromadb.PersistentClient(path=path_chromadb)"
   ]
  },
  {
   "cell_type": "code",
   "execution_count": null,
   "id": "a83604ef",
   "metadata": {},
   "outputs": [],
   "source": [
    "client.heartbeat() "
   ]
  },
  {
   "cell_type": "code",
   "execution_count": null,
   "id": "d22c76b2",
   "metadata": {},
   "outputs": [],
   "source": [
    "my_collections = ['test0', 'test1', 'test2']"
   ]
  },
  {
   "cell_type": "code",
   "execution_count": null,
   "id": "33cf1c3e",
   "metadata": {},
   "outputs": [],
   "source": [
    "for i in range(3):\n",
    "  print(docs_raw_lumen_videos[i].page_content)"
   ]
  },
  {
   "cell_type": "code",
   "execution_count": null,
   "id": "98385e4b",
   "metadata": {},
   "outputs": [],
   "source": [
    "for collection in my_collections:\n",
    "  collection = client.get_or_create_collection(\n",
    "    name=collection,\n",
    "    metadata={\"hnsw:space\": \"cosine\"} # l2 is the default\n",
    "    ) "
   ]
  },
  {
   "cell_type": "code",
   "execution_count": null,
   "id": "7278a5f4",
   "metadata": {},
   "outputs": [],
   "source": [
    "for i in range(3):\n",
    "  collection = client.get_collection(name=my_collections[i])\n",
    "  print(collection)\n",
    "  collection.add(\n",
    "    documents=[docs_raw_lumen_videos[i].page_content],\n",
    "    metadatas=[{\"chapter\": i, \"verse\": i}],\n",
    "    ids=[str(i)],\n",
    "\n",
    "    # documents=[docs_raw_lumen_videos[i]],\n",
    "    # metadatas=[{\"chapter\": i, \"verse\": i}],\n",
    "    # ids=[f'id {i}'],\n",
    "  )"
   ]
  },
  {
   "cell_type": "code",
   "execution_count": null,
   "id": "7c3355db",
   "metadata": {},
   "outputs": [],
   "source": [
    "for my_name in my_collections:\n",
    "  collection = client.get_collection(name=my_name)\n",
    "  print(collection)"
   ]
  },
  {
   "cell_type": "code",
   "execution_count": null,
   "id": "f7ef207b",
   "metadata": {},
   "outputs": [],
   "source": [
    "print(collection)"
   ]
  },
  {
   "cell_type": "code",
   "execution_count": null,
   "id": "1b3ab4a4",
   "metadata": {},
   "outputs": [],
   "source": [
    "collection.query(\n",
    "    query_texts=[\"what did dr. to said?\"],\n",
    "    n_results=2,\n",
    "    # where={\"metadata_field\": \"is_equal_to_this\"},\n",
    "    # where_document={\"$contains\":\"search_string\"}\n",
    ")"
   ]
  },
  {
   "cell_type": "code",
   "execution_count": null,
   "id": "286bbeea",
   "metadata": {},
   "outputs": [],
   "source": [
    "collection.add(\n",
    "  documents=[\"lorem ipsum...\", \"doc2\", \"doc3\", ...],\n",
    "  metadatas=[{\"chapter\": \"3\", \"verse\": \"16\"}, {\"chapter\": \"3\", \"verse\": \"5\"}, {\"chapter\": \"29\", \"verse\": \"11\"}, ...],\n",
    "  ids=[\"id1\", \"id2\", \"id3\", ...]\n",
    ")\n"
   ]
  },
  {
   "cell_type": "code",
   "execution_count": null,
   "id": "2388aaaa",
   "metadata": {},
   "outputs": [],
   "source": []
  },
  {
   "cell_type": "code",
   "execution_count": null,
   "metadata": {},
   "outputs": [],
   "source": []
  },
  {
   "cell_type": "code",
   "execution_count": null,
   "id": "71b06340",
   "metadata": {},
   "outputs": [],
   "source": []
  },
  {
   "cell_type": "code",
   "execution_count": null,
   "id": "f28a2888",
   "metadata": {},
   "outputs": [],
   "source": [
    "collection = client.get_collection(name=\"test\") # Get a collection object from an existing collection, by name. Will raise an exception if it's not found.\n",
    "collection = client.get_or_create_collection(name=\"test\") # Get a collection object from an existing collection, by name. If it doesn't exist, create it.\n",
    "client.delete_collection(name=\"my_collection\") # Delete a collection and all associated embeddings, documents, and metadata. ⚠️ This is destructive and not reversible"
   ]
  },
  {
   "cell_type": "code",
   "execution_count": null,
   "metadata": {},
   "outputs": [],
   "source": []
  },
  {
   "cell_type": "code",
   "execution_count": null,
   "id": "493aa8cc",
   "metadata": {},
   "outputs": [],
   "source": []
  },
  {
   "cell_type": "code",
   "execution_count": null,
   "id": "7c6d4c5c",
   "metadata": {},
   "outputs": [],
   "source": []
  },
  {
   "cell_type": "code",
   "execution_count": null,
   "id": "bcbdd389",
   "metadata": {},
   "outputs": [],
   "source": [
    "import chromadb\n",
    "\n",
    "# Initialize ChromaDB client\n",
    "client = chromadb.Client()\n",
    "\n",
    "# Creating a collection\n",
    "neo_collection = client.create_collection(name=\"neo\")\n",
    "\n",
    "# Inspecting a collection\n",
    "print(neo_collection)"
   ]
  },
  {
   "cell_type": "code",
   "execution_count": null,
   "id": "8e075ec4",
   "metadata": {},
   "outputs": [],
   "source": [
    "# Inspecting a collection\n",
    "print(neo_collection)"
   ]
  },
  {
   "cell_type": "code",
   "execution_count": null,
   "id": "cb7412de",
   "metadata": {},
   "outputs": [],
   "source": [
    "# Counting items in a collection\n",
    "item_count = neo_collection.count()\n",
    "print(f\"Count of items in collection: {item_count}\")"
   ]
  },
  {
   "cell_type": "code",
   "execution_count": null,
   "id": "9c840b07",
   "metadata": {},
   "outputs": [],
   "source": [
    "# Changing the collection name and inspecting it again\n",
    "neo_collection.modify(name=\"mr_anderson\")\n",
    "print(neo_collection)"
   ]
  },
  {
   "cell_type": "code",
   "execution_count": null,
   "id": "d5e7cf6f",
   "metadata": {},
   "outputs": [],
   "source": [
    "# Get or Create a new collection, change the distance function\n",
    "trinity_collection = client.get_or_create_collection(\n",
    "    name=\"trinity\", metadata={\"hnsw:space\": \"cosine\"}\n",
    ")    "
   ]
  },
  {
   "cell_type": "code",
   "execution_count": null,
   "id": "a844e376",
   "metadata": {},
   "outputs": [],
   "source": [
    "print(trinity_collection)"
   ]
  },
  {
   "cell_type": "code",
   "execution_count": null,
   "id": "282c86a5",
   "metadata": {},
   "outputs": [],
   "source": [
    "\n",
    "\n",
    "\n",
    "\n",
    "# # Counting items in a collection\n",
    "# item_count = neo_collection.count()\n",
    "# print(f\"Count of items in collection: {item_count}\")\n",
    "\n",
    "# # Get or Create a new collection, change the distance function\n",
    "# trinity_collection = client.get_or_create_collection(\n",
    "#     name=\"trinity\", metadata={\"hnsw:space\": \"cosine\"}\n",
    "# )\n",
    "# print(trinity_collection)\n",
    "\n",
    "# # Deleting a collection\n",
    "# try:\n",
    "#     client.delete_collection(name=\"mr_anderson\")\n",
    "#     print(\"Mr. Anderson collection deleted.\")\n",
    "# except ValueError as e:\n",
    "#     print(f\"Error: {e}\")"
   ]
  }
 ],
 "metadata": {
  "kernelspec": {
   "display_name": "Python 3 (ipykernel)",
   "language": "python",
   "name": "python3"
  },
  "language_info": {
   "codemirror_mode": {
    "name": "ipython",
    "version": 3
   },
   "file_extension": ".py",
   "mimetype": "text/x-python",
   "name": "python",
   "nbconvert_exporter": "python",
   "pygments_lexer": "ipython3",
   "version": "3.8.10"
  }
 },
 "nbformat": 4,
 "nbformat_minor": 5
}
