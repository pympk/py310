{
 "cells": [
  {
   "cell_type": "markdown",
   "metadata": {},
   "source": [
    "### References Langchain\n",
    "https://python.langchain.com/v0.1/docs/use_cases/question_answering/quickstart/"
   ]
  },
  {
   "cell_type": "markdown",
   "metadata": {},
   "source": [
    "### References Chroma db  \n",
    "https://docs.trychroma.com/guides  \n",
    "https://github.com/neo-con/chromadb-tutorial  \n",
    "https://python.langchain.com/v0.1/docs/integrations/vectorstores/chroma/  \n"
   ]
  },
  {
   "cell_type": "code",
   "execution_count": 1,
   "metadata": {},
   "outputs": [],
   "source": [
    "import bs4\n",
    "from langchain import hub\n",
    "from langchain_community.document_loaders import WebBaseLoader\n",
    "from langchain.vectorstores import Chroma\n",
    "from langchain_core.output_parsers import StrOutputParser\n",
    "from langchain_core.runnables import RunnablePassthrough\n",
    "from langchain_openai import OpenAIEmbeddings\n",
    "from langchain_text_splitters import RecursiveCharacterTextSplitter"
   ]
  },
  {
   "cell_type": "code",
   "execution_count": 2,
   "metadata": {},
   "outputs": [
    {
     "data": {
      "text/plain": [
       "'my_secret_key'"
      ]
     },
     "execution_count": 2,
     "metadata": {},
     "output_type": "execute_result"
    }
   ],
   "source": [
    "import os\n",
    "import sys\n",
    "sys.path.append('../..')\n",
    "\n",
    "from py3810.myUtils import pickle_dump, pickle_load\n",
    "path_lumen_docs = '..\\langchain\\docs\\lumen\\\\docs\\\\'\n",
    "path_chatbot = '..\\langchain\\chatbot\\\\'\n",
    "\n",
    "from dotenv import load_dotenv, find_dotenv\n",
    "_ = load_dotenv(find_dotenv('.env\\my_api_key.env')) # read local .env file\n",
    "\n",
    "os.environ[\"OPENAI_API_KEY\"]\n",
    "os.environ[\"LANGCHAIN_TRACING_V2\"] = \"true\"\n",
    "os.environ[\"LANGCHAIN_API_KEY\"]\n",
    "os.environ[\"SECRET_KEY\"]\n"
   ]
  },
  {
   "cell_type": "code",
   "execution_count": 3,
   "metadata": {},
   "outputs": [
    {
     "name": "stdout",
     "output_type": "stream",
     "text": [
      "This is a very long string that needs to be wrapped to fit within 80 columns. It\n",
      "can contain spaces, punctuation, and even newlines.\n"
     ]
    }
   ],
   "source": [
    "import textwrap\n",
    "\n",
    "def print_wrapped(text, width=80):\n",
    "  \"\"\"\n",
    "  Prints a long string to the console, wrapped to fit within a specified width.\n",
    "\n",
    "  Args:\n",
    "      text: The long string to be wrapped.\n",
    "      width: The desired width for each line (default: 80 columns).\n",
    "  \"\"\"\n",
    "  wrapped_text = textwrap.wrap(text, width=width)\n",
    "  for line in wrapped_text:\n",
    "    print(line)\n",
    "\n",
    "# Example usage\n",
    "long_string = \"This is a very long string that needs to be wrapped to fit within 80 columns. It can contain spaces, punctuation, and even newlines.\"\n",
    "print_wrapped(long_string)"
   ]
  },
  {
   "cell_type": "code",
   "execution_count": 4,
   "metadata": {},
   "outputs": [],
   "source": [
    "from langchain_openai import ChatOpenAI\n",
    "\n",
    "llm = ChatOpenAI(model=\"gpt-3.5-turbo-0125\")"
   ]
  },
  {
   "cell_type": "code",
   "execution_count": 5,
   "metadata": {},
   "outputs": [],
   "source": [
    "persist_directory = path_chatbot + \"./chroma_openai_ef\"\n",
    "embedding_function = OpenAIEmbeddings()\n",
    "collection_name = 'lumen_docs_combined'"
   ]
  },
  {
   "cell_type": "markdown",
   "metadata": {},
   "source": [
    "#### Only run cell below to add new data\n"
   ]
  },
  {
   "cell_type": "code",
   "execution_count": null,
   "metadata": {},
   "outputs": [],
   "source": [
    "# # load data\n",
    "# docs = pickle_load(filename_pickle='lumen_docs_combined', path_pickle_dump=path_chatbot)\n",
    "# text_splitter = RecursiveCharacterTextSplitter(chunk_size=1000, chunk_overlap=200)\n",
    "# splits = text_splitter.split_documents(docs)\n",
    "\n",
    "# # save to disk\n",
    "# db0 = Chroma.from_documents(\n",
    "#   documents=splits,\n",
    "#   embedding=embedding_function,\n",
    "#   collection_name=collection_name,\n",
    "#   persist_directory=persist_directory\n",
    "#   )\n",
    "# db0_ans = db0.similarity_search(query)\n",
    "# # print(docs[0].page_content)\n",
    "# print(f'db0_ans:{db0_ans}')"
   ]
  },
  {
   "cell_type": "code",
   "execution_count": 6,
   "metadata": {},
   "outputs": [
    {
     "name": "stdout",
     "output_type": "stream",
     "text": [
      "ans:[Document(page_content='testtest Cutting-Edge Eye Care In The San Gabriel Valley\\nWhere the Latest Research & Technology Converge With a Highly Personalized Education\\nLumen Optometric is committed to providing clear vision and healthy eyes to the residents of Sierra Madre, Arcadia, Pasadena, and all surrounding communities. We’re shining a new light on patient care, so if you want cutting-edge service and holistic eye care that can’t be beat, the local experts at Lumen Optometric are here to help.\\nPatients Are at the Heart of Everything We Do\\nOur primary tenet is to provide excellent patient care that balances clarity, comfort and optimal health over your lifetime. Lumen Optometric has knowledgeable, caring eye specialists who are more than happy to share their time and expertise with you. Our areas of concentration include:\\nComprehensive eye exams\\nOrthokeratology (Ortho-K)\\nNeurolens therapy\\nScleral lenses for Keratoconus or High Prescriptions', metadata={'description': 'Lumen Optometric provides the best eye care in Sierra Madre, CA. Our skilled optometrist offers cutting-edge, holistic care to keep your vision healthy and clear.', 'language': 'en-US', 'source': 'https://www.lumenoptometric.com/', 'title': 'Lumen Optometric | Sierra Madre, CA | Eye Care | Best Optometrist'}), Document(page_content='Danielle Whitley – Optician\\nAfter pursuing photography in New York for the past four years, Danielle traded east coast for west coast in spring of 2022 and joined the Lumen family. Having always aspired to join the healthcare field, she is nearing completion of her Master’s degree in Healthcare Administration with a specialty in organizational leadership and change management. Danielle prides herself in utilizing her attention to detail and strong work ethic to ensure patients look and feel their best in a new pair of glasses.\\nSchedule an Appointment Today\\nTo schedule an appointment with the Lumen Optometric team, call (626) 921-0199 or schedule online. Whether you need a comprehensive eye exam or a more specialized eye care service, we look forward to bringing balance to the clarity and comfort of your eyes!', metadata={'description': 'Lumen Optometric offers quality vision care to patients in California’s Sierra Madre, CA. Let our team use cutting-edge, holistic eye care to give you visual clarity.', 'language': 'en-US', 'source': 'https://www.lumenoptometric.com/about-us/', 'title': 'About Us | Lumen Optometric | Sierra Madre, CA | Vision Care'}), Document(page_content='Patient Center\\nAppointment & Forms\\nCOVID-19 Protocols\\nVideos\\nAbout Us\\nOffice\\nTestimonials\\nBlog\\nAbout UsThis is a sample inner caption / About UsThat Little Extra Step Toward High-Quality Vision Care\\nHealthy vision is more than just being able to see at the 20/20 level. It also means maintaining healthy eye habits, having the right tools for your visual needs and preventing eye damage. Lumen Optometric shines a new light on patient care by providing cutting-edge, holistic vision care and a great patient experience. Allow us to take part in your vision care and you’ll love what you see!\\nMeet Our Dedicated Team\\nLumen Optometric creates an exceptional eye care experience where the latest research and technology converge with a highly personalized education. When you trust your vision care to Lumen Optometric, your eyes are in the qualified hands of eye care professionals who focus on balancing your visual clarity, comfort and health.\\nDr. Eric To, OD, FSLS', metadata={'description': 'Lumen Optometric offers quality vision care to patients in California’s Sierra Madre, CA. Let our team use cutting-edge, holistic eye care to give you visual clarity.', 'language': 'en-US', 'source': 'https://www.lumenoptometric.com/about-us/', 'title': 'About Us | Lumen Optometric | Sierra Madre, CA | Vision Care'}), Document(page_content='Based on the results of your comprehensive eye exam, Lumen Optometric can offer an accurate prescription for glasses or contact lenses. If we detect a more serious issue, our knowledgeable and board-certified optometrist can discuss your treatment options. As a leading provider of corneal reshaping, neurolens® therapy, dry eye treatments and other specialty services, Lumen Optometric has the professional solutions you need for clear, comfortable, healthy vision.\\nSchedule a Comprehensive Eye Exam Today\\nPeriodic eye exams can identify minor problems before they develop into major, vision-threatening health concerns. Many eye problems present without symptoms, so don’t wait until pain or vision loss is wreaking havoc on your health. Call Lumen Optometric at (626) 921-0199 or contact us online to schedule your comprehensive eye exam, because now’s the time to take that little extra step toward clear and healthy vision.', metadata={'description': 'Lumen Optometric has a board-certified eye exam doctor for Sierra Madre, CA patients. Routine screenings can protect your vision, so contact us to schedule an eye exam.', 'language': 'en-US', 'source': 'https://www.lumenoptometric.com/comprehensive-eye-exams/', 'title': 'Comprehensive Eye Exams | Lumen Optometric | Sierra Madre, CA'})]\n"
     ]
    }
   ],
   "source": [
    "my_query = 'where is lumen optometric'\n",
    "\n",
    "# load from disk\n",
    "vectorstore = Chroma(\n",
    "  embedding_function=embedding_function,\n",
    "  collection_name=collection_name,\n",
    "  persist_directory=persist_directory\n",
    "  )\n",
    "ans = vectorstore.similarity_search(my_query)\n",
    "print(f'ans:{ans}')"
   ]
  },
  {
   "cell_type": "code",
   "execution_count": 7,
   "metadata": {},
   "outputs": [],
   "source": [
    "retriever = vectorstore.as_retriever(search_kwargs={\"k\": 1})\n",
    "prompt = hub.pull(\"rlm/rag-prompt\")\n",
    "\n",
    "def format_docs(docs):\n",
    "    return \"\\n\\n\".join(doc.page_content for doc in docs)\n",
    "\n",
    "rag_chain = (\n",
    "    {\"context\": retriever | format_docs, \"question\": RunnablePassthrough()}\n",
    "    | prompt\n",
    "    | llm\n",
    "    | StrOutputParser()\n",
    ")"
   ]
  },
  {
   "cell_type": "code",
   "execution_count": 9,
   "metadata": {},
   "outputs": [],
   "source": [
    "queries = [\n",
    "  \"What is lumen optometric's phone number?\",\n",
    "  \"What is lumen optometric's address?\",\n",
    "  \"What is lumen optometric's location?\",\n",
    "  \"do you take vision insurance\",\n",
    "  \"what type of insurance do you take\",\n",
    "  \"what are the names of the insurance that you take\",\n",
    "  \"What is Ortho-k\",\n",
    "  \"What does research say about Ortho-k\",\n",
    "  \"What equipment do they have?\",\n",
    "  \"What equipment do you use for othro-k?\",\n",
    "  ]"
   ]
  },
  {
   "cell_type": "code",
   "execution_count": 10,
   "metadata": {},
   "outputs": [
    {
     "name": "stdout",
     "output_type": "stream",
     "text": [
      "query: What is lumen optometric's phone number?\n",
      "answr: You can reach Lumen Optometric at (626) 921-0199.\n",
      "\n",
      "relevant docs: [Document(page_content='(626)\n",
      "921-0199\\ninfo@lumenoptometric.comServicesComprehensive Eye Exams\\nContact Lens\n",
      "Exams\\nOrthokeratology\\nNeurolens Therapy\\nScleral Lenses / Keratoconus\\nQuick\n",
      "LinksHome\\nAbout Us\\nSitemap\\nHours Of OperationTuesday9:45 am - 5:30\n",
      "pmWednesday9:45 am - 5:30 pmThursday9:45 am - 1:30 pmFriday9:45 am - 5:30\n",
      "pmSaturday9:45 am - 5:30 pmCopyright © 2020 Lumen Optometric. All Rights\n",
      "Reserved.X[contact-form-7 404 \"Not Found\"]Top', metadata={'description': 'Lumen\n",
      "Optometric is the only eye clinic in Sierra Madre, CA to offer 100% doctor-\n",
      "designed Ortho-K lenses. We bring clear vision to patients of all ages!',\n",
      "'language': 'en-US', 'source':\n",
      "'https://www.lumenoptometric.com/orthokeratology/', 'title': 'Orthokeratology |\n",
      "Lumen Optometric | Sierra Madre, CA | Optometrist'})]\n",
      "=====\n",
      "\n",
      "query: What is lumen optometric's address?\n"
     ]
    },
    {
     "name": "stderr",
     "output_type": "stream",
     "text": [
      "c:\\Users\\ping\\MyDrive\\py_files\\python\\py310\\.venv\\lib\\site-packages\\langchain_core\\_api\\deprecation.py:119: LangChainDeprecationWarning: The method `BaseRetriever.get_relevant_documents` was deprecated in langchain-core 0.1.46 and will be removed in 0.3.0. Use invoke instead.\n",
      "  warn_deprecated(\n"
     ]
    },
    {
     "name": "stdout",
     "output_type": "stream",
     "text": [
      "answr: Lumen Optometric's address is not provided in the context provided.\n",
      "\n",
      "relevant docs: [Document(page_content='We offer our high-quality vision care\n",
      "during the following office hours:\\nTuesday\\n9:45 am – 5:30 pm\\nWednesday\\n9:45\n",
      "am – 5:30 pm\\nFriday\\n9:45 am – 5:30 pm\\nSaturday\\n9:45 am – 5:30 pm\\nWhere to\n",
      "Park\\nWhen you visit the Lumen Optometric office, there are a few convenient\n",
      "parking options. The map below outlines areas that offer free parking:\\nNOTE:\n",
      "Please avoid parking in the lot adjacent to Happy’s and in the lot directly\n",
      "behind our building, as those spots are specifically designated for our\n",
      "neighbors.\\nLearn More About Our Exceptional Vision Care Services\\nIf you live\n",
      "or work in our service area, turn to Lumen Optometric for second-to-none eye\n",
      "care! To schedule an appointment, please call our local team at (626) 921-0199\n",
      "or contact us online. From routine eye exams to highly specialized vision care,\n",
      "Lumen Optometric has full-service solutions for a variety of eye care needs. We\n",
      "look forward to caring for your vision so reach out and learn more today.',\n",
      "metadata={'description': 'Lumen Optometric provides quality vision care from our\n",
      "office in Sierra Madre, CA. Contact us to schedule a comprehensive eye exam or\n",
      "specialty eye care service.', 'language': 'en-US', 'source':\n",
      "'https://www.lumenoptometric.com/about-us/office/', 'title': 'Office | Lumen\n",
      "Optometric | Sierra Madre, CA | Vision Care | Eye Exam'})]\n",
      "=====\n",
      "\n",
      "query: What is lumen optometric's location?\n",
      "answr: Lumen Optometric is located in Sierra Madre, CA 91024.\n",
      "\n",
      "relevant docs: [Document(page_content='Sierra Madre, CA 91024\\n(626)\n",
      "921-0199\\ninfo@lumenoptometric.comServicesComprehensive Eye Exams\\nContact Lens\n",
      "Exams\\nOrthokeratology\\nNeurolens Therapy\\nScleral Lenses / Keratoconus\\nQuick\n",
      "LinksHome\\nAbout Us\\nSitemap\\nHours Of OperationTuesday9:45 am - 5:30\n",
      "pmWednesday9:45 am - 5:30 pmThursday9:45 am - 1:30 pmFriday9:45 am - 5:30\n",
      "pmSaturday9:45 am - 5:30 pmCopyright © 2020 Lumen Optometric. All Rights\n",
      "Reserved.X[contact-form-7 404 \"Not Found\"]Top', metadata={'description': 'What\n",
      "are the medical conditions that can make lens fitting more difficult? Lumen\n",
      "Optometric, your trusted scleral optometrist, gives an overview here.',\n",
      "'language': 'en-US', 'source': 'https://www.lumenoptometric.com/blog/eye-\n",
      "care/what-can-make-contact-lens-fitting-harder/', 'title': 'What Can Make\n",
      "Contact Lens Fitting Harder?'})]\n",
      "=====\n",
      "\n"
     ]
    }
   ],
   "source": [
    "# for query in queries[0:2]:\n",
    "for query in queries[0:3]:\n",
    "  print(f'query: {query}')\n",
    "  print_wrapped(f'answr: {rag_chain.invoke(query)}')\n",
    "  print('')\n",
    "  print_wrapped(f'relevant docs: {retriever.get_relevant_documents(query)}')\n",
    "  print(f'{\"=\"*5}\\n')"
   ]
  }
 ],
 "metadata": {
  "kernelspec": {
   "display_name": ".venv",
   "language": "python",
   "name": "python3"
  },
  "language_info": {
   "codemirror_mode": {
    "name": "ipython",
    "version": 3
   },
   "file_extension": ".py",
   "mimetype": "text/x-python",
   "name": "python",
   "nbconvert_exporter": "python",
   "pygments_lexer": "ipython3",
   "version": "3.10.5"
  }
 },
 "nbformat": 4,
 "nbformat_minor": 2
}
