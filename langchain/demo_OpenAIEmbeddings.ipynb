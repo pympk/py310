{
 "cells": [
  {
   "cell_type": "markdown",
   "metadata": {},
   "source": [
    "### References Langchain\n",
    "https://python.langchain.com/v0.1/docs/modules/data_connection/text_embedding/"
   ]
  },
  {
   "cell_type": "markdown",
   "metadata": {},
   "source": [
    "### OpenAI's Embedding function embeds a text string into a 1536-dimensional vector. Embedding \"Hi\" or embedding \"Hi there! What's your name? My friends call me World\" will both return 1536-dimensional vectors.\n"
   ]
  },
  {
   "cell_type": "code",
   "execution_count": 5,
   "metadata": {},
   "outputs": [
    {
     "name": "stdout",
     "output_type": "stream",
     "text": [
      "OPENAI_API_KEY loaded successfully (but not printed for security reasons).\n"
     ]
    }
   ],
   "source": [
    "import os\n",
    "from dotenv import load_dotenv, find_dotenv\n",
    "\n",
    "# Read the local .env file (assuming it's named '.env')\n",
    "load_dotenv(find_dotenv('.env\\my_api_key.env'))\n",
    "\n",
    "# Access the API key securely from the environment variable\n",
    "openai_api_key = os.getenv('OPENAI_API_KEY')\n",
    "\n",
    "if openai_api_key:\n",
    "  print(\"OPENAI_API_KEY loaded successfully (but not printed for security reasons).\")\n",
    "else:\n",
    "  print(\"Error: OPENAI_API_KEY key not found in the .env\\my_api_key.env file.\")"
   ]
  },
  {
   "cell_type": "code",
   "execution_count": 6,
   "metadata": {},
   "outputs": [],
   "source": [
    "from langchain_openai import OpenAIEmbeddings\n",
    "embeddings_model = OpenAIEmbeddings()"
   ]
  },
  {
   "cell_type": "code",
   "execution_count": 7,
   "metadata": {},
   "outputs": [
    {
     "name": "stdout",
     "output_type": "stream",
     "text": [
      "len(embedding[0]): 1536\n"
     ]
    }
   ],
   "source": [
    "embeddings = embeddings_model.embed_documents(\n",
    "  [\n",
    "    \"Hi\",\n",
    "  ]\n",
    ")\n",
    "\n",
    "for i, embedding in enumerate(embeddings):\n",
    "  print(f'len(embedding[{i}]): {len(embedding)}')"
   ]
  },
  {
   "cell_type": "code",
   "execution_count": 8,
   "metadata": {},
   "outputs": [
    {
     "name": "stdout",
     "output_type": "stream",
     "text": [
      "len(embedding[0]): 1536\n",
      "len(embedding[1]): 1536\n",
      "len(embedding[2]): 1536\n"
     ]
    }
   ],
   "source": [
    "embeddings = embeddings_model.embed_documents(\n",
    "  [\n",
    "    \"Hi there!\",\n",
    "    \"What's your name?\",\n",
    "    \"My friends call me Hello World\",\n",
    "  ]\n",
    ")\n",
    "\n",
    "for i, embedding in enumerate(embeddings):\n",
    "  print(f'len(embedding[{i}]): {len(embedding)}')"
   ]
  },
  {
   "cell_type": "code",
   "execution_count": 9,
   "metadata": {},
   "outputs": [
    {
     "name": "stdout",
     "output_type": "stream",
     "text": [
      "len(embedding[0]): 1536\n"
     ]
    }
   ],
   "source": [
    "embeddings = embeddings_model.embed_documents(\n",
    "  [\n",
    "    \"Hi there! What's your name? My friends call me World\",\n",
    "  ]\n",
    ")\n",
    "\n",
    "for i, embedding in enumerate(embeddings):\n",
    "  print(f'len(embedding[{i}]): {len(embedding)}')"
   ]
  }
 ],
 "metadata": {
  "kernelspec": {
   "display_name": ".venv",
   "language": "python",
   "name": "python3"
  },
  "language_info": {
   "codemirror_mode": {
    "name": "ipython",
    "version": 3
   },
   "file_extension": ".py",
   "mimetype": "text/x-python",
   "name": "python",
   "nbconvert_exporter": "python",
   "pygments_lexer": "ipython3",
   "version": "3.10.5"
  }
 },
 "nbformat": 4,
 "nbformat_minor": 2
}
