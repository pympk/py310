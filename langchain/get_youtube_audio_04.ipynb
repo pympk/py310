{
 "cells": [
  {
   "cell_type": "markdown",
   "id": "e461d68f",
   "metadata": {},
   "source": [
    "## Get YouTube Audios  \n",
    "- ref: https://github.com/JuanBindez/pytubefix/blob/main/README.md"
   ]
  },
  {
   "cell_type": "code",
   "execution_count": 25,
   "id": "1a1f8939",
   "metadata": {},
   "outputs": [
    {
     "name": "stdout",
     "output_type": "stream",
     "text": [
      "save_dir: C:\\Users\\ping/Downloads/YouTube_audios\n"
     ]
    }
   ],
   "source": [
    "import os\n",
    "\n",
    "# List of YouTube URLs\n",
    "urls = [\"https://www.youtube.com/watch?v=9eIMWmRG12w\", \"https://www.youtube.com/watch?v=Pg4w-rwTCXE\"]\n",
    "\n",
    "# Directory to save videos\n",
    "save_dir = os.path.expanduser(\"~/Downloads/YouTube_audios\")\n",
    "\n",
    "print(f'save_dir: {save_dir}')"
   ]
  },
  {
   "cell_type": "markdown",
   "id": "8ec7e4be",
   "metadata": {},
   "source": [
    "##### Get YouTube Audios Using pytubefix"
   ]
  },
  {
   "cell_type": "code",
   "execution_count": 19,
   "id": "960b83c1",
   "metadata": {},
   "outputs": [
    {
     "name": "stdout",
     "output_type": "stream",
     "text": [
      "Sadhguru Pencerahan Akhir Tahun  Endgame #109 (Luminaries)\n",
      "Michael Levitt Studied Physics, Masters Biology, Won Nobel in Chemistry  Endgame #193 (Luminaries)\n",
      " ↳ |████████████████████████████████████████████| 100.0%\r"
     ]
    }
   ],
   "source": [
    "from pytubefix import YouTube\n",
    "from pytubefix.cli import on_progress\n",
    "\n",
    "for url in urls:\n",
    "  yt = YouTube(url, on_progress_callback = on_progress)\n",
    "  print(yt.title)\n",
    "  \n",
    "  ys = yt.streams.get_audio_only()\n",
    "  # ys.download(mp3=True) # pass the parameter mp3=True to save in .mp3\n",
    "  ys.download(output_path=save_dir)\n",
    "\n",
    "print(f\"Audio files saved to: {save_dir}\")"
   ]
  },
  {
   "cell_type": "markdown",
   "id": "0ad9ac34",
   "metadata": {},
   "source": [
    "##### Get YouTube Audios Using langchain YoutubeAudioLoader"
   ]
  },
  {
   "cell_type": "code",
   "execution_count": null,
   "id": "1ea31990",
   "metadata": {},
   "outputs": [],
   "source": [
    "from langchain.document_loaders.blob_loaders.youtube_audio import YoutubeAudioLoader\n",
    "\n",
    "# Create a YoutubeAudioLoader instance\n",
    "loader = YoutubeAudioLoader(urls, save_dir)\n",
    "\n",
    "# Download and save audio files\n",
    "for blob in loader.yield_blobs():\n",
    "  pass\n",
    "\n",
    "print(f\"Audio files saved to: {save_dir}\")"
   ]
  },
  {
   "cell_type": "markdown",
   "id": "119b50a6",
   "metadata": {},
   "source": [
    "## Get YouTube Videos"
   ]
  },
  {
   "cell_type": "code",
   "execution_count": 21,
   "id": "75c3d158",
   "metadata": {},
   "outputs": [],
   "source": [
    "import os\n",
    "\n",
    "# List of YouTube URLs\n",
    "urls = [\"https://www.youtube.com/watch?v=9eIMWmRG12w\", \"https://www.youtube.com/watch?v=Pg4w-rwTCXE\"]\n",
    "\n",
    "# Directory to save videos\n",
    "save_dir = os.path.expanduser(\"~/Downloads/YouTube_videos\")"
   ]
  },
  {
   "cell_type": "markdown",
   "id": "e40d985e",
   "metadata": {},
   "source": [
    "##### Get YouTube Videos Using pytubefix"
   ]
  },
  {
   "cell_type": "code",
   "execution_count": 22,
   "id": "407b9ca2",
   "metadata": {},
   "outputs": [
    {
     "name": "stdout",
     "output_type": "stream",
     "text": [
      "Sadhguru Pencerahan Akhir Tahun  Endgame #109 (Luminaries)\n",
      "Michael Levitt Studied Physics, Masters Biology, Won Nobel in Chemistry  Endgame #193 (Luminaries)\n",
      "Video files saved to: C:\\Users\\ping/Downloads/YouTube_videos\n"
     ]
    }
   ],
   "source": [
    "from pytubefix import YouTube\n",
    "from pytubefix.cli import on_progress\n",
    "\n",
    "for url in urls: \n",
    "  yt = YouTube(url, on_progress_callback = on_progress)\n",
    "  print(yt.title)\n",
    "  \n",
    "  ys = yt.streams.get_highest_resolution()\n",
    "  ys.download(output_path=save_dir)\n",
    "\n",
    "print(f\"Video files saved to: {save_dir}\")"
   ]
  },
  {
   "cell_type": "code",
   "execution_count": null,
   "id": "38819c88",
   "metadata": {},
   "outputs": [],
   "source": []
  },
  {
   "cell_type": "code",
   "execution_count": null,
   "id": "2d3bd46c",
   "metadata": {},
   "outputs": [],
   "source": [
    "import os\n",
    "\n",
    "def get_file_names(directory_path):\n",
    "  \"\"\"Gets the file names from a specified directory.\n",
    "\n",
    "  Args:\n",
    "    directory_path: The path to the directory.\n",
    "\n",
    "  Returns:\n",
    "    A list of file names.\n",
    "  \"\"\"\n",
    "\n",
    "  file_names = []\n",
    "  for root, _, files in os.walk(directory_path):\n",
    "    for file in files:\n",
    "      file_names.append(file)\n",
    "  return file_names\n",
    "\n",
    "# Example usage:\n",
    "directory_path = save_dir\n",
    "file_names = get_file_names(directory_path)\n",
    "print(file_names)\n"
   ]
  },
  {
   "cell_type": "markdown",
   "id": "d9acb9c2",
   "metadata": {},
   "source": [
    "#### Took 30 minutes to transcribe 2:15:18 hours of audio on my PC using CPU"
   ]
  },
  {
   "cell_type": "code",
   "execution_count": null,
   "id": "ca2dc671",
   "metadata": {},
   "outputs": [],
   "source": [
    "import whisper\n",
    "\n",
    "for file_name in file_names[:1]:\n",
    "  path_audio = save_dir + \"/\" + file_name\n",
    "  print(path_audio)\n",
    "  if os.path.exists(path_audio):\n",
    "    print('file exists')\n",
    "  else:  \n",
    "    print('file does not exists')\n",
    "  model = whisper.load_model(\"base\")\n",
    "\n",
    "  # result = model.transcribe(path_audio, language=\"fr\")  # Transcribe in French\n",
    "  result = model.transcribe(path_audio, language=\"en\")  # Transcribe in English\n",
    "\n",
    "  print(result[\"text\"])\n",
    "\n",
    "  # Generate subtitles\n",
    "  print(result[\"segments\"])  # List of segments with start, end, and text"
   ]
  },
  {
   "cell_type": "code",
   "execution_count": null,
   "id": "8f223e5c",
   "metadata": {},
   "outputs": [],
   "source": [
    "save_dir + \"/Michael Levitt\""
   ]
  },
  {
   "cell_type": "code",
   "execution_count": null,
   "id": "deda94c3",
   "metadata": {},
   "outputs": [],
   "source": [
    "# import os\n",
    "import sys\n",
    "sys.path.append('../..')\n",
    "from py3810.myUtils import pickle_dump, pickle_load\n",
    "\n",
    "pickle_dump(file_to_pickle=result[\"text\"], filename_pickle=\"/Michael Levitt_text\", path_pickle_dump=save_dir)\n",
    "pickle_dump(file_to_pickle=result[\"segments\"], filename_pickle=\"/Michael Levitt_segments\", path_pickle_dump=save_dir)"
   ]
  },
  {
   "cell_type": "code",
   "execution_count": null,
   "id": "b186bc88",
   "metadata": {},
   "outputs": [],
   "source": [
    "print(f'len(result[\"text\"]: {len(result[\"text\"])}')\n",
    "print(f'len(result[\"segments\"]: {len(result[\"segments\"])}')"
   ]
  },
  {
   "cell_type": "code",
   "execution_count": null,
   "id": "7e286280",
   "metadata": {},
   "outputs": [],
   "source": [
    "result[\"text\"]"
   ]
  },
  {
   "cell_type": "code",
   "execution_count": null,
   "id": "5991c254",
   "metadata": {},
   "outputs": [],
   "source": [
    "result[\"segments\"]"
   ]
  },
  {
   "cell_type": "code",
   "execution_count": null,
   "id": "30689894",
   "metadata": {},
   "outputs": [],
   "source": []
  }
 ],
 "metadata": {
  "kernelspec": {
   "display_name": "Python 3 (ipykernel)",
   "language": "python",
   "name": "python3"
  },
  "language_info": {
   "codemirror_mode": {
    "name": "ipython",
    "version": 3
   },
   "file_extension": ".py",
   "mimetype": "text/x-python",
   "name": "python",
   "nbconvert_exporter": "python",
   "pygments_lexer": "ipython3",
   "version": "3.10.5"
  }
 },
 "nbformat": 4,
 "nbformat_minor": 5
}
