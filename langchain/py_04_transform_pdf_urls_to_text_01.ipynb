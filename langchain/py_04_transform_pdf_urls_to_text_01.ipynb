{
 "cells": [
  {
   "cell_type": "code",
   "execution_count": 2,
   "id": "ed26a9b9",
   "metadata": {},
   "outputs": [],
   "source": [
    "import os\n",
    "import sys\n",
    "sys.path.append('../..')\n",
    "\n",
    "from py3810.myUtils import pickle_dump, pickle_load\n",
    "\n",
    "# Set the path to the directory containing the Excel file\n",
    "path_lumen_dump = \"../langchain/docs/lumen/\"\n",
    "path_lumen_docs = path_lumen_dump + \"docs/\""
   ]
  },
  {
   "cell_type": "code",
   "execution_count": 2,
   "id": "dc6df54a",
   "metadata": {},
   "outputs": [
    {
     "data": {
      "text/plain": [
       "['https://www.lumenoptometric.com/wp-content/uploads/2020/05/Intro_ScleralLenses.pdf',\n",
       " 'https://www.lumenoptometric.com/wp-content/uploads/2020/07/Lumen-HPA300-NP-Template.pdf']"
      ]
     },
     "execution_count": 2,
     "metadata": {},
     "output_type": "execute_result"
    }
   ],
   "source": [
    "lumen_urls_pdf = pickle_load(filename_pickle='lumen_urls_pdf', path_pickle_dump=path_lumen_dump)\n",
    "lumen_urls_pdf"
   ]
  },
  {
   "cell_type": "code",
   "execution_count": 3,
   "id": "6ca31ebf",
   "metadata": {},
   "outputs": [
    {
     "name": "stdout",
     "output_type": "stream",
     "text": [
      "text:    \n",
      "  This is a string  \n",
      "  with   multiple \n",
      " \n",
      " \n",
      "newlines.  \n",
      "=========\n",
      "text_cleaned: This is a string with multiple newlines.\n"
     ]
    }
   ],
   "source": [
    "import re\n",
    "\n",
    "def remove_newlines(text):\n",
    "  # r'\\n|\\s{2,}' finds both newlines (\\n) and multiple whitespaces (\\s{2,}) \n",
    "  # and replace them with \" \", .strip() strips leading and trailing spaces \n",
    "  return re.sub(r'\\n|\\s{2,}', ' ', text).strip()\n",
    "\n",
    "text = \"   \\n  This is a string  \\n  with   multiple \\n \\n \\nnewlines.  \"\n",
    "text_cleaned = remove_newlines(text)\n",
    "print(f'text: {text}')\n",
    "print('=========')\n",
    "print(f'text_cleaned: {text_cleaned}')"
   ]
  },
  {
   "cell_type": "code",
   "execution_count": 4,
   "id": "97edc043",
   "metadata": {},
   "outputs": [
    {
     "name": "stdout",
     "output_type": "stream",
     "text": [
      "Langchain document text: INTRODUCTION TO SCLERAL LENSESCLEAR & COMFORTABLE VISION WITHOUT COMPROMISE...\n",
      "Langchain document text: EXCEPTIONALLY CLEAR, STABLE, AND COMFORTABLE vision is no longer out of reach. The future is here an...\n"
     ]
    }
   ],
   "source": [
    "import langchain  # Assuming langchain is installed\n",
    "from langchain_community.document_loaders import PyPDFLoader\n",
    "\n",
    "def convert_pdfs_to_langchain(pdf_urls):\n",
    "  \"\"\"\n",
    "  This function converts a list of PDF URLs to Langchain document objects\n",
    "  using PyPDFLoader for efficient processing.\n",
    "\n",
    "  Args:\n",
    "      pdf_urls: A list of URLs pointing to PDF files.\n",
    "\n",
    "  Returns:\n",
    "      A list of Langchain TextDocument objects.\n",
    "  \"\"\"\n",
    "  langchain_docs = []\n",
    "  for url in pdf_urls:\n",
    "    try:\n",
    "      # Use PyPDFLoader to read the PDF content locally (avoiding download)\n",
    "      loader = PyPDFLoader(url)\n",
    "      docs = loader.load()\n",
    "      for doc in docs:\n",
    "        # append only if page_content has text\n",
    "        if doc.page_content != \"\":\n",
    "          doc.page_content = remove_newlines(doc.page_content)  \n",
    "          langchain_docs.append(doc)\n",
    "\n",
    "        # langchain_docs.append(doc)\n",
    "    except Exception as e:\n",
    "      print(f\"Error processing PDF from {url}: {e}\")\n",
    "  return langchain_docs\n",
    "\n",
    "# Example usage (same as before)\n",
    "pdf_urls = \\\n",
    "  ['https://www.lumenoptometric.com/wp-content/uploads/2020/05/Intro_ScleralLenses.pdf',\n",
    "   'https://www.lumenoptometric.com/wp-content/uploads/2020/07/Lumen-HPA300-NP-Template.pdf']\n",
    "langchain_documents = convert_pdfs_to_langchain(pdf_urls)\n",
    "\n",
    "# You can now use the Langchain documents for further processing\n",
    "for doc in langchain_documents:\n",
    "  print(f\"Langchain document text: {doc.page_content[:100]}...\")\n"
   ]
  },
  {
   "cell_type": "code",
   "execution_count": 5,
   "id": "2b18fb97",
   "metadata": {},
   "outputs": [],
   "source": [
    "docs_pdfs = convert_pdfs_to_langchain(lumen_urls_pdf)"
   ]
  },
  {
   "cell_type": "code",
   "execution_count": 6,
   "id": "2ff7e7b0",
   "metadata": {},
   "outputs": [],
   "source": [
    "pickle_dump(file_to_pickle=docs_pdfs, filename_pickle='lumen_docs_pdfs', path_pickle_dump=path_lumen_docs)"
   ]
  },
  {
   "cell_type": "code",
   "execution_count": null,
   "id": "eb4b7b6f",
   "metadata": {},
   "outputs": [],
   "source": []
  },
  {
   "cell_type": "markdown",
   "id": "3d72e732",
   "metadata": {},
   "source": [
    "### Add metadata to lumen_docs_pdfs"
   ]
  },
  {
   "cell_type": "code",
   "execution_count": 3,
   "id": "6e093a71",
   "metadata": {},
   "outputs": [],
   "source": [
    "# _docs_pdfs = pickle_load(filename_pickle='lumen_docs_pdfs', path_pickle_dump=path_lumen_docs)"
   ]
  },
  {
   "cell_type": "code",
   "execution_count": 4,
   "id": "e11162b1",
   "metadata": {},
   "outputs": [
    {
     "data": {
      "text/plain": [
       "[Document(page_content='INTRODUCTION TO SCLERAL LENSESCLEAR & COMFORTABLE VISION WITHOUT COMPROMISE', metadata={'source': 'https://www.lumenoptometric.com/wp-content/uploads/2020/05/Intro_ScleralLenses.pdf', 'page': 0}),\n",
       " Document(page_content='EXCEPTIONALLY CLEAR, STABLE, AND COMFORTABLE vision is no longer out of reach. The future is here and the answer lies with scleral lenses. WILL I SEE A DIFFERENCE BETWEEN SCLERAL AND SOFT LENSES? Scleral lenses are built from highly- customizable, firm lens materials, which offer clearer vision relative to the standard soft lenses. Example: consider how vision is better through a window versus clear, flexible plastic sheeting. CAN SCLERALS BE WORN THE WHOLE DAY? They can be worn for the full course of the day. Some patients may need to remove and clean the lenses mid day to maintain the best possible comfort and vision. WILL THEY HELP WITH MY DRY EYES? The moisture chamber under the scleral lens will greatly diminish dryness, leading to much more comfortable vision. HOW LONG DOES A SCLERAL LENS LAST? A set of scleral lenses should be replaced every 18- 24 months to maintain healthy vision, comfort, and to avoid lens warpage.ARE SCLERAL LENSES COMFORTABLE? Yes! The lenses are larger so they rest gently on the sclera and the edges are tucked under the eyelid. A well-fitting scleral lens is just as comfortable and less dry than soft contacts. SCLERAL LENSES DONE RIGHT AT LUMEN OPTOMETRIC! First, we start with a topographical scan of the cornea, which allows us to capture the curvature of your eye. We then customize the scleral lens for each individual eye, factoring in the prescription, all while ensuring that the lens rests gently and comfortably on the sclera. Once the lens is designed, we confirm that we’ve met both your visual and comfort demands. Our scleral lens fitting is not complete until you are completely pleased with the results. TO GET STARTED, SCHEDULE AN APPOINTMENT WITH US AT WWW.LUMENOPTOMETRIC.COM FOR A COMPLIMENTARY CONSULTATION WHERE WE’LL EXPLAIN THE SCLERAL FITTING PROCESS IN MORE DETAIL.WHAT ARE SCLERAL LENSES? Scleral lenses are large diameter lenses that create a moisture chamber over the cornea (clear window of the eye) and gently settle on the sclera (white covering of the eye).WHAT ARE THEIR ADVANTAGES? Clear, stable vision due to the rigid lens design. Increased comfort from the lens resting on the less-sensitive sclera. Decreased dry eye from all- day lubrication of the cornea. WHO CAN HELP? Patients with keratoconus, pellucid, post-surgical glare/blur, compromised corneal integrity (dry eyes, recurrent erosions), high prescriptions, & exacting visual demands (photography, videography, sports).', metadata={'source': 'https://www.lumenoptometric.com/wp-content/uploads/2020/05/Intro_ScleralLenses.pdf', 'page': 1})]"
      ]
     },
     "execution_count": 4,
     "metadata": {},
     "output_type": "execute_result"
    }
   ],
   "source": [
    "# _docs_pdfs"
   ]
  },
  {
   "cell_type": "code",
   "execution_count": 6,
   "id": "cdd1ef94",
   "metadata": {},
   "outputs": [
    {
     "name": "stdout",
     "output_type": "stream",
     "text": [
      "INTRODUCTION TO SCLERAL LENSESCLEAR & COMFORTABLE VISION WITHOUT COMPROMISE\n",
      "{'source': 'https://www.lumenoptometric.com/wp-content/uploads/2020/05/Intro_ScleralLenses.pdf', 'page': 0}\n",
      "EXCEPTIONALLY CLEAR, STABLE, AND COMFORTABLE vision is no longer out of reach. The future is here and the answer lies with scleral lenses. WILL I SEE A DIFFERENCE BETWEEN SCLERAL AND SOFT LENSES? Scleral lenses are built from highly- customizable, firm lens materials, which offer clearer vision relative to the standard soft lenses. Example: consider how vision is better through a window versus clear, flexible plastic sheeting. CAN SCLERALS BE WORN THE WHOLE DAY? They can be worn for the full course of the day. Some patients may need to remove and clean the lenses mid day to maintain the best possible comfort and vision. WILL THEY HELP WITH MY DRY EYES? The moisture chamber under the scleral lens will greatly diminish dryness, leading to much more comfortable vision. HOW LONG DOES A SCLERAL LENS LAST? A set of scleral lenses should be replaced every 18- 24 months to maintain healthy vision, comfort, and to avoid lens warpage.ARE SCLERAL LENSES COMFORTABLE? Yes! The lenses are larger so they rest gently on the sclera and the edges are tucked under the eyelid. A well-fitting scleral lens is just as comfortable and less dry than soft contacts. SCLERAL LENSES DONE RIGHT AT LUMEN OPTOMETRIC! First, we start with a topographical scan of the cornea, which allows us to capture the curvature of your eye. We then customize the scleral lens for each individual eye, factoring in the prescription, all while ensuring that the lens rests gently and comfortably on the sclera. Once the lens is designed, we confirm that we’ve met both your visual and comfort demands. Our scleral lens fitting is not complete until you are completely pleased with the results. TO GET STARTED, SCHEDULE AN APPOINTMENT WITH US AT WWW.LUMENOPTOMETRIC.COM FOR A COMPLIMENTARY CONSULTATION WHERE WE’LL EXPLAIN THE SCLERAL FITTING PROCESS IN MORE DETAIL.WHAT ARE SCLERAL LENSES? Scleral lenses are large diameter lenses that create a moisture chamber over the cornea (clear window of the eye) and gently settle on the sclera (white covering of the eye).WHAT ARE THEIR ADVANTAGES? Clear, stable vision due to the rigid lens design. Increased comfort from the lens resting on the less-sensitive sclera. Decreased dry eye from all- day lubrication of the cornea. WHO CAN HELP? Patients with keratoconus, pellucid, post-surgical glare/blur, compromised corneal integrity (dry eyes, recurrent erosions), high prescriptions, & exacting visual demands (photography, videography, sports).\n",
      "{'source': 'https://www.lumenoptometric.com/wp-content/uploads/2020/05/Intro_ScleralLenses.pdf', 'page': 1}\n"
     ]
    }
   ],
   "source": [
    "# for _doc in _docs_pdfs:\n",
    "#   print(_doc.page_content)\n",
    "#   print(_doc.metadata)"
   ]
  },
  {
   "cell_type": "code",
   "execution_count": 8,
   "id": "77fd750b",
   "metadata": {},
   "outputs": [],
   "source": [
    "# metadata = {\n",
    "#   'source': 'https://www.lumenoptometric.com/wp-content/uploads/2020/05/Intro_ScleralLenses.pdf',\n",
    "#   'title': 'SCLERAL LENSES CLEAR & COMFORTABLE VISION WITHOUT COMPROMISE vision is no longer out of reach',\n",
    "#   'description' : 'SCLERAL LENSES FAQ answers to common questions on scleral lenses'\n",
    "# }"
   ]
  },
  {
   "cell_type": "code",
   "execution_count": 9,
   "id": "ff0bd4df",
   "metadata": {},
   "outputs": [],
   "source": [
    "# for _doc in _docs_pdfs:\n",
    "  # _doc.metadata = metadata"
   ]
  },
  {
   "cell_type": "code",
   "execution_count": 10,
   "id": "64b65a50",
   "metadata": {},
   "outputs": [],
   "source": [
    "# pickle_dump(file_to_pickle=_docs_pdfs, filename_pickle='lumen_docs_pdfs_', path_pickle_dump=path_lumen_docs)"
   ]
  },
  {
   "cell_type": "code",
   "execution_count": 11,
   "id": "f9e83035",
   "metadata": {},
   "outputs": [],
   "source": [
    "# _docs_pdfs = pickle_load(filename_pickle='lumen_docs_pdfs_', path_pickle_dump=path_lumen_docs)"
   ]
  },
  {
   "cell_type": "code",
   "execution_count": 12,
   "id": "3b1cab69",
   "metadata": {},
   "outputs": [
    {
     "data": {
      "text/plain": [
       "[Document(page_content='INTRODUCTION TO SCLERAL LENSESCLEAR & COMFORTABLE VISION WITHOUT COMPROMISE', metadata={'source': 'https://www.lumenoptometric.com/wp-content/uploads/2020/05/Intro_ScleralLenses.pdf', 'title': 'SCLERAL LENSES CLEAR & COMFORTABLE VISION WITHOUT COMPROMISE vision is no longer out of reach', 'description': 'SCLERAL LENSES FAQ answers to common questions on scleral lenses'}),\n",
       " Document(page_content='EXCEPTIONALLY CLEAR, STABLE, AND COMFORTABLE vision is no longer out of reach. The future is here and the answer lies with scleral lenses. WILL I SEE A DIFFERENCE BETWEEN SCLERAL AND SOFT LENSES? Scleral lenses are built from highly- customizable, firm lens materials, which offer clearer vision relative to the standard soft lenses. Example: consider how vision is better through a window versus clear, flexible plastic sheeting. CAN SCLERALS BE WORN THE WHOLE DAY? They can be worn for the full course of the day. Some patients may need to remove and clean the lenses mid day to maintain the best possible comfort and vision. WILL THEY HELP WITH MY DRY EYES? The moisture chamber under the scleral lens will greatly diminish dryness, leading to much more comfortable vision. HOW LONG DOES A SCLERAL LENS LAST? A set of scleral lenses should be replaced every 18- 24 months to maintain healthy vision, comfort, and to avoid lens warpage.ARE SCLERAL LENSES COMFORTABLE? Yes! The lenses are larger so they rest gently on the sclera and the edges are tucked under the eyelid. A well-fitting scleral lens is just as comfortable and less dry than soft contacts. SCLERAL LENSES DONE RIGHT AT LUMEN OPTOMETRIC! First, we start with a topographical scan of the cornea, which allows us to capture the curvature of your eye. We then customize the scleral lens for each individual eye, factoring in the prescription, all while ensuring that the lens rests gently and comfortably on the sclera. Once the lens is designed, we confirm that we’ve met both your visual and comfort demands. Our scleral lens fitting is not complete until you are completely pleased with the results. TO GET STARTED, SCHEDULE AN APPOINTMENT WITH US AT WWW.LUMENOPTOMETRIC.COM FOR A COMPLIMENTARY CONSULTATION WHERE WE’LL EXPLAIN THE SCLERAL FITTING PROCESS IN MORE DETAIL.WHAT ARE SCLERAL LENSES? Scleral lenses are large diameter lenses that create a moisture chamber over the cornea (clear window of the eye) and gently settle on the sclera (white covering of the eye).WHAT ARE THEIR ADVANTAGES? Clear, stable vision due to the rigid lens design. Increased comfort from the lens resting on the less-sensitive sclera. Decreased dry eye from all- day lubrication of the cornea. WHO CAN HELP? Patients with keratoconus, pellucid, post-surgical glare/blur, compromised corneal integrity (dry eyes, recurrent erosions), high prescriptions, & exacting visual demands (photography, videography, sports).', metadata={'source': 'https://www.lumenoptometric.com/wp-content/uploads/2020/05/Intro_ScleralLenses.pdf', 'title': 'SCLERAL LENSES CLEAR & COMFORTABLE VISION WITHOUT COMPROMISE vision is no longer out of reach', 'description': 'SCLERAL LENSES FAQ answers to common questions on scleral lenses'})]"
      ]
     },
     "execution_count": 12,
     "metadata": {},
     "output_type": "execute_result"
    }
   ],
   "source": [
    "# _docs_pdfs"
   ]
  }
 ],
 "metadata": {
  "kernelspec": {
   "display_name": "Python 3 (ipykernel)",
   "language": "python",
   "name": "python3"
  },
  "language_info": {
   "codemirror_mode": {
    "name": "ipython",
    "version": 3
   },
   "file_extension": ".py",
   "mimetype": "text/x-python",
   "name": "python",
   "nbconvert_exporter": "python",
   "pygments_lexer": "ipython3",
   "version": "3.10.5"
  }
 },
 "nbformat": 4,
 "nbformat_minor": 5
}
