{
 "cells": [
  {
   "cell_type": "code",
   "execution_count": 2,
   "id": "ed26a9b9",
   "metadata": {},
   "outputs": [],
   "source": [
    "import os\n",
    "import sys\n",
    "sys.path.append('../..')\n",
    "\n",
    "from py3810.myUtils import pickle_dump, pickle_load\n",
    "path_lumen_docs = '..\\langchain\\docs\\lumen\\\\docs\\\\'\n",
    "path_lumen = '..\\langchain\\docs\\lumen\\\\'"
   ]
  },
  {
   "cell_type": "code",
   "execution_count": 3,
   "id": "dc6df54a",
   "metadata": {},
   "outputs": [],
   "source": [
    "lumen_urls_pdf = pickle_load(filename_pickle='lumen_urls_pdf', path_pickle_dump=path_lumen )"
   ]
  },
  {
   "cell_type": "code",
   "execution_count": 4,
   "id": "dabead4d",
   "metadata": {},
   "outputs": [
    {
     "data": {
      "text/plain": [
       "['https://www.lumenoptometric.com/wp-content/uploads/2020/05/Intro_ScleralLenses.pdf',\n",
       " 'https://www.lumenoptometric.com/wp-content/uploads/2020/07/Lumen-HPA300-NP-Template.pdf']"
      ]
     },
     "execution_count": 4,
     "metadata": {},
     "output_type": "execute_result"
    }
   ],
   "source": [
    "lumen_urls_pdf"
   ]
  },
  {
   "cell_type": "code",
   "execution_count": 5,
   "id": "730db30a",
   "metadata": {},
   "outputs": [],
   "source": [
    "from langchain.document_loaders import PyPDFLoader\n",
    "\n",
    "loader = PyPDFLoader(lumen_urls_pdf[0])\n",
    "docs = loader.load()"
   ]
  },
  {
   "cell_type": "code",
   "execution_count": 6,
   "id": "1846d867",
   "metadata": {},
   "outputs": [
    {
     "data": {
      "text/plain": [
       "[Document(page_content='INTRODUCTION TO SCLERAL LENSESCLEAR & COMFORTABLE VISION \\nWITHOUT COMPROMISE', metadata={'source': 'https://www.lumenoptometric.com/wp-content/uploads/2020/05/Intro_ScleralLenses.pdf', 'page': 0}),\n",
       " Document(page_content='EXCEPTIONALLY CLEAR, STABLE, AND COMFORTABLE \\nvision is no longer out of reach. The future is here and the answer lies with scleral lenses.\\nWILL I SEE A DIFFERENCE BETWEEN SCLERAL AND SOFT LENSES?\\nScleral lenses are built from highly-\\ncustomizable, firm lens materials, which offer clearer vision relative to the standard soft lenses. Example: consider how vision \\nis better through a window versus clear, \\nflexible plastic sheeting.\\nCAN SCLERALS BE WORN THE WHOLE DAY?\\nThey can be worn for the full  course of the day. Some patients may need to remove and clean the lenses mid day to maintain the best possible comfort and vision.\\nWILL THEY HELP WITH MY DRY EYES?\\nThe moisture chamber under the scleral lens will greatly diminish dryness, leading to much more comfortable vision.\\nHOW LONG DOES A SCLERAL LENS LAST?\\nA set of scleral lenses should be replaced every 18- 24 months to maintain healthy vision, comfort, and to avoid lens warpage.ARE SCLERAL LENSES COMFORTABLE?\\nYes! The lenses are larger so they rest gently on the sclera and the edges are tucked under the eyelid. A well-fitting scleral lens is just as comfortable and less \\ndry than soft contacts.\\nSCLERAL LENSES DONE RIGHT AT  \\nLUMEN OPTOMETRIC!\\nFirst, we start with a topographical scan of \\nthe cornea, which allows us to capture the curvature of your eye. We then customize the scleral lens for each individual eye, \\nfactoring in the prescription, all while \\nensuring that the lens rests gently and comfortably on the sclera. \\nOnce the lens is designed, we confirm that \\nwe’ve met both your visual and comfort demands. Our scleral lens fitting is not complete until you are completely pleased with the results.\\nTO GET STARTED, SCHEDULE AN APPOINTMENT \\nWITH US AT WWW.LUMENOPTOMETRIC.COM \\nFOR A COMPLIMENTARY CONSULTATION  \\nWHERE WE’LL EXPLAIN THE SCLERAL FITTING \\nPROCESS IN MORE DETAIL.WHAT ARE SCLERAL \\nLENSES?\\nScleral lenses are large \\ndiameter lenses that create a moisture chamber over the cornea (clear window of the eye) and gently settle on the sclera \\n(white covering of the eye).WHAT ARE THEIR \\nADVANTAGES?\\nClear, stable vision due to the rigid lens design. Increased comfort from the lens resting on the less-sensitive sclera. Decreased dry eye from all-\\nday lubrication of the cornea.  WHO CAN  \\nHELP?\\nPatients with keratoconus, pellucid, post-surgical glare/blur, compromised corneal integrity (dry eyes, recurrent erosions), high prescriptions, & exacting visual demands (photography, videography, sports).', metadata={'source': 'https://www.lumenoptometric.com/wp-content/uploads/2020/05/Intro_ScleralLenses.pdf', 'page': 1})]"
      ]
     },
     "execution_count": 6,
     "metadata": {},
     "output_type": "execute_result"
    }
   ],
   "source": [
    "docs"
   ]
  },
  {
   "cell_type": "code",
   "execution_count": 7,
   "id": "2ff7e7b0",
   "metadata": {},
   "outputs": [],
   "source": [
    "pickle_dump(file_to_pickle=docs, filename_pickle='lumen_pdf_docs_processed', path_pickle_dump=path_lumen_docs)"
   ]
  }
 ],
 "metadata": {
  "kernelspec": {
   "display_name": "Python 3 (ipykernel)",
   "language": "python",
   "name": "python3"
  },
  "language_info": {
   "codemirror_mode": {
    "name": "ipython",
    "version": 3
   },
   "file_extension": ".py",
   "mimetype": "text/x-python",
   "name": "python",
   "nbconvert_exporter": "python",
   "pygments_lexer": "ipython3",
   "version": "3.8.10"
  }
 },
 "nbformat": 4,
 "nbformat_minor": 5
}
