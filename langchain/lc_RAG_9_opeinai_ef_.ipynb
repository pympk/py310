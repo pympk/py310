{
 "cells": [
  {
   "cell_type": "markdown",
   "metadata": {},
   "source": [
    "### References Langchain\n",
    "https://python.langchain.com/v0.1/docs/use_cases/question_answering/quickstart/"
   ]
  },
  {
   "cell_type": "markdown",
   "metadata": {},
   "source": [
    "### References Chroma db  \n",
    "https://docs.trychroma.com/guides  \n",
    "https://github.com/neo-con/chromadb-tutorial  \n",
    "https://python.langchain.com/v0.1/docs/integrations/vectorstores/chroma/  \n"
   ]
  },
  {
   "cell_type": "code",
   "execution_count": 1,
   "metadata": {},
   "outputs": [],
   "source": [
    "import bs4\n",
    "from langchain import hub\n",
    "from langchain_community.document_loaders import WebBaseLoader\n",
    "from langchain.vectorstores import Chroma\n",
    "from langchain_core.output_parsers import StrOutputParser\n",
    "from langchain_core.runnables import RunnablePassthrough\n",
    "from langchain_openai import OpenAIEmbeddings\n",
    "from langchain_text_splitters import RecursiveCharacterTextSplitter"
   ]
  },
  {
   "cell_type": "code",
   "execution_count": 9,
   "metadata": {},
   "outputs": [
    {
     "name": "stdout",
     "output_type": "stream",
     "text": [
      "SECRET_KEY = my_secret_key\n"
     ]
    }
   ],
   "source": [
    "import os\n",
    "import sys\n",
    "sys.path.append('../..')\n",
    "\n",
    "from py3810.myUtils import pickle_dump, pickle_load\n",
    "\n",
    "from dotenv import load_dotenv, find_dotenv\n",
    "_ = load_dotenv(find_dotenv('.env\\my_api_key.env')) # read local .env file\n",
    "\n",
    "os.environ[\"OPENAI_API_KEY\"]\n",
    "os.environ[\"LANGCHAIN_TRACING_V2\"] = \"true\"\n",
    "os.environ[\"LANGCHAIN_API_KEY\"]\n",
    "os.environ[\"ToMarkDown_API_KEY\"]\n",
    "os.environ[\"SECRET_KEY\"]\n",
    "print(f\"SECRET_KEY = {os.environ['SECRET_KEY']}\")\n",
    "\n",
    "# Set the path to the directory containing the Excel file\n",
    "path_lumen_dump = \"../langchain/docs/lumen/\"\n",
    "path_lumen_docs = path_lumen_dump + \"docs/\"\n"
   ]
  },
  {
   "cell_type": "code",
   "execution_count": 10,
   "metadata": {},
   "outputs": [
    {
     "name": "stdout",
     "output_type": "stream",
     "text": [
      "This is a very long string that needs to be wrapped to fit within 80 columns. It\n",
      "can contain spaces, punctuation, and even newlines.\n"
     ]
    }
   ],
   "source": [
    "import textwrap\n",
    "\n",
    "def print_wrapped(text, width=80):\n",
    "  \"\"\"\n",
    "  Prints a long string to the console, wrapped to fit within a specified width.\n",
    "\n",
    "  Args:\n",
    "      text: The long string to be wrapped.\n",
    "      width: The desired width for each line (default: 80 columns).\n",
    "  \"\"\"\n",
    "  wrapped_text = textwrap.wrap(text, width=width)\n",
    "  for line in wrapped_text:\n",
    "    print(line)\n",
    "\n",
    "# Example usage\n",
    "long_string = \"This is a very long string that needs to be wrapped to fit within 80 columns. It can contain spaces, punctuation, and even newlines.\"\n",
    "print_wrapped(long_string)"
   ]
  },
  {
   "cell_type": "code",
   "execution_count": 11,
   "metadata": {},
   "outputs": [],
   "source": [
    "from langchain_openai import ChatOpenAI\n",
    "\n",
    "llm = ChatOpenAI(model=\"gpt-3.5-turbo-0125\")"
   ]
  },
  {
   "cell_type": "code",
   "execution_count": 5,
   "metadata": {},
   "outputs": [],
   "source": [
    "persist_directory = \".chatbot/chroma_openai_ef/\"\n",
    "embedding_function = OpenAIEmbeddings()\n",
    "collection_name = 'lumen_docs_combined'"
   ]
  },
  {
   "cell_type": "code",
   "execution_count": 6,
   "metadata": {},
   "outputs": [],
   "source": [
    "my_query = \"What is lumen optometric's address?\""
   ]
  },
  {
   "cell_type": "markdown",
   "metadata": {},
   "source": [
    "#### Only run cell below to add new data\n"
   ]
  },
  {
   "cell_type": "code",
   "execution_count": 14,
   "metadata": {},
   "outputs": [
    {
     "ename": "FileNotFoundError",
     "evalue": "[Errno 2] No such file or directory: '../langchain/docs/lumen/docs/lumen_docs_videos'",
     "output_type": "error",
     "traceback": [
      "\u001b[1;31m---------------------------------------------------------------------------\u001b[0m",
      "\u001b[1;31mFileNotFoundError\u001b[0m                         Traceback (most recent call last)",
      "Cell \u001b[1;32mIn[14], line 6\u001b[0m\n\u001b[0;32m      4\u001b[0m doc_0 \u001b[38;5;241m=\u001b[39m pickle_load(filename_pickle\u001b[38;5;241m=\u001b[39m\u001b[38;5;124m'\u001b[39m\u001b[38;5;124mlumen_docs_website\u001b[39m\u001b[38;5;124m'\u001b[39m, path_pickle_dump\u001b[38;5;241m=\u001b[39mpath_lumen_docs)\n\u001b[0;32m      5\u001b[0m doc_1 \u001b[38;5;241m=\u001b[39m pickle_load(filename_pickle\u001b[38;5;241m=\u001b[39m\u001b[38;5;124m'\u001b[39m\u001b[38;5;124mlumen_docs_pdfs\u001b[39m\u001b[38;5;124m'\u001b[39m, path_pickle_dump\u001b[38;5;241m=\u001b[39mpath_lumen_docs)\n\u001b[1;32m----> 6\u001b[0m doc_2 \u001b[38;5;241m=\u001b[39m \u001b[43mpickle_load\u001b[49m\u001b[43m(\u001b[49m\u001b[43mfilename_pickle\u001b[49m\u001b[38;5;241;43m=\u001b[39;49m\u001b[38;5;124;43m'\u001b[39;49m\u001b[38;5;124;43mlumen_docs_videos\u001b[39;49m\u001b[38;5;124;43m'\u001b[39;49m\u001b[43m,\u001b[49m\u001b[43m \u001b[49m\u001b[43mpath_pickle_dump\u001b[49m\u001b[38;5;241;43m=\u001b[39;49m\u001b[43mpath_lumen_docs\u001b[49m\u001b[43m)\u001b[49m\n\u001b[0;32m      7\u001b[0m doc_3 \u001b[38;5;241m=\u001b[39m pickle_load(filename_pickle\u001b[38;5;241m=\u001b[39m\u001b[38;5;124m'\u001b[39m\u001b[38;5;124mlumen_docs_youtube\u001b[39m\u001b[38;5;124m'\u001b[39m, path_pickle_dump\u001b[38;5;241m=\u001b[39mpath_lumen_docs)\n\u001b[0;32m      8\u001b[0m docs \u001b[38;5;241m=\u001b[39m doc_0 \u001b[38;5;241m+\u001b[39m doc_1 \u001b[38;5;241m+\u001b[39m doc_2 \u001b[38;5;241m+\u001b[39m doc_3\n",
      "File \u001b[1;32mc:\\Users\\ping\\Files_win10\\python\\py310\\langchain\\../..\\py3810\\myUtils.py:877\u001b[0m, in \u001b[0;36mpickle_load\u001b[1;34m(path_pickle_dump, filename_pickle, verbose)\u001b[0m\n\u001b[0;32m    865\u001b[0m \u001b[38;5;250m\u001b[39m\u001b[38;5;124;03m\"\"\"Un-pickle filename_pickle from path_pickle_dump and return the result.\u001b[39;00m\n\u001b[0;32m    866\u001b[0m \n\u001b[0;32m    867\u001b[0m \u001b[38;5;124;03mArgs:\u001b[39;00m\n\u001b[1;32m   (...)\u001b[0m\n\u001b[0;32m    872\u001b[0m \u001b[38;5;124;03m    file_unpickle: un-pickle file\u001b[39;00m\n\u001b[0;32m    873\u001b[0m \u001b[38;5;124;03m\"\"\"\u001b[39;00m\n\u001b[0;32m    875\u001b[0m \u001b[38;5;28;01mimport\u001b[39;00m \u001b[38;5;21;01mpickle\u001b[39;00m\n\u001b[1;32m--> 877\u001b[0m infile \u001b[38;5;241m=\u001b[39m \u001b[38;5;28;43mopen\u001b[39;49m\u001b[43m(\u001b[49m\u001b[43mpath_pickle_dump\u001b[49m\u001b[43m \u001b[49m\u001b[38;5;241;43m+\u001b[39;49m\u001b[43m \u001b[49m\u001b[43mfilename_pickle\u001b[49m\u001b[43m,\u001b[49m\u001b[43m \u001b[49m\u001b[38;5;124;43m'\u001b[39;49m\u001b[38;5;124;43mrb\u001b[39;49m\u001b[38;5;124;43m'\u001b[39;49m\u001b[43m)\u001b[49m\n\u001b[0;32m    878\u001b[0m file_unpickle \u001b[38;5;241m=\u001b[39m pickle\u001b[38;5;241m.\u001b[39mload(infile)\n\u001b[0;32m    879\u001b[0m infile\u001b[38;5;241m.\u001b[39mclose()\n",
      "\u001b[1;31mFileNotFoundError\u001b[0m: [Errno 2] No such file or directory: '../langchain/docs/lumen/docs/lumen_docs_videos'"
     ]
    }
   ],
   "source": [
    "from langchain.docstore.document import Document\n",
    "\n",
    "# load data\n",
    "doc_0 = pickle_load(filename_pickle='lumen_docs_website', path_pickle_dump=path_lumen_docs)\n",
    "doc_1 = pickle_load(filename_pickle='lumen_docs_pdfs', path_pickle_dump=path_lumen_docs)\n",
    "doc_2 = pickle_load(filename_pickle='lumen_docs_videos', path_pickle_dump=path_lumen_docs)\n",
    "doc_3 = pickle_load(filename_pickle='lumen_docs_youtube', path_pickle_dump=path_lumen_docs)\n",
    "docs = doc_0 + doc_1 + doc_2 + doc_3"
   ]
  },
  {
   "cell_type": "code",
   "execution_count": 17,
   "metadata": {},
   "outputs": [
    {
     "data": {
      "text/plain": [
       "dict"
      ]
     },
     "execution_count": 17,
     "metadata": {},
     "output_type": "execute_result"
    }
   ],
   "source": [
    "type(doc.metadata)my_dict = {'a': 1, 'b': 2, 'c': 3}\n",
    "\n",
    "for key, value in my_dict.items():\n",
    "    print(key, value)"
   ]
  },
  {
   "cell_type": "code",
   "execution_count": 21,
   "metadata": {},
   "outputs": [
    {
     "name": "stdout",
     "output_type": "stream",
     "text": [
      "len(page_content): 7746\n",
      "About Us | Lumen Optometric | Sierra Madre, CA | Vision Care Skip to primary\n",
      "navigation Skip to main content(626) 921-019914 West Sierra Madre Blvd, Sierra\n",
      "Madre, CA 91024Call Us(626) 921-0199Schedule An AppointmentMyopia Management\n",
      "What is myopia? Is myopia unhealthy? Nature Versus Nurture Myopia Treatments Our\n",
      "technology Scleral Lenses / Keratoconus Poseyedon Lens Neurolens Therapy\n",
      "Orthokeratology How’s Ortho-K Work? Is Ortho-k Safe? Candidacy Our Technology\n",
      "Frequently Asked Questions Adult vs. Children’s Designs Eye Exams Contact Lens\n",
      "Exams Patient Center Appointment & Forms COVID-19 Protocols Videos About Us\n",
      "Office Testimonials Blog About UsThis is a sample inner caption / About UsThat\n",
      "Little Extra Step Toward High-Quality Vision Care Healthy vision is more than\n",
      "just being able to see at the 20/20 level. It also means maintaining healthy eye\n",
      "habits, having the right tools for your visual needs and preventing eye damage.\n",
      "Lumen Optometric shines a new light on patient care by providing cutting-edge,\n",
      "holistic vision care and a great patient experience. Allow us to take part in\n",
      "your vision care and you’ll love what you see! Meet Our Dedicated Team Lumen\n",
      "Optometric creates an exceptional eye care experience where the latest research\n",
      "and technology converge with a highly personalized education. When you trust\n",
      "your vision care to Lumen Optometric, your eyes are in the qualified hands of\n",
      "eye care professionals who focus on balancing your visual clarity, comfort and\n",
      "health. Dr. Eric To, OD, FSLS Dr. Eric To is a board- certified optometrist who\n",
      "is a Fellow of the Scleral Lens Society. He is extremely passionate about\n",
      "helping patients achieve their highest levels of visual potential. He is DPA and\n",
      "TPA/TPG certified, which means he can effectively use high-performance\n",
      "pharmaceutical agents to diagnose and treat ocular diseases. Dr. To studied\n",
      "Sociology and Biology at the University of California, Riverside, and obtained\n",
      "his Doctor of Optometry degree from the Southern California College of\n",
      "Optometry. With a background in mentoring and tutoring underserved children, Dr.\n",
      "To is dedicated to ensuring that all patients leave his exam room with a\n",
      "complete understanding of their visual systems and eye health. Dr. Valerie\n",
      "Hoshizaki, OD, FAAO Dr. Valerie L. Hoshizaki is a residency-trained optometrist\n",
      "and a Fellow of the American Academy of Optometry. She graduated from Wheaton\n",
      "College in Illinois with a Bachelor of Science in Biological Sciences and then\n",
      "received her Doctorate of Optometry from the Southern California College of\n",
      "Optometry. After graduation, Dr. Hoshizaki was chosen by the post-doctoral\n",
      "residency program at the Southern California College of Optometry to further\n",
      "develop her specialty lens-fitting technique. She is excited to be a part of the\n",
      "Lumen team to continue her passion for fitting specialty contact lenses and to\n",
      "provide the most excellent care for all her patients. Dr. To and Dr. Hoshizaki’s\n",
      "areas of concentration include: Providing comprehensive eye & contact lens\n",
      "exams. Myopia management, which means slowing the progression of nearsightedness\n",
      "in children. Fitting scleral lenses for patients with keratoconus, LASIK\n",
      "complications, and severe prescriptions. Fitting Neurolenses to alleviate\n",
      "chronic eye strain, headaches, and migraines. Rosie – Optical Manager Rosie\n",
      "studied Pharmacological Sciences with a specialized focus on extemporaneous and\n",
      "sterile compounding of medicine and chemotherapy. During her practice, she also\n",
      "educated and instructed pharmacy students in hands-on laboratory procedures for\n",
      "retail and hospital / infusion settings within Los Angeles and Orange County\n",
      "medical colleges. She later discovered her passion for optometry and decided to\n",
      "pursue her career in the optical industry. With over 12 years of patient care\n",
      "experience in the medical field, Rosie continues her passion for providing\n",
      "outstanding medical care for our patients here at Lumen Optometric! Sabrina-\n",
      "Optician Sabrina has a Bachelors of Fine Arts in animation. Her passion for\n",
      "drawing and working with color has made her a frame-fitting natural. There’s\n",
      "nothing she loves more than helping you find your perfect next pair. Here at\n",
      "Lumen, she has found a different type of art – the artwork that’s found within\n",
      "the iris. She says that each pair of eyes is unique to any other pair, and she\n",
      "likes to bring that unique quality back to her own art. She is excited to\n",
      "further her knowledge of the optical industry and thrives to interact with you\n",
      "to deliver the best care possible. Leilani – Optician After completing her\n",
      "undergraduate degree studying General Biology at the University of California,\n",
      "San Diego, Leilani knew that she wanted to take her education to pursue a career\n",
      "in health care. Curiosity struck Leilani from a young age as to why it’s\n",
      "possible for some to see more clearly than others which lead to her love for the\n",
      "optical industry. Leilani thrives on being given opportunities to work with\n",
      "others feel their best. She is extremely passionate about helping improve a\n",
      "patient’s quality of life by improving their visual needs! Aavan Amin – Optician\n",
      "Aavan is a highly detailed individual with a Bachelors of Art in Film and\n",
      "Television, specialized in Art direction and Production Design. Prior to working\n",
      "at Lumen she built film and commercial sets. In addition, she worked in the\n",
      "fashion industry for seven years, styling anyone who wanted a makeover. At Lumen\n",
      "she has a keen eye for visualizing someone’s lifestyle and choosing what best\n",
      "suits their visual needs, either by finding the right pair of frames or training\n",
      "on specialty lenses. Aavan loves to take her time making sure each person looks\n",
      "and feels their best no matter what their visual needs are. Anney Lin – Optician\n",
      "Anney graduated from the University of California, Riverside with a bachelor’s\n",
      "degree in Education with a concentration in child development. She has previous\n",
      "experience in behavioral therapy and teaching, as well as personal experience\n",
      "wearing Ortho-keratology for the past 15 years. She incorporates her passions\n",
      "and patience into training both kids and adults in specialty contact lenses.\n",
      "Anney’s happy and fun-loving personality always keeps our environment warm and\n",
      "welcoming for patients of all ages. Danielle Whitley – Optician After pursuing\n",
      "photography in New York for the past four years, Danielle traded east coast for\n",
      "west coast in spring of 2022 and joined the Lumen family. Having always aspired\n",
      "to join the healthcare field, she is nearing completion of her Master’s degree\n",
      "in Healthcare Administration with a specialty in organizational leadership and\n",
      "change management. Danielle prides herself in utilizing her attention to detail\n",
      "and strong work ethic to ensure patients look and feel their best in a new pair\n",
      "of glasses. Schedule an Appointment Today To schedule an appointment with the\n",
      "Lumen Optometric team, call (626) 921-0199 or schedule online. Whether you need\n",
      "a comprehensive eye exam or a more specialized eye care service, we look forward\n",
      "to bringing balance to the clarity and comfort of your eyes! Allow us to take\n",
      "part in your vision care and you'll love what you see. Proudly serving Sierra\n",
      "Madre, Arcadia, Pasadena, and the surrounding communities. SCHEDULE AN\n",
      "APPOINTMENTLumen Optometric 14 West Sierra Madre Blvd, Sierra Madre, CA 91024\n",
      "(626) 921-0199 info@lumenoptometric.comServicesComprehensive Eye Exams Contact\n",
      "Lens Exams Orthokeratology Neurolens Therapy Scleral Lenses / Keratoconus Quick\n",
      "LinksHome About Us Sitemap Hours Of OperationTuesday9:45 am - 5:30\n",
      "pmWednesday9:45 am - 5:30 pmThursday9:45 am - 1:30 pmFriday9:45 am - 5:30\n",
      "pmSaturday9:45 am - 5:30 pmCopyright © 2020 Lumen Optometric. All Rights\n",
      "Reserved.X[contact-form-7 404 \"Not Found\"]Top\n",
      "\n",
      "source: https://www.lumenoptometric.com/about-us/\n",
      "title: About Us | Lumen Optometric | Sierra Madre, CA | Vision Care\n",
      "description: Lumen Optometric offers quality vision care to patients in California’s Sierra Madre, CA. Let our team use cutting-edge, holistic eye care to give you visual clarity.\n",
      "language: en-US\n"
     ]
    }
   ],
   "source": [
    "doc = docs[2]\n",
    "page_content = doc.page_content\n",
    "print(f'len(page_content): {len(page_content)}')\n",
    "print_wrapped(doc.page_content)\n",
    "print('')\n",
    "metadata = doc.metadata\n",
    "for key, value in doc.metadata.items():\n",
    "    print(f'{key}: {value}')\n"
   ]
  },
  {
   "cell_type": "code",
   "execution_count": 45,
   "metadata": {},
   "outputs": [
    {
     "name": "stdout",
     "output_type": "stream",
     "text": [
      "doc_index: 0\n",
      "page_len: 460\n",
      "page_content[0:50]: Lumen Optometric address is located at 14 West Sie\n",
      "source: None\n",
      "title: None\n",
      "description: None\n",
      "\n",
      "my_row: [0, 460, 'Lumen Opto', None, None]\n",
      "doc_index: 1\n",
      "page_len: 7876\n",
      "page_content[0:50]: Lumen Optometric | Sierra Madre, CA | Eye Care | B\n",
      "source: https://www.lumenoptometric.com/\n",
      "title: Lumen Optometric | Sierra Madre, CA | Eye Care | Best Optometrist\n",
      "description: Lumen Optometric provides the best eye care in Sierra Madre, CA. Our skilled optometrist offers cutting-edge, holistic care to keep your vision healthy and clear.\n",
      "\n",
      "my_row: [1, 7876, 'Lumen Opto', 'https://www.lumenoptometric.com/', 'Lumen Optometric provides the best eye care in Sierra Madre, CA. Our skilled optometrist offers cutting-edge, holistic care to keep your vision healthy and clear.']\n"
     ]
    },
    {
     "data": {
      "text/plain": [
       "[[0, 460, 'Lumen Opto', None, None],\n",
       " [1,\n",
       "  7876,\n",
       "  'Lumen Opto',\n",
       "  'https://www.lumenoptometric.com/',\n",
       "  'Lumen Optometric provides the best eye care in Sierra Madre, CA. Our skilled optometrist offers cutting-edge, holistic care to keep your vision healthy and clear.']]"
      ]
     },
     "execution_count": 45,
     "metadata": {},
     "output_type": "execute_result"
    }
   ],
   "source": [
    "my_data = []\n",
    "\n",
    "for i, doc in enumerate(docs[0:2]):\n",
    "  my_row =[]\n",
    "  doc_index = i\n",
    "  page_content = doc.page_content\n",
    "  page_len = len(page_content)\n",
    "\n",
    "  metadata_dic = doc.metadata\n",
    "\n",
    "  try:\n",
    "    source = metadata_dic['source']\n",
    "  except KeyError:\n",
    "    source = None \n",
    "\n",
    "  try:\n",
    "    title = metadata_dic['title']\n",
    "  except KeyError:\n",
    "    title = None \n",
    "\n",
    "  try:\n",
    "    description = metadata_dic['description']\n",
    "  except KeyError:\n",
    "    description = None\n",
    "\n",
    "  print(f'doc_index: {doc_index}')\n",
    "  print(f'page_len: {page_len}')\n",
    "  print(f'page_content[0:50]: {page_content[0:50]}')  \n",
    "  print(f'source: {source}')  \n",
    "  print(f'title: {title}')\n",
    "  print(f'description: {description}\\n')\n",
    "  my_row.append(doc_index)\n",
    "  my_row.append(page_len)\n",
    "  my_row.append(page_content[0:10])\n",
    "  my_row.append(source)\n",
    "  my_row.append(description)\n",
    "  print(f'my_row: {my_row}')\n",
    "  my_data.append(my_row)\n",
    "\n",
    "my_data"
   ]
  },
  {
   "cell_type": "code",
   "execution_count": 27,
   "metadata": {},
   "outputs": [
    {
     "name": "stdout",
     "output_type": "stream",
     "text": [
      "docs[0], len(page_content): 460\n",
      "description:: address, office location, phone number, office hours\n",
      "==========\n",
      "docs[1], len(page_content): 460\n",
      "source: https://www.lumenoptometric.com/\n",
      "title: Lumen Optometric | Sierra Madre, CA | Eye Care | Best Optometrist\n",
      "description: Lumen Optometric provides the best eye care in Sierra Madre, CA. Our skilled optometrist offers cutting-edge, holistic care to keep your vision healthy and clear.\n",
      "language: en-US\n",
      "==========\n"
     ]
    }
   ],
   "source": [
    "for i, doc in enumerate(docs[0:2]):\n",
    "  # doc_index = i\n",
    "  # page_content = doc.page_content\n",
    "  # page_len = len(page_content)\n",
    "  # metadata_dic = doc.metadata\n",
    "  # source = metadata_dic['source']\n",
    "  # title = metadata_dic['title']\n",
    "  # description = metadata_dic['description']\n",
    "\n",
    "\n",
    "  print(f'docs[{i}], len(page_content): {len(page_content)}')\n",
    "  # print_wrapped(doc.page_content)\n",
    "  # print('')\n",
    "  metadata = doc.metadata\n",
    "  for key, value in doc.metadata.items():\n",
    "    print(f'{key}: {value}')\n",
    "  print(f'{\"=\"*10}')  \n"
   ]
  },
  {
   "cell_type": "code",
   "execution_count": 7,
   "metadata": {},
   "outputs": [],
   "source": [
    "# from langchain.docstore.document import Document\n",
    "\n",
    "# lumen_address_phone_hours = \\\n",
    "#   \"Lumen Optometric address is located at 14 West Sierra Madre Blvd, Sierra Madre, CA 91024. \\\n",
    "#    Lumen Optometric office is located at 14 West Sierra Madre Blvd, Sierra Madre, CA 91024. \\\n",
    "#    Lumen Optometric location is 14 West Sierra Madre Blvd, Sierra Madre, CA 91024. \\\n",
    "#    Lumen Optometric phone number is (626) 921-0199. \\\n",
    "#    Lumen Optometric office hours are Tuesday, Wednesday, Friday, and Saturday from 9:45 am to 5:30 pm, \\\n",
    "#    and Thursday from 9:45 am to 1:30 pm.\"\n",
    "\n",
    "# doc_lumen_address_phone_hours =  [Document(\n",
    "#   page_content=lumen_address_phone_hours,\n",
    "#   metadata={\"description\": \"address, office location, phone number, office hours\"}\n",
    "#   )]\n",
    "\n",
    "# # load data\n",
    "# doc_0 = pickle_load(filename_pickle='lumen_docs_website', path_pickle_dump=path_lumen_docs)\n",
    "# doc_1 = pickle_load(filename_pickle='lumen_docs_pdfs', path_pickle_dump=path_lumen_docs)\n",
    "# doc_2 = pickle_load(filename_pickle='lumen_docs_videos', path_pickle_dump=path_lumen_docs)\n",
    "# doc_3 = pickle_load(filename_pickle='lumen_docs_youtube', path_pickle_dump=path_lumen_docs)\n",
    "# docs = doc_lumen_address_phone_hours + doc_0 + doc_1 + doc_2 + doc_3\n",
    "\n",
    "# text_splitter = RecursiveCharacterTextSplitter(chunk_size=1000, chunk_overlap=200)\n",
    "# splits = text_splitter.split_documents(docs)\n",
    "\n",
    "# # save to disk\n",
    "# db0 = Chroma.from_documents(\n",
    "#   documents=splits,\n",
    "#   embedding=embedding_function,\n",
    "#   collection_name=collection_name,\n",
    "#   persist_directory=persist_directory\n",
    "#   )\n",
    "\n",
    "# db0_ans = db0.similarity_search(my_query)\n",
    "# # print(docs[0].page_content)\n",
    "# print(f'db0_ans:{db0_ans}')"
   ]
  },
  {
   "cell_type": "code",
   "execution_count": 8,
   "metadata": {},
   "outputs": [
    {
     "name": "stdout",
     "output_type": "stream",
     "text": [
      "ans:[Document(page_content='Lumen Optometric address is located at 14 West Sierra Madre Blvd, Sierra Madre, CA 91024.    Lumen Optometric office is located at 14 West Sierra Madre Blvd, Sierra Madre, CA 91024.    Lumen Optometric location is 14 West Sierra Madre Blvd, Sierra Madre, CA 91024.    Lumen Optometric phone number is (626) 921-0199.    Lumen Optometric office hours are Tuesday, Wednesday, Friday, and Saturday from 9:45 am to 5:30 pm,    and Thursday from 9:45 am to 1:30 pm.', metadata={'description:': 'address, office location, phone number, office hours'}), Document(page_content=\"patient care. Our professional optometrist offers cutting-edge, holistic eye\\ncare that restores clarity, comfort and health to your vision. We use the\\nlatest technologies to accurately diagnose and treat an assortment of eye\\nconditions, so reach out and let Lumen Optometric give you a high-quality\\noptical exam. To request an eye appointment or to learn more about Lumen\\nOptometric, please call or text (626) 921-0199. We look forward to taking that\\nlittle extra step to give you clear and focused vision! Our Mailing Address\\nLumen Optometric 14 West Sierra Madre Blvd, Sierra Madre, CA 91024 Contact\\nNumber (626) 921-0199 Office Hours Tuesday 9:45 am-5:30 pm Wednesday 9:45\\nam-5:30 pm Thursday 9:45 am-1:30 pm Friday 9:45 am-5:30 pm Saturday 9:45\\nam-5:30 pm Allow us to take part in your vision care and you'll love what you\\nsee. Proudly serving Sierra Madre, Arcadia, Pasadena, and the surrounding\\ncommunities. SCHEDULE AN APPOINTMENTLumen Optometric 14 West Sierra Madre\", metadata={'description': 'Lumen Optometric offers holistic eye care to Sierra Madre, CA patients. Keep your vision clear and comfortable! Call (626) 921-0199 to schedule an eye appointment.', 'language': 'en-US', 'source': 'https://www.lumenoptometric.com/contact-us/', 'title': 'Contact Us | Lumen Optometric | Sierra Madre, CA | Eye Appointment'}), Document(page_content='(626) 921-0199 info@lumenoptometric.comServicesComprehensive Eye Exams Contact\\nLens Exams Orthokeratology Neurolens Therapy Scleral Lenses / Keratoconus\\nQuick LinksHome About Us Sitemap Hours Of OperationTuesday9:45 am - 5:30\\npmWednesday9:45 am - 5:30 pmThursday9:45 am - 1:30 pmFriday9:45 am - 5:30\\npmSaturday9:45 am - 5:30 pmCopyright © 2020 Lumen Optometric. All Rights\\nReserved.X[contact-form-7 404 \"Not Found\"]Top', metadata={'description': 'In this blog, the trusted neurolens treatment provider, Lumen Optometric shares what can cause blocked tear ducts and how to deal with them.', 'language': 'en-US', 'source': 'https://www.lumenoptometric.com/blog/eye-care/blocked-tear-ducts-symptoms-causes-and-solutions/', 'title': 'Blocked Tear Ducts: Symptoms, Causes and Solutions'}), Document(page_content='(626) 921-0199 info@lumenoptometric.comServicesComprehensive Eye Exams Contact\\nLens Exams Orthokeratology Neurolens Therapy Scleral Lenses / Keratoconus\\nQuick LinksHome About Us Sitemap Hours Of OperationTuesday9:45 am - 5:30\\npmWednesday9:45 am - 5:30 pmThursday9:45 am - 1:30 pmFriday9:45 am - 5:30\\npmSaturday9:45 am - 5:30 pmCopyright © 2020 Lumen Optometric. All Rights\\nReserved.X[contact-form-7 404 \"Not Found\"]Top', metadata={'description': 'The trusted eye exam doctor from Lumen Optometric highlights the importance of a healthy diet to reduce the risk of cataracts.', 'language': 'en-US', 'source': 'https://www.lumenoptometric.com/blog/eye-care/how-eating-a-healthy-diet-can-reduce-the-risk-of-cataracts/', 'title': 'How Eating a Healthy Diet Can Reduce the Risk of Cataracts'})]\n"
     ]
    }
   ],
   "source": [
    "\n",
    "# load from disk\n",
    "vectorstore = Chroma(\n",
    "  embedding_function=embedding_function,\n",
    "  collection_name=collection_name,\n",
    "  persist_directory=persist_directory\n",
    "  )\n",
    "ans = vectorstore.similarity_search(my_query)\n",
    "print(f'ans:{ans}')"
   ]
  },
  {
   "cell_type": "code",
   "execution_count": null,
   "metadata": {},
   "outputs": [],
   "source": [
    "retriever = vectorstore.as_retriever(search_kwargs={\"k\": 1})\n",
    "prompt = hub.pull(\"rlm/rag-prompt\")\n",
    "\n",
    "def format_docs(docs):\n",
    "    return \"\\n\\n\".join(doc.page_content for doc in docs)\n",
    "\n",
    "rag_chain = (\n",
    "    {\"context\": retriever | format_docs, \"question\": RunnablePassthrough()}\n",
    "    | prompt\n",
    "    | llm\n",
    "    | StrOutputParser()\n",
    ")"
   ]
  },
  {
   "cell_type": "code",
   "execution_count": null,
   "metadata": {},
   "outputs": [],
   "source": [
    "queries = [\n",
    "  # \"14 West Sierra Madre Boulevard\",\n",
    "  \"What is lumen optometric's phone number?\",\n",
    "  \"What is lumen optometric's address?\",\n",
    "  \"What is lumen optometric's location?\",\n",
    "  \"do you take vision insurance\",\n",
    "  \"what type of insurance do you take\",\n",
    "  \"what are the names of the insurance that you take\",\n",
    "  \"What is Ortho-k\",\n",
    "  \"What does research say about Ortho-k\",\n",
    "  \"What equipment do they have?\",\n",
    "  \"What equipment do you use for othro-k?\",\n",
    "  ]"
   ]
  },
  {
   "cell_type": "code",
   "execution_count": null,
   "metadata": {},
   "outputs": [],
   "source": [
    "# for query in queries[0:2]:\n",
    "for query in queries:\n",
    "  print(f'query: {query}')\n",
    "  print_wrapped(f'answr: {rag_chain.invoke(query)}')\n",
    "  print('')\n",
    "  print_wrapped(f'relevant docs: {retriever.get_relevant_documents(query)}')\n",
    "  print(f'{\"=\"*5}\\n')"
   ]
  }
 ],
 "metadata": {
  "kernelspec": {
   "display_name": ".venv",
   "language": "python",
   "name": "python3"
  },
  "language_info": {
   "codemirror_mode": {
    "name": "ipython",
    "version": 3
   },
   "file_extension": ".py",
   "mimetype": "text/x-python",
   "name": "python",
   "nbconvert_exporter": "python",
   "pygments_lexer": "ipython3",
   "version": "3.10.5"
  }
 },
 "nbformat": 4,
 "nbformat_minor": 2
}
