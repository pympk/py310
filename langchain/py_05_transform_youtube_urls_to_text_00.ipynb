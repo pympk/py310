{
 "cells": [
  {
   "cell_type": "code",
   "execution_count": 10,
   "id": "28d7c6bc",
   "metadata": {},
   "outputs": [
    {
     "name": "stdout",
     "output_type": "stream",
     "text": [
      "SECRET_KEY = my_secret_key\n",
      "DATABASE_PASSWORD = my_db_pwd\n"
     ]
    }
   ],
   "source": [
    "import os\n",
    "import openai\n",
    "import sys\n",
    "sys.path.append('../..')\n",
    "\n",
    "from py3810.myUtils import pickle_dump, pickle_load\n",
    "\n",
    "# Set the path to the directory containing the Excel file\n",
    "path_lumen_dump = \"../langchain/docs/lumen/\"\n",
    "path_lumen_docs = path_lumen_dump + \"docs/\"\n",
    "\n",
    "from dotenv import load_dotenv, find_dotenv\n",
    "_ = load_dotenv(find_dotenv('.env\\my_api_key.env')) # read local .env file\n",
    "\n",
    "SECRET_KEY1 = os.environ.get(\"SECRET_KEY\")\n",
    "DATABASE_PASSWORD2 = os.environ.get(\"DATABASE_PASSWORD\")\n",
    "print(f\"SECRET_KEY = {SECRET_KEY1}\")\n",
    "print(f\"DATABASE_PASSWORD = {DATABASE_PASSWORD2}\")\n",
    "\n",
    "openai.api_key  = os.environ['OPENAI_API_KEY']"
   ]
  },
  {
   "cell_type": "code",
   "execution_count": 11,
   "id": "2e6b2a99",
   "metadata": {},
   "outputs": [],
   "source": [
    "from langchain.document_loaders.generic import GenericLoader\n",
    "from langchain.document_loaders.parsers import OpenAIWhisperParser\n",
    "from langchain.document_loaders.blob_loaders.youtube_audio import YoutubeAudioLoader"
   ]
  },
  {
   "cell_type": "code",
   "execution_count": 12,
   "metadata": {},
   "outputs": [
    {
     "data": {
      "text/plain": [
       "['https://www.youtube.com/watch?v=DhtuaIazLIw',\n",
       " 'https://www.youtube.com/watch?v=UcZrM2L1h8w',\n",
       " 'https://www.youtube.com/watch?v=pP_GoxPywkY',\n",
       " 'https://www.youtube.com/watch?v=abUT6U9cXrI',\n",
       " 'https://www.youtube.com/watch?v=gqmjNdJ7VR4',\n",
       " 'https://www.youtube.com/watch?v=yVF2oczrJ8w',\n",
       " 'https://www.youtube.com/watch?v=IRHtQQVethk']"
      ]
     },
     "execution_count": 12,
     "metadata": {},
     "output_type": "execute_result"
    }
   ],
   "source": [
    "urls_youtube = pickle_load(path_pickle_dump=path_lumen_dump, filename_pickle='lumen_urls_yt')\n",
    "urls_youtube"
   ]
  },
  {
   "cell_type": "code",
   "execution_count": 13,
   "id": "fe873f38",
   "metadata": {},
   "outputs": [
    {
     "data": {
      "text/plain": [
       "['https://www.youtube.com/watch?v=DhtuaIazLIw',\n",
       " 'https://www.youtube.com/watch?v=UcZrM2L1h8w']"
      ]
     },
     "execution_count": 13,
     "metadata": {},
     "output_type": "execute_result"
    }
   ],
   "source": [
    "urls_youtube[0:2]"
   ]
  },
  {
   "cell_type": "code",
   "execution_count": 14,
   "id": "50fa8a83",
   "metadata": {},
   "outputs": [
    {
     "name": "stdout",
     "output_type": "stream",
     "text": [
      "[youtube] Extracting URL: https://www.youtube.com/watch?v=DhtuaIazLIw\n",
      "[youtube] DhtuaIazLIw: Downloading webpage\n",
      "[youtube] DhtuaIazLIw: Downloading ios player API JSON\n",
      "[youtube] DhtuaIazLIw: Downloading android player API JSON\n",
      "[youtube] DhtuaIazLIw: Downloading player 84314bef\n",
      "[youtube] DhtuaIazLIw: Downloading m3u8 information\n",
      "[info] DhtuaIazLIw: Downloading 1 format(s): 140\n",
      "[download] Destination: ..\\langchain\\docs\\lumen\\How Ortho-K Works & How It Slows Myopia.m4a\n",
      "[download] 100% of    1.29MiB in 00:00:00 at 5.86MiB/s   \n",
      "[FixupM4a] Correcting container of \"..\\langchain\\docs\\lumen\\How Ortho-K Works & How It Slows Myopia.m4a\"\n",
      "[ExtractAudio] Not converting audio ..\\langchain\\docs\\lumen\\How Ortho-K Works & How It Slows Myopia.m4a; file is already in target format m4a\n",
      "[youtube] Extracting URL: https://www.youtube.com/watch?v=UcZrM2L1h8w\n",
      "[youtube] UcZrM2L1h8w: Downloading webpage\n",
      "[youtube] UcZrM2L1h8w: Downloading ios player API JSON\n",
      "[youtube] UcZrM2L1h8w: Downloading android player API JSON\n",
      "[youtube] UcZrM2L1h8w: Downloading m3u8 information\n",
      "[info] UcZrM2L1h8w: Downloading 1 format(s): 140\n",
      "[download] Destination: ..\\langchain\\docs\\lumen\\How And Why Do Eyes Worsen？.m4a\n",
      "[download] 100% of    1.07MiB in 00:00:00 at 1.43MiB/s   \n",
      "[FixupM4a] Correcting container of \"..\\langchain\\docs\\lumen\\How And Why Do Eyes Worsen？.m4a\"\n",
      "[ExtractAudio] Not converting audio ..\\langchain\\docs\\lumen\\How And Why Do Eyes Worsen？.m4a; file is already in target format m4a\n",
      "Transcribing part 1!\n",
      "Transcribing part 1!\n"
     ]
    }
   ],
   "source": [
    "# url=\"https://www.youtube.com/watch?v=jGwO_UgTS7I\"\n",
    "save_dir=\"docs/youtube/\"\n",
    "loader = GenericLoader(\n",
    "    YoutubeAudioLoader(urls_youtube[0:2], path_lumen_dump),\n",
    "    OpenAIWhisperParser()\n",
    ")\n",
    "docs = loader.load()"
   ]
  },
  {
   "cell_type": "code",
   "execution_count": 15,
   "id": "6e2aa994",
   "metadata": {},
   "outputs": [
    {
     "data": {
      "text/plain": [
       "[Document(page_content=\"Here is a perfect eye that doesn't need a prescription, looking to the left. Light is focused by the cornea onto the inner surface of the eye, the retina. This is what is required to see clearly. For our young patients that become myopic, which leads to nearsightedness, their eyes elongate and the world now falls out of focus. Glasses or contacts are traditionally used to correct this blur. But, as myopic parents know, the first pair of glasses or contacts is never the last. When a child wears traditional glasses or contacts, it corrects their central vision. But it wasn't until recently that we learned two new things. First, we learned that traditional glasses and contacts overcorrect their peripheral vision. Second, we learned that the brain pays more attention to the peripheral vision to regulate how the eye grows. Since the brain is watching this region, it grows the eye to land itself back on the plane of clear vision. This cycle repeats itself over and over again into adulthood, leading to worsening vision and eye health.\", metadata={'source': '..\\\\langchain\\\\docs\\\\lumen\\\\How And Why Do Eyes Worsen？.m4a', 'chunk': 0}),\n",
       " Document(page_content=\"This is an eye looking straight up towards the ceiling, and this is an ortho-k lens placed on the eye. Ortho-k lenses are shaped differently than standard contacts. They take on what I call a volcanic shape. Ortho-k lenses work by creating negative pressure, also known as suction, in the region under these humps. The cells then migrate and multiply in this region, ever so slightly thickening the zone. The cornea then takes on the shape of the ortho-k retainer lens. Now here's why ortho-k is special. Let's go back to the picture that we sketched in a previous Why do eyes get worse video. Remember how traditional glasses and contacts over corrected your child's peripheral vision, which led to the accelerated growth of the eye? With ortho-k, there's a unique optical effect that occurs. First, it allows your child to maintain clear vision wherever they're looking. Optically, ortho-k lenses cause the peripheral vision to be focused inside of the eye instead of behind it. Because the peripheral vision is focused inside of the eye, it reduces the stimulus for accelerated growth. And without the stimulus for growth, the eye will retain a smaller shape and your child's eyes will remain healthier for life.\", metadata={'source': '..\\\\langchain\\\\docs\\\\lumen\\\\How Ortho-K Works & How It Slows Myopia.m4a', 'chunk': 0})]"
      ]
     },
     "execution_count": 15,
     "metadata": {},
     "output_type": "execute_result"
    }
   ],
   "source": [
    "docs"
   ]
  },
  {
   "cell_type": "code",
   "execution_count": 16,
   "id": "bfbe9200",
   "metadata": {},
   "outputs": [],
   "source": [
    "pickle_dump(file_to_pickle='docs', filename_pickle='urls_youtube_0-2', path_pickle_dump=path_lumen_dump)"
   ]
  },
  {
   "cell_type": "code",
   "execution_count": null,
   "id": "1a63a44f",
   "metadata": {},
   "outputs": [],
   "source": []
  },
  {
   "cell_type": "code",
   "execution_count": null,
   "metadata": {},
   "outputs": [],
   "source": []
  },
  {
   "cell_type": "code",
   "execution_count": null,
   "id": "ccea945b",
   "metadata": {},
   "outputs": [],
   "source": []
  },
  {
   "cell_type": "code",
   "execution_count": null,
   "metadata": {},
   "outputs": [],
   "source": []
  },
  {
   "cell_type": "code",
   "execution_count": null,
   "id": "dc6df54a",
   "metadata": {},
   "outputs": [],
   "source": [
    "lumen_urls_pdf = pickle_load(filename_pickle='lumen_urls_pdf', path_pickle_dump=path_lumen_dump)\n",
    "lumen_urls_pdf"
   ]
  },
  {
   "cell_type": "code",
   "execution_count": null,
   "id": "6ca31ebf",
   "metadata": {},
   "outputs": [],
   "source": [
    "import re\n",
    "\n",
    "def remove_newlines(text):\n",
    "  # r'\\n|\\s{2,}' finds both newlines (\\n) and multiple whitespaces (\\s{2,}) \n",
    "  # and replace them with \" \", .strip() strips leading and trailing spaces \n",
    "  return re.sub(r'\\n|\\s{2,}', ' ', text).strip()\n",
    "\n",
    "text = \"   \\n  This is a string  \\n  with   multiple \\n \\n \\nnewlines.  \"\n",
    "text_cleaned = remove_newlines(text)\n",
    "print(f'text: {text}')\n",
    "print('=========')\n",
    "print(f'text_cleaned: {text_cleaned}')"
   ]
  },
  {
   "cell_type": "code",
   "execution_count": null,
   "id": "97edc043",
   "metadata": {},
   "outputs": [],
   "source": [
    "import langchain  # Assuming langchain is installed\n",
    "from langchain_community.document_loaders import PyPDFLoader\n",
    "\n",
    "def convert_pdfs_to_langchain(pdf_urls):\n",
    "  \"\"\"\n",
    "  This function converts a list of PDF URLs to Langchain document objects\n",
    "  using PyPDFLoader for efficient processing.\n",
    "\n",
    "  Args:\n",
    "      pdf_urls: A list of URLs pointing to PDF files.\n",
    "\n",
    "  Returns:\n",
    "      A list of Langchain TextDocument objects.\n",
    "  \"\"\"\n",
    "  langchain_docs = []\n",
    "  for url in pdf_urls:\n",
    "    try:\n",
    "      # Use PyPDFLoader to read the PDF content locally (avoiding download)\n",
    "      loader = PyPDFLoader(url)\n",
    "      docs = loader.load()\n",
    "      for doc in docs:\n",
    "        # append only if page_content has text\n",
    "        if doc.page_content != \"\":\n",
    "          doc.page_content = remove_newlines(doc.page_content)  \n",
    "          langchain_docs.append(doc)\n",
    "\n",
    "        # langchain_docs.append(doc)\n",
    "    except Exception as e:\n",
    "      print(f\"Error processing PDF from {url}: {e}\")\n",
    "  return langchain_docs\n",
    "\n",
    "# Example usage (same as before)\n",
    "pdf_urls = \\\n",
    "  ['https://www.lumenoptometric.com/wp-content/uploads/2020/05/Intro_ScleralLenses.pdf',\n",
    "   'https://www.lumenoptometric.com/wp-content/uploads/2020/07/Lumen-HPA300-NP-Template.pdf']\n",
    "langchain_documents = convert_pdfs_to_langchain(pdf_urls)\n",
    "\n",
    "# You can now use the Langchain documents for further processing\n",
    "for doc in langchain_documents:\n",
    "  print(f\"Langchain document text: {doc.page_content[:100]}...\")\n"
   ]
  },
  {
   "cell_type": "code",
   "execution_count": null,
   "id": "2b18fb97",
   "metadata": {},
   "outputs": [],
   "source": [
    "docs_pdfs = convert_pdfs_to_langchain(lumen_urls_pdf)"
   ]
  },
  {
   "cell_type": "code",
   "execution_count": null,
   "id": "2ff7e7b0",
   "metadata": {},
   "outputs": [],
   "source": [
    "pickle_dump(file_to_pickle=docs_pdfs, filename_pickle='lumen_docs_pdfs', path_pickle_dump=path_lumen_docs)"
   ]
  }
 ],
 "metadata": {
  "kernelspec": {
   "display_name": "Python 3 (ipykernel)",
   "language": "python",
   "name": "python3"
  },
  "language_info": {
   "codemirror_mode": {
    "name": "ipython",
    "version": 3
   },
   "file_extension": ".py",
   "mimetype": "text/x-python",
   "name": "python",
   "nbconvert_exporter": "python",
   "pygments_lexer": "ipython3",
   "version": "3.10.5"
  }
 },
 "nbformat": 4,
 "nbformat_minor": 5
}
