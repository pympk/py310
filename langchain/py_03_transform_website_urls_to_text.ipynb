{
 "cells": [
  {
   "cell_type": "markdown",
   "id": "bafb515b",
   "metadata": {},
   "source": [
    "### Read Excel file, extract URLs from column A into a list, and treat first line as a header"
   ]
  },
  {
   "cell_type": "markdown",
   "id": "4cd597a0",
   "metadata": {},
   "source": [
    "https://colab.research.google.com/drive/1f_1HeD1mK_wXfjgvY4VGNFKSQBE5Imeh?usp=sharing#scrollTo=jm2nTHTtVTp0"
   ]
  },
  {
   "cell_type": "code",
   "execution_count": 36,
   "id": "1e930026",
   "metadata": {},
   "outputs": [],
   "source": [
    "import sys\n",
    "import pandas as pd\n",
    "sys.path.append('../..')\n",
    "from py3810.myUtils import pickle_dump, pickle_load\n",
    "\n",
    "# Set the path to the directory containing the Excel file\n",
    "path_lumen_dump = \"../langchain/docs/lumen/\"\n",
    "path_lumen_docs = path_lumen_dump + \"docs/\"\n",
    "\n",
    "lumen_urls = pickle_load(filename_pickle='lumen_urls', path_pickle_dump=path_lumen_dump)"
   ]
  },
  {
   "cell_type": "code",
   "execution_count": 30,
   "id": "a8b834d2",
   "metadata": {},
   "outputs": [],
   "source": [
    "from langchain.document_loaders import WebBaseLoader\n",
    "from langchain_community.document_transformers import Html2TextTransformer\n",
    "\n",
    "loader = WebBaseLoader(lumen_urls)\n",
    "docs_html = loader.load()\n",
    "html2text = Html2TextTransformer()\n",
    "docs_text = html2text.transform_documents(docs_html)"
   ]
  },
  {
   "cell_type": "code",
   "execution_count": 31,
   "id": "eea4d10d",
   "metadata": {},
   "outputs": [
    {
     "name": "stdout",
     "output_type": "stream",
     "text": [
      "text:    \n",
      "  This is a string  \n",
      "  with   multiple \n",
      " \n",
      " \n",
      "newlines.  \n",
      "=========\n",
      "text_cleaned: This is a string with multiple newlines.\n"
     ]
    }
   ],
   "source": [
    "import re\n",
    "\n",
    "def remove_newlines(text):\n",
    "  # r'\\n|\\s{2,}' finds both newlines (\\n) and multiple whitespaces (\\s{2,}) \n",
    "  # and replace them with \" \", .strip() strips leading and trailing spaces \n",
    "  return re.sub(r'\\n|\\s{2,}', ' ', text).strip()\n",
    "\n",
    "text = \"   \\n  This is a string  \\n  with   multiple \\n \\n \\nnewlines.  \"\n",
    "text_cleaned = remove_newlines(text)\n",
    "print(f'text: {text}')\n",
    "print('=========')\n",
    "print(f'text_cleaned: {text_cleaned}')"
   ]
  },
  {
   "cell_type": "code",
   "execution_count": null,
   "id": "a4ddec64",
   "metadata": {},
   "outputs": [],
   "source": [
    "text_lumen_url_footer = \\\n",
    "'SCHEDULE AN APPOINTMENTLumen Optometric 14 West Sierra Madre Blvd, \\\n",
    "Sierra Madre, CA 91024 (626) 921-0199 info@lumenoptometric.comServicesComprehensive \\\n",
    "Eye Exams Contact Lens Exams Orthokeratology Neurolens Therapy Scleral Lenses / Keratoconus \\\n",
    "Quick LinksHome About Us Sitemap Hours Of OperationTuesday9:45 am - 5:30 \\\n",
    "pmWednesday9:45 am - 5:30 pmThursday9:45 am - 1:30 pmFriday9:45 am - 5:30 \\\n",
    "pmSaturday9:45 am - 5:30 pmCopyright © 2020 Lumen Optometric. All Rights Reserved.\\\n",
    "X[contact-form-7 404 \"Not Found\"]Top'\n",
    "\n",
    "for i, doc in enumerate(docs_text):\n",
    "  doc.page_content = remove_newlines(doc.page_content)\n",
    "  if text_lumen_url_footer in doc.page_content:\n",
    "    doc.page_content = doc.page_content.replace(text_lumen_url_footer, \"\")\n",
    "    print(f'docs_text[{i}]: remove text_lumen_url_footer')\n",
    "    doc.page_content = remove_newlines(doc.page_content)"
   ]
  },
  {
   "cell_type": "markdown",
   "id": "a4bd6c5d",
   "metadata": {},
   "source": [
    "https://platform.openai.com/docs/tutorials/web-qa-embeddings"
   ]
  },
  {
   "cell_type": "code",
   "execution_count": 33,
   "id": "c2d88706",
   "metadata": {},
   "outputs": [],
   "source": [
    "from langchain.docstore.document import Document"
   ]
  },
  {
   "cell_type": "code",
   "execution_count": 34,
   "id": "91ccaaf9",
   "metadata": {},
   "outputs": [],
   "source": [
    "lumen_office_info = \\\n",
    "  \"Lumen Optometric address is located at 14 West Sierra Madre Blvd, Sierra Madre, CA 91024. \\\n",
    "   Lumen Optometric office is located at 14 West Sierra Madre Blvd, Sierra Madre, CA 91024. \\\n",
    "   Lumen Optometric location is 14 West Sierra Madre Blvd, Sierra Madre, CA 91024. \\\n",
    "   Lumen Optometric phone numbers are (626) 921-0199, (626) 507-2724. \\\n",
    "   Lumen Optometric office hours are Tuesday, Wednesday, Friday, and Saturday from 9:45 am to 5:30 pm, \\\n",
    "   and Thursday from 9:45 am to 1:30 pm. \\\n",
    "   Lumen Optometric email is info@lumenoptometric.com \\\n",
    "   Lumen Optometric website url is www.lumenoptometric.com\"\n",
    "\n",
    "doc_office_info = [Document(\n",
    "  page_content=lumen_office_info,\n",
    "  metadata={\"description\": \"info, address, office location, phone number, office hours, email, url\"}\n",
    "  )]"
   ]
  },
  {
   "cell_type": "code",
   "execution_count": 35,
   "id": "6afbca70",
   "metadata": {},
   "outputs": [],
   "source": [
    "docs_text = doc_office_info + docs_text"
   ]
  },
  {
   "cell_type": "code",
   "execution_count": 38,
   "id": "b0f47005",
   "metadata": {},
   "outputs": [],
   "source": [
    "pickle_dump(file_to_pickle=docs_text, filename_pickle='lumen_docs_website', path_pickle_dump=path_lumen_docs)"
   ]
  },
  {
   "cell_type": "code",
   "execution_count": 37,
   "id": "f5d61205",
   "metadata": {},
   "outputs": [],
   "source": [
    "# docs = pickle_load(filename_pickle='lumen_docs_website', path_pickle_dump=path_lumen_docs)"
   ]
  }
 ],
 "metadata": {
  "kernelspec": {
   "display_name": "Python 3 (ipykernel)",
   "language": "python",
   "name": "python3"
  },
  "language_info": {
   "codemirror_mode": {
    "name": "ipython",
    "version": 3
   },
   "file_extension": ".py",
   "mimetype": "text/x-python",
   "name": "python",
   "nbconvert_exporter": "python",
   "pygments_lexer": "ipython3",
   "version": "3.10.5"
  }
 },
 "nbformat": 4,
 "nbformat_minor": 5
}
