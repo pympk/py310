{
 "cells": [
  {
   "cell_type": "markdown",
   "id": "bafb515b",
   "metadata": {},
   "source": [
    "### Write links in Excel file to a list\n",
    "- Read Excel file\n",
    "- Treat first line as a header\n",
    "- Extract the links in column A into a list\n",
    "- Pickle dump the list, e.g. 'lumen_urls'"
   ]
  },
  {
   "cell_type": "code",
   "execution_count": 7,
   "id": "c6a14ce3",
   "metadata": {},
   "outputs": [
    {
     "name": "stdout",
     "output_type": "stream",
     "text": [
      "len(lumen_urls): 178\n",
      "['https://www.lumenoptometric.com/', 'https://www.lumenoptometric.com/about-us/', 'https://www.lumenoptometric.com/about-us/appointments-forms/', 'https://www.lumenoptometric.com/about-us/gallery/', 'https://www.lumenoptometric.com/about-us/office/', 'https://www.lumenoptometric.com/about-us/testimonials/', 'https://www.lumenoptometric.com/blog/', 'https://www.lumenoptometric.com/blog/amd-awareness-month/3-big-amd-myths-debunked/', 'https://www.lumenoptometric.com/blog/covid-19/contact-lens-wear-during-covid-19/', 'https://www.lumenoptometric.com/blog/covid-19/how-to-stop-masks-from-fogging-glasses/', 'https://www.lumenoptometric.com/blog/eye-care/10-essential-rules-for-contact-lens-wearers/', 'https://www.lumenoptometric.com/blog/eye-care/3-reasons-why-kids-with-myopia-need-to-spend-more-time-outdoors/', 'https://www.lumenoptometric.com/blog/eye-care/3-workplace-eye-wellness-tips-for-employees/', 'https://www.lumenoptometric.com/blog/eye-care/4-effective-methods-for-limiting-your-childs-screen-time/', 'https://www.lumenoptometric.com/blog/eye-care/4-signs-your-child-is-ready-for-contact-lenses/', 'https://www.lumenoptometric.com/blog/eye-care/4-ways-to-prevent-diabetic-eye-disease/', 'https://www.lumenoptometric.com/blog/eye-care/5-best-things-you-can-do-for-your-eyes/', 'https://www.lumenoptometric.com/blog/eye-care/5-daily-habits-that-can-benefit-your-eyes-and-vision/', 'https://www.lumenoptometric.com/blog/eye-care/5-facts-about-myopia-you-probably-didnt-know/', 'https://www.lumenoptometric.com/blog/eye-care/5-ways-to-get-your-kids-outdoors-this-winter-and-save-their-vision/', 'https://www.lumenoptometric.com/blog/eye-care/a-brief-overview-of-childrens-eye-conditions/', 'https://www.lumenoptometric.com/blog/eye-care/a-quick-guide-to-contact-lens-solutions/', 'https://www.lumenoptometric.com/blog/eye-care/a-quick-guide-to-eyeglass-frame-materials/', 'https://www.lumenoptometric.com/blog/eye-care/adjusting-to-your-new-multifocal-lenses/', 'https://www.lumenoptometric.com/blog/eye-care/answering-common-questions-about-dilated-eye-exams/', 'https://www.lumenoptometric.com/blog/eye-care/answering-some-frequently-asked-questions-about-neurolens/', 'https://www.lumenoptometric.com/blog/eye-care/are-myopia-management-contact-lenses-safe-for-children/', 'https://www.lumenoptometric.com/blog/eye-care/are-online-eye-tests-reliable-and-when-are-they-useful/', 'https://www.lumenoptometric.com/blog/eye-care/basic-facts-about-neurolenses/', 'https://www.lumenoptometric.com/blog/eye-care/blocked-tear-ducts-symptoms-causes-and-solutions/', 'https://www.lumenoptometric.com/blog/eye-care/can-blue-light-glasses-protect-kids-from-digital-eye-strain/', 'https://www.lumenoptometric.com/blog/eye-care/can-myopia-worsen-despite-corrected-visual-habits/', 'https://www.lumenoptometric.com/blog/eye-care/can-poor-sleeping-habits-affect-your-eyes/', 'https://www.lumenoptometric.com/blog/eye-care/common-causes-of-workplace-eye-injuries-and-disease/', 'https://www.lumenoptometric.com/blog/eye-care/computer-vision-syndrome-possible-solutions-and-corrections/', 'https://www.lumenoptometric.com/blog/eye-care/contact-lens-fitting-what-to-expect-during-your-session/', 'https://www.lumenoptometric.com/blog/eye-care/contact-lenses-and-eye-exams-what-you-need-to-know/', 'https://www.lumenoptometric.com/blog/eye-care/contact-lenses-what-happens-when-you-overwear-them/', 'https://www.lumenoptometric.com/blog/eye-care/debunking-5-popular-myths-about-cataracts/', 'https://www.lumenoptometric.com/blog/eye-care/debunking-common-myths-about-vision-and-eye-health/', 'https://www.lumenoptometric.com/blog/eye-care/do-children-and-teenagers-sleep-habits-affect-their-vision/', 'https://www.lumenoptometric.com/blog/eye-care/do-you-need-a-contact-lens-follow-up-appointment/', 'https://www.lumenoptometric.com/blog/eye-care/dry-eye-vs-seasonal-allergies-whats-affecting-your-eyes/', 'https://www.lumenoptometric.com/blog/eye-care/elevate-your-performance-the-impact-of-sports-eyewear/', 'https://www.lumenoptometric.com/blog/eye-care/essential-first-aid-tips-for-childrens-eye-injuries/', 'https://www.lumenoptometric.com/blog/eye-care/essential-things-you-should-know-about-glaucoma/', 'https://www.lumenoptometric.com/blog/eye-care/essential-tips-for-scleral-lens-wearers/', 'https://www.lumenoptometric.com/blog/eye-care/examining-the-link-between-dry-eye-and-migraines/', 'https://www.lumenoptometric.com/blog/eye-care/eye-allergy-vs-eye-infection/', 'https://www.lumenoptometric.com/blog/eye-care/eye-exams-why-they-matter-even-if-you-have-20-20-vision/', 'https://www.lumenoptometric.com/blog/eye-care/eye-symptoms-that-patients-should-never-ignore/', 'https://www.lumenoptometric.com/blog/eye-care/eyeglass-maintenance-tips-to-remember/', 'https://www.lumenoptometric.com/blog/eye-care/eyeglasses-vs-contact-lenses-making-the-right-choice/', 'https://www.lumenoptometric.com/blog/eye-care/eyesight-vision-and-their-differences/', 'https://www.lumenoptometric.com/blog/eye-care/fda-approved-misight-contact-lenses-do-wonders-in-reducing-myopia/', 'https://www.lumenoptometric.com/blog/eye-care/global-myopia-awareness-coalition-gmac-launches-little-kid-license-myopia-awareness-campaign/', 'https://www.lumenoptometric.com/blog/eye-care/halloween-eye-safety-month/', 'https://www.lumenoptometric.com/blog/eye-care/high-index-lenses-features-and-benefits/', 'https://www.lumenoptometric.com/blog/eye-care/how-can-vision-problems-affect-learning-in-children/', 'https://www.lumenoptometric.com/blog/eye-care/how-do-you-put-in-and-remove-your-contact-lenses/', 'https://www.lumenoptometric.com/blog/eye-care/how-does-alcohol-affect-your-eye-health-and-vision/', 'https://www.lumenoptometric.com/blog/eye-care/how-eating-a-healthy-diet-can-reduce-the-risk-of-cataracts/', 'https://www.lumenoptometric.com/blog/eye-care/how-long-does-my-child-need-myopia-management/', 'https://www.lumenoptometric.com/blog/eye-care/how-often-should-you-update-your-eye-prescription/', 'https://www.lumenoptometric.com/blog/eye-care/how-these-4-types-of-refractive-errors-are-corrected/', 'https://www.lumenoptometric.com/blog/eye-care/how-to-drive-safely-at-night-top-tips-from-optometrists/', 'https://www.lumenoptometric.com/blog/eye-care/how-to-keep-your-eyes-safe-while-playing-sports/', 'https://www.lumenoptometric.com/blog/eye-care/how-to-make-contact-lenses-work-for-an-active-lifestyle/', 'https://www.lumenoptometric.com/blog/eye-care/how-to-manage-dry-eye-syndrome/', 'https://www.lumenoptometric.com/blog/eye-care/how-to-take-care-of-your-aging-eyes/', 'https://www.lumenoptometric.com/blog/eye-care/how-you-can-help-your-child-excel-in-school-this-year/', 'https://www.lumenoptometric.com/blog/eye-care/is-it-possible-to-prevent-glaucoma/', 'https://www.lumenoptometric.com/blog/eye-care/is-it-safe-to-wear-contact-lenses-amid-covid-19/', 'https://www.lumenoptometric.com/blog/eye-care/myopia-control-and-prevention-3-different-types-of-myopia-control-explained/', 'https://www.lumenoptometric.com/blog/eye-care/optometrist-vs-ophthalmologist-who-should-you-go-to/', 'https://www.lumenoptometric.com/blog/eye-care/pediatricians-and-ophthalmologists-agree-its-best-to-proactively-treat-your-myopic-children/', 'https://www.lumenoptometric.com/blog/eye-care/promoting-eye-wellness-in-the-workplace/', 'https://www.lumenoptometric.com/blog/eye-care/recent-media-coverage-about-childhood-myopia/', 'https://www.lumenoptometric.com/blog/eye-care/recognizing-signs-of-nearsightedness-in-your-child/', 'https://www.lumenoptometric.com/blog/eye-care/safe-sun-exposure-why-its-great-for-your-kids-eyes/', 'https://www.lumenoptometric.com/blog/eye-care/scratched-cornea-causes-symptoms-and-treatment/', 'https://www.lumenoptometric.com/blog/eye-care/senior-eye-care-why-it-matters/', 'https://www.lumenoptometric.com/blog/eye-care/should-you-go-for-daily-or-monthly-contact-lenses/', 'https://www.lumenoptometric.com/blog/eye-care/signs-that-your-eyes-have-been-overexposed-to-the-sun/', 'https://www.lumenoptometric.com/blog/eye-care/symptoms-of-age-related-macular-degeneration/', 'https://www.lumenoptometric.com/blog/eye-care/the-effect-of-menopause-on-eye-health/', 'https://www.lumenoptometric.com/blog/eye-care/the-four-best-ways-to-treat-and-manage-myopia/', 'https://www.lumenoptometric.com/blog/eye-care/the-impact-of-autoimmune-disorders-on-the-eyes-and-vision/', 'https://www.lumenoptometric.com/blog/eye-care/the-impact-of-wearing-the-wrong-prescription-on-your-eyes/', 'https://www.lumenoptometric.com/blog/eye-care/the-importance-of-post-concussion-eye-exams/', 'https://www.lumenoptometric.com/blog/eye-care/the-importance-of-yearly-eye-tests-for-children/', 'https://www.lumenoptometric.com/blog/eye-care/the-link-between-dry-eyes-and-diabetes/', 'https://www.lumenoptometric.com/blog/eye-care/the-manufacturing-process-of-contact-lenses/', 'https://www.lumenoptometric.com/blog/eye-care/the-pros-and-cons-of-progressive-lenses/', 'https://www.lumenoptometric.com/blog/eye-care/things-to-consider-when-choosing-a-pediatric-optometrist/', 'https://www.lumenoptometric.com/blog/eye-care/tips-for-preventing-breakouts-from-wearing-eyeglasses/', 'https://www.lumenoptometric.com/blog/eye-care/tips-on-taking-a-proactive-approach-to-a-childs-eye-health/', 'https://www.lumenoptometric.com/blog/eye-care/tips-to-protect-your-eyes-from-uv-damage/', 'https://www.lumenoptometric.com/blog/eye-care/top-myopia-treatment-options-for-children/', 'https://www.lumenoptometric.com/blog/eye-care/types-of-cataracts-and-how-they-are-diagnosed/', 'https://www.lumenoptometric.com/blog/eye-care/types-of-people-who-need-uv-eye-protection/', 'https://www.lumenoptometric.com/blog/eye-care/understanding-how-prescription-lenses-are-made/', 'https://www.lumenoptometric.com/blog/eye-care/vision-and-headaches-are-they-linked-to-each-other/', 'https://www.lumenoptometric.com/blog/eye-care/vision-changes-101-essentials-you-need-to-know/', 'https://www.lumenoptometric.com/blog/eye-care/visual-migraine-vs-ocular-migraine-whats-the-difference/', 'https://www.lumenoptometric.com/blog/eye-care/vr-headsets-are-they-bad-for-the-eyes/', 'https://www.lumenoptometric.com/blog/eye-care/watery-eyes-what-causes-them-and-when-to-see-a-doctor/', 'https://www.lumenoptometric.com/blog/eye-care/what-are-myopia-treatment-benefits/', 'https://www.lumenoptometric.com/blog/eye-care/what-are-toric-lenses-for/', 'https://www.lumenoptometric.com/blog/eye-care/what-brides-and-grooms-should-know-before-wearing-glasses/', 'https://www.lumenoptometric.com/blog/eye-care/what-can-make-contact-lens-fitting-harder/', 'https://www.lumenoptometric.com/blog/eye-care/what-causes-myopia/', 'https://www.lumenoptometric.com/blog/eye-care/what-does-good-eye-safety-at-home-look-like/', 'https://www.lumenoptometric.com/blog/eye-care/what-should-you-ask-your-doctor-during-an-eye-exam/', 'https://www.lumenoptometric.com/blog/eye-care/what-you-need-to-know-about-myopia-control-in-children/', 'https://www.lumenoptometric.com/blog/eye-care/what-you-need-to-know-about-sports-eye-safety/', 'https://www.lumenoptometric.com/blog/eye-care/what-you-should-know-about-trigeminal-dysphoria/', 'https://www.lumenoptometric.com/blog/eye-care/why-are-my-eyes-so-dry/', 'https://www.lumenoptometric.com/blog/eye-care/why-are-your-new-eyeglasses-uncomfortable-to-wear/', 'https://www.lumenoptometric.com/blog/eye-care/why-do-aging-eyes-need-more-light/', 'https://www.lumenoptometric.com/blog/eye-care/your-vision-and-eye-health-resolutions-for-2022/', 'https://www.lumenoptometric.com/blog/eye-health/beyond-age-can-children-and-young-adults-get-cataracts/', 'https://www.lumenoptometric.com/blog/eye-health/eye-vitamins-can-they-improve-vision/', 'https://www.lumenoptometric.com/blog/eye-health/eyes-at-ease-5-effective-exercises-to-prevent-eye-strain/', 'https://www.lumenoptometric.com/blog/eye-health/factors-that-can-impact-your-vision-and-eye-health-in-winter/', 'https://www.lumenoptometric.com/blog/eye-health/halloween-eye-health-and-safety-month-protect-their-vision/', 'https://www.lumenoptometric.com/blog/eye-health/how-your-diet-can-impact-age-related-macular-degeneration/', 'https://www.lumenoptometric.com/blog/eye-health/whats-the-ideal-schedule-for-pediatric-eye-exams/', 'https://www.lumenoptometric.com/blog/eye-health/why-you-should-protect-your-child-from-myopia/', 'https://www.lumenoptometric.com/blog/eye-safety/how-to-choose-the-right-sports-eye-safety-gear/', 'https://www.lumenoptometric.com/blog/eyes/is-myopia-hereditary/', 'https://www.lumenoptometric.com/blog/eyes/what-is-nearsightedness-and-how-is-it-treated/', 'https://www.lumenoptometric.com/blog/information/3-facts-about-myopia-and-what-you-can-do-for-your-child/', 'https://www.lumenoptometric.com/blog/information/3-facts-about-myopia-you-should-know/', 'https://www.lumenoptometric.com/blog/information/5-spooky-things-you-didnt-know-about-myopia/', 'https://www.lumenoptometric.com/blog/information/6-practical-ways-to-prevent-myopia-from-worsening-in-children/', 'https://www.lumenoptometric.com/blog/information/a-closer-look-at-eye-damaging-habits/', 'https://www.lumenoptometric.com/blog/information/all-you-need-to-know-about-myopia-control/', 'https://www.lumenoptometric.com/blog/information/can-myopia-be-prevented/', 'https://www.lumenoptometric.com/blog/information/childhood-myopia-what-it-is-and-what-you-can-do-to-help-your-child/', 'https://www.lumenoptometric.com/blog/information/childrens-eye-health-and-safety-month-the-importance-of-early-detection-and-intervention-for-kids-vision/', 'https://www.lumenoptometric.com/blog/information/do-your-eyes-grow/', 'https://www.lumenoptometric.com/blog/information/does-my-child-have-myopia-myopia-symptoms-and-how-to-treat/', 'https://www.lumenoptometric.com/blog/information/does-myopia-get-worse-with-age/', 'https://www.lumenoptometric.com/blog/information/myopia-nearsightedness-a-pervasive-disease/', 'https://www.lumenoptometric.com/blog/information/ortho-k-5-important-faqs/', 'https://www.lumenoptometric.com/blog/information/protect-your-childs-eyesight-by-encouraging-them-to-play-outside/', 'https://www.lumenoptometric.com/blog/information/reasons-why-its-helpful-to-get-your-annual-eye-exam-when-school-starts/', 'https://www.lumenoptometric.com/blog/information/recognizing-the-signs-symptoms-of-myopia-in-children/', 'https://www.lumenoptometric.com/blog/information/simple-and-effective-eye-health-tips-for-young-adults/', 'https://www.lumenoptometric.com/blog/information/understanding-myopia-and-astigmatism-a-comprehensive-guide-for-mothers/', 'https://www.lumenoptometric.com/blog/information/visual-acuity-what-you-need-to-know-about-20-20-vision/', 'https://www.lumenoptometric.com/blog/information/what-is-the-difference-between-myopia-and-hyperopia/', 'https://www.lumenoptometric.com/blog/office-videos/video-tour-post-covid-safety-precautions/', 'https://www.lumenoptometric.com/blog/vision-changes/how-pregnancy-affects-your-vision/', 'https://www.lumenoptometric.com/comprehensive-eye-exams/', 'https://www.lumenoptometric.com/comprehensive-eye-exams/contact-lenses/', 'https://www.lumenoptometric.com/comprehensive-eye-exams/dry-eye-treatment/', 'https://www.lumenoptometric.com/contact-us/', 'https://www.lumenoptometric.com/covid-19-protocols/', 'https://www.lumenoptometric.com/neurolens-therapy/', 'https://www.lumenoptometric.com/orthokeratology/', 'https://www.lumenoptometric.com/orthokeratology/adult-vs-childrens-designs/', 'https://www.lumenoptometric.com/orthokeratology/candidacy/', 'https://www.lumenoptometric.com/orthokeratology/frequently-asked-questions/', 'https://www.lumenoptometric.com/orthokeratology/hows-ortho-k-work/', 'https://www.lumenoptometric.com/orthokeratology/is-ortho-k-safe/', 'https://www.lumenoptometric.com/orthokeratology/our-technology/', 'https://www.lumenoptometric.com/poseyedon-lens/', 'https://www.lumenoptometric.com/scleral-lenses/', 'https://www.lumenoptometric.com/sitemap/', 'https://www.lumenoptometric.com/treehouse-eyes-myopia-management-for-children/', 'https://www.lumenoptometric.com/treehouse-eyes-myopia-management-for-children/is-myopia-unhealthy/', 'https://www.lumenoptometric.com/treehouse-eyes-myopia-management-for-children/myopia-treatments/', 'https://www.lumenoptometric.com/treehouse-eyes-myopia-management-for-children/nature-versus-nurture/', 'https://www.lumenoptometric.com/treehouse-eyes-myopia-management-for-children/our-technology/', 'https://www.lumenoptometric.com/treehouse-eyes-myopia-management-for-children/what-is-myopia/', 'https://www.lumenoptometric.com/videos/']\n"
     ]
    }
   ],
   "source": [
    "import pandas as pd\n",
    "\n",
    "\n",
    "# Set the path to the directory containing the Excel file\n",
    "path_lumen_dump = \"../langchain/docs/lumen/\"\n",
    "path_lumen_docs = path_lumen_dump + \"docs/\"\n",
    "excel_filename = \"lumen_sitemapXML_2024-06-20.xlsx\"\n",
    "\n",
    "# Define a helper function to flatten a nested list\n",
    "def fatten_list(nested_list):\n",
    "    return [item for sublist in nested_list for item in sublist]\n",
    "\n",
    "# Construct the file path of the Excel file\n",
    "file = path_lumen_docs + excel_filename\n",
    "\n",
    "# Extract the data from Excel file column A, first line as a header\n",
    "df = pd.read_excel(file, usecols='A', header=0)\n",
    "\n",
    "# Convert the data frame to a list\n",
    "column_A = df.values.tolist()\n",
    "\n",
    "# Create a list of unique URLs by flattening the list and removing duplicates\n",
    "lumen_urls = sorted(fatten_list(column_A))\n",
    "\n",
    "# Print the length of the lumen_urls list\n",
    "print(f'len(lumen_urls): {len(lumen_urls)}')\n",
    "\n",
    "# Print the lumen_urls list\n",
    "print(lumen_urls)"
   ]
  },
  {
   "cell_type": "code",
   "execution_count": 8,
   "id": "96fcbac0",
   "metadata": {},
   "outputs": [],
   "source": [
    "import sys\n",
    "sys.path.append('../..')\n",
    "from py3810.myUtils import pickle_dump, pickle_load"
   ]
  },
  {
   "cell_type": "code",
   "execution_count": 9,
   "id": "a5cc30bc",
   "metadata": {},
   "outputs": [],
   "source": [
    "pickle_dump(file_to_pickle=lumen_urls, filename_pickle='lumen_urls', path_pickle_dump=path_lumen_dump)"
   ]
  }
 ],
 "metadata": {
  "kernelspec": {
   "display_name": "Python 3 (ipykernel)",
   "language": "python",
   "name": "python3"
  },
  "language_info": {
   "codemirror_mode": {
    "name": "ipython",
    "version": 3
   },
   "file_extension": ".py",
   "mimetype": "text/x-python",
   "name": "python",
   "nbconvert_exporter": "python",
   "pygments_lexer": "ipython3",
   "version": "3.10.5"
  }
 },
 "nbformat": 4,
 "nbformat_minor": 5
}
