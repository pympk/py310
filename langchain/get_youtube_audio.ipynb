{
 "cells": [
  {
   "cell_type": "code",
   "execution_count": 10,
   "id": "3a3a08a9",
   "metadata": {},
   "outputs": [],
   "source": [
    "from langchain.document_loaders.blob_loaders.youtube_audio import YoutubeAudioLoader\n",
    "from langchain.document_loaders.generic import GenericLoader\n",
    "\n",
    "path_yt_audios_dump = '../yt_audios/'"
   ]
  },
  {
   "cell_type": "code",
   "execution_count": 8,
   "id": "bdd8c29d",
   "metadata": {},
   "outputs": [],
   "source": [
    "urls_youtube = ['https://www.youtube.com/watch?v=YSsUKckE5V0','https://www.youtube.com/watch?v=lS6fZA6zGAo']"
   ]
  },
  {
   "cell_type": "code",
   "execution_count": 12,
   "id": "9799f437",
   "metadata": {},
   "outputs": [],
   "source": [
    "yt_audio = YoutubeAudioLoader([url[:1]], path_yt_audios_dump)"
   ]
  },
  {
   "cell_type": "code",
   "execution_count": 13,
   "id": "1a0e3c0f",
   "metadata": {},
   "outputs": [
    {
     "data": {
      "text/plain": [
       "<langchain_community.document_loaders.blob_loaders.youtube_audio.YoutubeAudioLoader at 0x2c62038da80>"
      ]
     },
     "execution_count": 13,
     "metadata": {},
     "output_type": "execute_result"
    }
   ],
   "source": [
    "yt_audio"
   ]
  },
  {
   "cell_type": "code",
   "execution_count": 11,
   "id": "8c0fbf2d",
   "metadata": {},
   "outputs": [
    {
     "name": "stdout",
     "output_type": "stream",
     "text": [
      "['https://www.youtube.com/watch?v=YSsUKckE5V0']\n"
     ]
    },
    {
     "ename": "TypeError",
     "evalue": "GenericLoader.__init__() missing 1 required positional argument: 'blob_parser'",
     "output_type": "error",
     "traceback": [
      "\u001b[1;31m---------------------------------------------------------------------------\u001b[0m",
      "\u001b[1;31mTypeError\u001b[0m                                 Traceback (most recent call last)",
      "Cell \u001b[1;32mIn[11], line 7\u001b[0m\n\u001b[0;32m      3\u001b[0m \u001b[38;5;28mprint\u001b[39m([url])\n\u001b[0;32m      4\u001b[0m \u001b[38;5;66;03m# clearing temp directory ensure url will be the only file\u001b[39;00m\n\u001b[0;32m      5\u001b[0m \u001b[38;5;66;03m# in the directory, and metadata source is the url\u001b[39;00m\n\u001b[0;32m      6\u001b[0m \u001b[38;5;66;03m# clear_temp_directory(path_temp_directory)\u001b[39;00m\n\u001b[1;32m----> 7\u001b[0m loader \u001b[38;5;241m=\u001b[39m \u001b[43mGenericLoader\u001b[49m\u001b[43m(\u001b[49m\n\u001b[0;32m      8\u001b[0m \u001b[43m  \u001b[49m\u001b[43mYoutubeAudioLoader\u001b[49m\u001b[43m(\u001b[49m\u001b[43m[\u001b[49m\u001b[43murl\u001b[49m\u001b[43m]\u001b[49m\u001b[43m,\u001b[49m\u001b[43m \u001b[49m\u001b[43mpath_yt_audios_dump\u001b[49m\u001b[43m)\u001b[49m\u001b[43m,\u001b[49m\n\u001b[0;32m      9\u001b[0m \u001b[43m  \u001b[49m\u001b[38;5;66;43;03m# OpenAIWhisperParser()\u001b[39;49;00m\n\u001b[0;32m     10\u001b[0m \u001b[43m\u001b[49m\u001b[43m)\u001b[49m\n\u001b[0;32m     12\u001b[0m audio \u001b[38;5;241m=\u001b[39m loader\u001b[38;5;241m.\u001b[39mload()\n",
      "\u001b[1;31mTypeError\u001b[0m: GenericLoader.__init__() missing 1 required positional argument: 'blob_parser'"
     ]
    }
   ],
   "source": [
    "audios = []\n",
    "for url in urls_youtube:\n",
    "  print([url])\n",
    "  # clearing temp directory ensure url will be the only file\n",
    "  # in the directory, and metadata source is the url\n",
    "  # clear_temp_directory(path_temp_directory)\n",
    "  loader = GenericLoader(\n",
    "    YoutubeAudioLoader([url], path_yt_audios_dump),\n",
    "    # OpenAIWhisperParser()\n",
    "  )\n",
    "\n",
    "  audio = loader.load()"
   ]
  },
  {
   "cell_type": "code",
   "execution_count": null,
   "id": "ca30e380",
   "metadata": {},
   "outputs": [],
   "source": [
    "docs = []\n",
    "for url in urls_youtube:\n",
    "  print([url])\n",
    "  # clearing temp directory ensure url will be the only file\n",
    "  # in the directory, and metadata source is the url\n",
    "  clear_temp_directory(path_temp_directory)\n",
    "  loader = GenericLoader(\n",
    "    YoutubeAudioLoader([url], path_temp_directory),\n",
    "    OpenAIWhisperParser()\n",
    "  )\n",
    "  doc = loader.load()\n",
    "  doc[0].metadata['source'] = url\n",
    "  docs.extend(doc)  # copy list content of _doc to list _docs"
   ]
  },
  {
   "cell_type": "code",
   "execution_count": null,
   "id": "6474efcb",
   "metadata": {},
   "outputs": [],
   "source": []
  },
  {
   "cell_type": "code",
   "execution_count": null,
   "id": "71553015",
   "metadata": {},
   "outputs": [],
   "source": []
  },
  {
   "cell_type": "code",
   "execution_count": null,
   "id": "28d7c6bc",
   "metadata": {},
   "outputs": [],
   "source": [
    "import os\n",
    "import openai\n",
    "import sys\n",
    "sys.path.append('../..')\n",
    "\n",
    "from py3810.myUtils import pickle_dump, pickle_load\n",
    "\n",
    "# Set the path to the directory containing the Excel file\n",
    "path_lumen_dump = \"../langchain/docs/lumen/\"\n",
    "path_lumen_docs = path_lumen_dump + \"docs/\"\n",
    "path_save_audios = path_lumen_docs + \"youtube_audio/\"\n",
    "\n",
    "from dotenv import load_dotenv, find_dotenv\n",
    "_ = load_dotenv(find_dotenv('.env\\my_api_key.env')) # read local .env file\n",
    "\n",
    "SECRET_KEY1 = os.environ.get(\"SECRET_KEY\")\n",
    "DATABASE_PASSWORD2 = os.environ.get(\"DATABASE_PASSWORD\")\n",
    "print(f\"SECRET_KEY = {SECRET_KEY1}\")\n",
    "print(f\"DATABASE_PASSWORD = {DATABASE_PASSWORD2}\")\n",
    "\n",
    "openai.api_key  = os.environ['OPENAI_API_KEY']"
   ]
  },
  {
   "cell_type": "code",
   "execution_count": null,
   "id": "2e6b2a99",
   "metadata": {},
   "outputs": [],
   "source": [
    "from langchain.document_loaders.generic import GenericLoader\n",
    "from langchain.document_loaders.parsers import OpenAIWhisperParser\n",
    "from langchain.document_loaders.blob_loaders.youtube_audio import YoutubeAudioLoader"
   ]
  },
  {
   "cell_type": "code",
   "execution_count": null,
   "id": "f2231f2a",
   "metadata": {},
   "outputs": [],
   "source": [
    "urls_youtube = pickle_load(path_pickle_dump=path_lumen_dump, filename_pickle='lumen_urls_youtube')\n",
    "print(f'len(urls_youtube): {len(urls_youtube)}')\n",
    "urls_youtube"
   ]
  },
  {
   "cell_type": "code",
   "execution_count": null,
   "id": "8bf9d311",
   "metadata": {},
   "outputs": [],
   "source": [
    "from pytube import YouTube\n",
    "\n",
    "dict_yt = {}\n",
    "\n",
    "for url in urls_youtube:\n",
    "  yt = YouTube(url)\n",
    "  title = yt.title\n",
    "  dict_yt[url]= title \n",
    "\n",
    "dict_yt"
   ]
  },
  {
   "cell_type": "code",
   "execution_count": null,
   "id": "68661363",
   "metadata": {},
   "outputs": [],
   "source": [
    "dict_yt['https://www.youtube.com/watch?v=yVF2oczrJ8w']"
   ]
  },
  {
   "cell_type": "code",
   "execution_count": null,
   "id": "4fed3d6b",
   "metadata": {},
   "outputs": [],
   "source": [
    "import os\n",
    "\n",
    "# Create a temporary directory\n",
    "path_temp_directory = path_save_audios+'_trash/'\n",
    "\n",
    "# Check if directory exists (optional)\n",
    "if not os.path.exists(path_temp_directory):\n",
    "  # Create the directory\n",
    "  os.makedirs(path_temp_directory)\n",
    "  print(f\"Directory '{path_temp_directory}' created successfully!\")\n",
    "else:\n",
    "  print(f\"Directory '{path_temp_directory}' already exists.\")"
   ]
  },
  {
   "cell_type": "code",
   "execution_count": null,
   "id": "5036a0a4",
   "metadata": {},
   "outputs": [],
   "source": [
    "import os\n",
    "\n",
    "def clear_temp_directory(path_temp_directory):\n",
    "  \"\"\"\n",
    "  Removes all files from a specified temporary directory.\n",
    "\n",
    "  Args:\n",
    "      path_temp_directory (str): The path to the temporary directory.\n",
    "\n",
    "  Raises:\n",
    "      OSError: If an error occurs while removing a file.\n",
    "  \"\"\"\n",
    "\n",
    "  for filename in os.listdir(path_temp_directory):\n",
    "    file_path = os.path.join(path_temp_directory, filename)\n",
    "    try:\n",
    "      os.remove(file_path)\n",
    "    except OSError as e:\n",
    "      print(f\"Error removing file {file_path}: {e}\")\n",
    "\n",
    "# Example usage\n",
    "# path_temp_directory = \"/path/to/your/temp/directory\"\n",
    "# clear_temp_directory(path_temp_directory)\n"
   ]
  },
  {
   "cell_type": "code",
   "execution_count": null,
   "id": "dd724587",
   "metadata": {},
   "outputs": [],
   "source": [
    "docs = []\n",
    "for url in urls_youtube:\n",
    "  print([url])\n",
    "  # clearing temp directory ensure url will be the only file\n",
    "  # in the directory, and metadata source is the url\n",
    "  clear_temp_directory(path_temp_directory)\n",
    "  loader = GenericLoader(\n",
    "    YoutubeAudioLoader([url], path_temp_directory),\n",
    "    OpenAIWhisperParser()\n",
    "  )\n",
    "  doc = loader.load()\n",
    "  doc[0].metadata['source'] = url\n",
    "  docs.extend(doc)  # copy list content of _doc to list _docs"
   ]
  },
  {
   "cell_type": "code",
   "execution_count": null,
   "id": "bfbe9200",
   "metadata": {},
   "outputs": [],
   "source": [
    "# pickle_dump(file_to_pickle=docs, filename_pickle='lumen_docs_youtube', path_pickle_dump=path_lumen_docs)"
   ]
  },
  {
   "cell_type": "code",
   "execution_count": null,
   "id": "1d3ceded",
   "metadata": {},
   "outputs": [],
   "source": []
  },
  {
   "cell_type": "markdown",
   "id": "4b9f8fb9",
   "metadata": {},
   "source": [
    "# TODO add metadata for title, description, keyword???"
   ]
  },
  {
   "cell_type": "code",
   "execution_count": null,
   "id": "9178b1bb",
   "metadata": {},
   "outputs": [],
   "source": [
    "docs"
   ]
  },
  {
   "cell_type": "code",
   "execution_count": null,
   "id": "84236d4a",
   "metadata": {},
   "outputs": [],
   "source": [
    "docs = pickle_load(filename_pickle='lumen_docs_youtube', path_pickle_dump=path_lumen_docs)"
   ]
  },
  {
   "cell_type": "code",
   "execution_count": null,
   "id": "ce2c3a04",
   "metadata": {},
   "outputs": [],
   "source": [
    "print(len(docs))\n",
    "docs"
   ]
  },
  {
   "cell_type": "code",
   "execution_count": null,
   "id": "360c11a8",
   "metadata": {},
   "outputs": [],
   "source": [
    "for i, doc in enumerate(docs):\n",
    "  metadata = doc.metadata\n",
    "  url_yt = metadata['source']\n",
    "  print(f'{url_yt} {metadata}')\n",
    "  # url_yt = doc.metadata['source']\n",
    "  # description_yt = doc.metadata['description']\n",
    "  # print(f'{i}: {url_yt} {description_yt}')\n",
    "  # description = dict_yt[url_yt]\n",
    "  # print(f'{i}: {url_yt}: {description}')\n",
    "  \n"
   ]
  }
 ],
 "metadata": {
  "kernelspec": {
   "display_name": "Python 3 (ipykernel)",
   "language": "python",
   "name": "python3"
  },
  "language_info": {
   "codemirror_mode": {
    "name": "ipython",
    "version": 3
   },
   "file_extension": ".py",
   "mimetype": "text/x-python",
   "name": "python",
   "nbconvert_exporter": "python",
   "pygments_lexer": "ipython3",
   "version": "3.10.5"
  }
 },
 "nbformat": 4,
 "nbformat_minor": 5
}
