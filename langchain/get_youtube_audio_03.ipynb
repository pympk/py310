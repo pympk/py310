{
 "cells": [
  {
   "cell_type": "markdown",
   "id": "e461d68f",
   "metadata": {},
   "source": [
    "### Get YouTube Audios - Start"
   ]
  },
  {
   "cell_type": "code",
   "execution_count": 7,
   "id": "1ea31990",
   "metadata": {},
   "outputs": [
    {
     "name": "stdout",
     "output_type": "stream",
     "text": [
      "[youtube] Extracting URL: https://www.youtube.com/watch?v=qt-B2cg0pCM\n",
      "[youtube] qt-B2cg0pCM: Downloading webpage\n",
      "[youtube] qt-B2cg0pCM: Downloading ios player API JSON\n",
      "[youtube] qt-B2cg0pCM: Downloading player 1c78e434\n"
     ]
    },
    {
     "name": "stderr",
     "output_type": "stream",
     "text": [
      "WARNING: [youtube] qt-B2cg0pCM: nsig extraction failed: You may experience throttling for some formats\n",
      "         n = 1rz9qlxf4KGsk719Z- ; player = https://www.youtube.com/s/player/1c78e434/player_ias.vflset/en_US/base.js\n",
      "WARNING: [youtube] qt-B2cg0pCM: nsig extraction failed: You may experience throttling for some formats\n",
      "         n = ee3yyC382KLFowltOE ; player = https://www.youtube.com/s/player/1c78e434/player_ias.vflset/en_US/base.js\n"
     ]
    },
    {
     "name": "stdout",
     "output_type": "stream",
     "text": [
      "[youtube] qt-B2cg0pCM: Downloading m3u8 information\n",
      "[info] qt-B2cg0pCM: Downloading 1 format(s): 140\n",
      "[download] C:\\Users\\ping\\Downloads\\YouTube_audios\\OpenAI’s New AI： Being Smart Is Overrated!.m4a has already been downloaded\n",
      "[download] 100% of    5.38MiB\n",
      "[ExtractAudio] Not converting audio C:\\Users\\ping\\Downloads\\YouTube_audios\\OpenAI’s New AI： Being Smart Is Overrated!.m4a; file is already in target format m4a\n"
     ]
    }
   ],
   "source": [
    "import os\n",
    "from langchain.document_loaders.blob_loaders.youtube_audio import YoutubeAudioLoader\n",
    "\n",
    "# List of YouTube URLs\n",
    "urls = [\"https://www.youtube.com/watch?v=9eIMWmRG12w\", \"https://www.youtube.com/watch?v=Pg4w-rwTCXE\"]\n",
    "\n",
    "# Directory to save audio files\n",
    "save_dir = os.path.expanduser(\"~/Downloads/YouTube_audios\")\n",
    "\n",
    "# Create a YoutubeAudioLoader instance\n",
    "loader = YoutubeAudioLoader(urls, save_dir)\n",
    "\n",
    "# Download and save audio files\n",
    "for blob in loader.yield_blobs():\n",
    "  pass\n",
    "\n",
    "print(f\"Audio files saved to: {save_dir}\")"
   ]
  },
  {
   "cell_type": "markdown",
   "id": "504cf8dc",
   "metadata": {},
   "source": [
    "############"
   ]
  },
  {
   "cell_type": "markdown",
   "id": "119b50a6",
   "metadata": {},
   "source": [
    "### Get YouTube Videos - Start"
   ]
  },
  {
   "cell_type": "code",
   "execution_count": 22,
   "id": "407b9ca2",
   "metadata": {},
   "outputs": [
    {
     "name": "stdout",
     "output_type": "stream",
     "text": [
      "With Harris gaining in the polls, a look at how the electoral map has changed\n",
      " ↳ |████████████████████████████████████████████| 100.0%\r"
     ]
    },
    {
     "data": {
      "text/plain": [
       "'C:\\\\Users\\\\ping\\\\Downloads\\\\YouTube\\\\With Harris gaining in the polls a look at how the electoral map has changed.mp4'"
      ]
     },
     "execution_count": 22,
     "metadata": {},
     "output_type": "execute_result"
    }
   ],
   "source": [
    "# https://github.com/JuanBindez/pytubefix/blob/main/README.md\n",
    "\n",
    "from pytubefix import YouTube\n",
    "from pytubefix.cli import on_progress\n",
    " \n",
    "url = \"https://www.youtube.com/watch?v=iKTz4P_qosA\"\n",
    " \n",
    "yt = YouTube(url, on_progress_callback = on_progress)\n",
    "print(yt.title)\n",
    " \n",
    "ys = yt.streams.get_highest_resolution()\n",
    "ys.download(output_path=save_dir)"
   ]
  },
  {
   "cell_type": "code",
   "execution_count": 21,
   "id": "d9330dc6",
   "metadata": {},
   "outputs": [
    {
     "name": "stdout",
     "output_type": "stream",
     "text": [
      "With Harris gaining in the polls, a look at how the electoral map has changed\n",
      " ↳ |████████████████████████████████████████████| 100.0%\r"
     ]
    },
    {
     "data": {
      "text/plain": [
       "'c:\\\\Users\\\\ping\\\\Files_win10\\\\python\\\\py310\\\\langchain\\\\With Harris gaining in the polls a look at how the electoral map has changed.mp4'"
      ]
     },
     "execution_count": 21,
     "metadata": {},
     "output_type": "execute_result"
    }
   ],
   "source": [
    "# https://github.com/JuanBindez/pytubefix/blob/main/README.md\n",
    "\n",
    "from pytubefix import YouTube\n",
    "from pytubefix.cli import on_progress\n",
    " \n",
    "url = \"https://www.youtube.com/watch?v=iKTz4P_qosA\"\n",
    " \n",
    "yt = YouTube(url, on_progress_callback = on_progress)\n",
    "print(yt.title)\n",
    " \n",
    "ys = yt.streams.get_highest_resolution()\n",
    "ys.download()"
   ]
  },
  {
   "cell_type": "code",
   "execution_count": null,
   "id": "dc7182c6",
   "metadata": {},
   "outputs": [],
   "source": []
  },
  {
   "cell_type": "code",
   "execution_count": 15,
   "id": "bcb7c05d",
   "metadata": {},
   "outputs": [],
   "source": [
    "## Ref: https://github.com/pytube/pytube/issues/1973#issuecomment-2232907131\n",
    "\n",
    "from pytube.innertube import _default_clients\n",
    "from pytube import cipher\n",
    "import re\n",
    "\n",
    "_default_clients[\"ANDROID\"][\"context\"][\"client\"][\"clientVersion\"] = \"19.08.35\"\n",
    "_default_clients[\"IOS\"][\"context\"][\"client\"][\"clientVersion\"] = \"19.08.35\"\n",
    "_default_clients[\"ANDROID_EMBED\"][\"context\"][\"client\"][\"clientVersion\"] = \"19.08.35\"\n",
    "_default_clients[\"IOS_EMBED\"][\"context\"][\"client\"][\"clientVersion\"] = \"19.08.35\"\n",
    "_default_clients[\"IOS_MUSIC\"][\"context\"][\"client\"][\"clientVersion\"] = \"6.41\"\n",
    "_default_clients[\"ANDROID_MUSIC\"] = _default_clients[\"ANDROID_CREATOR\"]\n",
    "\n",
    "\n",
    "\n",
    "def get_throttling_function_name(js: str) -> str:\n",
    "    \"\"\"Extract the name of the function that computes the throttling parameter.\n",
    "\n",
    "    :param str js:\n",
    "        The contents of the base.js asset file.\n",
    "    :rtype: str\n",
    "    :returns:\n",
    "        The name of the function used to compute the throttling parameter.\n",
    "    \"\"\"\n",
    "    function_patterns = [\n",
    "        r'a\\.[a-zA-Z]\\s*&&\\s*\\([a-z]\\s*=\\s*a\\.get\\(\"n\"\\)\\)\\s*&&\\s*'\n",
    "        r'\\([a-z]\\s*=\\s*([a-zA-Z0-9$]+)(\\[\\d+\\])?\\([a-z]\\)',\n",
    "        r'\\([a-z]\\s*=\\s*([a-zA-Z0-9$]+)(\\[\\d+\\])\\([a-z]\\)',\n",
    "    ]\n",
    "    #logger.debug('Finding throttling function name')\n",
    "    for pattern in function_patterns:\n",
    "        regex = re.compile(pattern)\n",
    "        function_match = regex.search(js)\n",
    "        if function_match:\n",
    "            #logger.debug(\"finished regex search, matched: %s\", pattern)\n",
    "            if len(function_match.groups()) == 1:\n",
    "                return function_match.group(1)\n",
    "            idx = function_match.group(2)\n",
    "            if idx:\n",
    "                idx = idx.strip(\"[]\")\n",
    "                array = re.search(\n",
    "                    r'var {nfunc}\\s*=\\s*(\\[.+?\\]);'.format(\n",
    "                        nfunc=re.escape(function_match.group(1))),\n",
    "                    js\n",
    "                )\n",
    "                if array:\n",
    "                    array = array.group(1).strip(\"[]\").split(\",\")\n",
    "                    array = [x.strip() for x in array]\n",
    "                    return array[int(idx)]\n",
    "\n",
    "    raise RegexMatchError(\n",
    "        caller=\"get_throttling_function_name\", pattern=\"multiple\"\n",
    "    )\n",
    "\n",
    "cipher.get_throttling_function_name = get_throttling_function_name"
   ]
  },
  {
   "cell_type": "code",
   "execution_count": 17,
   "id": "00e6ecf2",
   "metadata": {},
   "outputs": [
    {
     "name": "stdout",
     "output_type": "stream",
     "text": [
      "Error downloading video: map_functions: could not find match for multiple\n"
     ]
    }
   ],
   "source": [
    "from pytube import YouTube\n",
    "import os\n",
    "\n",
    "# List of YouTube URLs\n",
    "# urls = [\"https://www.youtube.com/watch?v=9eIMWmRG12w\", \"https://www.youtube.com/watch?v=Pg4w-rwTCXE\"]\n",
    "urls = [\"https://www.youtube.com/watch?v=iKTz4P_qosA\"]\n",
    "\n",
    "# Directory to save videos\n",
    "save_dir = os.path.expanduser(\"~/Downloads/YouTube\")\n",
    "\n",
    "# Function to download a video\n",
    "def download_video(url, save_dir):\n",
    "  try:\n",
    "    yt = YouTube(url)\n",
    "    video = yt.streams.filter(progressive=True, file_extension='mp4').order_by('resolution').desc().first()\n",
    "    video.download(output_path=save_dir)\n",
    "    print(f\"Downloaded: {video.title}\")\n",
    "  except Exception as e:\n",
    "    print(f\"Error downloading video: {e}\")\n",
    "\n",
    "# Download videos\n",
    "for url in urls:\n",
    "  download_video(url, save_dir)\n"
   ]
  },
  {
   "cell_type": "code",
   "execution_count": 20,
   "id": "e4408a40",
   "metadata": {},
   "outputs": [
    {
     "ename": "RegexMatchError",
     "evalue": "map_functions: could not find match for multiple",
     "output_type": "error",
     "traceback": [
      "\u001b[1;31m---------------------------------------------------------------------------\u001b[0m",
      "\u001b[1;31mRegexMatchError\u001b[0m                           Traceback (most recent call last)",
      "File \u001b[1;32mc:\\Users\\ping\\Files_win10\\python\\py310\\.venv\\lib\\site-packages\\pytube\\__main__.py:181\u001b[0m, in \u001b[0;36mYouTube.fmt_streams\u001b[1;34m(self)\u001b[0m\n\u001b[0;32m    180\u001b[0m \u001b[38;5;28;01mtry\u001b[39;00m:\n\u001b[1;32m--> 181\u001b[0m     \u001b[43mextract\u001b[49m\u001b[38;5;241;43m.\u001b[39;49m\u001b[43mapply_signature\u001b[49m\u001b[43m(\u001b[49m\u001b[43mstream_manifest\u001b[49m\u001b[43m,\u001b[49m\u001b[43m \u001b[49m\u001b[38;5;28;43mself\u001b[39;49m\u001b[38;5;241;43m.\u001b[39;49m\u001b[43mvid_info\u001b[49m\u001b[43m,\u001b[49m\u001b[43m \u001b[49m\u001b[38;5;28;43mself\u001b[39;49m\u001b[38;5;241;43m.\u001b[39;49m\u001b[43mjs\u001b[49m\u001b[43m)\u001b[49m\n\u001b[0;32m    182\u001b[0m \u001b[38;5;28;01mexcept\u001b[39;00m exceptions\u001b[38;5;241m.\u001b[39mExtractError:\n\u001b[0;32m    183\u001b[0m     \u001b[38;5;66;03m# To force an update to the js file, we clear the cache and retry\u001b[39;00m\n",
      "File \u001b[1;32mc:\\Users\\ping\\Files_win10\\python\\py310\\.venv\\lib\\site-packages\\pytube\\extract.py:409\u001b[0m, in \u001b[0;36mapply_signature\u001b[1;34m(stream_manifest, vid_info, js)\u001b[0m\n\u001b[0;32m    401\u001b[0m \u001b[38;5;250m\u001b[39m\u001b[38;5;124;03m\"\"\"Apply the decrypted signature to the stream manifest.\u001b[39;00m\n\u001b[0;32m    402\u001b[0m \n\u001b[0;32m    403\u001b[0m \u001b[38;5;124;03m:param dict stream_manifest:\u001b[39;00m\n\u001b[1;32m   (...)\u001b[0m\n\u001b[0;32m    407\u001b[0m \n\u001b[0;32m    408\u001b[0m \u001b[38;5;124;03m\"\"\"\u001b[39;00m\n\u001b[1;32m--> 409\u001b[0m cipher \u001b[38;5;241m=\u001b[39m \u001b[43mCipher\u001b[49m\u001b[43m(\u001b[49m\u001b[43mjs\u001b[49m\u001b[38;5;241;43m=\u001b[39;49m\u001b[43mjs\u001b[49m\u001b[43m)\u001b[49m\n\u001b[0;32m    411\u001b[0m \u001b[38;5;28;01mfor\u001b[39;00m i, stream \u001b[38;5;129;01min\u001b[39;00m \u001b[38;5;28menumerate\u001b[39m(stream_manifest):\n",
      "File \u001b[1;32mc:\\Users\\ping\\Files_win10\\python\\py310\\.venv\\lib\\site-packages\\pytube\\cipher.py:37\u001b[0m, in \u001b[0;36mCipher.__init__\u001b[1;34m(self, js)\u001b[0m\n\u001b[0;32m     36\u001b[0m var \u001b[38;5;241m=\u001b[39m var_match\u001b[38;5;241m.\u001b[39mgroup(\u001b[38;5;241m0\u001b[39m)[:\u001b[38;5;241m-\u001b[39m\u001b[38;5;241m1\u001b[39m]\n\u001b[1;32m---> 37\u001b[0m \u001b[38;5;28mself\u001b[39m\u001b[38;5;241m.\u001b[39mtransform_map \u001b[38;5;241m=\u001b[39m \u001b[43mget_transform_map\u001b[49m\u001b[43m(\u001b[49m\u001b[43mjs\u001b[49m\u001b[43m,\u001b[49m\u001b[43m \u001b[49m\u001b[43mvar\u001b[49m\u001b[43m)\u001b[49m\n\u001b[0;32m     38\u001b[0m \u001b[38;5;28mself\u001b[39m\u001b[38;5;241m.\u001b[39mjs_func_patterns \u001b[38;5;241m=\u001b[39m [\n\u001b[0;32m     39\u001b[0m     \u001b[38;5;124mr\u001b[39m\u001b[38;5;124m\"\u001b[39m\u001b[38;5;124m\\\u001b[39m\u001b[38;5;124mw+\u001b[39m\u001b[38;5;124m\\\u001b[39m\u001b[38;5;124m.(\u001b[39m\u001b[38;5;124m\\\u001b[39m\u001b[38;5;124mw+)\u001b[39m\u001b[38;5;124m\\\u001b[39m\u001b[38;5;124m(\u001b[39m\u001b[38;5;124m\\\u001b[39m\u001b[38;5;124mw,(\u001b[39m\u001b[38;5;124m\\\u001b[39m\u001b[38;5;124md+)\u001b[39m\u001b[38;5;124m\\\u001b[39m\u001b[38;5;124m)\u001b[39m\u001b[38;5;124m\"\u001b[39m,\n\u001b[0;32m     40\u001b[0m     \u001b[38;5;124mr\u001b[39m\u001b[38;5;124m\"\u001b[39m\u001b[38;5;124m\\\u001b[39m\u001b[38;5;124mw+\u001b[39m\u001b[38;5;124m\\\u001b[39m\u001b[38;5;124m[(\u001b[39m\u001b[38;5;130;01m\\\"\u001b[39;00m\u001b[38;5;124m\\\u001b[39m\u001b[38;5;124mw+\u001b[39m\u001b[38;5;130;01m\\\"\u001b[39;00m\u001b[38;5;124m)\u001b[39m\u001b[38;5;124m\\\u001b[39m\u001b[38;5;124m]\u001b[39m\u001b[38;5;124m\\\u001b[39m\u001b[38;5;124m(\u001b[39m\u001b[38;5;124m\\\u001b[39m\u001b[38;5;124mw,(\u001b[39m\u001b[38;5;124m\\\u001b[39m\u001b[38;5;124md+)\u001b[39m\u001b[38;5;124m\\\u001b[39m\u001b[38;5;124m)\u001b[39m\u001b[38;5;124m\"\u001b[39m\n\u001b[0;32m     41\u001b[0m ]\n",
      "File \u001b[1;32mc:\\Users\\ping\\Files_win10\\python\\py310\\.venv\\lib\\site-packages\\pytube\\cipher.py:250\u001b[0m, in \u001b[0;36mget_transform_map\u001b[1;34m(js, var)\u001b[0m\n\u001b[0;32m    249\u001b[0m name, function \u001b[38;5;241m=\u001b[39m obj\u001b[38;5;241m.\u001b[39msplit(\u001b[38;5;124m\"\u001b[39m\u001b[38;5;124m:\u001b[39m\u001b[38;5;124m\"\u001b[39m, \u001b[38;5;241m1\u001b[39m)\n\u001b[1;32m--> 250\u001b[0m fn \u001b[38;5;241m=\u001b[39m \u001b[43mmap_functions\u001b[49m\u001b[43m(\u001b[49m\u001b[43mfunction\u001b[49m\u001b[43m)\u001b[49m\n\u001b[0;32m    251\u001b[0m mapper[name] \u001b[38;5;241m=\u001b[39m fn\n",
      "File \u001b[1;32mc:\\Users\\ping\\Files_win10\\python\\py310\\.venv\\lib\\site-packages\\pytube\\cipher.py:697\u001b[0m, in \u001b[0;36mmap_functions\u001b[1;34m(js_func)\u001b[0m\n\u001b[0;32m    696\u001b[0m         \u001b[38;5;28;01mreturn\u001b[39;00m fn\n\u001b[1;32m--> 697\u001b[0m \u001b[38;5;28;01mraise\u001b[39;00m RegexMatchError(caller\u001b[38;5;241m=\u001b[39m\u001b[38;5;124m\"\u001b[39m\u001b[38;5;124mmap_functions\u001b[39m\u001b[38;5;124m\"\u001b[39m, pattern\u001b[38;5;241m=\u001b[39m\u001b[38;5;124m\"\u001b[39m\u001b[38;5;124mmultiple\u001b[39m\u001b[38;5;124m\"\u001b[39m)\n",
      "\u001b[1;31mRegexMatchError\u001b[0m: map_functions: could not find match for multiple",
      "\nDuring handling of the above exception, another exception occurred:\n",
      "\u001b[1;31mRegexMatchError\u001b[0m                           Traceback (most recent call last)",
      "Cell \u001b[1;32mIn[20], line 2\u001b[0m\n\u001b[0;32m      1\u001b[0m yt \u001b[38;5;241m=\u001b[39m YouTube(url)\n\u001b[1;32m----> 2\u001b[0m video \u001b[38;5;241m=\u001b[39m \u001b[43myt\u001b[49m\u001b[38;5;241;43m.\u001b[39;49m\u001b[43mstreams\u001b[49m\u001b[38;5;241m.\u001b[39mfilter(progressive\u001b[38;5;241m=\u001b[39m\u001b[38;5;28;01mTrue\u001b[39;00m, file_extension\u001b[38;5;241m=\u001b[39m\u001b[38;5;124m'\u001b[39m\u001b[38;5;124mmp4\u001b[39m\u001b[38;5;124m'\u001b[39m)\u001b[38;5;241m.\u001b[39morder_by(\u001b[38;5;124m'\u001b[39m\u001b[38;5;124mresolution\u001b[39m\u001b[38;5;124m'\u001b[39m)\u001b[38;5;241m.\u001b[39mdesc()\u001b[38;5;241m.\u001b[39mfirst()\n",
      "File \u001b[1;32mc:\\Users\\ping\\Files_win10\\python\\py310\\.venv\\lib\\site-packages\\pytube\\__main__.py:296\u001b[0m, in \u001b[0;36mYouTube.streams\u001b[1;34m(self)\u001b[0m\n\u001b[0;32m    291\u001b[0m \u001b[38;5;250m\u001b[39m\u001b[38;5;124;03m\"\"\"Interface to query both adaptive (DASH) and progressive streams.\u001b[39;00m\n\u001b[0;32m    292\u001b[0m \n\u001b[0;32m    293\u001b[0m \u001b[38;5;124;03m:rtype: :class:`StreamQuery <StreamQuery>`.\u001b[39;00m\n\u001b[0;32m    294\u001b[0m \u001b[38;5;124;03m\"\"\"\u001b[39;00m\n\u001b[0;32m    295\u001b[0m \u001b[38;5;28mself\u001b[39m\u001b[38;5;241m.\u001b[39mcheck_availability()\n\u001b[1;32m--> 296\u001b[0m \u001b[38;5;28;01mreturn\u001b[39;00m StreamQuery(\u001b[38;5;28;43mself\u001b[39;49m\u001b[38;5;241;43m.\u001b[39;49m\u001b[43mfmt_streams\u001b[49m)\n",
      "File \u001b[1;32mc:\\Users\\ping\\Files_win10\\python\\py310\\.venv\\lib\\site-packages\\pytube\\__main__.py:188\u001b[0m, in \u001b[0;36mYouTube.fmt_streams\u001b[1;34m(self)\u001b[0m\n\u001b[0;32m    186\u001b[0m     pytube\u001b[38;5;241m.\u001b[39m__js__ \u001b[38;5;241m=\u001b[39m \u001b[38;5;28;01mNone\u001b[39;00m\n\u001b[0;32m    187\u001b[0m     pytube\u001b[38;5;241m.\u001b[39m__js_url__ \u001b[38;5;241m=\u001b[39m \u001b[38;5;28;01mNone\u001b[39;00m\n\u001b[1;32m--> 188\u001b[0m     \u001b[43mextract\u001b[49m\u001b[38;5;241;43m.\u001b[39;49m\u001b[43mapply_signature\u001b[49m\u001b[43m(\u001b[49m\u001b[43mstream_manifest\u001b[49m\u001b[43m,\u001b[49m\u001b[43m \u001b[49m\u001b[38;5;28;43mself\u001b[39;49m\u001b[38;5;241;43m.\u001b[39;49m\u001b[43mvid_info\u001b[49m\u001b[43m,\u001b[49m\u001b[43m \u001b[49m\u001b[38;5;28;43mself\u001b[39;49m\u001b[38;5;241;43m.\u001b[39;49m\u001b[43mjs\u001b[49m\u001b[43m)\u001b[49m\n\u001b[0;32m    190\u001b[0m \u001b[38;5;66;03m# build instances of :class:`Stream <Stream>`\u001b[39;00m\n\u001b[0;32m    191\u001b[0m \u001b[38;5;66;03m# Initialize stream objects\u001b[39;00m\n\u001b[0;32m    192\u001b[0m \u001b[38;5;28;01mfor\u001b[39;00m stream \u001b[38;5;129;01min\u001b[39;00m stream_manifest:\n",
      "File \u001b[1;32mc:\\Users\\ping\\Files_win10\\python\\py310\\.venv\\lib\\site-packages\\pytube\\extract.py:409\u001b[0m, in \u001b[0;36mapply_signature\u001b[1;34m(stream_manifest, vid_info, js)\u001b[0m\n\u001b[0;32m    400\u001b[0m \u001b[38;5;28;01mdef\u001b[39;00m \u001b[38;5;21mapply_signature\u001b[39m(stream_manifest: Dict, vid_info: Dict, js: \u001b[38;5;28mstr\u001b[39m) \u001b[38;5;241m-\u001b[39m\u001b[38;5;241m>\u001b[39m \u001b[38;5;28;01mNone\u001b[39;00m:\n\u001b[0;32m    401\u001b[0m \u001b[38;5;250m    \u001b[39m\u001b[38;5;124;03m\"\"\"Apply the decrypted signature to the stream manifest.\u001b[39;00m\n\u001b[0;32m    402\u001b[0m \n\u001b[0;32m    403\u001b[0m \u001b[38;5;124;03m    :param dict stream_manifest:\u001b[39;00m\n\u001b[1;32m   (...)\u001b[0m\n\u001b[0;32m    407\u001b[0m \n\u001b[0;32m    408\u001b[0m \u001b[38;5;124;03m    \"\"\"\u001b[39;00m\n\u001b[1;32m--> 409\u001b[0m     cipher \u001b[38;5;241m=\u001b[39m \u001b[43mCipher\u001b[49m\u001b[43m(\u001b[49m\u001b[43mjs\u001b[49m\u001b[38;5;241;43m=\u001b[39;49m\u001b[43mjs\u001b[49m\u001b[43m)\u001b[49m\n\u001b[0;32m    411\u001b[0m     \u001b[38;5;28;01mfor\u001b[39;00m i, stream \u001b[38;5;129;01min\u001b[39;00m \u001b[38;5;28menumerate\u001b[39m(stream_manifest):\n\u001b[0;32m    412\u001b[0m         \u001b[38;5;28;01mtry\u001b[39;00m:\n",
      "File \u001b[1;32mc:\\Users\\ping\\Files_win10\\python\\py310\\.venv\\lib\\site-packages\\pytube\\cipher.py:37\u001b[0m, in \u001b[0;36mCipher.__init__\u001b[1;34m(self, js)\u001b[0m\n\u001b[0;32m     33\u001b[0m     \u001b[38;5;28;01mraise\u001b[39;00m RegexMatchError(\n\u001b[0;32m     34\u001b[0m         caller\u001b[38;5;241m=\u001b[39m\u001b[38;5;124m\"\u001b[39m\u001b[38;5;124m__init__\u001b[39m\u001b[38;5;124m\"\u001b[39m, pattern\u001b[38;5;241m=\u001b[39mvar_regex\u001b[38;5;241m.\u001b[39mpattern\n\u001b[0;32m     35\u001b[0m     )\n\u001b[0;32m     36\u001b[0m var \u001b[38;5;241m=\u001b[39m var_match\u001b[38;5;241m.\u001b[39mgroup(\u001b[38;5;241m0\u001b[39m)[:\u001b[38;5;241m-\u001b[39m\u001b[38;5;241m1\u001b[39m]\n\u001b[1;32m---> 37\u001b[0m \u001b[38;5;28mself\u001b[39m\u001b[38;5;241m.\u001b[39mtransform_map \u001b[38;5;241m=\u001b[39m \u001b[43mget_transform_map\u001b[49m\u001b[43m(\u001b[49m\u001b[43mjs\u001b[49m\u001b[43m,\u001b[49m\u001b[43m \u001b[49m\u001b[43mvar\u001b[49m\u001b[43m)\u001b[49m\n\u001b[0;32m     38\u001b[0m \u001b[38;5;28mself\u001b[39m\u001b[38;5;241m.\u001b[39mjs_func_patterns \u001b[38;5;241m=\u001b[39m [\n\u001b[0;32m     39\u001b[0m     \u001b[38;5;124mr\u001b[39m\u001b[38;5;124m\"\u001b[39m\u001b[38;5;124m\\\u001b[39m\u001b[38;5;124mw+\u001b[39m\u001b[38;5;124m\\\u001b[39m\u001b[38;5;124m.(\u001b[39m\u001b[38;5;124m\\\u001b[39m\u001b[38;5;124mw+)\u001b[39m\u001b[38;5;124m\\\u001b[39m\u001b[38;5;124m(\u001b[39m\u001b[38;5;124m\\\u001b[39m\u001b[38;5;124mw,(\u001b[39m\u001b[38;5;124m\\\u001b[39m\u001b[38;5;124md+)\u001b[39m\u001b[38;5;124m\\\u001b[39m\u001b[38;5;124m)\u001b[39m\u001b[38;5;124m\"\u001b[39m,\n\u001b[0;32m     40\u001b[0m     \u001b[38;5;124mr\u001b[39m\u001b[38;5;124m\"\u001b[39m\u001b[38;5;124m\\\u001b[39m\u001b[38;5;124mw+\u001b[39m\u001b[38;5;124m\\\u001b[39m\u001b[38;5;124m[(\u001b[39m\u001b[38;5;130;01m\\\"\u001b[39;00m\u001b[38;5;124m\\\u001b[39m\u001b[38;5;124mw+\u001b[39m\u001b[38;5;130;01m\\\"\u001b[39;00m\u001b[38;5;124m)\u001b[39m\u001b[38;5;124m\\\u001b[39m\u001b[38;5;124m]\u001b[39m\u001b[38;5;124m\\\u001b[39m\u001b[38;5;124m(\u001b[39m\u001b[38;5;124m\\\u001b[39m\u001b[38;5;124mw,(\u001b[39m\u001b[38;5;124m\\\u001b[39m\u001b[38;5;124md+)\u001b[39m\u001b[38;5;124m\\\u001b[39m\u001b[38;5;124m)\u001b[39m\u001b[38;5;124m\"\u001b[39m\n\u001b[0;32m     41\u001b[0m ]\n\u001b[0;32m     43\u001b[0m \u001b[38;5;28mself\u001b[39m\u001b[38;5;241m.\u001b[39mthrottling_plan \u001b[38;5;241m=\u001b[39m get_throttling_plan(js)\n",
      "File \u001b[1;32mc:\\Users\\ping\\Files_win10\\python\\py310\\.venv\\lib\\site-packages\\pytube\\cipher.py:250\u001b[0m, in \u001b[0;36mget_transform_map\u001b[1;34m(js, var)\u001b[0m\n\u001b[0;32m    247\u001b[0m \u001b[38;5;28;01mfor\u001b[39;00m obj \u001b[38;5;129;01min\u001b[39;00m transform_object:\n\u001b[0;32m    248\u001b[0m     \u001b[38;5;66;03m# AJ:function(a){a.reverse()} => AJ, function(a){a.reverse()}\u001b[39;00m\n\u001b[0;32m    249\u001b[0m     name, function \u001b[38;5;241m=\u001b[39m obj\u001b[38;5;241m.\u001b[39msplit(\u001b[38;5;124m\"\u001b[39m\u001b[38;5;124m:\u001b[39m\u001b[38;5;124m\"\u001b[39m, \u001b[38;5;241m1\u001b[39m)\n\u001b[1;32m--> 250\u001b[0m     fn \u001b[38;5;241m=\u001b[39m \u001b[43mmap_functions\u001b[49m\u001b[43m(\u001b[49m\u001b[43mfunction\u001b[49m\u001b[43m)\u001b[49m\n\u001b[0;32m    251\u001b[0m     mapper[name] \u001b[38;5;241m=\u001b[39m fn\n\u001b[0;32m    252\u001b[0m \u001b[38;5;28;01mreturn\u001b[39;00m mapper\n",
      "File \u001b[1;32mc:\\Users\\ping\\Files_win10\\python\\py310\\.venv\\lib\\site-packages\\pytube\\cipher.py:697\u001b[0m, in \u001b[0;36mmap_functions\u001b[1;34m(js_func)\u001b[0m\n\u001b[0;32m    695\u001b[0m     \u001b[38;5;28;01mif\u001b[39;00m re\u001b[38;5;241m.\u001b[39msearch(pattern, js_func):\n\u001b[0;32m    696\u001b[0m         \u001b[38;5;28;01mreturn\u001b[39;00m fn\n\u001b[1;32m--> 697\u001b[0m \u001b[38;5;28;01mraise\u001b[39;00m RegexMatchError(caller\u001b[38;5;241m=\u001b[39m\u001b[38;5;124m\"\u001b[39m\u001b[38;5;124mmap_functions\u001b[39m\u001b[38;5;124m\"\u001b[39m, pattern\u001b[38;5;241m=\u001b[39m\u001b[38;5;124m\"\u001b[39m\u001b[38;5;124mmultiple\u001b[39m\u001b[38;5;124m\"\u001b[39m)\n",
      "\u001b[1;31mRegexMatchError\u001b[0m: map_functions: could not find match for multiple"
     ]
    }
   ],
   "source": [
    "yt = YouTube(url)\n",
    "video = yt.streams.filter(progressive=True, file_extension='mp4').order_by('resolution').desc().first()"
   ]
  },
  {
   "cell_type": "code",
   "execution_count": 13,
   "id": "c1ecedf9",
   "metadata": {},
   "outputs": [
    {
     "name": "stdout",
     "output_type": "stream",
     "text": [
      "Error downloading video: map_functions: could not find match for multiple\n"
     ]
    }
   ],
   "source": [
    "from pytube import YouTube\n",
    "import os\n",
    "\n",
    "# List of YouTube URLs\n",
    "# urls = [\"https://www.youtube.com/watch?v=9eIMWmRG12w\", \"https://www.youtube.com/watch?v=Pg4w-rwTCXE\"]\n",
    "urls = [\"https://www.youtube.com/watch?v=iKTz4P_qosA\"]\n",
    "\n",
    "# Directory to save videos\n",
    "save_dir = os.path.expanduser(\"~/Downloads/YouTube\")\n",
    "\n",
    "# Function to download a video\n",
    "def download_video(url, save_dir):\n",
    "  try:\n",
    "    yt = YouTube(url)\n",
    "    video = yt.streams.filter(progressive=True, file_extension='mp4').order_by('resolution').desc().first()\n",
    "    video.download(output_path=save_dir)\n",
    "    print(f\"Downloaded: {video.title}\")\n",
    "  except Exception as e:\n",
    "    print(f\"Error downloading video: {e}\")\n",
    "\n",
    "# Download videos\n",
    "for url in urls:\n",
    "  download_video(url, save_dir)\n"
   ]
  },
  {
   "cell_type": "markdown",
   "id": "479dce73",
   "metadata": {},
   "source": [
    "### Get YouTube Videos - End"
   ]
  },
  {
   "cell_type": "code",
   "execution_count": null,
   "id": "38819c88",
   "metadata": {},
   "outputs": [],
   "source": []
  },
  {
   "cell_type": "code",
   "execution_count": null,
   "id": "2d3bd46c",
   "metadata": {},
   "outputs": [],
   "source": [
    "import os\n",
    "\n",
    "def get_file_names(directory_path):\n",
    "  \"\"\"Gets the file names from a specified directory.\n",
    "\n",
    "  Args:\n",
    "    directory_path: The path to the directory.\n",
    "\n",
    "  Returns:\n",
    "    A list of file names.\n",
    "  \"\"\"\n",
    "\n",
    "  file_names = []\n",
    "  for root, _, files in os.walk(directory_path):\n",
    "    for file in files:\n",
    "      file_names.append(file)\n",
    "  return file_names\n",
    "\n",
    "# Example usage:\n",
    "directory_path = save_dir\n",
    "file_names = get_file_names(directory_path)\n",
    "print(file_names)\n"
   ]
  },
  {
   "cell_type": "markdown",
   "id": "d9acb9c2",
   "metadata": {},
   "source": [
    "#### Took 30 minutes to transcribe 2:15:18 hours of audio on my PC using CPU"
   ]
  },
  {
   "cell_type": "code",
   "execution_count": null,
   "id": "ca2dc671",
   "metadata": {},
   "outputs": [],
   "source": [
    "import whisper\n",
    "\n",
    "for file_name in file_names[:1]:\n",
    "  path_audio = save_dir + \"/\" + file_name\n",
    "  print(path_audio)\n",
    "  if os.path.exists(path_audio):\n",
    "    print('file exists')\n",
    "  else:  \n",
    "    print('file does not exists')\n",
    "  model = whisper.load_model(\"base\")\n",
    "\n",
    "  # result = model.transcribe(path_audio, language=\"fr\")  # Transcribe in French\n",
    "  result = model.transcribe(path_audio, language=\"en\")  # Transcribe in English\n",
    "\n",
    "  print(result[\"text\"])\n",
    "\n",
    "  # Generate subtitles\n",
    "  print(result[\"segments\"])  # List of segments with start, end, and text"
   ]
  },
  {
   "cell_type": "code",
   "execution_count": null,
   "id": "8f223e5c",
   "metadata": {},
   "outputs": [],
   "source": [
    "save_dir + \"/Michael Levitt\""
   ]
  },
  {
   "cell_type": "code",
   "execution_count": null,
   "id": "deda94c3",
   "metadata": {},
   "outputs": [],
   "source": [
    "# import os\n",
    "import sys\n",
    "sys.path.append('../..')\n",
    "from py3810.myUtils import pickle_dump, pickle_load\n",
    "\n",
    "pickle_dump(file_to_pickle=result[\"text\"], filename_pickle=\"/Michael Levitt_text\", path_pickle_dump=save_dir)\n",
    "pickle_dump(file_to_pickle=result[\"segments\"], filename_pickle=\"/Michael Levitt_segments\", path_pickle_dump=save_dir)"
   ]
  },
  {
   "cell_type": "code",
   "execution_count": null,
   "id": "b186bc88",
   "metadata": {},
   "outputs": [],
   "source": [
    "print(f'len(result[\"text\"]: {len(result[\"text\"])}')\n",
    "print(f'len(result[\"segments\"]: {len(result[\"segments\"])}')"
   ]
  },
  {
   "cell_type": "code",
   "execution_count": null,
   "id": "7e286280",
   "metadata": {},
   "outputs": [],
   "source": [
    "result[\"text\"]"
   ]
  },
  {
   "cell_type": "code",
   "execution_count": null,
   "id": "5991c254",
   "metadata": {},
   "outputs": [],
   "source": [
    "result[\"segments\"]"
   ]
  },
  {
   "cell_type": "code",
   "execution_count": null,
   "id": "30689894",
   "metadata": {},
   "outputs": [],
   "source": []
  }
 ],
 "metadata": {
  "kernelspec": {
   "display_name": "Python 3 (ipykernel)",
   "language": "python",
   "name": "python3"
  },
  "language_info": {
   "codemirror_mode": {
    "name": "ipython",
    "version": 3
   },
   "file_extension": ".py",
   "mimetype": "text/x-python",
   "name": "python",
   "nbconvert_exporter": "python",
   "pygments_lexer": "ipython3",
   "version": "3.10.5"
  }
 },
 "nbformat": 4,
 "nbformat_minor": 5
}
