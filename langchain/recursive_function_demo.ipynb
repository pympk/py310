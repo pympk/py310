{
 "cells": [
  {
   "cell_type": "markdown",
   "id": "bafb515b",
   "metadata": {},
   "source": [
    "## Demonstrate How Recursive Function Works"
   ]
  },
  {
   "cell_type": "code",
   "execution_count": null,
   "id": "daa5c28b",
   "metadata": {},
   "outputs": [],
   "source": [
    "# https://stackoverflow.com/questions/39046311/python-base-case-of-a-recursive-function\n",
    "# see Excel File: recursive_function.xlsx\n",
    "def brute_force(a, current_digit):\n",
    "    pad = 65\n",
    "    _msg1 = f'-- Start brute_force({a}, {current_digit})'\n",
    "    _msg2 = f'[a]-current_digit-i: {a}-{current_digit}-'\n",
    "    print(f'{_msg1:<{pad}}{_msg2}')\n",
    "\n",
    "    # print(f'-- Start brute_force({a}, {current_digit})' + f'{\"a-current_digit: \":>{pad}}' + f'{a}-{current_digit}')                   \n",
    "    if current_digit == 2:\n",
    "        #  This means that we already chosen all 2 digits and\n",
    "        #  we can just print the result\n",
    "        print(f'a: {a}')\n",
    "\n",
    "    else:\n",
    "        #  Try to put each digit on the current_digit place and launch\n",
    "        #  recursively\n",
    "        _msg1 = f'---- Start for loop, a-current_digit:'\n",
    "        _msg2 = f'[a]-current_digit-i: {a}-{current_digit}-'        \n",
    "        print(f'{_msg1:<{pad}}{_msg2}')\n",
    "\n",
    "        for i in range(3):\n",
    "            _msg1 = f'------ Before a[current_digit] = i, [a]-current_digit-i:'            \n",
    "            _msg2 = f'[a]-current_digit-i: {a}-{current_digit}-{i}'\n",
    "            print(f'{_msg1:<{pad}}{_msg2}')                        \n",
    "\n",
    "            a[current_digit] = i\n",
    "\n",
    "            _msg1 = f'------ After a[current_digit] = i, [a]-current_digit-i:'\n",
    "            _msg2 = f'[a]-current_digit-i: {a}-{current_digit}-{i}'            \n",
    "            print(f'{_msg1:<{pad}}{_msg2}')                                \n",
    "            _msg1 = f'------ Start recursive call: brute_force({a}, {current_digit})'\n",
    "            _msg2 = f'[a]-current_digit-i: {a}-{current_digit}-{i}'               \n",
    "            print(f'{_msg1:<{pad}}{_msg2}')\n",
    "\n",
    "            brute_force(a, current_digit + 1)\n",
    "            \n",
    "            _msg1 = f'------ After recursive call: brute_force({a}, {current_digit})'            \n",
    "            _msg2 = f'[a]-current_digit-i: {a}-{current_digit}-{i}'               \n",
    "            print(f'{_msg1:<{pad}}{_msg2}')    \n",
    "\n",
    "        _msg1 = f'---- End for loop, a-current_digit:'            \n",
    "        _msg2 = f'[a]-current_digit-i: {a}-{current_digit}-'        \n",
    "        print(f'{_msg1:<{pad}}{_msg2}\\n')        \n",
    " \n",
    "    _msg1 = f'-- End brute_force, a-current_digit:'            \n",
    "    _msg2 = f'[a]-current_digit-i: {a}-{current_digit}-'        \n",
    "    print(f'{_msg1:<{pad}}{_msg2}\\n')      \n",
    "\n",
    "# a = [0] * 2\n",
    "# a = [0, 0]\n",
    "# brute_force(a=a, current_digit=0)\n",
    "brute_force([0, 0], 0)"
   ]
  }
 ],
 "metadata": {
  "kernelspec": {
   "display_name": "Python 3 (ipykernel)",
   "language": "python",
   "name": "python3"
  },
  "language_info": {
   "codemirror_mode": {
    "name": "ipython",
    "version": 3
   },
   "file_extension": ".py",
   "mimetype": "text/x-python",
   "name": "python",
   "nbconvert_exporter": "python",
   "pygments_lexer": "ipython3",
   "version": "3.8.10"
  }
 },
 "nbformat": 4,
 "nbformat_minor": 5
}
